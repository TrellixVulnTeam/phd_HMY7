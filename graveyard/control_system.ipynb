{
 "cells": [
  {
   "cell_type": "markdown",
   "metadata": {
    "collapsed": true
   },
   "source": [
    "# Speech actions\n",
    "\n",
    "- `lab_clos_full` for b, p, m\n",
    "- `lab_clos_fric` for f, v\n",
    "- `api_clos_full` for d, t, n\n",
    "- `api_clos_fric` for s, S, ...\n",
    "- `api_clos_lat` for l\n",
    "- `dor_clos_full` for k, g, N\n",
    "- `glott_adduc_phon` voiced sounds\n",
    "- `glott_abduc_nophon` for voiceless sounds\n",
    "- `vow_ii` extreme ii vowel\n",
    "- `vow_aa` extreme aa vowel\n",
    "- `vow_uu` extreme uu vowel\n",
    "\n",
    "# Synthesizer articulators\n",
    "\n",
    "- `tongue_dors_hl` tongue dorsum high-low\n",
    "- `tongue_dors_fb` tongue dorsum front-back\n",
    "- `lips_protrusion` degree of lip protrusion\n",
    "- `lips_constriction` degree of consonantal constriction at lips \n",
    "- `ttip_constriction` degree of consonantal constriction at tongue tip \n",
    "- `tdor_constriction` degree of consonantal constriction at tongue dorsum \n",
    "\n",
    "# Syllables\n",
    "\n",
    "Syllable length is normalized so that\n",
    "0 is the start of the syllable,\n",
    "1 is the end,\n",
    "but voicing each should take around 300 ms.\n",
    "\n",
    "## BAS\n",
    "\n",
    "- `lab_clos_full` at 0.3-0.5  initial /b/\n",
    "- `api_clos_fric` at 0.6-0.8  final /s/\n",
    "- `glott_adduc_phon` at 0.3-0.7  voicing\n",
    "- `glott_abduc_nophon` at 0.6-0.8  final consonant voiceless\n",
    "- `vow_aa` at 0.3-0.7  vowel /a/\n",
    "\n",
    "## KUL\n",
    "\n",
    "- `api_clos_lat` at 0.6-0.8  final /l/\n",
    "- `dor_clos_full` at 0.3-0.5  initial /k/\n",
    "- `glott_adduc_phon` at 0.5-0.8  voicing\n",
    "- `glott_abduc_nophon` at 0.3-0.6  initial consonant voiceless\n",
    "- `vow_uu` at 0.3-0.7  vowel /u/\n",
    "\n",
    "## TIP\n",
    "\n",
    "- `lab_clos_full` at 0.6-0.8  final /p/\n",
    "- `api_clos_full` at 0.3-0.5  initial /d/\n",
    "- `glott_adduc_phon` at 0.3-0.7  voicing\n",
    "- `glott_abduc_nophon` at 0.6-0.8  final consonant voiceless\n",
    "- `vow_ii` at 0.3-0.7  vowel /ii/"
   ]
  },
  {
   "cell_type": "markdown",
   "metadata": {},
   "source": [
    "# Common code"
   ]
  },
  {
   "cell_type": "code",
   "execution_count": null,
   "metadata": {
    "collapsed": false
   },
   "outputs": [],
   "source": [
    "# Common imports\n",
    "import numpy as np\n",
    "import matplotlib.pyplot as plt\n",
    "%matplotlib inline\n",
    "import seaborn as sns\n",
    "from JSAnimation import IPython_display\n",
    "from skspeech.synthesis import kroger as kr\n",
    "\n",
    "import nengo\n",
    "import nengo.utils.numpy as npext\n",
    "import nengo_gui.ipython"
   ]
  },
  {
   "cell_type": "code",
   "execution_count": null,
   "metadata": {
    "collapsed": false
   },
   "outputs": [],
   "source": [
    "from collections import namedtuple\n",
    "\n",
    "# Speech action indices\n",
    "(lab_clos_full, lab_clos_fric,\n",
    " api_clos_full, api_clos_fric,\n",
    " api_clos_lat, dor_clos_full,\n",
    " glott_adduc_phon, glott_abduc_nophon,\n",
    " vow_ii, vow_aa, vow_uu) = list(range(11))\n",
    "\n",
    "# Articulator indices\n",
    "(tongue_dors_hl, tongue_dors_fb,\n",
    " lips_protrusion, lips_constriction,\n",
    " ttip_constriction, tdor_constriction) = list(range(6))\n",
    "\n",
    "# --- Speech Actions to decode from the oscillator\n",
    "SA = namedtuple('SA', ['onset', 'offset', 'idx'])\n",
    "\n",
    "def sa_func(actions):\n",
    "    def _fn(x):\n",
    "        ret = np.zeros(11)\n",
    "        for action in actions:\n",
    "            if action.onset <= x <= action.offset:\n",
    "                ret[action.idx] = 1.0\n",
    "        return ret\n",
    "    return _fn\n",
    "\n",
    "bas_sa = [SA(0.3, 0.5, lab_clos_full),\n",
    "          SA(0.6, 0.8, api_clos_fric),\n",
    "          SA(0.3, 0.7, glott_adduc_phon),\n",
    "          SA(0.6, 0.8, glott_abduc_nophon),\n",
    "          SA(0.3, 0.7, vow_aa)]\n",
    "kul_sa = [SA(0.6, 0.8, api_clos_lat),\n",
    "          SA(0.3, 0.5, dor_clos_full),\n",
    "          SA(0.5, 0.8, glott_adduc_phon),\n",
    "          SA(0.3, 0.6, glott_abduc_nophon),\n",
    "          SA(0.3, 0.7, vow_uu)]\n",
    "tip_sa = [SA(0.6, 0.8, lab_clos_full),\n",
    "          SA(0.3, 0.5, api_clos_full),\n",
    "          SA(0.3, 0.7, glott_adduc_phon),\n",
    "          SA(0.6, 0.8, glott_abduc_nophon),\n",
    "          SA(0.3, 0.7, vow_ii)]\n",
    "\n",
    "bas = sa_func(bas_sa)\n",
    "kul = sa_func(kul_sa)\n",
    "tip = sa_func(tip_sa)"
   ]
  },
  {
   "cell_type": "code",
   "execution_count": null,
   "metadata": {
    "collapsed": false
   },
   "outputs": [],
   "source": [
    "def plot_sa(sa):\n",
    "    sa_f = sa_func(sa)\n",
    "    x = np.linspace(0, 1, 100)\n",
    "    out = np.zeros((100, 11))\n",
    "    for i, xx in enumerate(x):\n",
    "        out[i] = sa_f(xx)\n",
    "    plt.plot(x, out)\n",
    "    plt.ylim(-0.1, 1.1)\n",
    "\n",
    "plt.figure(figsize=(10, 5))\n",
    "plt.subplot(3, 1, 1)\n",
    "plot_sa(bas_sa)\n",
    "plt.subplot(3, 1, 2)\n",
    "plot_sa(kul_sa)\n",
    "plt.subplot(3, 1, 3)\n",
    "plot_sa(tip_sa)"
   ]
  },
  {
   "cell_type": "code",
   "execution_count": null,
   "metadata": {
    "collapsed": true
   },
   "outputs": [],
   "source": [
    "def speechactions(n_neurons, default_vel=0.001, vow_tau=0.02, cons_tau=0.001):\n",
    "    vow_vel = default_vel / vow_tau\n",
    "    cons_vel = default_vel / cons_tau\n",
    "\n",
    "    # individual ensembles are the 11 speech actions listed above, in order\n",
    "    sa = nengo.networks.EnsembleArray(n_neurons, 11)\n",
    "\n",
    "    # Recurrently connect speech action ensembles to allow adjustable filtering ???\n",
    "    #for i in range(11):\n",
    "    #    velocity = (1 - vow_vel if i in (vow_ii, vow_aa, vow_uu)\n",
    "    #                else 1 - cons_vel)\n",
    "    #    nengo.Connection(sa.ea_ensembles[i], sa.ea_ensembles[i], transform=[velocity])\n",
    "    \n",
    "    return sa\n",
    "\n",
    "def articulators(n_neurons, scale=2.0, n_articulators=11, n_speechactions=11):\n",
    "    # invidiual ensembles are the 6 articulatory parameters that we're tracking at the moment\n",
    "    art = nengo.networks.EnsembleArray(n_neurons, n_articulators, radius=2)\n",
    "\n",
    "    # Add a connection to accept speech action input directly\n",
    "    art.sa_input = nengo.Node(size_in=n_speechactions)\n",
    "    \n",
    "    # Mapping from premotor speech actions to articulator trajectories\n",
    "    tr = np.zeros((n_articulators, n_speechactions))\n",
    "    tr[tongue_dors_hl, vow_ii] = scale\n",
    "    tr[tongue_dors_hl, vow_aa] = -scale\n",
    "    tr[tongue_dors_hl, vow_uu] = scale\n",
    "    tr[tongue_dors_fb, vow_ii] = scale\n",
    "    tr[tongue_dors_fb, vow_uu] = -scale\n",
    "    tr[lips_protrusion, vow_uu] = scale\n",
    "    tr[lips_constriction, lab_clos_full] = scale\n",
    "    tr[lips_constriction, lab_clos_fric] = scale\n",
    "    tr[ttip_constriction, api_clos_full] = scale\n",
    "    tr[ttip_constriction, api_clos_fric] = scale\n",
    "    tr[ttip_constriction, api_clos_lat] = scale\n",
    "    tr[tdor_constriction, dor_clos_full] = scale\n",
    "    nengo.Connection(art.sa_input, art.input, transform=tr, synapse=None)\n",
    "\n",
    "    return art"
   ]
  },
  {
   "cell_type": "markdown",
   "metadata": {},
   "source": [
    "# Oscillator approach"
   ]
  },
  {
   "cell_type": "code",
   "execution_count": null,
   "metadata": {
    "collapsed": true
   },
   "outputs": [],
   "source": [
    "from nengo.dists import Uniform\n",
    "\n",
    "def zone(x):\n",
    "    theta = np.arctan2(x[1], x[0])\n",
    "    if theta > (7.0 / 8) * np.pi:\n",
    "        return 0\n",
    "    else:\n",
    "        return x\n",
    "\n",
    "def radial_f(fn):\n",
    "    def _fn(x):\n",
    "        #theta = math.arctan2(x[1], x[0])\n",
    "        #t = theta / (2 * np.pi) + 0.5\n",
    "        return fn(np.arctan2(x[1], x[0]) / (2 * np.pi) + 0.5)\n",
    "    return _fn"
   ]
  },
  {
   "cell_type": "code",
   "execution_count": null,
   "metadata": {
    "collapsed": true
   },
   "outputs": [],
   "source": [
    "# Adapted from the decode oscillator notebook\n",
    "def oscillator(n_neurons, tau=0.025, freq=1.0):\n",
    "    omega = tau * 2 * np.pi * freq\n",
    "    encoders = [[np.cos(theta), np.sin(theta)]\n",
    "                for theta in np.random.uniform(-np.pi, (7.0 / 8) * np.pi, n_neurons)]\n",
    "\n",
    "    osc_input = nengo.Node(output=None, size_in=1, label=\"osc in\")\n",
    "    oscillator = nengo.Ensemble(n_neurons, dimensions=2,\n",
    "                                intercepts=Uniform(0.3, 1),\n",
    "                                encoders=encoders,\n",
    "                                label=\"oscillator\")\n",
    "    nengo.Connection(osc_input, oscillator, transform=[[-1], [0]])\n",
    "    nengo.Connection(oscillator, oscillator,\n",
    "                     transform=[[1, -omega], [omega, 1]], function=zone, synapse=tau)\n",
    "    return osc_input, oscillator"
   ]
  },
  {
   "cell_type": "code",
   "execution_count": null,
   "metadata": {
    "collapsed": false
   },
   "outputs": [],
   "source": [
    "tau = 0.025\n",
    "freq = 3.3  # ~300 ms, so ~3.3 Hz oscillation\n",
    "\n",
    "with nengo.Network() as net:\n",
    "    # Make a set of articulators for BAS\n",
    "    sa = speechactions(150)\n",
    "    art = articulators(150)\n",
    "    nengo.Connection(sa.output, art.sa_input)\n",
    "\n",
    "    # Make an oscillator with a dead zone\n",
    "    osc_input, osc = oscillator(200, tau=tau, freq=freq)\n",
    "    # Give it a bit of a kick\n",
    "    osc_input.output = lambda t, x: 0.8 if t < 0.1 else 0.0\n",
    "\n",
    "    # Connect to oscillator\n",
    "    nengo.Connection(osc, sa.input, function=radial_f(bas))\n",
    "\n",
    "    # Probes\n",
    "    osc_p = nengo.Probe(osc, synapse=0.01)\n",
    "    sa_p = nengo.Probe(sa.output, synapse=0.01)\n",
    "    art_p = nengo.Probe(art.output, synapse=0.03)"
   ]
  },
  {
   "cell_type": "code",
   "execution_count": null,
   "metadata": {
    "collapsed": false
   },
   "outputs": [],
   "source": [
    "sim = nengo.Simulator(net)\n",
    "sim.run(0.4)"
   ]
  },
  {
   "cell_type": "code",
   "execution_count": null,
   "metadata": {
    "collapsed": false
   },
   "outputs": [],
   "source": [
    "t = sim.trange()\n",
    "plt.figure()\n",
    "plt.plot(sim.data[osc_p].T[0], sim.data[osc_p].T[1])\n",
    "plt.figure()\n",
    "plt.plot(t, sim.data[sa_p])\n",
    "plt.xlim(right=t[-1])\n",
    "plt.figure()\n",
    "plt.plot(t, sim.data[art_p])\n",
    "plt.xlim(right=t[-1])"
   ]
  },
  {
   "cell_type": "code",
   "execution_count": null,
   "metadata": {
    "collapsed": false
   },
   "outputs": [],
   "source": [
    "print(sum(ens.n_neurons for ens in net.all_ensembles))"
   ]
  },
  {
   "cell_type": "code",
   "execution_count": null,
   "metadata": {
    "collapsed": false
   },
   "outputs": [],
   "source": [
    "# Synthesize articulatory trajectory\n",
    "arts = kr.Articulators(sim.data[art_p].T * 1000)\n",
    "contours = kr.SagittalContours.from_articulators(arts)\n",
    "kr.animate_sagittal(kr.structure, contours)"
   ]
  }
 ],
 "metadata": {
  "kernelspec": {
   "display_name": "Python 2",
   "language": "python",
   "name": "python2"
  },
  "language_info": {
   "codemirror_mode": {
    "name": "ipython",
    "version": 2
   },
   "file_extension": ".py",
   "mimetype": "text/x-python",
   "name": "python",
   "nbconvert_exporter": "python",
   "pygments_lexer": "ipython2",
   "version": "2.7.10"
  }
 },
 "nbformat": 4,
 "nbformat_minor": 0
}
