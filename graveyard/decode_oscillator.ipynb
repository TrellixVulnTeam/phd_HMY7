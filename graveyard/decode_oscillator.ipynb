{
 "cells": [
  {
   "cell_type": "code",
   "execution_count": null,
   "metadata": {
    "collapsed": false
   },
   "outputs": [],
   "source": [
    "import functools\n",
    "\n",
    "import numpy as np\n",
    "import matplotlib.pyplot as plt\n",
    "%matplotlib inline\n",
    "import seaborn as sns\n",
    "\n",
    "import nengo\n",
    "import nengo.utils.numpy as npext\n",
    "import nengo_gui.ipython"
   ]
  },
  {
   "cell_type": "markdown",
   "metadata": {},
   "source": [
    "# Flexible motor oscillators\n",
    "\n",
    "Goal: Make an oscillator for a syllable\n",
    "with as few neurons as possible.\n",
    "Must be able to oscillate at ~2-5 Hz."
   ]
  },
  {
   "cell_type": "code",
   "execution_count": null,
   "metadata": {
    "collapsed": true
   },
   "outputs": [],
   "source": [
    "from collections import namedtuple\n",
    "\n",
    "# Speech action indices\n",
    "(lab_clos_full, lab_clos_fric,\n",
    " api_clos_full, api_clos_fric,\n",
    " api_clos_lat, dor_clos_full,\n",
    " glott_adduc_phon, glott_abduc_nophon,\n",
    " vow_ii, vow_aa, vow_uu) = list(range(11))\n",
    "\n",
    "# Articulator indices\n",
    "(tongue_dors_hl, tongue_dors_fb,\n",
    " lips_protrusion, lips_constriction,\n",
    " ttip_constriction, tdor_constriction) = list(range(6))\n",
    "\n",
    "# --- Speech Actions to decode from the oscillator\n",
    "SA = namedtuple('SA', ['onset', 'offset', 'idx'])\n",
    "\n",
    "def sa_func(name, actions):\n",
    "    def _fn(x):\n",
    "        ret = np.zeros(11)\n",
    "        for action in actions:\n",
    "            if action.onset <= x <= action.offset:\n",
    "                ret[action.idx] = 1.0\n",
    "        return ret\n",
    "    _fn.__name__ = name\n",
    "    _fn.actions = actions  # Sneakily store actions\n",
    "    return _fn\n",
    "\n",
    "bas_sa = [SA(0.2, 0.4, lab_clos_full),\n",
    "          SA(0.5, 0.7, api_clos_fric),\n",
    "          SA(0.2, 0.6, glott_adduc_phon),\n",
    "          SA(0.5, 0.7, glott_abduc_nophon),\n",
    "          SA(0.2, 0.6, vow_aa)]\n",
    "kul_sa = [SA(0.5, 0.7, api_clos_lat),\n",
    "          SA(0.2, 0.4, dor_clos_full),\n",
    "          SA(0.5, 0.7, glott_adduc_phon),\n",
    "          SA(0.2, 0.5, glott_abduc_nophon),\n",
    "          SA(0.2, 0.6, vow_uu)]\n",
    "tip_sa = [SA(0.5, 0.7, lab_clos_full),\n",
    "          SA(0.2, 0.4, api_clos_full),\n",
    "          SA(0.2, 0.6, glott_adduc_phon),\n",
    "          SA(0.5, 0.7, glott_abduc_nophon),\n",
    "          SA(0.2, 0.6, vow_ii)]\n",
    "\n",
    "bas = sa_func('bas', bas_sa)\n",
    "kul = sa_func('kul', kul_sa)\n",
    "tip = sa_func('tip', tip_sa)"
   ]
  },
  {
   "cell_type": "code",
   "execution_count": null,
   "metadata": {
    "collapsed": false
   },
   "outputs": [],
   "source": [
    "def plot_sa(sa_f):\n",
    "    x = np.linspace(0, 1, 100)\n",
    "    out = np.zeros((100, 11))\n",
    "    for i, xx in enumerate(x):\n",
    "        out[i] = sa_f(xx)\n",
    "    plt.plot(x, out)\n",
    "    plt.ylim(-0.1, 1.1)\n",
    "\n",
    "plt.figure(figsize=(10, 5))\n",
    "plt.subplot(3, 1, 1)\n",
    "plot_sa(bas)\n",
    "plt.subplot(3, 1, 2)\n",
    "plot_sa(kul)\n",
    "plt.subplot(3, 1, 3)\n",
    "plot_sa(tip)"
   ]
  },
  {
   "cell_type": "code",
   "execution_count": null,
   "metadata": {
    "collapsed": false
   },
   "outputs": [],
   "source": [
    "from nengo.dists import Choice, Uniform\n",
    "\n",
    "def zone(x):\n",
    "    theta = np.arctan2(x[1], x[0])\n",
    "    if theta > 0.75 * np.pi:\n",
    "        return [0, 0]\n",
    "    else:\n",
    "        return x\n",
    "\n",
    "def radial_f(fn):\n",
    "    def _fn(x):\n",
    "        # theta = np.arctan2(x[1], x[0])\n",
    "        # t = theta / (2 * np.pi) + 0.5\n",
    "        return fn(np.arctan2(x[1], x[0]) / (2 * np.pi) + 0.5)\n",
    "    _fn.__name__ = fn.__name__\n",
    "    return _fn\n",
    "\n",
    "def Speech(n_neurons, net=None):\n",
    "    if net is None:\n",
    "        net = nengo.Network(label=\"Speech\")\n",
    "\n",
    "    with net:\n",
    "        # Make a speech actions EA as a readout\n",
    "        net.speechactions = nengo.networks.EnsembleArray(n_neurons, 11)\n",
    "        # Oscillator kick -- this will be an ensemble eventually\n",
    "        net.osc_kick = nengo.Node(output=lambda t: 0.7 if t % 0.18 < 0.05 else 0.0)\n",
    "    net.output = net.speechactions.output\n",
    "    return net\n",
    "\n",
    "def Syllable(speech, syllable_f, tau=0.025, freq=3.3, net=None):\n",
    "    if net is None:\n",
    "        net = nengo.Network(label=syllable_f.__name__)\n",
    "\n",
    "    n_neurons = speech.speechactions.n_neurons\n",
    "    omega = tau * 2 * np.pi * freq\n",
    "    encoders = [[np.cos(theta), np.sin(theta)]\n",
    "                for theta in np.random.uniform(-np.pi, 0.75 * np.pi, n_neurons * 2)]\n",
    "\n",
    "    with net:\n",
    "        net.osc = nengo.Ensemble(n_neurons * 2, dimensions=2,\n",
    "                                 intercepts=Uniform(0.3, 1),\n",
    "                                 encoders=encoders,\n",
    "                                 label=syllable_f.__name__)\n",
    "        nengo.Connection(net.osc, net.osc,\n",
    "                         transform=[[1, -omega], [omega, 1]], function=zone, synapse=tau)\n",
    "        nengo.Connection(speech.osc_kick, net.osc, transform=[[-1], [0]])\n",
    "        nengo.Connection(net.osc, speech.speechactions.input, function=radial_f(syllable_f))\n",
    "        # By default, oscillator will be inhibited. Inhibit this to remove that.\n",
    "        net.inhib = nengo.Ensemble(20, dimensions=1, intercepts=Uniform(-0.4, 0.1), encoders=Choice([[1]]))\n",
    "        nengo.Connection(net.inhib.neurons, net.osc.neurons, transform=-1 * np.ones((n_neurons * 2, 20)))\n",
    "    return net\n",
    "\n",
    "with nengo.Network() as net:\n",
    "    sp = Speech(n_neurons=200)\n",
    "    s_bas = Syllable(sp, bas, freq=5.3)\n",
    "    s_kul = Syllable(sp, kul, freq=2.5)\n",
    "    s_tip = Syllable(sp, tip, freq=5.0)\n",
    "    # disinhibit one to let it through\n",
    "    disinhibit = nengo.Node(-1)\n",
    "    nengo.Connection(disinhibit, s_bas.inhib)\n",
    "\n",
    "    # Probes\n",
    "    p_osc = nengo.Probe(s_bas.osc, synapse=0.01)\n",
    "    p_sa = nengo.Probe(sp.output, synapse=0.01)"
   ]
  },
  {
   "cell_type": "code",
   "execution_count": null,
   "metadata": {
    "collapsed": false
   },
   "outputs": [],
   "source": [
    "sim = nengo.Simulator(net)\n",
    "sim.run(0.4)"
   ]
  },
  {
   "cell_type": "code",
   "execution_count": null,
   "metadata": {
    "collapsed": false
   },
   "outputs": [],
   "source": [
    "t = sim.trange()\n",
    "plt.figure()\n",
    "plt.plot(sim.data[p_osc].T[0], sim.data[p_osc].T[1])\n",
    "plt.figure()\n",
    "plt.plot(t, sim.data[p_sa])\n",
    "plt.xlim(right=t[-1])"
   ]
  },
  {
   "cell_type": "code",
   "execution_count": null,
   "metadata": {
    "collapsed": false
   },
   "outputs": [],
   "source": [
    "print(sum(ens.n_neurons for ens in net.all_ensembles))"
   ]
  },
  {
   "cell_type": "markdown",
   "metadata": {},
   "source": [
    "## Speed control\n",
    "\n",
    "Add in an intermediate population to control speed across all syllables."
   ]
  },
  {
   "cell_type": "code",
   "execution_count": null,
   "metadata": {
    "collapsed": false
   },
   "outputs": [],
   "source": [
    "def zone(x):\n",
    "    theta = np.arctan2(x[1], x[0])\n",
    "    if np.pi < theta < 0:\n",
    "        return 0\n",
    "    else:\n",
    "        return x\n",
    "\n",
    "def radial_f(fn):\n",
    "    def _fn(x):\n",
    "        # theta = np.arctan2(x[1], x[0])\n",
    "        # t = theta / (2 * np.pi) + 0.5\n",
    "        return fn(np.arctan2(x[1], x[0]) / (2 * np.pi) + 0.5)\n",
    "    _fn.__name__ = fn.__name__\n",
    "    return _fn\n",
    "\n",
    "def Speech(neurons_per_d, net=None):\n",
    "    if net is None:\n",
    "        net = nengo.Network(label=\"Speech\")\n",
    "\n",
    "    with net:\n",
    "        # Make a speech actions EA as a readout\n",
    "        net.speechactions = nengo.networks.EnsembleArray(neurons_per_d, 11)\n",
    "        # Oscillator kick -- this will be an ensemble eventually\n",
    "        net.osc_kick = nengo.Node(output=lambda t: 0.8 if t < 0.05 else 0.0)\n",
    "        # Global speed control\n",
    "        net.speed = nengo.Ensemble(neurons_per_d, dimensions=1)\n",
    "    net.output = net.speechactions.output\n",
    "    return net\n",
    "\n",
    "def Syllable(speech, syllable_f, tau=0.01, net=None):\n",
    "    if net is None:\n",
    "        net = nengo.Network(label=syllable_f.__name__)\n",
    "\n",
    "    neurons_per_d = speech.speechactions.n_neurons\n",
    "    osc_neurons = neurons_per_d * 8\n",
    "    encoders = [[np.cos(theta), np.sin(theta)]\n",
    "                for theta in np.random.uniform(-np.pi, 0.5 * np.pi, osc_neurons)]\n",
    "\n",
    "    def feedback(x, w_max=2*np.pi*4):\n",
    "        x0, x1, w = x  # These are the three variables stored in the ensemble\n",
    "        # w *= -1\n",
    "        w += 1  # We offset w, so w=0 is normal speed (1.0)\n",
    "        return zone(np.array([x0 - w*w_max*tau*x1, x1 + w*w_max*tau*x0]))\n",
    "        \n",
    "    with net:\n",
    "        net.osc = nengo.Ensemble(osc_neurons, dimensions=2,\n",
    "                                 intercepts=Uniform(0.3, 1),\n",
    "                                 encoders=encoders,\n",
    "                                 label=syllable_f.__name__)\n",
    "        # Since osc uses special encoders and such, we want to do our control\n",
    "        # in a separate ensemble. This adds a slight delay, but that's ok.\n",
    "        ctrl = nengo.Ensemble(neurons_per_d * 3, dimensions=3, radius=1.7)\n",
    "        nengo.Connection(net.osc, ctrl[:2], synapse=0.005)\n",
    "        nengo.Connection(speech.speed, ctrl[2], synapse=0.005)\n",
    "        nengo.Connection(ctrl, net.osc, function=feedback, synapse=tau)\n",
    "        # Get kick input\n",
    "        nengo.Connection(speech.osc_kick, net.osc, transform=[[-1], [0]])\n",
    "        nengo.Connection(net.osc, speech.speechactions.input, function=radial_f(syllable_f))\n",
    "        # By default, oscillator will be inhibited. Inhibit this to remove that.\n",
    "        net.inhib = nengo.Ensemble(20, dimensions=1,\n",
    "                                   intercepts=Uniform(-0.4, 0.1), encoders=Choice([[1]]))\n",
    "        nengo.Connection(net.inhib.neurons, net.osc.neurons,\n",
    "                         transform=-1 * np.ones((net.osc.n_neurons, 20)))\n",
    "    return net\n",
    "\n",
    "\n",
    "with nengo.Network() as net:\n",
    "    speech = Speech(neurons_per_d=100)\n",
    "    s_bas = Syllable(speech, bas)\n",
    "    s_kul = Syllable(speech, kul)\n",
    "    s_tip = Syllable(speech, tip)\n",
    "    # disinhibit one to let it through\n",
    "    disinhibit = nengo.Node(-1)\n",
    "    nengo.Connection(disinhibit, s_bas.inhib)\n",
    "\n",
    "    # Positive = speed up, negative = speed down, -1 = stop\n",
    "    # Note: if you speed up too much, it'll repeat\n",
    "    nengo.Connection(nengo.Node(0.1), speech.speed, synapse=None)\n",
    "\n",
    "    # Probes\n",
    "    p_osc = nengo.Probe(s_bas.osc, synapse=0.01)\n",
    "    p_sa = nengo.Probe(speech.output, synapse=0.01)\n",
    "    p_spd = nengo.Probe(speech.speed, synapse=0.01)"
   ]
  },
  {
   "cell_type": "code",
   "execution_count": null,
   "metadata": {
    "collapsed": false
   },
   "outputs": [],
   "source": [
    "sim = nengo.Simulator(net)\n",
    "sim.run(0.4)\n",
    "\n",
    "t = sim.trange()\n",
    "plt.figure()\n",
    "plt.plot(sim.data[p_osc].T[0], sim.data[p_osc].T[1])\n",
    "plt.figure()\n",
    "plt.plot(t, sim.data[p_spd])\n",
    "plt.xlim(right=t[-1])\n",
    "plt.figure()\n",
    "plt.plot(t, sim.data[p_sa])\n",
    "plt.xlim(right=t[-1])"
   ]
  },
  {
   "cell_type": "code",
   "execution_count": null,
   "metadata": {
    "collapsed": false
   },
   "outputs": [],
   "source": [
    "print(sum(ens.n_neurons for ens in net.all_ensembles))"
   ]
  }
 ],
 "metadata": {
  "kernelspec": {
   "display_name": "Python 2",
   "language": "python",
   "name": "python2"
  },
  "language_info": {
   "codemirror_mode": {
    "name": "ipython",
    "version": 2
   },
   "file_extension": ".py",
   "mimetype": "text/x-python",
   "name": "python",
   "nbconvert_exporter": "python",
   "pygments_lexer": "ipython2",
   "version": "2.7.10"
  }
 },
 "nbformat": 4,
 "nbformat_minor": 0
}
