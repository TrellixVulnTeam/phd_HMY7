{
 "cells": [
  {
   "cell_type": "markdown",
   "metadata": {},
   "source": [
    "# Temporal derivatives\n",
    "\n",
    "We'll use the feedforward networks from\n",
    "[Tripp, 2010](http://compneuro.uwaterloo.ca/publications/tripp2010.html)."
   ]
  },
  {
   "cell_type": "code",
   "execution_count": null,
   "metadata": {
    "collapsed": false
   },
   "outputs": [],
   "source": [
    "import numpy as np\n",
    "import matplotlib.pyplot as plt\n",
    "%matplotlib inline\n",
    "import seaborn as sns\n",
    "import nengo\n",
    "import nengo.utils.numpy as npext\n",
    "\n",
    "from phd.networks.derivatives import FeedforwardDeriv, IntermediateDeriv\n",
    "\n",
    "# Some plotting niceties\n",
    "plt.rc('figure', figsize=(10, 6))\n",
    "sns.set_style('white')\n",
    "sns.set_style('ticks')\n",
    "\n",
    "def test_deriv(deriv_func, dims, ramp=True, t=1.0, dt=0.001, **deriv_args):\n",
    "    with nengo.Network() as net:\n",
    "        if ramp:\n",
    "            timesteps = int(t / dt)\n",
    "            ramp = np.concatenate([np.linspace(0, 1, timesteps/2), np.linspace(1, 0, timesteps/2)])\n",
    "            proc = lambda time: ramp[int(time / dt) % ramp.size]\n",
    "        else:\n",
    "            proc = nengo.processes.BrownNoise()\n",
    "        inp = nengo.Node(size_in=dims)\n",
    "        for i in range(dims):\n",
    "            nengo.Connection(nengo.Node(output=proc), inp[i])\n",
    "        ea = nengo.networks.EnsembleArray(n_neurons=40, n_ensembles=dims)\n",
    "        nengo.Connection(inp, ea.input)\n",
    "        deriv = deriv_func(dimensions=dims, **deriv_args)\n",
    "        nengo.Connection(ea.output, deriv.input)\n",
    "        in_probe = nengo.Probe(inp, synapse=None)\n",
    "        out_probe = nengo.Probe(deriv.output, synapse=0.01)\n",
    "    print(\"%d neurons\" % (sum(e.n_neurons for e in net.all_ensembles)))\n",
    "    sim = nengo.Simulator(net)\n",
    "    sim.run(t)\n",
    "\n",
    "    inp = sim.data[in_probe]\n",
    "    plt.subplot(2, 1, 1)\n",
    "    plt.plot(sim.trange(), inp)\n",
    "    plt.ylabel(\"Input\")\n",
    "    plt.subplot(2, 1, 2)\n",
    "    plt.plot(sim.trange(), sim.data[out_probe])"
   ]
  },
  {
   "cell_type": "markdown",
   "metadata": {},
   "source": [
    "### Feedforward, intermediate population"
   ]
  },
  {
   "cell_type": "code",
   "execution_count": null,
   "metadata": {
    "collapsed": false
   },
   "outputs": [],
   "source": [
    "test_deriv(IntermediateDeriv, n_neurons=50, tau=0.05, dims=2)\n",
    "test_deriv(IntermediateDeriv, n_neurons=50, tau=0.1, dims=2)"
   ]
  },
  {
   "cell_type": "code",
   "execution_count": null,
   "metadata": {
    "collapsed": false
   },
   "outputs": [],
   "source": [
    "test_deriv(IntermediateDeriv, n_neurons=50, tau=0.1, dims=2, ramp=False)"
   ]
  },
  {
   "cell_type": "markdown",
   "metadata": {},
   "source": [
    "### Feedforward, two connections"
   ]
  },
  {
   "cell_type": "code",
   "execution_count": null,
   "metadata": {
    "collapsed": false
   },
   "outputs": [],
   "source": [
    "test_deriv(FeedforwardDeriv, n_neurons=50, tau_slow=0.05, dims=2)\n",
    "test_deriv(FeedforwardDeriv, n_neurons=50, tau_slow=0.1, dims=2)"
   ]
  },
  {
   "cell_type": "code",
   "execution_count": null,
   "metadata": {
    "collapsed": false
   },
   "outputs": [],
   "source": [
    "test_deriv(FeedforwardDeriv, n_neurons=50, tau_slow=0.1, dims=2, ramp=False)"
   ]
  }
 ],
 "metadata": {
  "kernelspec": {
   "display_name": "Python 2",
   "language": "python",
   "name": "python2"
  },
  "language_info": {
   "codemirror_mode": {
    "name": "ipython",
    "version": 2
   },
   "file_extension": ".py",
   "mimetype": "text/x-python",
   "name": "python",
   "nbconvert_exporter": "python",
   "pygments_lexer": "ipython2",
   "version": "2.7.10"
  }
 },
 "nbformat": 4,
 "nbformat_minor": 0
}
