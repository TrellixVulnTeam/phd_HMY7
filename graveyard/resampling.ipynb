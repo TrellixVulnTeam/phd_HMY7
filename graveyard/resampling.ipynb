{
 "cells": [
  {
   "cell_type": "code",
   "execution_count": null,
   "metadata": {
    "collapsed": false
   },
   "outputs": [],
   "source": [
    "import os\n",
    "%matplotlib inline\n",
    "import matplotlib.pyplot as plt\n",
    "import seaborn as sns\n",
    "import numpy as np\n",
    "import nengo\n",
    "from nengo.utils.matplotlib import rasterplot\n",
    "from nengo.utils.stdlib import Timer\n",
    "from scipy.stats import zscore\n",
    "\n",
    "import phd\n",
    "\n",
    "# Some plotting niceties\n",
    "plt.rc('figure', figsize=(10, 6))\n",
    "sns.set_style('white')\n",
    "sns.set_style('ticks')\n",
    "\n",
    "def img(array):\n",
    "    array = zscore(array, axis=0)\n",
    "    plt.pcolormesh(array.T)\n",
    "    plt.ylim(top=array.shape[1])\n",
    "    plt.xlim(right=array.shape[0])\n",
    "    plt.yticks(())\n",
    "    sns.despine(left=True)\n",
    "\n",
    "def img_compare(array1, array2):\n",
    "    plt.figure(figsize=(12, 6))\n",
    "    plt.subplot(1, 2, 1)\n",
    "    img(array1)\n",
    "    plt.subplot(1, 2, 2)\n",
    "    img(array2)\n",
    "    plt.tight_layout()\n",
    "\n",
    "timit_path = \"~/phd_data/timit\"\n",
    "timit = phd.timit.TIMIT(timit_path)\n",
    "try:\n",
    "    timit.untar(os.path.expanduser(\"~/Dropbox/LDC93S1.tgz\"))\n",
    "except Exception as e:\n",
    "    pass"
   ]
  },
  {
   "cell_type": "code",
   "execution_count": null,
   "metadata": {
    "collapsed": false
   },
   "outputs": [],
   "source": [
    "%%javascript\n",
    "if($(IPython.toolbar.selector.concat(' > #kill-run-first')).length == 0){\n",
    "  IPython.toolbar.add_buttons_group([\n",
    "    {\n",
    "      'label'   : 'kill and run-first',\n",
    "      'icon'    : 'fa fa-angle-double-down',\n",
    "      'callback': function(){\n",
    "        IPython.notebook.kernel.restart();\n",
    "        $(IPython.events).one('kernel_ready.Kernel', function(){\n",
    "          var idx = IPython.notebook.get_selected_index();\n",
    "          IPython.notebook.select(0);\n",
    "          IPython.notebook.execute_cell();\n",
    "          IPython.notebook.select(idx);\n",
    "        });\n",
    "      }\n",
    "    }\n",
    "  ], 'kill-run-first');\n",
    "}"
   ]
  },
  {
   "cell_type": "code",
   "execution_count": null,
   "metadata": {
    "collapsed": true
   },
   "outputs": [],
   "source": [
    "timit = phd.timit.TIMIT(timit_path)\n",
    "samples = timit.word_samples(['dirty'])"
   ]
  },
  {
   "cell_type": "code",
   "execution_count": null,
   "metadata": {
    "collapsed": false
   },
   "outputs": [],
   "source": [
    "model = phd.sermo.AudioFeatures()\n",
    "model.fs = timit.fs\n",
    "model.audio = samples['dirty'][0]\n",
    "model.freqs = phd.filters.erbspace(20, 4000, 64)\n",
    "model.n_cepstra = 13\n",
    "print(model.t_audio)"
   ]
  },
  {
   "cell_type": "code",
   "execution_count": null,
   "metadata": {
    "collapsed": false
   },
   "outputs": [],
   "source": [
    "# Get MFCCs\n",
    "model.mfcc.dt = 0.01\n",
    "mfcc = model.mfcc()\n",
    "print mfcc.shape"
   ]
  },
  {
   "cell_type": "code",
   "execution_count": null,
   "metadata": {
    "collapsed": false
   },
   "outputs": [],
   "source": [
    "# Get NCCs\n",
    "model.periphery.auditory_filter = phd.filters.gammatone(model.freqs)\n",
    "net = model.build()\n",
    "\n",
    "with net:\n",
    "    c_p = nengo.Probe(net.cepstra.output, synapse=0.01)\n",
    "\n",
    "sim = nengo.Simulator(net, dt=0.001)\n",
    "sim.run(model.t_audio)\n",
    "ncc = sim.data[c_p]\n",
    "print ncc.shape"
   ]
  },
  {
   "cell_type": "code",
   "execution_count": null,
   "metadata": {
    "collapsed": false
   },
   "outputs": [],
   "source": [
    "img_compare(mfcc, ncc)"
   ]
  },
  {
   "cell_type": "markdown",
   "metadata": {},
   "source": [
    "## Linear interpolation / neighbourhood mean"
   ]
  },
  {
   "cell_type": "code",
   "execution_count": null,
   "metadata": {
    "collapsed": true
   },
   "outputs": [],
   "source": [
    "import scipy\n",
    "from scipy.interpolate import interp1d\n",
    "\n",
    "def lengthen(feature, n_frames):\n",
    "    interp_x = np.linspace(0, n_frames, feature.shape[0])\n",
    "    f = interp1d(interp_x, feature, axis=0, assume_sorted=True)\n",
    "    return f(np.arange(n_frames))\n",
    "\n",
    "def shorten(feature, n_frames):\n",
    "    scale = int(feature.shape[0] / n_frames)\n",
    "    pad_size = int(np.ceil(float(feature.shape[0]) / scale) * scale - feature.shape[0])\n",
    "    feature = np.vstack([feature, np.zeros((pad_size, feature.shape[1])) * np.nan])\n",
    "    out = scipy.nanmean(feature.reshape(-1, scale, feature.shape[1]), axis=1)\n",
    "    return out[:n_frames]"
   ]
  },
  {
   "cell_type": "code",
   "execution_count": null,
   "metadata": {
    "collapsed": false
   },
   "outputs": [],
   "source": [
    "img_compare(mfcc, lengthen(mfcc, ncc.shape[0]))"
   ]
  },
  {
   "cell_type": "code",
   "execution_count": null,
   "metadata": {
    "collapsed": false
   },
   "outputs": [],
   "source": [
    "img_compare(shorten(ncc, mfcc.shape[0]), ncc)"
   ]
  },
  {
   "cell_type": "markdown",
   "metadata": {},
   "source": [
    "## `scipy.ndimage.interpolate.zoom`"
   ]
  },
  {
   "cell_type": "code",
   "execution_count": null,
   "metadata": {
    "collapsed": false
   },
   "outputs": [],
   "source": [
    "from scipy.ndimage.interpolation import zoom\n",
    "\n",
    "def lengthen(feature, n_frames):\n",
    "    return zoom(feature, [float(n_frames) / feature.shape[0], 1])\n",
    "\n",
    "def shorten(feature, n_frames):\n",
    "    return zoom(feature, [float(n_frames) / feature.shape[0], 1])"
   ]
  },
  {
   "cell_type": "code",
   "execution_count": null,
   "metadata": {
    "collapsed": false
   },
   "outputs": [],
   "source": [
    "img_compare(mfcc, lengthen(mfcc, ncc.shape[0]))"
   ]
  },
  {
   "cell_type": "code",
   "execution_count": null,
   "metadata": {
    "collapsed": false
   },
   "outputs": [],
   "source": [
    "img_compare(shorten(ncc, mfcc.shape[0]), ncc)"
   ]
  },
  {
   "cell_type": "markdown",
   "metadata": {},
   "source": [
    "## `scipy.signal.resample`"
   ]
  },
  {
   "cell_type": "code",
   "execution_count": null,
   "metadata": {
    "collapsed": true
   },
   "outputs": [],
   "source": [
    "from scipy.signal import resample\n",
    "\n",
    "def lengthen(feature, n_frames):\n",
    "    return resample(feature, n_frames)\n",
    "\n",
    "def shorten(feature, n_frames):\n",
    "    return resample(feature, n_frames)"
   ]
  },
  {
   "cell_type": "code",
   "execution_count": null,
   "metadata": {
    "collapsed": false
   },
   "outputs": [],
   "source": [
    "img_compare(mfcc, lengthen(mfcc, ncc.shape[0]))"
   ]
  },
  {
   "cell_type": "code",
   "execution_count": null,
   "metadata": {
    "collapsed": false
   },
   "outputs": [],
   "source": [
    "img_compare(shorten(ncc, mfcc.shape[0]), ncc)"
   ]
  }
 ],
 "metadata": {
  "kernelspec": {
   "display_name": "Python 2",
   "language": "python",
   "name": "python2"
  },
  "language_info": {
   "codemirror_mode": {
    "name": "ipython",
    "version": 2
   },
   "file_extension": ".py",
   "mimetype": "text/x-python",
   "name": "python",
   "nbconvert_exporter": "python",
   "pygments_lexer": "ipython2",
   "version": "2.7.10"
  }
 },
 "nbformat": 4,
 "nbformat_minor": 0
}
