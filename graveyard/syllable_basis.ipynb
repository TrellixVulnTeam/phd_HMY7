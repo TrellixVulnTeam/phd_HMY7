{
 "cells": [
  {
   "cell_type": "code",
   "execution_count": null,
   "metadata": {
    "collapsed": false
   },
   "outputs": [],
   "source": [
    "import os\n",
    "import random\n",
    "import numpy as np\n",
    "import nengo\n",
    "import skspeech\n",
    "%matplotlib inline\n",
    "import matplotlib.pyplot as plt\n",
    "import seaborn as sns\n",
    "plt.rc('figure', figsize=(14, 4))\n",
    "\n",
    "from mpl_toolkits.mplot3d import Axes3D\n",
    "from nengo.dists import Choice, Uniform"
   ]
  },
  {
   "cell_type": "code",
   "execution_count": null,
   "metadata": {
    "collapsed": false
   },
   "outputs": [],
   "source": [
    "# Syllable basis functions:\n",
    "# onset, nucleus, coda (could just be Gaussian tiled, but whatever)\n",
    "\n",
    "def cart2pol(x1, x2):\n",
    "    return np.arctan2(x2, x1) / (2 * np.pi) + 0.5\n",
    "\n",
    "def pol2cart(angle, amplitude=1):\n",
    "    return (amplitude * np.cos(angle * 2 * np.pi),\n",
    "            amplitude * np.sin(angle * 2 * np.pi))\n",
    "\n",
    "def onset_f(t):\n",
    "    return 1. if 0.05 < t < 0.4 else 0.\n",
    "\n",
    "def nucleus_f(t):\n",
    "    return 1. if 0.3 < t < 0.8 else 0.\n",
    "\n",
    "def coda_f(t):\n",
    "    return 1. if 0.7 < t < 0.9 else 0.\n",
    "\n",
    "def run(func, angle):\n",
    "    out = np.zeros_like(angle)\n",
    "    for i, theta in enumerate(angle):\n",
    "        out[i] = func(theta)\n",
    "    return out\n",
    "\n",
    "t = np.linspace(0, 1)\n",
    "plt.plot(t, run(onset_f, t))\n",
    "plt.plot(t, run(nucleus_f, t))\n",
    "plt.plot(t, run(coda_f, t))"
   ]
  },
  {
   "cell_type": "code",
   "execution_count": null,
   "metadata": {
    "collapsed": true
   },
   "outputs": [],
   "source": [
    "def cart2pol(fn):\n",
    "    def _fn(x):\n",
    "        return fn(np.arctan2(x[1], x[0]) / (2 * np.pi) + 0.5)\n",
    "    _fn.__name__ = fn.__name__\n",
    "    return _fn"
   ]
  },
  {
   "cell_type": "code",
   "execution_count": null,
   "metadata": {
    "collapsed": false
   },
   "outputs": [],
   "source": [
    "# Get a gesture score\n",
    "dt = 0.001\n",
    "gs = skspeech.vtl.parse_ges('ges-de-cvc/das.ges')\n",
    "print gs.t_end\n",
    "traj = gs.trajectory(dt=dt)\n",
    "plt.pcolormesh(traj.T)"
   ]
  },
  {
   "cell_type": "code",
   "execution_count": null,
   "metadata": {
    "collapsed": false
   },
   "outputs": [],
   "source": [
    "# Do some direct mode simulations, convince myself it works\n",
    "\n",
    "tau = 0.1   # Post-synaptic time constant for feedback\n",
    "w_max = 25.1327  # Maximum frequency is w_max/(2*pi) = 4 Hz\n",
    "\n",
    "with nengo.Network() as net:\n",
    "    # This mostly works when using Direct mode, but not otherwise...\n",
    "    net.config[nengo.Ensemble].neuron_type = nengo.Direct()\n",
    "\n",
    "    # --- Controlled oscillator\n",
    "    osc = nengo.Ensemble(500, dimensions=3, radius=1.7)\n",
    "    \n",
    "    # The feedback connection\n",
    "    def feedback(x):\n",
    "        x0, x1, w = x  # These are the three variables stored in the ensemble\n",
    "        return x0 - w*w_max*tau*x1, x1 + w*w_max*tau*x0, 0\n",
    "    nengo.Connection(osc, osc, function=feedback, synapse=tau)\n",
    "    \n",
    "    freq = nengo.Ensemble(30, dimensions=1)\n",
    "    nengo.Connection(freq, osc[2], synapse=None)\n",
    "    kick = nengo.Node(lambda t: -1. / 0.18 if t < 0.015 else 0)\n",
    "    nengo.Connection(kick, osc[0])\n",
    "    # Scale freq to gesture trajectory (but a bit slower)\n",
    "    input_freq = nengo.Node((1. / gs.t_end) * 0.245)\n",
    "    nengo.Connection(input_freq, freq)\n",
    "\n",
    "    # --- Get syllable basis\n",
    "    syllparts = nengo.networks.EnsembleArray(50, n_ensembles=3)\n",
    "    onset = syllparts.output[0]\n",
    "    nucleus = syllparts.output[1]\n",
    "    coda = syllparts.output[2]\n",
    "    nengo.Connection(osc, syllparts.input[0], function=cart2pol(onset_f))\n",
    "    nengo.Connection(osc, syllparts.input[1], function=cart2pol(nucleus_f))\n",
    "    nengo.Connection(osc, syllparts.input[2], function=cart2pol(coda_f))\n",
    "\n",
    "    # --- Represent gesture trajectory\n",
    "    g_dims = traj.shape[1]\n",
    "    g_traj = nengo.Ensemble(30*g_dims, dimensions=g_dims)\n",
    "    \n",
    "    def traj_f(t):\n",
    "        ix = int(t / dt) % traj.shape[0]\n",
    "        return traj[ix]\n",
    "    nengo.Connection(nengo.Node(traj_f), g_traj)\n",
    "\n",
    "    # --- Associate gesture with part of syllable with product\n",
    "    sp_in_ed = syllparts.n_ensembles + 1\n",
    "    sp_in = nengo.networks.EnsembleArray(30, n_ensembles=g_dims, ens_dimensions=sp_in_ed,\n",
    "                                         intercepts=Uniform(0.1, 0.4))\n",
    "    nengo.Connection(g_traj, sp_in.input[::sp_in_ed])  # traj -> every sp_in_ed dims\n",
    "    # Connect syllable bases every sp_in_ed dims\n",
    "    for d in xrange(g_dims):\n",
    "        nengo.Connection(syllparts.output,\n",
    "                         sp_in.input[d*sp_in_ed+1:(d+1)*sp_in_ed])\n",
    "\n",
    "    # Output products beteen dim 0 and all rest\n",
    "    def sp_in_prod(x):\n",
    "        return x[0] * x[1:]\n",
    "    sp_out = sp_in.add_output('sp_out', sp_in_prod)\n",
    "\n",
    "    # --- Integrate each syllable part.\n",
    "    #     The SP is where it ends up.\n",
    "    sp = nengo.networks.EnsembleArray(30, n_ensembles=g_dims * syllparts.n_ensembles,\n",
    "                                      intercepts=Uniform(0.1, 0.4), encoders=Choice([[1]]))\n",
    "    nengo.Connection(sp.output, sp.input,\n",
    "                     transform=np.identity(sp.dimensions), synapse=tau)\n",
    "    nengo.Connection(sp_out, sp.input, transform=1. / tau, synapse=tau)\n",
    "\n",
    "    p_osc = nengo.Probe(osc, synapse=0.01)\n",
    "    p_syllparts = nengo.Probe(syllparts.output, synapse=0.01)\n",
    "    p_traj = nengo.Probe(g_traj, synapse=0.01)\n",
    "    p_sp_in = nengo.Probe(sp_in.output, synapse=0.01)\n",
    "    p_sp = nengo.Probe(sp.output, synapse=0.01)"
   ]
  },
  {
   "cell_type": "code",
   "execution_count": null,
   "metadata": {
    "collapsed": false
   },
   "outputs": [],
   "source": [
    "sim = nengo.Simulator(net)\n",
    "sim.run(gs.t_end)\n",
    "\n",
    "g = 0 # Zoom in on a gesture\n",
    "print(gs.labels[g])\n",
    "\n",
    "plt.plot(sim.data[p_osc][:, 0], sim.data[p_osc][:, 1])\n",
    "plt.figure()\n",
    "plt.plot(sim.trange(), sim.data[p_syllparts])\n",
    "plt.figure()\n",
    "plt.pcolormesh(sim.data[p_traj].T)\n",
    "plt.colorbar()\n",
    "plt.figure()\n",
    "# plt.pcolormesh(sim.data[p_sp_in].T[g*4:(g+1)*4])\n",
    "plt.pcolormesh(sim.data[p_sp_in].T)\n",
    "plt.colorbar()\n",
    "plt.figure()\n",
    "# plt.pcolormesh(sim.data[p_sp].T[g*3:(g+1)*3])\n",
    "plt.pcolormesh(sim.data[p_sp].T)\n",
    "plt.colorbar()"
   ]
  },
  {
   "cell_type": "code",
   "execution_count": null,
   "metadata": {
    "collapsed": false
   },
   "outputs": [],
   "source": [
    "print(sum(e.n_neurons for e in net.all_ensembles))"
   ]
  },
  {
   "cell_type": "code",
   "execution_count": null,
   "metadata": {
    "collapsed": false
   },
   "outputs": [],
   "source": [
    "# Basic premise works! Let's generate a set of SPs for some syllables\n",
    "dt = 0.001\n",
    "gscores = {}\n",
    "\n",
    "# Split the utterance into \n",
    "\n",
    "for ges in os.listdir('ges-de-cvc'):\n",
    "    gscores[ges[:-4]] = skspeech.vtl.parse_ges('ges-de-cvc/%s' % ges)\n",
    "\n",
    "print list(gscores)\n",
    "\n",
    "def traj2pointer(traj):\n",
    "    \"\"\"Convert a gesture trajectory to a semantic pointer.\n",
    "\n",
    "    We do this by determining whether each gesture is done\n",
    "    in the onset, nucleus, or coda of the syllable.\n",
    "    In the end we get a binary vector of whether each gesture\n",
    "    occurred in that part of the syllable.\n",
    "    \"\"\"\n",
    "    t_end = traj.shape[0]\n",
    "    out = np.zeros(traj.shape[1] * 3)\n",
    "    onoff = np.diff(np.vstack(\n",
    "        [np.zeros(traj.shape[1]), traj, np.zeros(traj.shape[1])]), axis=0)\n",
    "    onoff[onoff < 0] = -1  # binarize\n",
    "    onoff[onoff > 0] = 1  # binarize\n",
    "    for i in xrange(traj.shape[1]):\n",
    "        midpoints = np.where(onoff[:, i] == -1)[0] - np.where(onoff[:, i] == 1)[0]\n",
    "        for midpoint in midpoints:\n",
    "            # Snap it to which third it resides in\n",
    "            assert midpoint > 0\n",
    "            ix = int(3 * float(midpoint) / t_end)\n",
    "            assert 0 <= ix <= 2\n",
    "            out[(i*3)+ix] = 1\n",
    "    return out\n",
    "\n",
    "pointers = {}\n",
    "\n",
    "# For testing, just use the first three\n",
    "for ges, gs in gscores.items()[:3]:\n",
    "    pointers[ges] = traj2pointer(gs.trajectory(dt=dt))\n",
    "\n",
    "# Make sure 'das' is in there too\n",
    "pointers['das'] = traj2pointer(gscores['das'].trajectory(dt=dt))"
   ]
  },
  {
   "cell_type": "code",
   "execution_count": null,
   "metadata": {
    "collapsed": false
   },
   "outputs": [],
   "source": [
    "# Make sure no pointers are identical\n",
    "for g1, p1 in pointers.items():\n",
    "    for g2, p2 in pointers.items():\n",
    "        assert g1 == g2 or not np.allclose(p1, p2)"
   ]
  },
  {
   "cell_type": "code",
   "execution_count": null,
   "metadata": {
    "collapsed": false
   },
   "outputs": [],
   "source": [
    "# Plot a random pointer\n",
    "ges = random.choice(list(pointers))\n",
    "plt.title(\"SP for '%s'\" % ges)\n",
    "plt.stem(pointers[ges])"
   ]
  },
  {
   "cell_type": "code",
   "execution_count": null,
   "metadata": {
    "collapsed": false
   },
   "outputs": [],
   "source": [
    "# Use these SPs to build an associative memory\n",
    "sps = [pointers[key][np.newaxis, :] for key in sorted(list(pointers))]\n",
    "sps = np.concatenate(sps, axis=0)\n",
    "print sps.shape\n",
    "# Outputs are initially set to zero.\n",
    "# Later, we will impose the trajectory\n",
    "# by making each output ensemble an oscillator\n",
    "# with the trajectory decoded as it oscillates.\n",
    "out = np.zeros((sps.shape[0], sps.shape[1] / 3))\n",
    "print out.shape\n",
    "\n",
    "with net:\n",
    "    net.config[nengo.Ensemble].neuron_type = nengo.LIFRate()\n",
    "    syllabary = nengo.networks.AssociativeMemory(\n",
    "        input_vectors=sps, output_vectors=out, threshold_output=True)\n",
    "    nengo.Connection(sp.output, syllabary.input)\n",
    "    \n",
    "    # Probe the activity of the ensembles; we'll look at the mean over time\n",
    "    p_syll = {}\n",
    "    for i, ges in enumerate(sorted(pointers)):\n",
    "        p_syll[ges] = nengo.Probe(\n",
    "            syllabary.thresh_ens.ea_ensembles[i].neurons)"
   ]
  },
  {
   "cell_type": "code",
   "execution_count": null,
   "metadata": {
    "collapsed": false
   },
   "outputs": [],
   "source": [
    "sim = nengo.Simulator(net)\n",
    "sim.run(gs.t_end)\n",
    "\n",
    "plt.figure()\n",
    "plt.stem(np.clip(sim.data[p_sp][-1], 0, 1))\n",
    "plt.figure()\n",
    "plt.stem(pointers['das'])\n",
    "\n",
    "for ges, probe in p_syll.items():\n",
    "    print(\"Mean of '%s': %f\" % (ges, np.mean(sim.data[probe])))"
   ]
  }
 ],
 "metadata": {
  "kernelspec": {
   "display_name": "Python 2",
   "language": "python",
   "name": "python2"
  },
  "language_info": {
   "codemirror_mode": {
    "name": "ipython",
    "version": 2
   },
   "file_extension": ".py",
   "mimetype": "text/x-python",
   "name": "python",
   "nbconvert_exporter": "python",
   "pygments_lexer": "ipython2",
   "version": "2.7.10"
  }
 },
 "nbformat": 4,
 "nbformat_minor": 0
}
