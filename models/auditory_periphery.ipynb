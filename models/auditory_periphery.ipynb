{
 "cells": [
  {
   "cell_type": "code",
   "execution_count": null,
   "metadata": {
    "collapsed": false
   },
   "outputs": [],
   "source": [
    "import phd\n",
    "from phd.experiments import lengthen\n",
    "\n",
    "import os\n",
    "%matplotlib inline\n",
    "import matplotlib.pyplot as plt\n",
    "import matplotlib.gridspec as gs\n",
    "import seaborn as sns\n",
    "import numpy as np\n",
    "import nengo\n",
    "import brian.hears as bh\n",
    "from scipy import stats\n",
    "from nengo.utils.matplotlib import rasterplot\n",
    "from nengo.utils.stdlib import Timer\n",
    "from IPython.display import Audio\n",
    "\n",
    "# Some plotting niceties\n",
    "plt.rc('figure', figsize=(10, 6))\n",
    "sns.set_style('white')\n",
    "sns.set_style('ticks')\n",
    "\n",
    "def img(array, zscore=False):\n",
    "    if zscore:\n",
    "        array = stats.zscore(array, axis=0)\n",
    "    plt.pcolormesh(array.T)\n",
    "    plt.ylim(top=array.shape[1])\n",
    "    plt.xlim(right=array.shape[0])\n",
    "    plt.yticks(())\n",
    "    sns.despine(left=True)\n",
    "    plt.tight_layout()\n",
    "\n",
    "def img_compare(array1, array2, zscore=(False, False)):\n",
    "    plt.figure(figsize=(12, 6))\n",
    "    plt.subplot(1, 2, 1)\n",
    "    img(array1, zscore[0])\n",
    "    plt.subplot(1, 2, 2)\n",
    "    img(array2, zscore[1])\n",
    "    plt.tight_layout()\n",
    "\n",
    "timit_path = \"~/phd_data/timit\"\n",
    "timit = phd.timit.TIMIT(timit_path)\n",
    "try:\n",
    "    timit.untar(os.path.expanduser(\"~/Dropbox/LDC93S1.tgz\"))\n",
    "except Exception as e:\n",
    "    pass\n",
    "\n",
    "def plot_filter(model):\n",
    "    for sound in [noise, ramp, speech]:\n",
    "        model.audio = sound\n",
    "        net = model.build(nengo.Network(seed=0))\n",
    "        with net:\n",
    "            ihc_p = nengo.Probe(net.periphery.ihc, synapse=None)\n",
    "            an_in_p = nengo.Probe(net.periphery.an.input, synapse=None)\n",
    "        sim = nengo.Simulator(net, dt=0.0001)\n",
    "        sim.run(model.t_audio)\n",
    "\n",
    "        plt.figure(figsize=(6, 6))\n",
    "        grid = gs.GridSpec(2, 2, width_ratios=[40, 1])\n",
    "\n",
    "        ax, cax = plt.subplot(grid[0, 0]), plt.subplot(grid[0, 1])\n",
    "        phd.plots.cochleogram(sim.data[ihc_p], sim.trange(), model.freqs, ax=ax, cax=cax)\n",
    "        ax.set_xticks(())\n",
    "        ax.set_xlabel(\"\")\n",
    "        print(\"IHC mean: %f\" % np.mean(sim.data[ihc_p]))\n",
    "\n",
    "        ax, cax = plt.subplot(grid[1, 0]), plt.subplot(grid[1, 1])\n",
    "        phd.plots.cochleogram(sim.data[an_in_p], sim.trange(), model.freqs, ax=ax, cax=cax)\n",
    "        print(\"AN in mean: %f\" % np.mean(sim.data[an_in_p]))\n",
    "        plt.tight_layout()\n",
    "\n",
    "# --- Sounds\n",
    "# Whitenoise\n",
    "noise = phd.processes.WhiteNoise().run(t=1.0, d=1, dt=0.00002)\n",
    "# Tone ramp\n",
    "ramp = phd.processes.ToneRamp(t_ramp=1.).run(t=1.0, d=1, dt=0.00002)\n",
    "# Speech\n",
    "timit = phd.timit.TIMIT(timit_path)\n",
    "timit.filefilt.spkr_id = \"RRE0\"\n",
    "samples = timit.word_samples(['deadline'])\n",
    "speech = samples['deadline'][0]\n",
    "fs_scale = 50000. / timit.fs\n",
    "resample_len = int(speech.shape[0] * fs_scale)\n",
    "speech = lengthen(speech, resample_len)\n",
    "\n",
    "# --- Model\n",
    "model = phd.sermo.AuditoryFeatures()\n",
    "model.cepstra.n_neurons = 1  # Just looking at periphery right now\n",
    "model.fs = 50000  # All extended to fs=50000 for better comparison"
   ]
  },
  {
   "cell_type": "code",
   "execution_count": null,
   "metadata": {
    "collapsed": false
   },
   "outputs": [],
   "source": [
    "%%javascript\n",
    "if($(IPython.toolbar.selector.concat(' > #kill-run-first')).length == 0){\n",
    "  IPython.toolbar.add_buttons_group([\n",
    "    {\n",
    "      'label'   : 'kill and run-first',\n",
    "      'icon'    : 'fa fa-angle-double-down',\n",
    "      'callback': function(){\n",
    "        IPython.notebook.kernel.restart();\n",
    "        $(IPython.events).one('kernel_ready.Kernel', function(){\n",
    "          var idx = IPython.notebook.get_selected_index();\n",
    "          IPython.notebook.select(0);\n",
    "          IPython.notebook.execute_cell();\n",
    "          IPython.notebook.select(idx);\n",
    "        });\n",
    "      }\n",
    "    }\n",
    "  ], 'kill-run-first');\n",
    "}"
   ]
  },
  {
   "cell_type": "markdown",
   "metadata": {},
   "source": [
    "## Utterances"
   ]
  },
  {
   "cell_type": "code",
   "execution_count": null,
   "metadata": {
    "collapsed": false
   },
   "outputs": [],
   "source": [
    "# Whitenoise\n",
    "Audio(data=noise.ravel(), rate=50000)"
   ]
  },
  {
   "cell_type": "code",
   "execution_count": null,
   "metadata": {
    "collapsed": false
   },
   "outputs": [],
   "source": [
    "# Ramping tone\n",
    "Audio(data=ramp.ravel(), rate=50000)"
   ]
  },
  {
   "cell_type": "code",
   "execution_count": null,
   "metadata": {
    "collapsed": false
   },
   "outputs": [],
   "source": [
    "# Speech (from TIMIT)\n",
    "Audio(data=speech.ravel(), rate=50000)"
   ]
  },
  {
   "cell_type": "markdown",
   "metadata": {},
   "source": [
    "## Gammatone"
   ]
  },
  {
   "cell_type": "code",
   "execution_count": null,
   "metadata": {
    "collapsed": false
   },
   "outputs": [],
   "source": [
    "# Impulse response\n",
    "t = np.linspace(0, 0.015, 500)\n",
    "dt = t[1] - t[0]\n",
    "f = 1000\n",
    "order = 4\n",
    "b = 1.019\n",
    "erb_f = 24.7 + 0.108 * f\n",
    "ir = (np.power(t, order-1) \n",
    "      * np.exp(-2 * np.pi * b * erb_f * t)\n",
    "      * np.cos(2 * np.pi * f * t)) * 4.7e8\n",
    "plt.plot(t, ir)\n",
    "sns.despine()\n",
    "plt.axis('tight');"
   ]
  },
  {
   "cell_type": "code",
   "execution_count": null,
   "metadata": {
    "collapsed": false
   },
   "outputs": [],
   "source": [
    "model.periphery.auditory_filter = 'gammatone'\n",
    "plot_filter(model)"
   ]
  },
  {
   "cell_type": "markdown",
   "metadata": {},
   "source": [
    "## Log Gammachirp"
   ]
  },
  {
   "cell_type": "code",
   "execution_count": null,
   "metadata": {
    "collapsed": false
   },
   "outputs": [],
   "source": [
    "# Impulse response\n",
    "t = np.linspace(0, 0.015, 500)\n",
    "dt = t[1] - t[0]\n",
    "f = 1000\n",
    "b = 1.019\n",
    "erb_f = 24.7 + 0.108 * f\n",
    "c = -1\n",
    "ir = (np.power(t, 2) \n",
    "      * np.exp(-2 * np.pi * b * erb_f * t)\n",
    "      * np.cos(2 * np.pi * (f * t + c * np.log(t))))\n",
    "plt.plot(t, ir)\n",
    "sns.despine()\n",
    "plt.axis('tight');"
   ]
  },
  {
   "cell_type": "code",
   "execution_count": null,
   "metadata": {
    "collapsed": false
   },
   "outputs": [],
   "source": [
    "model.periphery.auditory_filter = 'log_gammachirp'\n",
    "plot_filter(model)"
   ]
  },
  {
   "cell_type": "markdown",
   "metadata": {},
   "source": [
    "## Dual resonance nonlinear"
   ]
  },
  {
   "cell_type": "code",
   "execution_count": null,
   "metadata": {
    "collapsed": false
   },
   "outputs": [],
   "source": [
    "model.periphery.auditory_filter = 'dual_resonance'\n",
    "plot_filter(model)"
   ]
  },
  {
   "cell_type": "markdown",
   "metadata": {},
   "source": [
    "## Compressive Gammachirp"
   ]
  },
  {
   "cell_type": "code",
   "execution_count": null,
   "metadata": {
    "collapsed": false
   },
   "outputs": [],
   "source": [
    "model.periphery.auditory_filter = 'compressive_gammachirp'\n",
    "plot_filter(model)"
   ]
  },
  {
   "cell_type": "markdown",
   "metadata": {},
   "source": [
    "## Tan Carney"
   ]
  },
  {
   "cell_type": "code",
   "execution_count": null,
   "metadata": {
    "collapsed": false
   },
   "outputs": [],
   "source": [
    "model.periphery.auditory_filter = 'tan_carney'\n",
    "plot_filter(model)"
   ]
  }
 ],
 "metadata": {
  "kernelspec": {
   "display_name": "Python 2",
   "language": "python",
   "name": "python2"
  },
  "language_info": {
   "codemirror_mode": {
    "name": "ipython",
    "version": 2
   },
   "file_extension": ".py",
   "mimetype": "text/x-python",
   "name": "python",
   "nbconvert_exporter": "python",
   "pygments_lexer": "ipython2",
   "version": "2.7.10"
  }
 },
 "nbformat": 4,
 "nbformat_minor": 0
}
