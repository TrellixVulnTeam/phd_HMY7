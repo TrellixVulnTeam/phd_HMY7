{
 "cells": [
  {
   "cell_type": "code",
   "execution_count": null,
   "metadata": {
    "collapsed": false
   },
   "outputs": [],
   "source": [
    "import phd\n",
    "from phd.experiments import lengthen\n",
    "\n",
    "import os\n",
    "%matplotlib inline\n",
    "import matplotlib.pyplot as plt\n",
    "import matplotlib.gridspec as gs\n",
    "import seaborn as sns\n",
    "import numpy as np\n",
    "import nengo\n",
    "import brian.hears as bh\n",
    "from scipy import stats\n",
    "from nengo.utils.matplotlib import rasterplot\n",
    "from nengo.utils.stdlib import Timer\n",
    "from IPython.display import Audio\n",
    "\n",
    "# Some plotting niceties\n",
    "phd.plots.setup(figsize=(6, 4))\n",
    "\n",
    "# Ensure TIMIT is extracted\n",
    "timit_path = \"~/phd_data/timit\"\n",
    "timit = phd.timit.TIMIT(timit_path)\n",
    "try:\n",
    "    timit.untar(os.path.expanduser(\"~/Dropbox/LDC93S1.tgz\"))\n",
    "except Exception as e:\n",
    "    pass\n",
    "\n",
    "# Plotting function used by each filter\n",
    "def plot_filter(model, name):\n",
    "    for sound, sname in [(noise, 'noise'), (ramp, 'ramp'), (speech, 'speech')]:\n",
    "        model.audio = sound\n",
    "        net = model.build(nengo.Network(seed=0))\n",
    "        with net:\n",
    "            ihc_p = nengo.Probe(net.periphery.ihc, synapse=None)\n",
    "            an_in_p = nengo.Probe(net.periphery.an.input, synapse=None)\n",
    "            an_p = nengo.Probe(net.periphery.an.add_neuron_output(), synapse=None)\n",
    "        sim = nengo.Simulator(net, dt=0.0001)\n",
    "        sim.run(model.t_audio)\n",
    "\n",
    "        fig = plt.figure(figsize=(4, 8))\n",
    "        grid = gs.GridSpec(3, 2, width_ratios=[40, 1])\n",
    "\n",
    "        ax, cax = plt.subplot(grid[0, 0]), plt.subplot(grid[0, 1])\n",
    "        phd.plots.cochleogram(sim.data[ihc_p], sim.trange(), model.freqs, ax=ax, cax=cax)\n",
    "        ax.set_title(\"Inner hair cell activity\")\n",
    "        ax.set_xticks(())\n",
    "        ax.set_xlabel(\"\")\n",
    "        print(\"IHC mean: %f\" % np.mean(sim.data[ihc_p]))\n",
    "\n",
    "        ax, cax = plt.subplot(grid[1, 0]), plt.subplot(grid[1, 1])\n",
    "        phd.plots.cochleogram(sim.data[an_in_p], sim.trange(), model.freqs, ax=ax, cax=cax)\n",
    "        ax.set_xticks(())\n",
    "        ax.set_xlabel(\"\")\n",
    "        ax.set_title(\"IHC-AN synaptic activity\")\n",
    "        print(\"AN in mean: %f\" % np.mean(sim.data[an_in_p]))\n",
    "\n",
    "        ax = plt.subplot(grid[2, 0])\n",
    "        rasterplot(sim.trange(), sim.data[an_p], ax=ax)\n",
    "        ax.set_title(\"Spiking AN neural activity\")\n",
    "        ax.set_ylim(0, net.periphery.an.n_neurons * net.periphery.an.n_ensembles)\n",
    "        ax.set_ylabel(\"Neuron\")\n",
    "        ax.set_xlabel(\"Time (s)\")\n",
    "        sns.despine(ax=ax)\n",
    "        fig.tight_layout()\n",
    "        phd.plots.savefig(fig, 'methods', '%s-%s' % (name, sname))\n",
    "        \n",
    "# --- Sounds\n",
    "# Whitenoise\n",
    "noise = phd.processes.WhiteNoise().run(t=0.4, d=1, dt=0.00002)\n",
    "# Tone ramp\n",
    "ramp = phd.processes.ToneRamp(t_ramp=1.).run(t=0.8, d=1, dt=0.00002)\n",
    "# Speech\n",
    "utt = 'deadline'\n",
    "spkr = 'RRE0'\n",
    "timit = phd.timit.TIMIT(timit_path)\n",
    "timit.filefilt.spkr_id = spkr\n",
    "samples = timit.word_samples([utt])\n",
    "speech = samples[utt][0]\n",
    "fs_scale = 50000. / timit.fs\n",
    "resample_len = int(speech.shape[0] * fs_scale)\n",
    "speech = lengthen(speech, resample_len)\n",
    "\n",
    "# --- Model\n",
    "model = phd.sermo.AuditoryFeatures()\n",
    "model.cepstra.n_neurons = 1  # Just looking at periphery right now\n",
    "model.fs = 50000  # All extended to fs=50000 for better comparison"
   ]
  },
  {
   "cell_type": "markdown",
   "metadata": {},
   "source": [
    "## Utterances"
   ]
  },
  {
   "cell_type": "code",
   "execution_count": null,
   "metadata": {
    "collapsed": false
   },
   "outputs": [],
   "source": [
    "# Whitenoise\n",
    "Audio(data=noise.ravel(), rate=50000)"
   ]
  },
  {
   "cell_type": "code",
   "execution_count": null,
   "metadata": {
    "collapsed": false
   },
   "outputs": [],
   "source": [
    "# Ramping tone\n",
    "Audio(data=ramp.ravel(), rate=50000)"
   ]
  },
  {
   "cell_type": "code",
   "execution_count": null,
   "metadata": {
    "collapsed": false
   },
   "outputs": [],
   "source": [
    "# Speech (from TIMIT)\n",
    "Audio(data=speech.ravel(), rate=50000)"
   ]
  },
  {
   "cell_type": "markdown",
   "metadata": {},
   "source": [
    "## Gammatone"
   ]
  },
  {
   "cell_type": "code",
   "execution_count": null,
   "metadata": {
    "collapsed": false
   },
   "outputs": [],
   "source": [
    "# Impulse response\n",
    "t = np.linspace(0, 0.015, 500)\n",
    "dt = t[1] - t[0]\n",
    "f = 1000\n",
    "order = 4\n",
    "b = 1.019\n",
    "erb_f = 24.7 + 0.108 * f\n",
    "ir = (np.power(t, order-1) \n",
    "      * np.exp(-2 * np.pi * b * erb_f * t)\n",
    "      * np.cos(2 * np.pi * f * t)) * 4.7e8\n",
    "plt.plot(t, ir)\n",
    "sns.despine()\n",
    "plt.axis('tight')\n",
    "plt.title(\"Gammatone impulse response\")\n",
    "plt.ylabel(\"Arbitrary units\")\n",
    "plt.xlabel(\"Time (s)\")\n",
    "plt.tight_layout()\n",
    "phd.plots.savefig(plt.gcf(), 'methods', 'gammatone-impulse')"
   ]
  },
  {
   "cell_type": "code",
   "execution_count": null,
   "metadata": {
    "collapsed": false
   },
   "outputs": [],
   "source": [
    "model.periphery.auditory_filter = 'gammatone'\n",
    "plot_filter(model, 'gammatone')"
   ]
  },
  {
   "cell_type": "markdown",
   "metadata": {},
   "source": [
    "## Log Gammachirp"
   ]
  },
  {
   "cell_type": "code",
   "execution_count": null,
   "metadata": {
    "collapsed": false
   },
   "outputs": [],
   "source": [
    "# Impulse response\n",
    "def lg_ir(t, c):\n",
    "    dt = t[1] - t[0]\n",
    "    f = 1000\n",
    "    b = 1.019\n",
    "    erb_f = 24.7 + 0.108 * f\n",
    "    return (np.power(t, 2) \n",
    "            * np.exp(-2 * np.pi * b * erb_f * t)\n",
    "            * np.cos(2 * np.pi * (f * t + c * np.log(t))))\n",
    "\n",
    "t = np.linspace(0, 0.015, 500)\n",
    "\n",
    "fig = plt.figure(figsize=(8, 4))\n",
    "plt.subplot(1, 2, 1)\n",
    "plt.plot(t, lg_ir(t, c=-1))\n",
    "plt.axis('tight')\n",
    "plt.title(\"Log Gammachirp IR (c=-1)\")\n",
    "plt.ylabel(\"Arbitrary units\")\n",
    "plt.xlabel(\"Time (s)\")\n",
    "sns.despine()\n",
    "\n",
    "ax = plt.subplot(1, 2, 2)\n",
    "plt.plot(t, lg_ir(t, c=1))\n",
    "plt.axis('tight')\n",
    "plt.title(\"Log Gammachirp IR (c=1)\")\n",
    "plt.yticks(())\n",
    "plt.xlabel(\"Time (s)\")\n",
    "sns.despine(left=True, ax=ax)\n",
    "\n",
    "plt.tight_layout()\n",
    "phd.plots.savefig(plt.gcf(), 'methods', 'log-gammachirp-impulse')"
   ]
  },
  {
   "cell_type": "code",
   "execution_count": null,
   "metadata": {
    "collapsed": false
   },
   "outputs": [],
   "source": [
    "model.periphery.auditory_filter = 'log_gammachirp'\n",
    "plot_filter(model, 'log-gammachirp')"
   ]
  },
  {
   "cell_type": "markdown",
   "metadata": {},
   "source": [
    "## Dual resonance nonlinear"
   ]
  },
  {
   "cell_type": "code",
   "execution_count": null,
   "metadata": {
    "collapsed": false
   },
   "outputs": [],
   "source": [
    "model.periphery.auditory_filter = 'dual_resonance'\n",
    "plot_filter(model, 'dual-resonance')"
   ]
  },
  {
   "cell_type": "markdown",
   "metadata": {},
   "source": [
    "## Compressive Gammachirp"
   ]
  },
  {
   "cell_type": "code",
   "execution_count": null,
   "metadata": {
    "collapsed": false
   },
   "outputs": [],
   "source": [
    "model.periphery.auditory_filter = 'compressive_gammachirp'\n",
    "plot_filter(model, 'compressive-gammachirp')"
   ]
  },
  {
   "cell_type": "markdown",
   "metadata": {},
   "source": [
    "## Tan Carney"
   ]
  },
  {
   "cell_type": "code",
   "execution_count": null,
   "metadata": {
    "collapsed": false
   },
   "outputs": [],
   "source": [
    "model.periphery.auditory_filter = 'tan_carney'\n",
    "plot_filter(model, 'tan-carney')"
   ]
  }
 ],
 "metadata": {
  "kernelspec": {
   "display_name": "Python 2",
   "language": "python",
   "name": "python2"
  },
  "language_info": {
   "codemirror_mode": {
    "name": "ipython",
    "version": 2
   },
   "file_extension": ".py",
   "mimetype": "text/x-python",
   "name": "python",
   "nbconvert_exporter": "python",
   "pygments_lexer": "ipython2",
   "version": "2.7.10"
  }
 },
 "nbformat": 4,
 "nbformat_minor": 0
}
