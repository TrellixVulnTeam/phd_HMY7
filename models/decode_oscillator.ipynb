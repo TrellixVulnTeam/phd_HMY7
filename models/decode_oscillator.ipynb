{
 "cells": [
  {
   "cell_type": "code",
   "execution_count": null,
   "metadata": {
    "collapsed": true
   },
   "outputs": [],
   "source": [
    "import functools\n",
    "\n",
    "import numpy as np\n",
    "import matplotlib.pyplot as plt\n",
    "%matplotlib inline\n",
    "import seaborn as sns\n",
    "\n",
    "import nengo\n",
    "import nengo.utils.numpy as npext\n",
    "import nengo_gui.ipython"
   ]
  },
  {
   "cell_type": "markdown",
   "metadata": {},
   "source": [
    "# Flexible motor oscillators\n",
    "\n",
    "Goal: Make an oscillator for a syllable\n",
    "with as few neurons as possible.\n",
    "Must be able to oscillate at ~2-5 Hz."
   ]
  },
  {
   "cell_type": "code",
   "execution_count": null,
   "metadata": {
    "collapsed": true
   },
   "outputs": [],
   "source": [
    "from collections import namedtuple\n",
    "\n",
    "# Speech action indices\n",
    "(lab_clos_full, lab_clos_fric,\n",
    " api_clos_full, api_clos_fric,\n",
    " api_clos_lat, dor_clos_full,\n",
    " glott_adduc_phon, glott_abduc_nophon,\n",
    " vow_ii, vow_aa, vow_uu) = list(range(11))\n",
    "\n",
    "# Articulator indices\n",
    "(tongue_dors_hl, tongue_dors_fb,\n",
    " lips_protrusion, lips_constriction,\n",
    " ttip_constriction, tdor_constriction) = list(range(6))\n",
    "\n",
    "# --- Speech Actions to decode from the oscillator\n",
    "SA = namedtuple('SA', ['onset', 'offset', 'idx'])\n",
    "\n",
    "def sa_func(name, actions):\n",
    "    def _fn(x):\n",
    "        ret = np.zeros(11)\n",
    "        for action in actions:\n",
    "            if action.onset <= x <= action.offset:\n",
    "                ret[action.idx] = 1.0\n",
    "        return ret\n",
    "    _fn.__name__ = name\n",
    "    _fn.actions = actions  # Sneakily store actions\n",
    "    return _fn\n",
    "\n",
    "bas_sa = [SA(0.2, 0.4, lab_clos_full),\n",
    "          SA(0.5, 0.7, api_clos_fric),\n",
    "          SA(0.2, 0.6, glott_adduc_phon),\n",
    "          SA(0.5, 0.7, glott_abduc_nophon),\n",
    "          SA(0.2, 0.6, vow_aa)]\n",
    "kul_sa = [SA(0.5, 0.7, api_clos_lat),\n",
    "          SA(0.2, 0.4, dor_clos_full),\n",
    "          SA(0.5, 0.7, glott_adduc_phon),\n",
    "          SA(0.2, 0.5, glott_abduc_nophon),\n",
    "          SA(0.2, 0.6, vow_uu)]\n",
    "tip_sa = [SA(0.5, 0.7, lab_clos_full),\n",
    "          SA(0.2, 0.4, api_clos_full),\n",
    "          SA(0.2, 0.6, glott_adduc_phon),\n",
    "          SA(0.5, 0.7, glott_abduc_nophon),\n",
    "          SA(0.2, 0.6, vow_ii)]\n",
    "\n",
    "bas = sa_func('bas', bas_sa)\n",
    "kul = sa_func('kul', kul_sa)\n",
    "tip = sa_func('tip', tip_sa)"
   ]
  },
  {
   "cell_type": "code",
   "execution_count": null,
   "metadata": {
    "collapsed": false
   },
   "outputs": [],
   "source": [
    "def plot_sa(sa_f):\n",
    "    x = np.linspace(0, 1, 100)\n",
    "    out = np.zeros((100, 11))\n",
    "    for i, xx in enumerate(x):\n",
    "        out[i] = sa_f(xx)\n",
    "    plt.plot(x, out)\n",
    "    plt.ylim(-0.1, 1.1)\n",
    "\n",
    "plt.figure(figsize=(10, 5))\n",
    "plt.subplot(3, 1, 1)\n",
    "plot_sa(bas)\n",
    "plt.subplot(3, 1, 2)\n",
    "plot_sa(kul)\n",
    "plt.subplot(3, 1, 3)\n",
    "plot_sa(tip)"
   ]
  },
  {
   "cell_type": "code",
   "execution_count": null,
   "metadata": {
    "collapsed": false
   },
   "outputs": [],
   "source": [
    "from nengo.dists import Choice, Uniform\n",
    "\n",
    "class Speech(nengo.Network):\n",
    "    def __init__(self, n_neurons, **netkwargs):\n",
    "        netkwargs.setdefault('label', 'Speech')\n",
    "        super(Speech, self).__init__(**netkwargs)\n",
    "        self.n_neurons = n_neurons\n",
    "        self.osc = {}  # syllable_f -> oscillator ensemble\n",
    "        self.inhib = {}  # syllable_f -> inhibitory ensemble\n",
    "\n",
    "        with self:\n",
    "            # Make a speech actions EA as a readout\n",
    "            self.speechactions = nengo.networks.EnsembleArray(n_neurons, 11)\n",
    "            # Oscillator kick -- this will be an ensemble eventually\n",
    "            self.osc_kick = nengo.Node(output=lambda t: 0.8 if t < 0.05 else 0.0)\n",
    "        self.output = self.speechactions.output\n",
    "\n",
    "    @staticmethod\n",
    "    def zone(x):\n",
    "        theta = np.arctan2(x[1], x[0])\n",
    "        if theta > (3.0 / 4) * np.pi:\n",
    "            return [0, 0]\n",
    "        else:\n",
    "            return x\n",
    "\n",
    "    @staticmethod\n",
    "    def radial_f(fn):\n",
    "        def _fn(x):\n",
    "            # theta = np.arctan2(x[1], x[0])\n",
    "            # t = theta / (2 * np.pi) + 0.5\n",
    "            return fn(np.arctan2(x[1], x[0]) / (2 * np.pi) + 0.5)\n",
    "        _fn.__name__ = fn.__name__\n",
    "        return _fn\n",
    "\n",
    "    def add_syllable(self, syllable_f, tau=0.025, freq=3.3):\n",
    "        omega = tau * 2 * np.pi * freq\n",
    "        encoders = [[np.cos(theta), np.sin(theta)]\n",
    "                    for theta in np.random.uniform(-np.pi, (7.0 / 8) * np.pi, self.n_neurons)]\n",
    "\n",
    "        with self:\n",
    "            osc = nengo.Ensemble(self.n_neurons, dimensions=2,\n",
    "                                 intercepts=Uniform(0.3, 1),\n",
    "                                 encoders=encoders,\n",
    "                                 label=syllable_f.__name__)\n",
    "            nengo.Connection(osc, osc,\n",
    "                             transform=[[1, -omega], [omega, 1]], function=self.zone, synapse=tau)\n",
    "            nengo.Connection(self.osc_kick, osc, transform=[[-1], [0]])\n",
    "            nengo.Connection(osc, self.speechactions.input, function=self.radial_f(syllable_f))\n",
    "            # By default, oscillator will be inhibited. Inhibit this to remove that.\n",
    "            inhib = nengo.Ensemble(20, dimensions=1, intercepts=Uniform(-0.4, 0.1), encoders=Choice([[1]]))\n",
    "            nengo.Connection(inhib.neurons, osc.neurons, transform=-1 * np.ones((self.n_neurons, 20)))\n",
    "\n",
    "        self.osc[syllable_f] = osc\n",
    "        self.inhib[syllable_f] = inhib\n",
    "\n",
    "with nengo.Network() as net:\n",
    "    sp = Speech(n_neurons=200)\n",
    "    sp.add_syllable(bas, freq=3.3)\n",
    "    sp.add_syllable(kul, freq=2.5)\n",
    "    sp.add_syllable(tip, freq=5.0)\n",
    "    # disinhibit one to let it through\n",
    "    disinhibit = nengo.Node(-1)\n",
    "    nengo.Connection(disinhibit, sp.inhib[bas])\n",
    "\n",
    "    # Probes\n",
    "    osc_p = nengo.Probe(sp.osc[bas], synapse=0.01)\n",
    "    sa_p = nengo.Probe(sp.output, synapse=0.01)"
   ]
  },
  {
   "cell_type": "code",
   "execution_count": null,
   "metadata": {
    "collapsed": false
   },
   "outputs": [],
   "source": [
    "sim = nengo.Simulator(net)\n",
    "sim.run(0.4)"
   ]
  },
  {
   "cell_type": "code",
   "execution_count": null,
   "metadata": {
    "collapsed": false
   },
   "outputs": [],
   "source": [
    "t = sim.trange()\n",
    "plt.figure()\n",
    "plt.plot(sim.data[osc_p].T[0], sim.data[osc_p].T[1])\n",
    "plt.figure()\n",
    "plt.plot(t, sim.data[sa_p])\n",
    "plt.xlim(right=t[-1])"
   ]
  },
  {
   "cell_type": "code",
   "execution_count": null,
   "metadata": {
    "collapsed": false
   },
   "outputs": [],
   "source": [
    "print(sum(ens.n_neurons for ens in net.all_ensembles))"
   ]
  },
  {
   "cell_type": "markdown",
   "metadata": {},
   "source": [
    "## Speed control\n",
    "\n",
    "Add in an intermediate population to control speed across all syllables."
   ]
  },
  {
   "cell_type": "code",
   "execution_count": null,
   "metadata": {
    "collapsed": false
   },
   "outputs": [],
   "source": [
    "class Speech(nengo.Network):\n",
    "    def __init__(self, neurons_per_d, **netkwargs):\n",
    "        netkwargs.setdefault('label', 'Speech')\n",
    "        super(Speech, self).__init__(**netkwargs)\n",
    "        self.neurons_per_d = neurons_per_d\n",
    "        self.osc = {}  # syllable_f -> oscillator ensemble\n",
    "        self.inhib = {}  # syllable_f -> inhibitory ensemble\n",
    "\n",
    "        with self:\n",
    "            # Make a speech actions EA as a readout\n",
    "            self.speechactions = nengo.networks.EnsembleArray(neurons_per_d, 11)\n",
    "            # Oscillator kick -- this will be an ensemble eventually\n",
    "            self.osc_kick = nengo.Node(output=lambda t: 0.8 if t < 0.05 else 0.0)\n",
    "            # Global speed control\n",
    "            self.speed = nengo.Ensemble(neurons_per_d, dimensions=1)\n",
    "        self.output = self.speechactions.output\n",
    "\n",
    "    @staticmethod\n",
    "    def zone(x):\n",
    "        theta = np.arctan2(x[1], x[0])\n",
    "        if theta > 1.2 * np.pi:\n",
    "            return 0\n",
    "        else:\n",
    "            return x\n",
    "\n",
    "    @staticmethod\n",
    "    def radial_f(fn):\n",
    "        def _fn(x):\n",
    "            # theta = np.arctan2(x[1], x[0])\n",
    "            # t = theta / (2 * np.pi) + 0.5\n",
    "            return fn(np.arctan2(x[1], x[0]) / (2 * np.pi) + 0.5)\n",
    "        _fn.__name__ = fn.__name__\n",
    "        return _fn\n",
    "\n",
    "    def add_syllable(self, syllable_f, tau=0.01, freq=3.3):\n",
    "        omega = tau * 2 * np.pi * freq\n",
    "        encoders = [[np.cos(theta), np.sin(theta)]\n",
    "                    for theta in np.random.uniform(-np.pi, (7.0 / 8) * np.pi, self.neurons_per_d * 2)]\n",
    "\n",
    "        def feedback(x, w_max=28):\n",
    "            x0, x1, w = x  # These are the three variables stored in the ensemble\n",
    "            # w *= -1\n",
    "            w += 1  # We offset w, so w=0 is normal speed (1.0)\n",
    "            return Speech.zone(np.array([x0 - w*w_max*tau*x1, x1 + w*w_max*tau*x0]))\n",
    "        \n",
    "        with self:\n",
    "            osc = nengo.Ensemble(self.neurons_per_d * 2, dimensions=2,\n",
    "                                 intercepts=Uniform(0.3, 1),\n",
    "                                 encoders=encoders,\n",
    "                                 label=syllable_f.__name__)\n",
    "            # Since osc uses special encoders and such, we want to do our control\n",
    "            # in a separate ensemble. This adds a slight delay, but that's ok.\n",
    "            ctrl = nengo.Ensemble(self.neurons_per_d * 3, dimensions=3, radius=1.7)\n",
    "            nengo.Connection(osc, ctrl[:2], synapse=0.005)\n",
    "            nengo.Connection(self.speed, ctrl[2], synapse=0.005)\n",
    "            nengo.Connection(ctrl, osc, function=feedback, synapse=tau)\n",
    "            # Get kick input\n",
    "            nengo.Connection(self.osc_kick, osc, transform=[[-1], [0]])\n",
    "            nengo.Connection(osc, self.speechactions.input, function=self.radial_f(syllable_f))\n",
    "            # By default, oscillator will be inhibited. Inhibit this to remove that.\n",
    "            inhib = nengo.Ensemble(20, dimensions=1, intercepts=Uniform(-0.4, 0.1), encoders=Choice([[1]]))\n",
    "            nengo.Connection(inhib.neurons, osc.neurons, transform=-1 * np.ones((osc.n_neurons, 20)))\n",
    "\n",
    "        self.osc[syllable_f] = osc\n",
    "        self.inhib[syllable_f] = inhib\n",
    "\n",
    "with nengo.Network() as net:\n",
    "    sp = Speech(neurons_per_d=100)\n",
    "    sp.add_syllable(bas, freq=3.3)\n",
    "    sp.add_syllable(kul, freq=2.5)\n",
    "    sp.add_syllable(tip, freq=5.0)\n",
    "    # disinhibit one to let it through\n",
    "    disinhibit = nengo.Node(-1)\n",
    "    nengo.Connection(disinhibit, sp.inhib[bas])\n",
    "\n",
    "    # Positive = speed up, negative = speed down, -1 = stop\n",
    "    # Note: if you speed up too much, it'll repeat\n",
    "    nengo.Connection(nengo.Node(-0.2), sp.speed, synapse=None)\n",
    "\n",
    "    # Probes\n",
    "    osc_p = nengo.Probe(sp.osc[bas], synapse=0.01)\n",
    "    sa_p = nengo.Probe(sp.output, synapse=0.01)\n",
    "    spd_p = nengo.Probe(sp.speed, synapse=0.01)"
   ]
  },
  {
   "cell_type": "code",
   "execution_count": null,
   "metadata": {
    "collapsed": false
   },
   "outputs": [],
   "source": [
    "sim = nengo.Simulator(net)\n",
    "sim.run(0.4)\n",
    "\n",
    "t = sim.trange()\n",
    "plt.figure()\n",
    "plt.plot(sim.data[osc_p].T[0], sim.data[osc_p].T[1])\n",
    "plt.figure()\n",
    "plt.plot(t, sim.data[spd_p])\n",
    "plt.xlim(right=t[-1])\n",
    "plt.figure()\n",
    "plt.plot(t, sim.data[sa_p])\n",
    "plt.xlim(right=t[-1])"
   ]
  },
  {
   "cell_type": "code",
   "execution_count": null,
   "metadata": {
    "collapsed": false
   },
   "outputs": [],
   "source": [
    "print(sum(ens.n_neurons for ens in net.all_ensembles))"
   ]
  }
 ],
 "metadata": {
  "kernelspec": {
   "display_name": "Python 2",
   "language": "python",
   "name": "python2"
  },
  "language_info": {
   "codemirror_mode": {
    "name": "ipython",
    "version": 2
   },
   "file_extension": ".py",
   "mimetype": "text/x-python",
   "name": "python",
   "nbconvert_exporter": "python",
   "pygments_lexer": "ipython2",
   "version": "2.7.10"
  }
 },
 "nbformat": 4,
 "nbformat_minor": 0
}
