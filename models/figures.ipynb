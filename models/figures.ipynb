{
 "cells": [
  {
   "cell_type": "code",
   "execution_count": null,
   "metadata": {
    "collapsed": false
   },
   "outputs": [],
   "source": [
    "import phd\n",
    "\n",
    "import numpy as np\n",
    "%matplotlib inline\n",
    "import matplotlib.pyplot as plt\n",
    "import seaborn as sns\n",
    "\n",
    "# Some plotting niceties\n",
    "phd.plots.setup(figsize=(6, 4))"
   ]
  },
  {
   "cell_type": "markdown",
   "metadata": {},
   "source": [
    "# Miscellaneous figures\n",
    "\n",
    "The other notebooks are primarily\n",
    "for generating figures for the thesis,\n",
    "grouped by model.\n",
    "Here, we have code to generate other\n",
    "miscellaneous figures that aren't direclty tied\n",
    "to one of the models."
   ]
  },
  {
   "cell_type": "markdown",
   "metadata": {},
   "source": [
    "## Chapter 2. Background"
   ]
  },
  {
   "cell_type": "markdown",
   "metadata": {},
   "source": [
    "### Equal loudness curves\n",
    "\n",
    "Defined by ISO-226;\n",
    "values and code from\n",
    "http://www.mathworks.com/matlabcentral/fileexchange/7028-iso-226-equal-loudness-level-contour-signal."
   ]
  },
  {
   "cell_type": "code",
   "execution_count": null,
   "metadata": {
    "collapsed": false
   },
   "outputs": [],
   "source": [
    "def equalloudness(phon):\n",
    "    \"\"\"Generates an Equal Loudness Contour as described in ISO 226.\n",
    "\n",
    "    This function will return the equal loudness contour for\n",
    "    your desired phon level.  The frequencies evaulated in this\n",
    "    function only span from 20Hz - 12.5kHz, and only 29 selective\n",
    "    frequencies are covered.  This is the limitation of the ISO\n",
    "    standard.\n",
    "\n",
    "    In addition the valid phon range should be 0 - 90 dB SPL.\n",
    "    Values outside this range do not have experimental values\n",
    "    and their contours should be treated as inaccurate.\n",
    "\n",
    "    If more samples are required you should be able to easily\n",
    "    interpolate these values using spline().\n",
    "\n",
    "    Parameters\n",
    "    ----------\n",
    "    phon : float\n",
    "        The phon value in dB SPL that you want the equal\n",
    "        loudness curve to represent. (1phon = 1dB @ 1kHz)\n",
    "\n",
    "    Returns\n",
    "    -------\n",
    "    freq : ndarray (29,)\n",
    "        Vector of frequencies that ISO226 evaluates to generate the contour.\n",
    "    spl : ndarray (29,)\n",
    "        Sound Pressure Level amplitude returned for\n",
    "        each of the 29 frequencies evaluated by ISO226.\n",
    "\n",
    "    Note that they are returned in this order so that they can be passed\n",
    "    directly to a `plot` call; e.g., `plt.plot(*equalloudness(20))`.\n",
    "\n",
    "    Notes\n",
    "    -----\n",
    "    Original Matlab implementation by Jeff Tackett; see\n",
    "    http://www.mathworks.com/matlabcentral/fileexchange/7028-iso-226-equal-loudness-level-contour-signal\n",
    "\n",
    "    Used under BSD license.\n",
    "    \"\"\"\n",
    "\n",
    "    # --- Tables from ISO226\n",
    "    freq = np.array([20, 25, 31.5, 40, 50, 63, 80, 100, 125, 160, 200, 250,\n",
    "                     315, 400, 500, 630, 800, 1000, 1250, 1600, 2000, 2500,\n",
    "                     3150, 4000, 5000, 6300, 8000, 10000, 12500], dtype=float)\n",
    "\n",
    "    af = np.array([0.532, 0.506, 0.480, 0.455, 0.432, 0.409, 0.387, 0.367,\n",
    "                   0.349, 0.330, 0.315, 0.301, 0.288, 0.276, 0.267, 0.259,\n",
    "                   0.253, 0.250, 0.246, 0.244, 0.243, 0.243, 0.243, 0.242,\n",
    "                   0.242, 0.245, 0.254, 0.271, 0.301])\n",
    "\n",
    "    Lu = np.array([-31.6, -27.2, -23.0, -19.1, -15.9, -13.0, -10.3, -8.1,\n",
    "                   -6.2, -4.5, -3.1, -2.0, -1.1, -0.4, 0.0, 0.3, 0.5, 0.0,\n",
    "                   -2.7, -4.1, -1.0, 1.7, 2.5, 1.2, -2.1, -7.1, -11.2, -10.7,\n",
    "                   -3.1])\n",
    "\n",
    "    Tf = np.array([78.5, 68.7, 59.5, 51.1, 44.0, 37.5, 31.5, 26.5, 22.1, 17.9,\n",
    "                   14.4, 11.4, 8.6, 6.2, 4.4, 3.0, 2.2, 2.4, 3.5, 1.7, -1.3,\n",
    "                   -4.2, -6.0, -5.4, -1.5, 6.0, 12.6, 13.9, 12.3])\n",
    "\n",
    "    if phon < 0 or phon > 90:\n",
    "        raise ValueError(\"`phon` must be between 0 and 90; got %s\" % phon)\n",
    "\n",
    "    Ln = phon\n",
    "\n",
    "    # Deriving sound pressure level from loudness level (ISO226, section 4.1)\n",
    "    Af = (0.00447 * (np.power(10, 0.025*Ln) - 1.15)\n",
    "          + (0.4 * np.power(np.power(10, ((Tf + Lu) / 10) - 9), af)))\n",
    "    spl = ((10. / af) * np.log10(Af)) - Lu + 94\n",
    "\n",
    "    return freq, spl\n",
    "\n",
    "fig = plt.figure()\n",
    "for phon in [0] + range(10, 110, 20):\n",
    "    c = 'r' if phon < 10 or phon > 70 else 'k'\n",
    "    freq, spl = equalloudness(phon)\n",
    "    plt.plot(freq, spl, c=c)\n",
    "    if phon == 0:\n",
    "        text = \"0 phon (just audible)\"\n",
    "    else:\n",
    "        text = \"%d phon\" % phon\n",
    "    plt.text(freq[-1] * 1.2, spl[-1], text, verticalalignment='center')\n",
    "plt.ylabel(\"Sound pressure level (dB)\")\n",
    "plt.xlabel(\"Frequency (Hz)\")\n",
    "plt.xscale('log')\n",
    "sns.despine()\n",
    "fig.tight_layout()\n",
    "phd.plots.savefig(fig, 'background', 'el-curves')"
   ]
  },
  {
   "cell_type": "markdown",
   "metadata": {},
   "source": [
    "### ERB & Mel scales"
   ]
  },
  {
   "cell_type": "code",
   "execution_count": null,
   "metadata": {
    "collapsed": false
   },
   "outputs": [],
   "source": [
    "freq_hz = np.linspace(100, 6000, 1000)\n",
    "erb = phd.filters.erbspace(100, 6000, 1000)\n",
    "mel = phd.filters.melspace(100, 6000, 1000)\n",
    "\n",
    "fig, ax1 = plt.subplots()\n",
    "c1 = next(ax1._get_lines.prop_cycler)['color']\n",
    "c2 = next(ax1._get_lines.prop_cycler)['color']\n",
    "ax1.plot(freq_hz, erb, c=c1, label=\"ERB scale\")\n",
    "ax1.set_ylabel(\"Equivalent rectangular bandwidth (Hz)\", color=c1)\n",
    "for tl in ax1.get_yticklabels():\n",
    "    tl.set_color(c1)\n",
    "ax1.set_xlabel(\"Center frequency (Hz)\")\n",
    "ax1.set_xscale('log')\n",
    "sns.despine(ax=ax1)\n",
    "\n",
    "ax2 = ax1.twinx()\n",
    "ax2.plot(freq_hz, mel, c=c2, label=\"Mel scale\")\n",
    "ax2.set_ylabel(\"Mel\", color=c2)\n",
    "for tl in ax2.get_yticklabels():\n",
    "    tl.set_color(c2)\n",
    "sns.despine(ax=ax2, right=False)\n",
    "\n",
    "fig.tight_layout()\n",
    "phd.plots.savefig(fig, 'background', 'erb-mel')"
   ]
  }
 ],
 "metadata": {
  "kernelspec": {
   "display_name": "Python 2",
   "language": "python",
   "name": "python2"
  },
  "language_info": {
   "codemirror_mode": {
    "name": "ipython",
    "version": 2
   },
   "file_extension": ".py",
   "mimetype": "text/x-python",
   "name": "python",
   "nbconvert_exporter": "python",
   "pygments_lexer": "ipython2",
   "version": "2.7.10"
  }
 },
 "nbformat": 4,
 "nbformat_minor": 0
}
