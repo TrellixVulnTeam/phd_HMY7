{
 "cells": [
  {
   "cell_type": "code",
   "execution_count": null,
   "metadata": {
    "collapsed": false
   },
   "outputs": [],
   "source": [
    "import phd\n",
    "import numpy as np\n",
    "%matplotlib inline\n",
    "import matplotlib.pyplot as plt\n",
    "import seaborn as sns"
   ]
  },
  {
   "cell_type": "markdown",
   "metadata": {},
   "source": [
    "# Miscellaneous figures\n",
    "\n",
    "The other notebooks are primarily\n",
    "for generating figures for the thesis,\n",
    "grouped by model.\n",
    "Here, we have code to generate other\n",
    "miscellaneous figures that aren't direclty tied\n",
    "to one of the models."
   ]
  },
  {
   "cell_type": "markdown",
   "metadata": {},
   "source": [
    "## Chapter 2. Background"
   ]
  },
  {
   "cell_type": "markdown",
   "metadata": {},
   "source": [
    "### Equal loudness curves\n",
    "\n",
    "Defined by ISO-226;\n",
    "values and code from\n",
    "http://www.mathworks.com/matlabcentral/fileexchange/7028-iso-226-equal-loudness-level-contour-signal."
   ]
  },
  {
   "cell_type": "code",
   "execution_count": null,
   "metadata": {
    "collapsed": false
   },
   "outputs": [],
   "source": [
    "def equalloudness(phon):\n",
    "    \"\"\"Generates an Equal Loudness Contour as described in ISO 226.\n",
    "\n",
    "    This function will return the equal loudness contour for\n",
    "    your desired phon level.  The frequencies evaulated in this\n",
    "    function only span from 20Hz - 12.5kHz, and only 29 selective\n",
    "    frequencies are covered.  This is the limitation of the ISO\n",
    "    standard.\n",
    "\n",
    "    In addition the valid phon range should be 0 - 90 dB SPL.\n",
    "    Values outside this range do not have experimental values\n",
    "    and their contours should be treated as inaccurate.\n",
    "\n",
    "    If more samples are required you should be able to easily\n",
    "    interpolate these values using spline().\n",
    "\n",
    "    Parameters\n",
    "    ----------\n",
    "    phon : float\n",
    "        The phon value in dB SPL that you want the equal\n",
    "        loudness curve to represent. (1phon = 1dB @ 1kHz)\n",
    "\n",
    "    Returns\n",
    "    -------\n",
    "    freq : ndarray (29,)\n",
    "        Vector of frequencies that ISO226 evaluates to generate the contour.\n",
    "    spl : ndarray (29,)\n",
    "        Sound Pressure Level amplitude returned for\n",
    "        each of the 29 frequencies evaluated by ISO226.\n",
    "\n",
    "    Note that they are returned in this order so that they can be passed\n",
    "    directly to a `plot` call; e.g., `plt.plot(*equalloudness(20))`.\n",
    "\n",
    "    Notes\n",
    "    -----\n",
    "    Original Matlab implementation by Jeff Tackett; see\n",
    "    http://www.mathworks.com/matlabcentral/fileexchange/7028-iso-226-equal-loudness-level-contour-signal\n",
    "\n",
    "    Used under BSD license.\n",
    "    \"\"\"\n",
    "\n",
    "    # --- Tables from ISO226\n",
    "    freq = np.array([20, 25, 31.5, 40, 50, 63, 80, 100, 125, 160, 200, 250,\n",
    "                     315, 400, 500, 630, 800, 1000, 1250, 1600, 2000, 2500,\n",
    "                     3150, 4000, 5000, 6300, 8000, 10000, 12500], dtype=float)\n",
    "\n",
    "    af = np.array([0.532, 0.506, 0.480, 0.455, 0.432, 0.409, 0.387, 0.367,\n",
    "                   0.349, 0.330, 0.315, 0.301, 0.288, 0.276, 0.267, 0.259,\n",
    "                   0.253, 0.250, 0.246, 0.244, 0.243, 0.243, 0.243, 0.242,\n",
    "                   0.242, 0.245, 0.254, 0.271, 0.301])\n",
    "\n",
    "    Lu = np.array([-31.6, -27.2, -23.0, -19.1, -15.9, -13.0, -10.3, -8.1,\n",
    "                   -6.2, -4.5, -3.1, -2.0, -1.1, -0.4, 0.0, 0.3, 0.5, 0.0,\n",
    "                   -2.7, -4.1, -1.0, 1.7, 2.5, 1.2, -2.1, -7.1, -11.2, -10.7,\n",
    "                   -3.1])\n",
    "\n",
    "    Tf = np.array([78.5, 68.7, 59.5, 51.1, 44.0, 37.5, 31.5, 26.5, 22.1, 17.9,\n",
    "                   14.4, 11.4, 8.6, 6.2, 4.4, 3.0, 2.2, 2.4, 3.5, 1.7, -1.3,\n",
    "                   -4.2, -6.0, -5.4, -1.5, 6.0, 12.6, 13.9, 12.3])\n",
    "\n",
    "    if phon < 0 or phon > 90:\n",
    "        raise ValueError(\"`phon` must be between 0 and 90; got %s\" % phon)\n",
    "\n",
    "    Ln = phon\n",
    "\n",
    "    # Deriving sound pressure level from loudness level (ISO226, section 4.1)\n",
    "    Af = (0.00447 * (np.power(10, 0.025*Ln) - 1.15)\n",
    "          + (0.4 * np.power(np.power(10, ((Tf + Lu) / 10) - 9), af)))\n",
    "    spl = ((10. / af) * np.log10(Af)) - Lu + 94\n",
    "\n",
    "    return freq, spl\n",
    "\n",
    "plt.plot(*equalloudness(0), c='r')\n",
    "for phon in np.arange(10, 90, 10):\n",
    "    plt.plot(*equalloudness(phon), c='k')\n",
    "plt.plot(*equalloudness(90), c='r')\n",
    "\n",
    "plt.ylabel(\"Sound pressure level (dB)\")\n",
    "plt.xlabel(\"Frequency (Hz)\")\n",
    "plt.xscale('log')\n",
    "\n",
    "# save as el-curves.svg"
   ]
  },
  {
   "cell_type": "markdown",
   "metadata": {},
   "source": [
    "### Equivalent rectangular bandwidth scale"
   ]
  },
  {
   "cell_type": "code",
   "execution_count": null,
   "metadata": {
    "collapsed": false
   },
   "outputs": [],
   "source": [
    "freq_hz = np.linspace(100, 6000, 1000)\n",
    "erb = phd.filters.erbspace(100, 6000, 1000)\n",
    "plt.plot(freq_hz, erb)\n",
    "plt.xlabel(\"Center frequency (Hz)\")\n",
    "plt.ylabel(\"Equivalent rectangular bandwidth (Hz)\")\n",
    "plt.xscale('log')\n",
    "\n",
    "# save as erb.svg"
   ]
  },
  {
   "cell_type": "markdown",
   "metadata": {},
   "source": [
    "### Mel scale"
   ]
  },
  {
   "cell_type": "code",
   "execution_count": null,
   "metadata": {
    "collapsed": false
   },
   "outputs": [],
   "source": [
    "freq_hz = np.linspace(100, 6000, 1000)\n",
    "mel = phd.filters.melspace(100, 6000, 1000)\n",
    "plt.plot(freq_hz, mel)\n",
    "plt.xlabel(\"Center frequency (Hz)\")\n",
    "plt.ylabel(\"Mel\")\n",
    "plt.xscale('log')\n",
    "\n",
    "# TODO: include octaves\n",
    "# save as mel.svg"
   ]
  }
 ],
 "metadata": {
  "kernelspec": {
   "display_name": "Python 2",
   "language": "python",
   "name": "python2"
  },
  "language_info": {
   "codemirror_mode": {
    "name": "ipython",
    "version": 2
   },
   "file_extension": ".py",
   "mimetype": "text/x-python",
   "name": "python",
   "nbconvert_exporter": "python",
   "pygments_lexer": "ipython2",
   "version": "2.7.10"
  }
 },
 "nbformat": 4,
 "nbformat_minor": 0
}
