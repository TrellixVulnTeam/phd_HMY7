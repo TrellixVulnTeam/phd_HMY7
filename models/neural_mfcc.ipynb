{
 "cells": [
  {
   "cell_type": "code",
   "execution_count": null,
   "metadata": {
    "collapsed": false
   },
   "outputs": [],
   "source": [
    "import phd\n",
    "\n",
    "import os\n",
    "%matplotlib inline\n",
    "import matplotlib.pyplot as plt\n",
    "import seaborn as sns\n",
    "import numpy as np\n",
    "import nengo\n",
    "from scipy import stats\n",
    "from nengo.utils.matplotlib import rasterplot\n",
    "from nengo.utils.stdlib import Timer\n",
    "\n",
    "# Some plotting niceties\n",
    "phd.plots.setup_ncc()\n",
    "\n",
    "# Ensure TIMIT is extracted\n",
    "timit_path = \"~/phd_data/timit\"\n",
    "timit = phd.timit.TIMIT(timit_path)\n",
    "try:\n",
    "    timit.untar(os.path.expanduser(\"~/Dropbox/LDC93S1.tgz\"))\n",
    "except Exception as e:\n",
    "    pass\n",
    "\n",
    "# Some general params\n",
    "utt = 'wash'\n",
    "spkr = 'CAG0'"
   ]
  },
  {
   "cell_type": "code",
   "execution_count": null,
   "metadata": {
    "collapsed": false
   },
   "outputs": [],
   "source": [
    "%%javascript\n",
    "// This adds a button to the toolbar to reset the kernel\n",
    "// and run the first cell. Handy for iterating.\n",
    "if($(IPython.toolbar.selector.concat(' > #kill-run-first')).length == 0){\n",
    "  IPython.toolbar.add_buttons_group([\n",
    "    {\n",
    "      'label'   : 'kill and run-first',\n",
    "      'icon'    : 'fa fa-angle-double-down',\n",
    "      'callback': function(){\n",
    "        IPython.notebook.kernel.restart();\n",
    "        $(IPython.events).one('kernel_ready.Kernel', function(){\n",
    "          var idx = IPython.notebook.get_selected_index();\n",
    "          IPython.notebook.select(0);\n",
    "          IPython.notebook.execute_cell();\n",
    "          IPython.notebook.select(idx);\n",
    "        });\n",
    "      }\n",
    "    }\n",
    "  ], 'kill-run-first');\n",
    "}"
   ]
  },
  {
   "cell_type": "markdown",
   "metadata": {},
   "source": [
    "## Basic usage"
   ]
  },
  {
   "cell_type": "code",
   "execution_count": null,
   "metadata": {
    "collapsed": false
   },
   "outputs": [],
   "source": [
    "timit = phd.timit.TIMIT(timit_path)\n",
    "timit.filefilt.spkr_id = spkr\n",
    "samples = timit.word_samples([utt])\n",
    "model = phd.sermo.AuditoryFeatures()\n",
    "model.audio = samples[utt][0]"
   ]
  },
  {
   "cell_type": "code",
   "execution_count": null,
   "metadata": {
    "collapsed": false
   },
   "outputs": [],
   "source": [
    "# Get MFCCs\n",
    "model.mfcc.dt = 0.01\n",
    "x = model.mfcc()\n",
    "print x.shape\n",
    "\n",
    "# Plot\n",
    "f, ax1, ax2 = phd.plots.plot_trajs(x, x, zscore=(False, True))\n",
    "f.suptitle(\"Features for utterance of '%s'\" % utt, fontsize='large')\n",
    "ax1.set_ylabel(\"MFCC\")\n",
    "ax2.set_ylabel(\"MFCC (z-scored)\")\n",
    "ax2.set_xlabel(\"Frame\")\n",
    "f.tight_layout(rect=[0, 0, 1, 0.97])\n",
    "phd.plots.savefig(f, 'results', 'ncc-mfcc')"
   ]
  },
  {
   "cell_type": "code",
   "execution_count": null,
   "metadata": {
    "collapsed": false
   },
   "outputs": [],
   "source": [
    "# MFCCs with dt=0.001\n",
    "model.mfcc.dt = 0.001\n",
    "x = model.mfcc()\n",
    "print x.shape\n",
    "\n",
    "# Plot\n",
    "f, ax1, ax2 = phd.plots.plot_trajs(x, x, zscore=(False, True))\n",
    "f.suptitle(\"Features for utterance of '%s'\" % utt, fontsize='large')\n",
    "ax1.set_ylabel(\"MFCC\")\n",
    "ax2.set_ylabel(\"MFCC (z-scored)\")\n",
    "ax2.set_xlabel(\"Frame\")\n",
    "f.tight_layout(rect=[0, 0, 1, 0.97])\n",
    "phd.plots.savefig(f, 'results', 'ncc-mfcc-long')"
   ]
  },
  {
   "cell_type": "code",
   "execution_count": null,
   "metadata": {
    "collapsed": false
   },
   "outputs": [],
   "source": [
    "# Get NCCs\n",
    "net = model.build(nengo.Network(seed=0))\n",
    "with net:\n",
    "    ihc_p = nengo.Probe(net.periphery.ihc, synapse=None)\n",
    "    an_in_p = nengo.Probe(net.periphery.an.input, synapse=None)\n",
    "    an_p = nengo.Probe(net.periphery.an.add_neuron_output(), synapse=None)\n",
    "    c_p = nengo.Probe(net.output, synapse=0.01)\n",
    "sim = nengo.Simulator(net, dt=0.001)\n",
    "sim.run(model.t_audio)\n",
    "\n",
    "# Plot\n",
    "f, ax1, ax2 = phd.plots.plot_trajs(sim.data[c_p], sim.data[c_p], zscore=(False, True))\n",
    "f.suptitle(\"Features for utterance of '%s'\" % utt, fontsize='large')\n",
    "ax1.set_ylabel(\"NCC\")\n",
    "ax2.set_ylabel(\"NCC (z-scored)\")\n",
    "ax2.set_xticklabels(sim.trange())\n",
    "ax2.set_xlabel(\"Time (s)\")\n",
    "f.tight_layout(rect=[0, 0, 1, 0.97])\n",
    "phd.plots.savefig(f, 'results', 'ncc-ncc')"
   ]
  },
  {
   "cell_type": "code",
   "execution_count": null,
   "metadata": {
    "collapsed": false
   },
   "outputs": [],
   "source": [
    "# NCCs shortened to 31 frames\n",
    "n_frames = 31\n",
    "ncc = phd.experiments.shorten(sim.data[c_p], n_frames=n_frames)\n",
    "\n",
    "# Plot\n",
    "f, ax1, ax2 = phd.plots.plot_trajs(ncc, ncc, zscore=(False, True))\n",
    "f.suptitle(\"Features for utterance of '%s'\" % utt, fontsize='large')\n",
    "ax1.set_ylabel(\"NCC\")\n",
    "ax2.set_ylabel(\"NCC (z-scored)\")\n",
    "ax2.set_xticklabels(sim.trange(dt=0.01))\n",
    "ax2.set_xlabel(\"Time (s)\")\n",
    "f.tight_layout(rect=[0, 0, 1, 0.97])\n",
    "phd.plots.savefig(f, 'results', 'ncc-ncc-short')"
   ]
  },
  {
   "cell_type": "code",
   "execution_count": null,
   "metadata": {
    "collapsed": false
   },
   "outputs": [],
   "source": [
    "# A peek into the neural implementation\n",
    "fig = plt.figure(figsize=(6, 10))\n",
    "\n",
    "ax = plt.subplot(3, 1, 1)\n",
    "phd.plots.cochleogram(sim.data[ihc_p], sim.trange(), model.freqs, ax=ax, cbar=False)\n",
    "ax.set_title(\"Inner hair cell activity\")\n",
    "ax.set_xticks(())\n",
    "\n",
    "ax = plt.subplot(3, 1, 2)\n",
    "phd.plots.cochleogram(sim.data[an_in_p], sim.trange(), model.freqs, ax=ax, cbar=False)\n",
    "ax.set_title(\"IHC-AN synaptic activity\")\n",
    "ax.set_xticks(())\n",
    "\n",
    "ax = plt.subplot(3, 1, 3)\n",
    "rasterplot(sim.trange(), sim.data[an_p])\n",
    "ax.set_title(\"Spiking AN neural activity\")\n",
    "ax.set_ylim(0, net.periphery.an.n_neurons * net.periphery.an.n_ensembles)\n",
    "ax.set_ylabel(\"Neuron\")\n",
    "ax.set_xlabel(\"Time (s)\")\n",
    "sns.despine()\n",
    "\n",
    "fig.tight_layout()\n",
    "phd.plots.savefig(fig, 'results', 'ncc-periphery')"
   ]
  },
  {
   "cell_type": "markdown",
   "metadata": {},
   "source": [
    "## With derivatives"
   ]
  },
  {
   "cell_type": "code",
   "execution_count": null,
   "metadata": {
    "collapsed": false
   },
   "outputs": [],
   "source": [
    "timit = phd.timit.TIMIT(timit_path)\n",
    "timit.filefilt.spkr_id = spkr\n",
    "samples = timit.word_samples([utt])\n",
    "model = phd.sermo.AuditoryFeatures()\n",
    "model.audio = samples[utt][0]\n",
    "model.add_derivative('IntermediateDeriv')  # First derivative\n",
    "model.add_derivative('FeedforwardDeriv')  # Second derivative"
   ]
  },
  {
   "cell_type": "code",
   "execution_count": null,
   "metadata": {
    "collapsed": false
   },
   "outputs": [],
   "source": [
    "# Get MFCCs\n",
    "model.mfcc.dt = 0.01\n",
    "x = model.mfcc()\n",
    "\n",
    "# Plot\n",
    "f, ax1, ax2 = phd.plots.plot_trajs(x, x, zscore=(False, True))\n",
    "f.suptitle(\"Features for utterance of '%s'\" % utt, fontsize='large')\n",
    "ax1.set_ylabel(\"MFCC\")\n",
    "ax2.set_ylabel(\"MFCC (z-scored)\")\n",
    "ax2.set_xlabel(\"Frame\")\n",
    "f.tight_layout(rect=[0, 0, 1, 0.97])\n",
    "phd.plots.savefig(f, 'results', 'ncc-mfcc-derivs')"
   ]
  },
  {
   "cell_type": "code",
   "execution_count": null,
   "metadata": {
    "collapsed": false
   },
   "outputs": [],
   "source": [
    "# Get NCCs\n",
    "net = model.build(nengo.Network(seed=0))\n",
    "with net:\n",
    "    ihc_p = nengo.Probe(net.periphery.ihc, synapse=None)\n",
    "    an_in_p = nengo.Probe(net.periphery.an.input, synapse=None)\n",
    "    an_p = nengo.Probe(net.periphery.an.add_neuron_output(), synapse=None)\n",
    "    c_p = nengo.Probe(net.output, synapse=0.01)\n",
    "sim = nengo.Simulator(net, dt=0.001)\n",
    "sim.run(model.t_audio)\n",
    "\n",
    "# Plot\n",
    "f, ax1, ax2 = phd.plots.plot_trajs(sim.data[c_p], sim.data[c_p], zscore=(False, True))\n",
    "f.suptitle(\"Features for utterance of '%s'\" % utt, fontsize='large')\n",
    "ax1.set_ylabel(\"NCC\")\n",
    "ax2.set_ylabel(\"NCC (z-scored)\")\n",
    "ax2.set_xticklabels(sim.trange())\n",
    "ax2.set_xlabel(\"Time (s)\")\n",
    "f.tight_layout(rect=[0, 0, 1, 0.97])\n",
    "phd.plots.savefig(f, 'results', 'ncc-ncc-derivs')"
   ]
  },
  {
   "cell_type": "markdown",
   "metadata": {},
   "source": [
    "## Running a classification experiment"
   ]
  },
  {
   "cell_type": "code",
   "execution_count": null,
   "metadata": {
    "collapsed": false
   },
   "outputs": [],
   "source": [
    "# Not a full experiment, just showing how testing / training works\n",
    "# with a small data set.\n",
    "model = phd.sermo.AuditoryFeatures()\n",
    "expt = phd.experiments.AuditoryFeaturesExperiment(\n",
    "    model, phones=phd.timit.TIMIT.consonants)\n",
    "expt.seed = 0\n",
    "expt.timit.filefilt.region = 8\n",
    "expt.timit.filefilt.sex = 'F'\n",
    "expt.timit.filefilt.sent_type = 'I'\n",
    "key = expt.run()\n",
    "res = phd.experiments.AuditoryFeaturesResult.load(key)\n",
    "print(\"MFCC training acc: %f\" % res.mfcc_train_acc)\n",
    "print(\"NCC training acc: %f\" % res.ncc_train_acc)\n",
    "print(\"MFCC testing acc: %f\" % res.mfcc_test_acc)\n",
    "print(\"NCC testing acc: %f\" % res.ncc_test_acc)"
   ]
  },
  {
   "cell_type": "markdown",
   "metadata": {},
   "source": [
    "## Plotting experimental results"
   ]
  },
  {
   "cell_type": "code",
   "execution_count": null,
   "metadata": {
    "collapsed": false
   },
   "outputs": [],
   "source": [
    "pargs = {'columns': [], 'vary': 'phones', 'filter_by': [], 'hue_order': [\"vowels\", \"consonants\", \"all\"]}\n",
    "phd.plots.ncc_accuracy(relative=False, **pargs)\n",
    "phd.plots.ncc_accuracy(relative=True, **pargs)\n",
    "phd.plots.ncc_time(**pargs)"
   ]
  },
  {
   "cell_type": "code",
   "execution_count": null,
   "metadata": {
    "collapsed": false
   },
   "outputs": [],
   "source": [
    "phd.plots.ncc_accuracy(['zscore'], 'zscore', hue_order=['False', 'True'], relative=False)"
   ]
  },
  {
   "cell_type": "code",
   "execution_count": null,
   "metadata": {
    "collapsed": false
   },
   "outputs": [],
   "source": [
    "phd.plots.ncc_accuracy(relative=False, columns=['derivatives'], vary='derivatives', hue_order=['0', '1', '2'])"
   ]
  },
  {
   "cell_type": "code",
   "execution_count": null,
   "metadata": {
    "collapsed": false
   },
   "outputs": [],
   "source": [
    "phd.plots.ncc_accuracy(['derivtype'], 'derivtype',\n",
    "                       hue_order=['FeedforwardDeriv', 'IntermediateDeriv'])"
   ]
  },
  {
   "cell_type": "code",
   "execution_count": null,
   "metadata": {
    "collapsed": false
   },
   "outputs": [],
   "source": [
    "phd.plots.ncc_tsaccuracy(['periphery'], 'periphery')"
   ]
  },
  {
   "cell_type": "code",
   "execution_count": null,
   "metadata": {
    "collapsed": false
   },
   "outputs": [],
   "source": [
    "phd.plots.ncc_tsaccuracy(['feature'], 'feature')\n",
    "phd.plots.ncc_time(['feature'], 'feature', [str(x) for x in [1, 8, 12, 16, 32, 64]])"
   ]
  },
  {
   "cell_type": "code",
   "execution_count": null,
   "metadata": {
    "collapsed": false
   },
   "outputs": [],
   "source": [
    "phd.plots.ncc_accuracy(\n",
    "    relative=False, columns=['dt'], vary='dt', hue_order=[\"0.010000\", \"0.005000\", \"0.001000\"])"
   ]
  },
  {
   "cell_type": "code",
   "execution_count": null,
   "metadata": {
    "collapsed": false
   },
   "outputs": [],
   "source": [
    "columns = ['periphmodel', 'adaptive']\n",
    "porder = ['gammatone', 'log_gammachirp', 'dual_resonance', 'compressive_gammachirp', 'tan_carney']\n",
    "phd.plots.ncc_accuracy(columns, 'periphmodel', hue_order=porder, relative=True)\n",
    "phd.plots.ncc_time(columns, 'periphmodel', hue_order=porder)\n",
    "phd.plots.ncc_accuracy(columns, 'adaptive', hue_order=['False', 'True'], relative=True)"
   ]
  },
  {
   "cell_type": "markdown",
   "metadata": {},
   "source": [
    "## Scaling"
   ]
  },
  {
   "cell_type": "code",
   "execution_count": null,
   "metadata": {
    "collapsed": false
   },
   "outputs": [],
   "source": [
    "def n_neurons(msg, model):\n",
    "    net = model.build()\n",
    "    nn = sum(e.n_neurons for e in net.all_ensembles)\n",
    "    print(\"=== %s ===\" % msg)\n",
    "    pneurons = model.freqs.size * model.periphery.neurons_per_freq\n",
    "    print(\"Periphery layer: %d freqs x %d neurons_per_freq = %d neurons\" % (\n",
    "        model.freqs.size, model.periphery.neurons_per_freq, pneurons))\n",
    "    cneurons = model.n_cepstra * model.cepstra.n_neurons\n",
    "    print(\"Feature layer: %d cepstra x %d neurons_per_cepstra = %d neurons\" % (\n",
    "        model.n_cepstra, model.cepstra.n_neurons, cneurons))\n",
    "    for i, deriv in enumerate(model.derivatives):\n",
    "        # Note! Assumes FeedforwardDeriv!\n",
    "        cneurons += model.n_cepstra * 2 * deriv.n_neurons\n",
    "        print(\"Derivative %d: %d cepstra x 2 x %d neurons_per_cepstra = %d neurons\" % (\n",
    "            (i+1), model.n_cepstra, deriv.n_neurons, model.n_cepstra * deriv.n_neurons))\n",
    "\n",
    "    assert pneurons + cneurons == nn\n",
    "    print(\"Total: %d neurons\" % nn)\n",
    "    print(\"\")\n",
    "\n",
    "model = phd.sermo.AuditoryFeatures()\n",
    "model.add_derivative()\n",
    "n_neurons(\"Default configuration\", model)\n",
    "model = phd.sermo.AuditoryFeatures()\n",
    "model.freqs = phd.filters.erbspace(20, 20000, 3500)\n",
    "model.periphery.neurons_per_freq = 20\n",
    "model.n_cepstra = 20\n",
    "model.cepstra.n_neurons = 50\n",
    "model.add_derivative(n_neurons=50)\n",
    "n_neurons(\"Conservative estimate\", model)\n",
    "model = phd.sermo.AuditoryFeatures()\n",
    "model.freqs = phd.filters.erbspace(20, 20000, 3500)\n",
    "model.periphery.neurons_per_freq = 40\n",
    "model.n_cepstra = 40\n",
    "model.cepstra.n_neurons = 200\n",
    "model.add_derivative(n_neurons=200)\n",
    "model.add_derivative(n_neurons=200)\n",
    "n_neurons(\"Generous estimate\", model);"
   ]
  }
 ],
 "metadata": {
  "kernelspec": {
   "display_name": "Python 2",
   "language": "python",
   "name": "python2"
  },
  "language_info": {
   "codemirror_mode": {
    "name": "ipython",
    "version": 2
   },
   "file_extension": ".py",
   "mimetype": "text/x-python",
   "name": "python",
   "nbconvert_exporter": "python",
   "pygments_lexer": "ipython2",
   "version": "2.7.10"
  }
 },
 "nbformat": 4,
 "nbformat_minor": 0
}
