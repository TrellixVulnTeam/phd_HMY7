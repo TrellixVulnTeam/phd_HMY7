{
 "cells": [
  {
   "cell_type": "code",
   "execution_count": null,
   "metadata": {
    "collapsed": false
   },
   "outputs": [],
   "source": [
    "import os\n",
    "%matplotlib inline\n",
    "import matplotlib.pyplot as plt\n",
    "import seaborn as sns\n",
    "import numpy as np\n",
    "import nengo\n",
    "from scipy import stats\n",
    "from nengo.utils.matplotlib import rasterplot\n",
    "from nengo.utils.stdlib import Timer\n",
    "\n",
    "import phd\n",
    "\n",
    "# Some plotting niceties\n",
    "plt.rc('figure', figsize=(10, 6))\n",
    "sns.set_style('white')\n",
    "sns.set_style('ticks')\n",
    "\n",
    "def img(array, zscore=False):\n",
    "    if zscore:\n",
    "        array = stats.zscore(array, axis=0)\n",
    "    plt.pcolormesh(array.T)\n",
    "    plt.ylim(top=array.shape[1])\n",
    "    plt.xlim(right=array.shape[0])\n",
    "    plt.yticks(())\n",
    "    sns.despine(left=True)\n",
    "    plt.tight_layout()\n",
    "\n",
    "def img_compare(array1, array2, zscore=(False, False)):\n",
    "    plt.figure(figsize=(12, 6))\n",
    "    plt.subplot(1, 2, 1)\n",
    "    img(array1, zscore[0])\n",
    "    plt.subplot(1, 2, 2)\n",
    "    img(array2, zscore[1])\n",
    "    plt.tight_layout()\n",
    "\n",
    "timit_path = \"~/phd_data/timit\"\n",
    "timit = phd.timit.TIMIT(timit_path)\n",
    "try:\n",
    "    timit.untar(os.path.expanduser(\"~/Dropbox/LDC93S1.tgz\"))\n",
    "except Exception as e:\n",
    "    pass"
   ]
  },
  {
   "cell_type": "code",
   "execution_count": null,
   "metadata": {
    "collapsed": false
   },
   "outputs": [],
   "source": [
    "%%javascript\n",
    "if($(IPython.toolbar.selector.concat(' > #kill-run-first')).length == 0){\n",
    "  IPython.toolbar.add_buttons_group([\n",
    "    {\n",
    "      'label'   : 'kill and run-first',\n",
    "      'icon'    : 'fa fa-angle-double-down',\n",
    "      'callback': function(){\n",
    "        IPython.notebook.kernel.restart();\n",
    "        $(IPython.events).one('kernel_ready.Kernel', function(){\n",
    "          var idx = IPython.notebook.get_selected_index();\n",
    "          IPython.notebook.select(0);\n",
    "          IPython.notebook.execute_cell();\n",
    "          IPython.notebook.select(idx);\n",
    "        });\n",
    "      }\n",
    "    }\n",
    "  ], 'kill-run-first');\n",
    "}"
   ]
  },
  {
   "cell_type": "markdown",
   "metadata": {},
   "source": [
    "## Basic usage"
   ]
  },
  {
   "cell_type": "code",
   "execution_count": null,
   "metadata": {
    "collapsed": false
   },
   "outputs": [],
   "source": [
    "timit = phd.timit.TIMIT(timit_path)\n",
    "timit.filefilt.spkr_id = \"CAG0\"\n",
    "samples = timit.word_samples(['wash'])\n",
    "model = phd.sermo.AuditoryFeatures()\n",
    "model.audio = samples['wash'][0]"
   ]
  },
  {
   "cell_type": "code",
   "execution_count": null,
   "metadata": {
    "collapsed": false
   },
   "outputs": [],
   "source": [
    "# Get MFCCs\n",
    "model.mfcc.dt = 0.01\n",
    "x = model.mfcc()\n",
    "print x.shape\n",
    "img_compare(x, x, zscore=(False, True))"
   ]
  },
  {
   "cell_type": "code",
   "execution_count": null,
   "metadata": {
    "collapsed": false
   },
   "outputs": [],
   "source": [
    "# Get NCCs\n",
    "net = model.build()\n",
    "with net:\n",
    "    ihc_p = nengo.Probe(net.periphery.ihc, synapse=None)\n",
    "    an_in_p = nengo.Probe(net.periphery.an.input, synapse=None)\n",
    "    an_p = nengo.Probe(net.periphery.an.add_neuron_output(), synapse=None)\n",
    "    c_p = nengo.Probe(net.output, synapse=0.01)\n",
    "sim = nengo.Simulator(net, dt=0.001)\n",
    "sim.run(model.t_audio)\n",
    "\n",
    "img_compare(sim.data[c_p], sim.data[c_p], zscore=(False, True))"
   ]
  },
  {
   "cell_type": "code",
   "execution_count": null,
   "metadata": {
    "collapsed": false
   },
   "outputs": [],
   "source": [
    "# A peek into the neural implementation\n",
    "plt.figure(figsize=(8, 14))\n",
    "plt.subplot(3, 1, 1)\n",
    "phd.plots.cochleogram(sim.data[ihc_p], sim.trange(), model.freqs)\n",
    "plt.subplot(3, 1, 2)\n",
    "phd.plots.cochleogram(sim.data[an_in_p], sim.trange(), model.freqs)\n",
    "plt.subplot(3, 1, 3)\n",
    "rasterplot(sim.trange(), sim.data[an_p])\n",
    "plt.ylim(0, net.periphery.an.n_neurons * net.periphery.an.n_ensembles)\n",
    "sns.despine()\n",
    "plt.tight_layout()"
   ]
  },
  {
   "cell_type": "markdown",
   "metadata": {},
   "source": [
    "## With derivatives"
   ]
  },
  {
   "cell_type": "code",
   "execution_count": null,
   "metadata": {
    "collapsed": false
   },
   "outputs": [],
   "source": [
    "timit = phd.timit.TIMIT(timit_path)\n",
    "timit.filefilt.spkr_id = \"CAG0\"\n",
    "samples = timit.word_samples(['wash'])\n",
    "model = phd.sermo.AuditoryFeatures()\n",
    "model.audio = samples['wash'][0]\n",
    "model.add_derivative()  # First derivative\n",
    "model.add_derivative()  # Second derivative"
   ]
  },
  {
   "cell_type": "code",
   "execution_count": null,
   "metadata": {
    "collapsed": false
   },
   "outputs": [],
   "source": [
    "# Get MFCCs\n",
    "model.mfcc.dt = 0.01\n",
    "x = model.mfcc()\n",
    "print x.shape\n",
    "img_compare(x, x, zscore=(False, True))"
   ]
  },
  {
   "cell_type": "code",
   "execution_count": null,
   "metadata": {
    "collapsed": false
   },
   "outputs": [],
   "source": [
    "# Get NCCs\n",
    "net = model.build()\n",
    "with net:\n",
    "    ihc_p = nengo.Probe(net.periphery.ihc, synapse=None)\n",
    "    an_in_p = nengo.Probe(net.periphery.an.input, synapse=None)\n",
    "    an_p = nengo.Probe(net.periphery.an.add_neuron_output(), synapse=None)\n",
    "    c_p = nengo.Probe(net.output, synapse=0.01)\n",
    "sim = nengo.Simulator(net, dt=0.001)\n",
    "sim.run(model.t_audio)\n",
    "\n",
    "img_compare(sim.data[c_p], sim.data[c_p], zscore=(False, True))"
   ]
  },
  {
   "cell_type": "markdown",
   "metadata": {},
   "source": [
    "## With Adaptive LIF neurons in AN"
   ]
  },
  {
   "cell_type": "code",
   "execution_count": null,
   "metadata": {
    "collapsed": true
   },
   "outputs": [],
   "source": [
    "timit = phd.timit.TIMIT(timit_path)\n",
    "timit.filefilt.spkr_id = \"CAG0\"\n",
    "samples = timit.word_samples(['wash'])\n",
    "model = phd.sermo.AuditoryFeatures()\n",
    "model.audio = samples['wash'][0]\n",
    "model.periphery.adaptive_neurons = True"
   ]
  },
  {
   "cell_type": "code",
   "execution_count": null,
   "metadata": {
    "collapsed": false
   },
   "outputs": [],
   "source": [
    "# Get MFCCs\n",
    "model.mfcc.dt = 0.01\n",
    "x = model.mfcc()\n",
    "print x.shape\n",
    "img_compare(x, x, zscore=(False, True))"
   ]
  },
  {
   "cell_type": "code",
   "execution_count": null,
   "metadata": {
    "collapsed": false
   },
   "outputs": [],
   "source": [
    "# Get NCCs\n",
    "net = model.build()\n",
    "with net:\n",
    "    ihc_p = nengo.Probe(net.periphery.ihc, synapse=None)\n",
    "    an_in_p = nengo.Probe(net.periphery.an.input, synapse=None)\n",
    "    an_p = nengo.Probe(net.periphery.an.add_neuron_output(), synapse=None)\n",
    "    c_p = nengo.Probe(net.output, synapse=0.01)\n",
    "sim = nengo.Simulator(net, dt=0.001)\n",
    "sim.run(model.t_audio)\n",
    "\n",
    "img_compare(sim.data[c_p], sim.data[c_p], zscore=(False, True))"
   ]
  },
  {
   "cell_type": "markdown",
   "metadata": {},
   "source": [
    "## Running a classification experiment"
   ]
  },
  {
   "cell_type": "code",
   "execution_count": null,
   "metadata": {
    "collapsed": false
   },
   "outputs": [],
   "source": [
    "# No derivatives\n",
    "model = phd.sermo.AuditoryFeatures()\n",
    "expt = phd.experiments.AuditoryFeaturesExperiment(model, phones=phd.timit.TIMIT.phones)\n",
    "expt.seed = 9\n",
    "expt.timit.filefilt.region = 8\n",
    "expt.cache_key"
   ]
  },
  {
   "cell_type": "code",
   "execution_count": null,
   "metadata": {
    "collapsed": false
   },
   "outputs": [],
   "source": [
    "# With 2 derivatives\n",
    "model = phd.sermo.AuditoryFeatures()\n",
    "model.add_derivative(klass=\"FeedforwardDeriv\")\n",
    "model.add_derivative(klass=\"FeedforwardDeriv\")\n",
    "expt = phd.experiments.AuditoryFeaturesExperiment(model, seed=0, phones=phd.timit.TIMIT.consonants)\n",
    "expt.timit.filefilt.region = 1\n",
    "result = expt.run()\n",
    "print \"Accuracy with MFCC:\", result.mfcc_acc\n",
    "print \"Accuracy with NCC:\", result.ncc_acc"
   ]
  },
  {
   "cell_type": "code",
   "execution_count": null,
   "metadata": {
    "collapsed": false
   },
   "outputs": [],
   "source": [
    "# With 1 derivative and z-score\n",
    "model = phd.sermo.AuditoryFeatures()\n",
    "model.add_derivative(klass=\"FeedforwardDeriv\")\n",
    "expt = phd.experiments.AuditoryFeaturesExperiment(model, seed=0, phones=phd.timit.TIMIT.consonants)\n",
    "expt.zscore = True\n",
    "expt.timit.filefilt.region = 1\n",
    "result = expt.run()\n",
    "print \"Accuracy with MFCC:\", result.mfcc_acc\n",
    "print \"Accuracy with NCC:\", result.ncc_acc"
   ]
  },
  {
   "cell_type": "markdown",
   "metadata": {},
   "source": [
    "## Plotting experimental results"
   ]
  },
  {
   "cell_type": "code",
   "execution_count": null,
   "metadata": {
    "collapsed": false
   },
   "outputs": [],
   "source": [
    "# Varying whether we're z-scoring\n",
    "# phd.experiments.AuditoryFeaturesResult.subdir = 'ncc_12-03'\n",
    "df = phd.analysis.load_results(phd.experiments.AuditoryFeaturesResult, ['zscore', 'phones'])\n",
    "\n",
    "# Consonant accuracy by zscore\n",
    "plt.figure()\n",
    "phd.plots.compare(df,\n",
    "                  columns=['mfcc_train_acc', 'mfcc_test_acc', 'ncc_train_acc', 'ncc_test_acc'],\n",
    "                  group_by='zscore',\n",
    "                  filter_by=[('phones', 'consonants')],\n",
    "                  x_keys=['MFCC training', 'MFCC testing', 'NCC training', 'NCC testing'],\n",
    "                  x_label='Feature',\n",
    "                  y_label='Consonant accuracy',\n",
    "#                   plot_f=sns.barplot,\n",
    "                  hue_order=['False', 'True'])\n",
    "plt.xlabel(\"\")\n",
    "\n",
    "# Speed\n",
    "plt.figure()\n",
    "phd.plots.compare(df,\n",
    "                  columns=['mfcc_time', 'ncc_time', 'mfcc_fit_time', 'ncc_fit_time'],\n",
    "                  group_by='zscore',\n",
    "                  x_keys=['MFCC generation', 'NCC generation', 'MFCC SVM fitting', 'NCC SVM fitting'],\n",
    "                  x_label='Scenario',\n",
    "                  y_label='Time (s)',\n",
    "                  plot_f=sns.barplot,\n",
    "                  hue_order=['False', 'True'])\n",
    "plt.ylabel(\"Time (s)\")\n",
    "plt.xlabel(\"\")\n",
    "# phd.experiments.AuditoryFeaturesResult.subdir = 'ncc'"
   ]
  },
  {
   "cell_type": "code",
   "execution_count": null,
   "metadata": {
    "collapsed": false
   },
   "outputs": [],
   "source": [
    "# Varying the number of derivatives used\n",
    "phd.experiments.AuditoryFeaturesResult.subdir = 'ncc_12-03'\n",
    "df = phd.analysis.load_results(phd.experiments.AuditoryFeaturesResult, ['derivatives', 'phones'])\n",
    "\n",
    "# Vowel accuracy by zscore\n",
    "phd.plots.compare(df,\n",
    "                  columns=['mfcc_train_acc', 'mfcc_test_acc', 'ncc_train_acc', 'ncc_test_acc'],\n",
    "                  group_by='derivatives',\n",
    "                  filter_by=[('phones', 'vowels')],\n",
    "                  x_keys=['MFCC training', 'MFCC testing', 'NCC training', 'NCC testing'],\n",
    "                  x_label='Feature',\n",
    "                  y_label='Vowel accuracy',\n",
    "                  plot_f=sns.barplot,\n",
    "                  hue_order=['0', '1', '2'])\n",
    "plt.xlabel(\"\")\n",
    "\n",
    "# Consonant accuracy by zscore\n",
    "plt.figure()\n",
    "phd.plots.compare(df,\n",
    "                  columns=['mfcc_train_acc', 'mfcc_test_acc', 'ncc_train_acc', 'ncc_test_acc'],\n",
    "                  group_by='derivatives',\n",
    "                  filter_by=[('phones', 'consonants')],\n",
    "                  x_keys=['MFCC training', 'MFCC testing', 'NCC training', 'NCC testing'],\n",
    "                  x_label='Feature',\n",
    "                  y_label='Consonant accuracy',\n",
    "                  plot_f=sns.barplot,\n",
    "                  hue_order=['0', '1', '2'])\n",
    "plt.xlabel(\"\")\n",
    "\n",
    "# Speed\n",
    "plt.figure()\n",
    "phd.plots.compare(df,\n",
    "                  columns=['mfcc_time', 'ncc_time', 'mfcc_fit_time', 'ncc_fit_time'],\n",
    "                  group_by='derivatives',\n",
    "                  x_keys=['MFCC generation', 'NCC generation', 'MFCC SVM fitting', 'NCC SVM fitting'],\n",
    "                  x_label='Scenario',\n",
    "                  y_label='Time (s)',\n",
    "                  plot_f=sns.barplot,\n",
    "                  hue_order=['0', '1', '2'])\n",
    "\n",
    "plt.ylabel(\"Time (s)\")\n",
    "plt.xlabel(\"\")\n",
    "phd.experiments.AuditoryFeaturesResult.subdir = 'ncc'"
   ]
  },
  {
   "cell_type": "code",
   "execution_count": null,
   "metadata": {
    "collapsed": false
   },
   "outputs": [],
   "source": [
    "df = phd.analysis.load_results(phd.experiments.AuditoryFeaturesResult, ['periphery', 'phones'])\n",
    "\n",
    "# Consonant accuracy by zscore\n",
    "plt.figure()\n",
    "phd.plots.compare(df,\n",
    "                  columns=['ncc_train_acc', 'ncc_test_acc'],\n",
    "                  relative_to=['mfcc_train_acc', 'mfcc_test_acc'],\n",
    "                  group_by='periphery',\n",
    "                  filter_by=[('phones', 'consonants')],\n",
    "                  x_keys=['Training', 'Testing'],\n",
    "                  x_label='Feature',\n",
    "                  y_label='Consonant accuracy',\n",
    "                  hue_order=[str(x) for x in [1, 2, 4, 8, 16, 32]])\n",
    "plt.axhline(1, c='k', ls=':', lw=1)\n",
    "plt.xlabel(\"\")\n",
    "\n",
    "plt.figure()\n",
    "phd.plots.timeseries(df,\n",
    "                     columns=['ncc_train_acc', 'ncc_test_acc'],\n",
    "                     relative_to=['mfcc_train_acc', 'mfcc_test_acc'],\n",
    "                     group_by='periphery',\n",
    "                     filter_by=[('phones', 'consonants')],\n",
    "                     x_keys=['Training', 'Testing'],\n",
    "                     x_label='Feature',\n",
    "                     y_label='Consonant accuracy')\n",
    "plt.axhline(1, c='k', ls=':', lw=1)\n",
    "plt.xlabel(\"\")"
   ]
  },
  {
   "cell_type": "code",
   "execution_count": null,
   "metadata": {
    "collapsed": false
   },
   "outputs": [],
   "source": [
    "df = phd.analysis.load_results(phd.experiments.AuditoryFeaturesResult, ['feature', 'phones'])\n",
    "\n",
    "# Consonant accuracy by zscore\n",
    "plt.figure()\n",
    "phd.plots.compare(df,\n",
    "                  columns=['ncc_train_acc', 'ncc_test_acc'],\n",
    "                  relative_to=['mfcc_train_acc', 'mfcc_test_acc'],\n",
    "                  group_by='feature',\n",
    "                  filter_by=[('phones', 'consonants')],\n",
    "                  x_keys=['Training', 'Testing'],\n",
    "                  x_label='Feature',\n",
    "                  y_label='Consonant accuracy',\n",
    "                  hue_order=[str(x) for x in [1, 2, 4, 8, 12, 16, 32, 64]])\n",
    "plt.axhline(1, c='k', ls=':', lw=1)\n",
    "plt.xlabel(\"\")\n",
    "\n",
    "plt.figure()\n",
    "phd.plots.timeseries(df,\n",
    "                     columns=['ncc_train_acc', 'ncc_test_acc'],\n",
    "                     relative_to=['mfcc_train_acc', 'mfcc_test_acc'],\n",
    "                     group_by='feature',\n",
    "                     filter_by=[('phones', 'consonants')],\n",
    "                     x_keys=['Training', 'Testing'],\n",
    "                     x_label='Feature',\n",
    "                     y_label='Consonant accuracy')\n",
    "plt.axhline(1, c='k', ls=':', lw=1)\n",
    "plt.xlabel(\"\")\n",
    "\n",
    "# Speed\n",
    "plt.figure()\n",
    "phd.plots.compare(df,\n",
    "                  columns=['ncc_time', 'ncc_fit_time'],\n",
    "                  group_by='feature',\n",
    "                  x_keys=['NCC generation', 'NCC SVM fitting'],\n",
    "                  x_label='Scenario',\n",
    "                  y_label='Time (s)',\n",
    "                  plot_f=sns.barplot,\n",
    "                  hue_order=[str(x) for x in [1, 2, 4, 8, 12, 16, 32, 64]])\n",
    "\n",
    "plt.ylabel(\"Time (s)\")\n",
    "plt.xlabel(\"\")"
   ]
  },
  {
   "cell_type": "code",
   "execution_count": null,
   "metadata": {
    "collapsed": false
   },
   "outputs": [],
   "source": [
    "df = phd.analysis.load_results(phd.experiments.AuditoryFeaturesResult, ['dt', 'phones'])\n",
    "\n",
    "# Consonant accuracy\n",
    "plt.figure()\n",
    "phd.plots.compare(df,\n",
    "                  columns=['mfcc_train_acc', 'mfcc_test_acc'],\n",
    "                  group_by='dt',\n",
    "                  filter_by=[('phones', 'consonants')],\n",
    "                  x_keys=['MFCC training', 'MFCC testing'],\n",
    "                  x_label='Feature',\n",
    "                  y_label='Consonant accuracy',\n",
    "                  plot_f=sns.barplot,\n",
    "                  hue_order=[\"0.001000\", \"0.005000\", \"0.010000\"])\n",
    "plt.xlabel(\"\")"
   ]
  },
  {
   "cell_type": "code",
   "execution_count": null,
   "metadata": {
    "collapsed": false
   },
   "outputs": [],
   "source": [
    "df = phd.analysis.load_results(phd.experiments.AuditoryFeaturesResult, ['phones'])\n",
    "\n",
    "# Consonant accuracy\n",
    "plt.figure()\n",
    "phd.plots.compare(df,\n",
    "                  columns=['ncc_train_acc', 'ncc_test_acc'],\n",
    "                  relative_to=['mfcc_train_acc', 'mfcc_test_acc'],\n",
    "                  group_by='phones',\n",
    "                  x_keys=['Training', 'Testing'],\n",
    "                  x_label='Feature',\n",
    "                  y_label='Accuracy',\n",
    "                  hue_order=[\"vowels\", \"consonants\", \"all\"])\n",
    "plt.axhline(1, c='k', ls=':', lw=1)\n",
    "plt.xlabel(\"\")\n",
    "\n",
    "# Speed\n",
    "plt.figure()\n",
    "phd.plots.compare(df,\n",
    "                  columns=['mfcc_time', 'ncc_time', 'mfcc_fit_time', 'ncc_fit_time'],\n",
    "                  group_by='phones',\n",
    "                  x_keys=['MFCC generation', 'NCC generation', 'MFCC SVM fitting', 'NCC SVM fitting'],\n",
    "                  x_label='Scenario',\n",
    "                  y_label='Time (s)',\n",
    "                  plot_f=sns.barplot,\n",
    "                  hue_order=[\"vowels\", \"consonants\", \"all\"])\n",
    "plt.ylabel(\"Time (s)\")\n",
    "plt.xlabel(\"\")"
   ]
  }
 ],
 "metadata": {
  "kernelspec": {
   "display_name": "Python 2",
   "language": "python",
   "name": "python2"
  },
  "language_info": {
   "codemirror_mode": {
    "name": "ipython",
    "version": 2
   },
   "file_extension": ".py",
   "mimetype": "text/x-python",
   "name": "python",
   "nbconvert_exporter": "python",
   "pygments_lexer": "ipython2",
   "version": "2.7.10"
  }
 },
 "nbformat": 4,
 "nbformat_minor": 0
}
