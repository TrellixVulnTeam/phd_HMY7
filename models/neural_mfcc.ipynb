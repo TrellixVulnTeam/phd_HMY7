{
 "cells": [
  {
   "cell_type": "code",
   "execution_count": null,
   "metadata": {
    "collapsed": false
   },
   "outputs": [],
   "source": [
    "%matplotlib inline\n",
    "import matplotlib.pyplot as plt\n",
    "import seaborn as sns\n",
    "import numpy as np\n",
    "import nengo\n",
    "from nengo.utils.matplotlib import rasterplot\n",
    "import phd\n",
    "\n",
    "# Some plotting niceties\n",
    "plt.rc('figure', figsize=(10, 6))\n",
    "sns.set_style('white')\n",
    "sns.set_style('ticks')\n",
    "\n",
    "def img(array):\n",
    "    plt.pcolormesh(array.T)\n",
    "    plt.ylim(top=array.shape[1])\n",
    "    plt.xlim(right=array.shape[0])\n",
    "    plt.colorbar()\n",
    "    sns.despine()\n",
    "    plt.tight_layout()"
   ]
  },
  {
   "cell_type": "code",
   "execution_count": null,
   "metadata": {
    "collapsed": false
   },
   "outputs": [],
   "source": [
    "%%javascript\n",
    "if($(IPython.toolbar.selector.concat(' > #kill-run-first')).length == 0){\n",
    "  IPython.toolbar.add_buttons_group([\n",
    "    {\n",
    "      'label'   : 'kill and run-first',\n",
    "      'icon'    : 'fa fa-angle-double-down',\n",
    "      'callback': function(){\n",
    "        IPython.notebook.kernel.restart();\n",
    "        $(IPython.events).one('kernel_ready.Kernel', function(){\n",
    "          var idx = IPython.notebook.get_selected_index();\n",
    "          IPython.notebook.select(0);\n",
    "          IPython.notebook.execute_cell();\n",
    "          IPython.notebook.select(idx);\n",
    "        });\n",
    "      }\n",
    "    }\n",
    "  ], 'kill-run-first');\n",
    "}"
   ]
  },
  {
   "cell_type": "code",
   "execution_count": null,
   "metadata": {
    "collapsed": false
   },
   "outputs": [],
   "source": [
    "model = phd.sermo.AudioFeatures()\n",
    "model.audio = 'sprachsynthese.wav'\n",
    "model.freqs = phd.filters.erbspace(20, 4000, 64)\n",
    "model.n_cepstra = 13"
   ]
  },
  {
   "cell_type": "code",
   "execution_count": null,
   "metadata": {
    "collapsed": false
   },
   "outputs": [],
   "source": [
    "# Get MFCCs from scikit-speech\n",
    "model.mfcc.dt = 0.01\n",
    "x = model.mfcc()\n",
    "print x.shape"
   ]
  },
  {
   "cell_type": "code",
   "execution_count": null,
   "metadata": {
    "collapsed": false
   },
   "outputs": [],
   "source": [
    "img(x)\n",
    "plt.title(\"Mel-frequency cepstral coefficients\")"
   ]
  },
  {
   "cell_type": "code",
   "execution_count": null,
   "metadata": {
    "collapsed": false
   },
   "outputs": [],
   "source": [
    "from scipy.stats import zscore\n",
    "img(zscore(x, axis=0))"
   ]
  },
  {
   "cell_type": "code",
   "execution_count": null,
   "metadata": {
    "collapsed": false
   },
   "outputs": [],
   "source": [
    "# Get NCCs from Sermo\n",
    "model.periphery.auditory_filter = phd.filters.gammatone(model.freqs)\n",
    "net = model.build()\n",
    "\n",
    "with net:\n",
    "    ihc_p = nengo.Probe(net.periphery.ihc, synapse=None)\n",
    "    an_in_p = nengo.Probe(net.periphery.an.input, synapse=None)\n",
    "    an_p = nengo.Probe(net.periphery.an.add_neuron_output(), synapse=None)\n",
    "    c_p = nengo.Probe(net.cepstra.output, synapse=0.01)\n",
    "\n",
    "sim = nengo.Simulator(net, dt=0.001)\n",
    "sim.run(1.4)"
   ]
  },
  {
   "cell_type": "code",
   "execution_count": null,
   "metadata": {
    "collapsed": false
   },
   "outputs": [],
   "source": [
    "phd.plots.cochleogram(sim.data[ihc_p], sim.trange(), model.freqs)"
   ]
  },
  {
   "cell_type": "code",
   "execution_count": null,
   "metadata": {
    "collapsed": false
   },
   "outputs": [],
   "source": [
    "phd.plots.cochleogram(sim.data[an_in_p], sim.trange(), model.freqs)"
   ]
  },
  {
   "cell_type": "code",
   "execution_count": null,
   "metadata": {
    "collapsed": false
   },
   "outputs": [],
   "source": [
    "rasterplot(sim.trange(), sim.data[an_p])\n",
    "plt.ylim(0, net.periphery.an.n_neurons * net.periphery.an.n_ensembles);"
   ]
  },
  {
   "cell_type": "code",
   "execution_count": null,
   "metadata": {
    "collapsed": false
   },
   "outputs": [],
   "source": [
    "img(sim.data[c_p])"
   ]
  },
  {
   "cell_type": "code",
   "execution_count": null,
   "metadata": {
    "collapsed": false
   },
   "outputs": [],
   "source": [
    "img(zscore(sim.data[c_p], axis=0))"
   ]
  },
  {
   "cell_type": "markdown",
   "metadata": {},
   "source": [
    "## With derivatives"
   ]
  },
  {
   "cell_type": "code",
   "execution_count": null,
   "metadata": {
    "collapsed": true
   },
   "outputs": [],
   "source": []
  },
  {
   "cell_type": "markdown",
   "metadata": {},
   "source": [
    "## Phoneme classification with SVM"
   ]
  },
  {
   "cell_type": "code",
   "execution_count": null,
   "metadata": {
    "collapsed": true
   },
   "outputs": [],
   "source": []
  }
 ],
 "metadata": {
  "kernelspec": {
   "display_name": "Python 2",
   "language": "python",
   "name": "python2"
  },
  "language_info": {
   "codemirror_mode": {
    "name": "ipython",
    "version": 2
   },
   "file_extension": ".py",
   "mimetype": "text/x-python",
   "name": "python",
   "nbconvert_exporter": "python",
   "pygments_lexer": "ipython2",
   "version": "2.7.10"
  }
 },
 "nbformat": 4,
 "nbformat_minor": 0
}
