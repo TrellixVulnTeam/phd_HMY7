{
 "cells": [
  {
   "cell_type": "code",
   "execution_count": null,
   "metadata": {
    "collapsed": false
   },
   "outputs": [],
   "source": [
    "import os\n",
    "%matplotlib inline\n",
    "import matplotlib.pyplot as plt\n",
    "import seaborn as sns\n",
    "import numpy as np\n",
    "import nengo\n",
    "from scipy import stats\n",
    "from nengo.utils.matplotlib import rasterplot\n",
    "from nengo.utils.stdlib import Timer\n",
    "\n",
    "import phd\n",
    "\n",
    "# Some plotting niceties\n",
    "plt.rc('figure', figsize=(10, 6))\n",
    "sns.set_style('white')\n",
    "sns.set_style('ticks')\n",
    "\n",
    "def img(array, zscore=False):\n",
    "    if zscore:\n",
    "        array = stats.zscore(array, axis=0)\n",
    "    plt.pcolormesh(array.T)\n",
    "    plt.ylim(top=array.shape[1])\n",
    "    plt.xlim(right=array.shape[0])\n",
    "    plt.yticks(())\n",
    "    sns.despine(left=True)\n",
    "    plt.tight_layout()\n",
    "\n",
    "def img_compare(array1, array2, zscore=(False, False)):\n",
    "    plt.figure(figsize=(12, 6))\n",
    "    plt.subplot(1, 2, 1)\n",
    "    img(array1, zscore[0])\n",
    "    plt.subplot(1, 2, 2)\n",
    "    img(array2, zscore[1])\n",
    "    plt.tight_layout()\n",
    "\n",
    "timit_path = \"~/phd_data/timit\"\n",
    "timit = phd.timit.TIMIT(timit_path)\n",
    "try:\n",
    "    timit.untar(os.path.expanduser(\"~/Dropbox/LDC93S1.tgz\"))\n",
    "except Exception as e:\n",
    "    pass"
   ]
  },
  {
   "cell_type": "code",
   "execution_count": null,
   "metadata": {
    "collapsed": false
   },
   "outputs": [],
   "source": [
    "%%javascript\n",
    "if($(IPython.toolbar.selector.concat(' > #kill-run-first')).length == 0){\n",
    "  IPython.toolbar.add_buttons_group([\n",
    "    {\n",
    "      'label'   : 'kill and run-first',\n",
    "      'icon'    : 'fa fa-angle-double-down',\n",
    "      'callback': function(){\n",
    "        IPython.notebook.kernel.restart();\n",
    "        $(IPython.events).one('kernel_ready.Kernel', function(){\n",
    "          var idx = IPython.notebook.get_selected_index();\n",
    "          IPython.notebook.select(0);\n",
    "          IPython.notebook.execute_cell();\n",
    "          IPython.notebook.select(idx);\n",
    "        });\n",
    "      }\n",
    "    }\n",
    "  ], 'kill-run-first');\n",
    "}"
   ]
  },
  {
   "cell_type": "markdown",
   "metadata": {},
   "source": [
    "## On a single sample"
   ]
  },
  {
   "cell_type": "code",
   "execution_count": null,
   "metadata": {
    "collapsed": false
   },
   "outputs": [],
   "source": [
    "timit = phd.timit.TIMIT(timit_path)\n",
    "timit.filefilt.spkr_id = \"CAG0\"\n",
    "samples = timit.word_samples(['wash'])\n",
    "model = phd.sermo.AuditoryFeatures()\n",
    "model.audio = samples['wash'][0]"
   ]
  },
  {
   "cell_type": "code",
   "execution_count": null,
   "metadata": {
    "collapsed": false
   },
   "outputs": [],
   "source": [
    "# Get MFCCs\n",
    "model.mfcc.dt = 0.01\n",
    "x = model.mfcc()\n",
    "print x.shape\n",
    "img_compare(x, x, zscore=(False, True))"
   ]
  },
  {
   "cell_type": "code",
   "execution_count": null,
   "metadata": {
    "collapsed": false
   },
   "outputs": [],
   "source": [
    "# Get NCCs\n",
    "net = model.build()\n",
    "with net:\n",
    "    ihc_p = nengo.Probe(net.periphery.ihc, synapse=None)\n",
    "    an_in_p = nengo.Probe(net.periphery.an.input, synapse=None)\n",
    "    an_p = nengo.Probe(net.periphery.an.add_neuron_output(), synapse=None)\n",
    "    c_p = nengo.Probe(net.output, synapse=0.01)\n",
    "sim = nengo.Simulator(net, dt=0.001)\n",
    "sim.run(model.t_audio)\n",
    "\n",
    "img_compare(sim.data[c_p], sim.data[c_p], zscore=(False, True))"
   ]
  },
  {
   "cell_type": "code",
   "execution_count": null,
   "metadata": {
    "collapsed": false
   },
   "outputs": [],
   "source": [
    "# A peek into the neural implementation\n",
    "plt.figure(figsize=(8, 14))\n",
    "plt.subplot(3, 1, 1)\n",
    "phd.plots.cochleogram(sim.data[ihc_p], sim.trange(), model.freqs)\n",
    "plt.subplot(3, 1, 2)\n",
    "phd.plots.cochleogram(sim.data[an_in_p], sim.trange(), model.freqs)\n",
    "plt.subplot(3, 1, 3)\n",
    "rasterplot(sim.trange(), sim.data[an_p])\n",
    "plt.ylim(0, net.periphery.an.n_neurons * net.periphery.an.n_ensembles)\n",
    "sns.despine()\n",
    "plt.tight_layout()"
   ]
  },
  {
   "cell_type": "markdown",
   "metadata": {},
   "source": [
    "## With derivatives"
   ]
  },
  {
   "cell_type": "code",
   "execution_count": null,
   "metadata": {
    "collapsed": false
   },
   "outputs": [],
   "source": [
    "timit = phd.timit.TIMIT(timit_path)\n",
    "timit.filefilt.spkr_id = \"CAG0\"\n",
    "samples = timit.word_samples(['wash'])\n",
    "model = phd.sermo.AuditoryFeatures()\n",
    "model.audio = samples['wash'][0]\n",
    "model.add_derivative()  # First derivative\n",
    "model.add_derivative()  # Second derivative"
   ]
  },
  {
   "cell_type": "code",
   "execution_count": null,
   "metadata": {
    "collapsed": false
   },
   "outputs": [],
   "source": [
    "# Get MFCCs\n",
    "model.mfcc.dt = 0.01\n",
    "x = model.mfcc()\n",
    "print x.shape\n",
    "img_compare(x, x, zscore=(False, True))"
   ]
  },
  {
   "cell_type": "code",
   "execution_count": null,
   "metadata": {
    "collapsed": false
   },
   "outputs": [],
   "source": [
    "# Get NCCs\n",
    "net = model.build()\n",
    "with net:\n",
    "    ihc_p = nengo.Probe(net.periphery.ihc, synapse=None)\n",
    "    an_in_p = nengo.Probe(net.periphery.an.input, synapse=None)\n",
    "    an_p = nengo.Probe(net.periphery.an.add_neuron_output(), synapse=None)\n",
    "    c_p = nengo.Probe(net.output, synapse=0.01)\n",
    "sim = nengo.Simulator(net, dt=0.001)\n",
    "sim.run(model.t_audio)\n",
    "\n",
    "img_compare(sim.data[c_p], sim.data[c_p], zscore=(False, True))"
   ]
  },
  {
   "cell_type": "markdown",
   "metadata": {},
   "source": [
    "## With Adaptive LIF neurons in AN"
   ]
  },
  {
   "cell_type": "code",
   "execution_count": null,
   "metadata": {
    "collapsed": true
   },
   "outputs": [],
   "source": [
    "timit = phd.timit.TIMIT(timit_path)\n",
    "timit.filefilt.spkr_id = \"CAG0\"\n",
    "samples = timit.word_samples(['wash'])\n",
    "model = phd.sermo.AuditoryFeatures()\n",
    "model.audio = samples['wash'][0]\n",
    "model.periphery.adaptive_neurons = True"
   ]
  },
  {
   "cell_type": "code",
   "execution_count": null,
   "metadata": {
    "collapsed": false
   },
   "outputs": [],
   "source": [
    "# Get MFCCs\n",
    "model.mfcc.dt = 0.01\n",
    "x = model.mfcc()\n",
    "print x.shape\n",
    "img_compare(x, x, zscore=(False, True))"
   ]
  },
  {
   "cell_type": "code",
   "execution_count": null,
   "metadata": {
    "collapsed": false
   },
   "outputs": [],
   "source": [
    "# Get NCCs\n",
    "net = model.build()\n",
    "with net:\n",
    "    ihc_p = nengo.Probe(net.periphery.ihc, synapse=None)\n",
    "    an_in_p = nengo.Probe(net.periphery.an.input, synapse=None)\n",
    "    an_p = nengo.Probe(net.periphery.an.add_neuron_output(), synapse=None)\n",
    "    c_p = nengo.Probe(net.output, synapse=0.01)\n",
    "sim = nengo.Simulator(net, dt=0.001)\n",
    "sim.run(model.t_audio)\n",
    "\n",
    "img_compare(sim.data[c_p], sim.data[c_p], zscore=(False, True))"
   ]
  },
  {
   "cell_type": "markdown",
   "metadata": {},
   "source": [
    "## Phoneme classification with SVM\n",
    "\n",
    "Since the samples have to be the same length,\n",
    "we classify vowel and consonant phonemes separately.\n",
    "Also, we lengthen all samples to be the\n",
    "length of the longest sample\n",
    "with simple linear interpolation."
   ]
  },
  {
   "cell_type": "code",
   "execution_count": null,
   "metadata": {
    "collapsed": false
   },
   "outputs": [],
   "source": [
    "# No derivatives\n",
    "model = phd.sermo.AuditoryFeatures()\n",
    "expt = phd.experiments.AuditoryFeaturesExperiment(model, phones=phd.timit.TIMIT.phones)\n",
    "expt.seed = 9\n",
    "expt.timit.filefilt.region = 8\n",
    "expt.cache_key"
   ]
  },
  {
   "cell_type": "code",
   "execution_count": null,
   "metadata": {
    "collapsed": false
   },
   "outputs": [],
   "source": [
    "# With 2 derivatives\n",
    "model = phd.sermo.AuditoryFeatures()\n",
    "model.add_derivative(klass=\"FeedforwardDeriv\")\n",
    "model.add_derivative(klass=\"FeedforwardDeriv\")\n",
    "expt = phd.experiments.AuditoryFeaturesExperiment(model, seed=0, phones=phd.timit.TIMIT.consonants)\n",
    "expt.timit.filefilt.region = 1\n",
    "result = expt.run()\n",
    "print \"Accuracy with MFCC:\", result.mfcc_acc\n",
    "print \"Accuracy with NCC:\", result.ncc_acc"
   ]
  },
  {
   "cell_type": "code",
   "execution_count": null,
   "metadata": {
    "collapsed": false
   },
   "outputs": [],
   "source": [
    "# With 1 derivative and z-score\n",
    "model = phd.sermo.AuditoryFeatures()\n",
    "model.add_derivative(klass=\"FeedforwardDeriv\")\n",
    "expt = phd.experiments.AuditoryFeaturesExperiment(model, seed=0, phones=phd.timit.TIMIT.consonants)\n",
    "expt.zscore = True\n",
    "expt.timit.filefilt.region = 1\n",
    "result = expt.run()\n",
    "print \"Accuracy with MFCC:\", result.mfcc_acc\n",
    "print \"Accuracy with NCC:\", result.ncc_acc"
   ]
  },
  {
   "cell_type": "markdown",
   "metadata": {},
   "source": [
    "## Results"
   ]
  },
  {
   "cell_type": "code",
   "execution_count": null,
   "metadata": {
    "collapsed": false
   },
   "outputs": [],
   "source": [
    "# Phoneme experiment: vowels vs consonants vs all\n",
    "from phd import analysis\n",
    "analysis = reload(analysis)"
   ]
  },
  {
   "cell_type": "code",
   "execution_count": null,
   "metadata": {
    "collapsed": true
   },
   "outputs": [],
   "source": [
    "klass = phd.experiments.AuditoryFeaturesResult\n",
    "res = analysis.load_results(klass, ['phones'])"
   ]
  },
  {
   "cell_type": "code",
   "execution_count": null,
   "metadata": {
    "collapsed": false
   },
   "outputs": [],
   "source": [
    "res"
   ]
  },
  {
   "cell_type": "code",
   "execution_count": null,
   "metadata": {
    "collapsed": false
   },
   "outputs": [],
   "source": [
    "df['mfcc_time'][0]"
   ]
  },
  {
   "cell_type": "code",
   "execution_count": null,
   "metadata": {
    "collapsed": false
   },
   "outputs": [],
   "source": [
    "import pandas as pd\n",
    "\n",
    "resds = []\n",
    "for key in res:\n",
    "    resd = [r.__dict__ for r in res[key]]\n",
    "    for d in resd:\n",
    "        d['phones'] = key[0]\n",
    "    resds.append(pd.DataFrame(resd))\n",
    "\n",
    "df = pd.concat(resds, ignore_index=True)\n",
    "\n",
    "for key in klass.to_numeric:\n",
    "    df[key] = df[key].apply(float)\n",
    "\n",
    "df"
   ]
  },
  {
   "cell_type": "code",
   "execution_count": null,
   "metadata": {
    "collapsed": false
   },
   "outputs": [],
   "source": [
    "# g = sns.PairGrid(df,\n",
    "#                  x_vars=[\"mfcc_train_acc\", \"ncc_train_acc\", \"mfcc_test_acc\", \"ncc_test_acc\"],\n",
    "#                  y_vars=[\"phones\"])\n",
    "# g.map(sns.violinplot)\n",
    "plt.subplot(1, 2, 1)\n",
    "sns.violinplot(x=\"phones\", y=\"mfcc_train_acc\", data=df)\n",
    "plt.ylim(0, 1)\n",
    "plt.subplot(1, 2, 2)\n",
    "sns.violinplot(x=\"phones\", y=\"ncc_train_acc\", data=df)\n",
    "plt.ylim(0, 1)\n",
    "plt.figure()\n",
    "plt.subplot(1, 2, 1)\n",
    "sns.violinplot(x=\"phones\", y=\"mfcc_test_acc\", data=df)\n",
    "plt.ylim(0, 1)\n",
    "plt.subplot(1, 2, 2)\n",
    "sns.violinplot(x=\"phones\", y=\"ncc_test_acc\", data=df)\n",
    "plt.ylim(0, 1)"
   ]
  }
 ],
 "metadata": {
  "kernelspec": {
   "display_name": "Python 2",
   "language": "python",
   "name": "python2"
  },
  "language_info": {
   "codemirror_mode": {
    "name": "ipython",
    "version": 2
   },
   "file_extension": ".py",
   "mimetype": "text/x-python",
   "name": "python",
   "nbconvert_exporter": "python",
   "pygments_lexer": "ipython2",
   "version": "2.7.10"
  }
 },
 "nbformat": 4,
 "nbformat_minor": 0
}
