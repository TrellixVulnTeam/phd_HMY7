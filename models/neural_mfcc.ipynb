{
 "cells": [
  {
   "cell_type": "code",
   "execution_count": null,
   "metadata": {
    "collapsed": false
   },
   "outputs": [],
   "source": [
    "import os\n",
    "%matplotlib inline\n",
    "import matplotlib.pyplot as plt\n",
    "import seaborn as sns\n",
    "import numpy as np\n",
    "import nengo\n",
    "from scipy import stats\n",
    "from nengo.utils.matplotlib import rasterplot\n",
    "from nengo.utils.stdlib import Timer\n",
    "\n",
    "import phd\n",
    "\n",
    "# Some plotting niceties\n",
    "plt.rc('figure', figsize=(10, 6))\n",
    "sns.set_style('white')\n",
    "sns.set_style('ticks')\n",
    "\n",
    "def img(array, zscore=False):\n",
    "    if zscore:\n",
    "        array = stats.zscore(array, axis=0)\n",
    "    plt.pcolormesh(array.T)\n",
    "    plt.ylim(top=array.shape[1])\n",
    "    plt.xlim(right=array.shape[0])\n",
    "    plt.yticks(())\n",
    "    sns.despine(left=True)\n",
    "    plt.tight_layout()\n",
    "\n",
    "def img_compare(array1, array2, zscore=(False, False)):\n",
    "    plt.figure(figsize=(12, 6))\n",
    "    plt.subplot(1, 2, 1)\n",
    "    img(array1, zscore[0])\n",
    "    plt.subplot(1, 2, 2)\n",
    "    img(array2, zscore[1])\n",
    "    plt.tight_layout()\n",
    "\n",
    "timit_path = \"~/phd_data/timit\"\n",
    "timit = phd.timit.TIMIT(timit_path)\n",
    "try:\n",
    "    timit.untar(os.path.expanduser(\"~/Dropbox/LDC93S1.tgz\"))\n",
    "except Exception as e:\n",
    "    pass"
   ]
  },
  {
   "cell_type": "code",
   "execution_count": null,
   "metadata": {
    "collapsed": false
   },
   "outputs": [],
   "source": [
    "%%javascript\n",
    "if($(IPython.toolbar.selector.concat(' > #kill-run-first')).length == 0){\n",
    "  IPython.toolbar.add_buttons_group([\n",
    "    {\n",
    "      'label'   : 'kill and run-first',\n",
    "      'icon'    : 'fa fa-angle-double-down',\n",
    "      'callback': function(){\n",
    "        IPython.notebook.kernel.restart();\n",
    "        $(IPython.events).one('kernel_ready.Kernel', function(){\n",
    "          var idx = IPython.notebook.get_selected_index();\n",
    "          IPython.notebook.select(0);\n",
    "          IPython.notebook.execute_cell();\n",
    "          IPython.notebook.select(idx);\n",
    "        });\n",
    "      }\n",
    "    }\n",
    "  ], 'kill-run-first');\n",
    "}"
   ]
  },
  {
   "cell_type": "markdown",
   "metadata": {},
   "source": [
    "## Basic usage"
   ]
  },
  {
   "cell_type": "code",
   "execution_count": null,
   "metadata": {
    "collapsed": false
   },
   "outputs": [],
   "source": [
    "timit = phd.timit.TIMIT(timit_path)\n",
    "timit.filefilt.spkr_id = \"CAG0\"\n",
    "samples = timit.word_samples(['wash'])\n",
    "model = phd.sermo.AuditoryFeatures()\n",
    "model.audio = samples['wash'][0]"
   ]
  },
  {
   "cell_type": "code",
   "execution_count": null,
   "metadata": {
    "collapsed": false
   },
   "outputs": [],
   "source": [
    "# Get MFCCs\n",
    "model.mfcc.dt = 0.01\n",
    "x = model.mfcc()\n",
    "print x.shape\n",
    "img_compare(x, x, zscore=(False, True))"
   ]
  },
  {
   "cell_type": "code",
   "execution_count": null,
   "metadata": {
    "collapsed": false
   },
   "outputs": [],
   "source": [
    "# Get NCCs\n",
    "net = model.build()\n",
    "with net:\n",
    "    ihc_p = nengo.Probe(net.periphery.ihc, synapse=None)\n",
    "    an_in_p = nengo.Probe(net.periphery.an.input, synapse=None)\n",
    "    an_p = nengo.Probe(net.periphery.an.add_neuron_output(), synapse=None)\n",
    "    c_p = nengo.Probe(net.output, synapse=0.01)\n",
    "sim = nengo.Simulator(net, dt=0.001)\n",
    "sim.run(model.t_audio)\n",
    "\n",
    "img_compare(sim.data[c_p], sim.data[c_p], zscore=(False, True))"
   ]
  },
  {
   "cell_type": "code",
   "execution_count": null,
   "metadata": {
    "collapsed": false
   },
   "outputs": [],
   "source": [
    "# A peek into the neural implementation\n",
    "plt.figure(figsize=(8, 14))\n",
    "plt.subplot(3, 1, 1)\n",
    "phd.plots.cochleogram(sim.data[ihc_p], sim.trange(), model.freqs)\n",
    "plt.subplot(3, 1, 2)\n",
    "phd.plots.cochleogram(sim.data[an_in_p], sim.trange(), model.freqs)\n",
    "plt.subplot(3, 1, 3)\n",
    "rasterplot(sim.trange(), sim.data[an_p])\n",
    "plt.ylim(0, net.periphery.an.n_neurons * net.periphery.an.n_ensembles)\n",
    "sns.despine()\n",
    "plt.tight_layout()"
   ]
  },
  {
   "cell_type": "markdown",
   "metadata": {},
   "source": [
    "## With derivatives"
   ]
  },
  {
   "cell_type": "code",
   "execution_count": null,
   "metadata": {
    "collapsed": false
   },
   "outputs": [],
   "source": [
    "timit = phd.timit.TIMIT(timit_path)\n",
    "timit.filefilt.spkr_id = \"CAG0\"\n",
    "samples = timit.word_samples(['wash'])\n",
    "model = phd.sermo.AuditoryFeatures()\n",
    "model.audio = samples['wash'][0]\n",
    "model.add_derivative()  # First derivative\n",
    "model.add_derivative()  # Second derivative"
   ]
  },
  {
   "cell_type": "code",
   "execution_count": null,
   "metadata": {
    "collapsed": false
   },
   "outputs": [],
   "source": [
    "# Get MFCCs\n",
    "model.mfcc.dt = 0.01\n",
    "x = model.mfcc()\n",
    "print x.shape\n",
    "img_compare(x, x, zscore=(False, True))"
   ]
  },
  {
   "cell_type": "code",
   "execution_count": null,
   "metadata": {
    "collapsed": false
   },
   "outputs": [],
   "source": [
    "# Get NCCs\n",
    "net = model.build()\n",
    "with net:\n",
    "    ihc_p = nengo.Probe(net.periphery.ihc, synapse=None)\n",
    "    an_in_p = nengo.Probe(net.periphery.an.input, synapse=None)\n",
    "    an_p = nengo.Probe(net.periphery.an.add_neuron_output(), synapse=None)\n",
    "    c_p = nengo.Probe(net.output, synapse=0.01)\n",
    "sim = nengo.Simulator(net, dt=0.001)\n",
    "sim.run(model.t_audio)\n",
    "\n",
    "img_compare(sim.data[c_p], sim.data[c_p], zscore=(False, True))"
   ]
  },
  {
   "cell_type": "markdown",
   "metadata": {},
   "source": [
    "## With Adaptive LIF neurons in AN"
   ]
  },
  {
   "cell_type": "code",
   "execution_count": null,
   "metadata": {
    "collapsed": true
   },
   "outputs": [],
   "source": [
    "timit = phd.timit.TIMIT(timit_path)\n",
    "timit.filefilt.spkr_id = \"CAG0\"\n",
    "samples = timit.word_samples(['wash'])\n",
    "model = phd.sermo.AuditoryFeatures()\n",
    "model.audio = samples['wash'][0]\n",
    "model.periphery.adaptive_neurons = True"
   ]
  },
  {
   "cell_type": "code",
   "execution_count": null,
   "metadata": {
    "collapsed": false
   },
   "outputs": [],
   "source": [
    "# Get MFCCs\n",
    "model.mfcc.dt = 0.01\n",
    "x = model.mfcc()\n",
    "print x.shape\n",
    "img_compare(x, x, zscore=(False, True))"
   ]
  },
  {
   "cell_type": "code",
   "execution_count": null,
   "metadata": {
    "collapsed": false
   },
   "outputs": [],
   "source": [
    "# Get NCCs\n",
    "net = model.build()\n",
    "with net:\n",
    "    ihc_p = nengo.Probe(net.periphery.ihc, synapse=None)\n",
    "    an_in_p = nengo.Probe(net.periphery.an.input, synapse=None)\n",
    "    an_p = nengo.Probe(net.periphery.an.add_neuron_output(), synapse=None)\n",
    "    c_p = nengo.Probe(net.output, synapse=0.01)\n",
    "sim = nengo.Simulator(net, dt=0.001)\n",
    "sim.run(model.t_audio)\n",
    "\n",
    "img_compare(sim.data[c_p], sim.data[c_p], zscore=(False, True))"
   ]
  },
  {
   "cell_type": "markdown",
   "metadata": {},
   "source": [
    "## Running a classification experiment"
   ]
  },
  {
   "cell_type": "code",
   "execution_count": null,
   "metadata": {
    "collapsed": false
   },
   "outputs": [],
   "source": [
    "# No derivatives\n",
    "model = phd.sermo.AuditoryFeatures()\n",
    "expt = phd.experiments.AuditoryFeaturesExperiment(model, phones=phd.timit.TIMIT.phones)\n",
    "expt.seed = 9\n",
    "expt.timit.filefilt.region = 8\n",
    "expt.cache_key"
   ]
  },
  {
   "cell_type": "code",
   "execution_count": null,
   "metadata": {
    "collapsed": false
   },
   "outputs": [],
   "source": [
    "# With 2 derivatives\n",
    "model = phd.sermo.AuditoryFeatures()\n",
    "model.add_derivative(klass=\"FeedforwardDeriv\")\n",
    "model.add_derivative(klass=\"FeedforwardDeriv\")\n",
    "expt = phd.experiments.AuditoryFeaturesExperiment(model, seed=0, phones=phd.timit.TIMIT.consonants)\n",
    "expt.timit.filefilt.region = 1\n",
    "key = expt.run()\n",
    "result = phd.experiments.AuditoryFeaturesResult.load(key)\n",
    "print \"Accuracy with MFCC:\", result.mfcc_acc\n",
    "print \"Accuracy with NCC:\", result.ncc_acc"
   ]
  },
  {
   "cell_type": "code",
   "execution_count": null,
   "metadata": {
    "collapsed": false
   },
   "outputs": [],
   "source": [
    "# With 1 derivative and z-score\n",
    "model = phd.sermo.AuditoryFeatures()\n",
    "model.add_derivative(klass=\"FeedforwardDeriv\")\n",
    "expt = phd.experiments.AuditoryFeaturesExperiment(model, seed=0, phones=phd.timit.TIMIT.consonants)\n",
    "expt.zscore = True\n",
    "expt.timit.filefilt.region = 1\n",
    "key = expt.run()\n",
    "result = phd.experiments.AuditoryFeaturesResult.load(key)\n",
    "print \"Accuracy with MFCC:\", result.mfcc_acc\n",
    "print \"Accuracy with NCC:\", result.ncc_acc"
   ]
  },
  {
   "cell_type": "markdown",
   "metadata": {},
   "source": [
    "## Plotting experimental results"
   ]
  },
  {
   "cell_type": "code",
   "execution_count": null,
   "metadata": {
    "collapsed": false
   },
   "outputs": [],
   "source": [
    "# Put figures in phd/figures\n",
    "root = os.path.abspath(os.path.join(os.path.dirname(phd.__file__), \"..\"))\n",
    "def fig(name, ext='svg'):\n",
    "    return os.path.join(root, \"figures\", \"results\", \"%s.%s\" % (name, ext))\n",
    "\n",
    "def accuracy_plots(columns, vary, hue_order, relative=True, filter_by=None):\n",
    "    df = phd.analysis.load_results(phd.experiments.AuditoryFeaturesResult, columns + ['phones'])\n",
    "    filter_by = [('phones', 'consonants')] if filter_by is None else filter_by\n",
    "    phones = 'Consonants'\n",
    "\n",
    "    common_args = {'x_label': 'Feature',\n",
    "                   'y_label': 'Accuracy',\n",
    "                   'hue_order': hue_order,\n",
    "                   'filter_by': filter_by,\n",
    "                   'group_by': vary}\n",
    "\n",
    "    if len(filter_by) > 0:\n",
    "        for k, v in filter_by:\n",
    "            if k == 'phones':\n",
    "                phones = v\n",
    "                common_args['y_label'] = '%s accuracy' % phones[:-1].capitalize()\n",
    "    \n",
    "\n",
    "    for plot_f in [sns.violinplot, sns.barplot]:\n",
    "        acc = plt.figure()\n",
    "        if relative:\n",
    "            phd.plots.compare(df,\n",
    "                              columns=['ncc_train_acc', 'ncc_test_acc'],\n",
    "                              relative_to=['mfcc_train_acc', 'mfcc_test_acc'],\n",
    "                              x_keys=['Training', 'Testing'],\n",
    "                              plot_f=plot_f,\n",
    "                              **common_args)\n",
    "            plt.axhline(1.0, c='k', ls=':')\n",
    "            plt.ylabel('Relative %s accuracy' % phones[:-1].lower())\n",
    "        else:\n",
    "            phd.plots.compare(df,\n",
    "                              columns=['mfcc_train_acc', 'mfcc_test_acc', 'ncc_train_acc', 'ncc_test_acc'],\n",
    "                              x_keys=['MFCC training', 'MFCC testing', 'NCC training', 'NCC testing'],\n",
    "                              plot_f=plot_f,\n",
    "                              **common_args)\n",
    "            plt.ylabel('%s accuracy' % phones[:-1].capitalize())\n",
    "        plt.xlabel(\"\")\n",
    "        acc.savefig(fig('ncc-%s-%sacc-%s' % (\n",
    "            vary, 'r' if relative else '', 'v' if plot_f is sns.violinplot else 'b')))\n",
    "\n",
    "def accuracy_tsplots(columns, vary, relative=True, filter_by=None):\n",
    "    df = phd.analysis.load_results(phd.experiments.AuditoryFeaturesResult, columns + ['phones'])\n",
    "    filter_by = [('phones', 'consonants')] if filter_by is None else filter_by\n",
    "    phones = 'Consonants'\n",
    "\n",
    "    common_args = {'x_label': 'Feature',\n",
    "                   'y_label': 'Accuracy',\n",
    "                   'filter_by': filter_by,\n",
    "                   'group_by': vary}\n",
    "\n",
    "    if len(filter_by) > 0:\n",
    "        for k, v in filter_by:\n",
    "            if k == 'phones':\n",
    "                phones = v\n",
    "                common_args['y_label'] = '%s accuracy' % v[:-1].capitalize()\n",
    "    \n",
    "    acc = plt.figure()\n",
    "    if relative:\n",
    "        phd.plots.timeseries(df,\n",
    "                             columns=['ncc_train_acc', 'ncc_test_acc'],\n",
    "                             relative_to=['mfcc_train_acc', 'mfcc_test_acc'],\n",
    "                             x_keys=['Training', 'Testing'],\n",
    "                             **common_args)\n",
    "        plt.axhline(1.0, c='k', ls=':')\n",
    "        plt.ylabel('Relative %s accuracy' % phones[:-1].lower())\n",
    "    else:\n",
    "        phd.plots.timeseries(df,\n",
    "                             columns=['mfcc_train_acc', 'mfcc_test_acc', 'ncc_train_acc', 'ncc_test_acc'],\n",
    "                             x_keys=['MFCC training', 'MFCC testing', 'NCC training', 'NCC testing'],\n",
    "                             **common_args)\n",
    "        plt.ylabel('%s accuracy' % phones[:-1].capitalize())\n",
    "    plt.xlabel(\"\")\n",
    "    acc.savefig(fig('ncc-%s-acc-t' % vary))\n",
    "\n",
    "def time_plot(columns, vary, hue_order, filter_by=None):\n",
    "    df = phd.analysis.load_results(phd.experiments.AuditoryFeaturesResult, columns + ['phones'])\n",
    "    filter_by = [('phones', 'consonants')] if filter_by is None else filter_by\n",
    "\n",
    "    time = plt.figure()\n",
    "    phd.plots.compare(df,\n",
    "                      columns=['mfcc_time', 'ncc_time', 'mfcc_fit_time', 'ncc_fit_time'],\n",
    "                      group_by=vary,\n",
    "                      filter_by=filter_by,\n",
    "                      x_keys=['MFCC generation', 'NCC generation', 'MFCC SVM fitting', 'NCC SVM fitting'],\n",
    "                      x_label='Scenario',\n",
    "                      y_label='Time (s)',\n",
    "                      plot_f=sns.barplot,\n",
    "                      hue_order=hue_order)\n",
    "    plt.ylabel(\"Time (s)\")\n",
    "    plt.xlabel(\"\")\n",
    "    time.savefig(fig('ncc-%s-time' % vary))"
   ]
  },
  {
   "cell_type": "code",
   "execution_count": null,
   "metadata": {
    "collapsed": false
   },
   "outputs": [],
   "source": [
    "pargs = {'columns': [], 'vary': 'phones', 'filter_by': [], 'hue_order': [\"vowels\", \"consonants\", \"all\"]}\n",
    "\n",
    "phd.experiments.AuditoryFeaturesResult.subdir = 'ncc_final'\n",
    "accuracy_plots(relative=False, **pargs)\n",
    "accuracy_plots(relative=True, **pargs)\n",
    "plt.ylim(bottom=0.95)\n",
    "time_plot(**pargs)"
   ]
  },
  {
   "cell_type": "code",
   "execution_count": null,
   "metadata": {
    "collapsed": false
   },
   "outputs": [],
   "source": [
    "phd.experiments.AuditoryFeaturesResult.subdir = 'ncc_final'\n",
    "accuracy_plots(['zscore'], 'zscore', hue_order=['False', 'True'], relative=False)"
   ]
  },
  {
   "cell_type": "code",
   "execution_count": null,
   "metadata": {
    "collapsed": false
   },
   "outputs": [],
   "source": [
    "pargs = {'columns': ['derivatives'], 'vary': 'derivatives', 'hue_order': ['0', '1', '2']}\n",
    "\n",
    "phd.experiments.AuditoryFeaturesResult.subdir = 'ncc_final'\n",
    "accuracy_plots(relative=False, **pargs)"
   ]
  },
  {
   "cell_type": "code",
   "execution_count": null,
   "metadata": {
    "collapsed": false
   },
   "outputs": [],
   "source": [
    "phd.experiments.AuditoryFeaturesResult.subdir = 'ncc'\n",
    "accuracy_plots(['deriv_type'], 'deriv_type',\n",
    "               hue_order=['FeedforwardDeriv', 'IntermediateDeriv'])"
   ]
  },
  {
   "cell_type": "code",
   "execution_count": null,
   "metadata": {
    "collapsed": false
   },
   "outputs": [],
   "source": [
    "phd.experiments.AuditoryFeaturesResult.subdir = 'ncc_final'\n",
    "accuracy_tsplots(['periphery'], 'periphery')"
   ]
  },
  {
   "cell_type": "code",
   "execution_count": null,
   "metadata": {
    "collapsed": false
   },
   "outputs": [],
   "source": [
    "phd.experiments.AuditoryFeaturesResult.subdir = 'ncc_final'\n",
    "accuracy_tsplots(['feature'], 'feature')\n",
    "time_plot(['feature'], 'feature',\n",
    "          [str(x) for x in [1, 8, 12, 16, 32, 64]])"
   ]
  },
  {
   "cell_type": "code",
   "execution_count": null,
   "metadata": {
    "collapsed": false
   },
   "outputs": [],
   "source": [
    "pargs = {'columns': ['dt'], 'vary': 'dt', 'hue_order': [\"0.010000\", \"0.005000\", \"0.001000\"]}\n",
    "\n",
    "phd.experiments.AuditoryFeaturesResult.subdir = 'ncc_final'\n",
    "accuracy_plots(relative=False, **pargs)"
   ]
  },
  {
   "cell_type": "code",
   "execution_count": null,
   "metadata": {
    "collapsed": false
   },
   "outputs": [],
   "source": [
    "phd.experiments.AuditoryFeaturesResult.subdir = 'ncc_final'\n",
    "columns = ['periphmodel', 'adaptive']\n",
    "porder = ['gammatone', 'log_gammachirp', 'dual_resonance', 'compressive_gammachirp', 'tan_carney']\n",
    "accuracy_plots(columns, 'periphmodel', hue_order=porder, relative=True)\n",
    "plt.ylim(bottom=0.95)\n",
    "time_plot(columns, 'periphmodel', hue_order=porder)\n",
    "accuracy_plots(columns, 'adaptive', hue_order=['False', 'True'], relative=True)\n",
    "plt.ylim(bottom=0.95);"
   ]
  },
  {
   "cell_type": "markdown",
   "metadata": {},
   "source": [
    "## Scaling"
   ]
  },
  {
   "cell_type": "code",
   "execution_count": null,
   "metadata": {
    "collapsed": false
   },
   "outputs": [],
   "source": [
    "def n_neurons(msg, model):\n",
    "    net = model.build()\n",
    "    nn = sum(e.n_neurons for e in net.all_ensembles)\n",
    "    print(\"=== %s ===\" % msg)\n",
    "    pneurons = model.freqs.size * model.periphery.neurons_per_freq\n",
    "    print(\"Periphery layer: %d freqs x %d neurons_per_freq = %d neurons\" % (\n",
    "        model.freqs.size, model.periphery.neurons_per_freq, pneurons))\n",
    "    cneurons = model.n_cepstra * model.cepstra.n_neurons\n",
    "    print(\"Feature layer: %d cepstra x %d neurons_per_cepstra = %d neurons\" % (\n",
    "        model.n_cepstra, model.cepstra.n_neurons, cneurons))\n",
    "    for i, deriv in enumerate(model.derivatives):\n",
    "        # Note! Assumes FeedforwardDeriv!\n",
    "        cneurons += model.n_cepstra * 2 * deriv.n_neurons\n",
    "        print(\"Derivative %d: %d cepstra x 2 x %d neurons_per_cepstra = %d neurons\" % (\n",
    "            (i+1), model.n_cepstra, deriv.n_neurons, model.n_cepstra * deriv.n_neurons))\n",
    "\n",
    "    assert pneurons + cneurons == nn\n",
    "    print(\"Total: %d neurons\" % nn)\n",
    "    print(\"\")\n",
    "\n",
    "model = phd.sermo.AuditoryFeatures()\n",
    "model.add_derivative()\n",
    "n_neurons(\"Default configuration\", model)\n",
    "model = phd.sermo.AuditoryFeatures()\n",
    "model.freqs = phd.filters.erbspace(20, 20000, 3500)\n",
    "model.periphery.neurons_per_freq = 20\n",
    "model.n_cepstra = 20\n",
    "model.cepstra.n_neurons = 50\n",
    "model.add_derivative(n_neurons=50)\n",
    "n_neurons(\"Conservative estimate\", model)\n",
    "model = phd.sermo.AuditoryFeatures()\n",
    "model.freqs = phd.filters.erbspace(20, 20000, 3500)\n",
    "model.periphery.neurons_per_freq = 40\n",
    "model.n_cepstra = 40\n",
    "model.cepstra.n_neurons = 200\n",
    "model.add_derivative(n_neurons=200)\n",
    "model.add_derivative(n_neurons=200)\n",
    "n_neurons(\"Generous estimate\", model);"
   ]
  }
 ],
 "metadata": {
  "kernelspec": {
   "display_name": "Python 2",
   "language": "python",
   "name": "python2"
  },
  "language_info": {
   "codemirror_mode": {
    "name": "ipython",
    "version": 2
   },
   "file_extension": ".py",
   "mimetype": "text/x-python",
   "name": "python",
   "nbconvert_exporter": "python",
   "pygments_lexer": "ipython2",
   "version": "2.7.10"
  }
 },
 "nbformat": 4,
 "nbformat_minor": 0
}
