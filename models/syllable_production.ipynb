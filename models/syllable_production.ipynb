{
 "cells": [
  {
   "cell_type": "code",
   "execution_count": null,
   "metadata": {
    "collapsed": false
   },
   "outputs": [],
   "source": [
    "import os\n",
    "import skspeech\n",
    "\n",
    "import numpy as np\n",
    "import matplotlib.pyplot as plt\n",
    "%matplotlib inline\n",
    "import seaborn as sns\n",
    "\n",
    "# Some plotting niceties\n",
    "plt.rc('figure', figsize=(10, 6))\n",
    "sns.set_style('white')\n",
    "sns.set_style('ticks')\n",
    "\n",
    "import nengo\n",
    "from nengo import spa\n",
    "from nengo.spa import Vocabulary\n",
    "import nengo_gui.ipython\n",
    "from nengo.dists import Choice, Uniform\n",
    "\n",
    "import phd"
   ]
  },
  {
   "cell_type": "code",
   "execution_count": null,
   "metadata": {
    "collapsed": false
   },
   "outputs": [],
   "source": [
    "%%javascript\n",
    "if($(IPython.toolbar.selector.concat(' > #kill-run-first')).length == 0){\n",
    "  IPython.toolbar.add_buttons_group([\n",
    "    {\n",
    "      'label'   : 'kill and run-first',\n",
    "      'icon'    : 'fa fa-angle-double-down',\n",
    "      'callback': function(){\n",
    "        IPython.notebook.kernel.restart();\n",
    "        $(IPython.events).one('kernel_ready.Kernel', function(){\n",
    "          var idx = IPython.notebook.get_selected_index();\n",
    "          IPython.notebook.select(0);\n",
    "          IPython.notebook.execute_cell();\n",
    "          IPython.notebook.select(idx);\n",
    "        });\n",
    "      }\n",
    "    }\n",
    "  ], 'kill-run-first');\n",
    "}"
   ]
  },
  {
   "cell_type": "code",
   "execution_count": null,
   "metadata": {
    "collapsed": false
   },
   "outputs": [],
   "source": [
    "# Create our semantic pointers\n",
    "dimensions = 96\n",
    "rng = np.random.RandomState(0)\n",
    "vocab = Vocabulary(dimensions=dimensions, rng=rng, unitary=['NEXTPOS', 'POS1'])\n",
    "vocab.parse('NEXTPOS')\n",
    "vocab.parse('POS1')\n",
    "for i in xrange(2, 9):\n",
    "    vocab.add('POS%d' % i, vocab.parse('POS%d * NEXTPOS' % (i-1)))\n",
    "\n",
    "syllables = ('PAT', 'DAS', 'KAP')\n",
    "for syll in syllables:\n",
    "    vocab.parse(syll)\n",
    "\n",
    "just_syllables = vocab.create_subset(syllables)"
   ]
  },
  {
   "cell_type": "code",
   "execution_count": null,
   "metadata": {
    "collapsed": false
   },
   "outputs": [],
   "source": [
    "difference_gain = 15\n",
    "neurons_per_d = 50\n",
    "\n",
    "with spa.SPA() as model:\n",
    "    model.sequence = spa.Buffer(dimensions=dimensions, neurons_per_dimension=neurons_per_d)\n",
    "\n",
    "    model.syll_idx1 = nengo.networks.InputGatedMemory(\n",
    "        neurons_per_d, dimensions=dimensions, difference_gain=difference_gain)\n",
    "    model.syll_idx2 = nengo.networks.InputGatedMemory(\n",
    "        neurons_per_d, dimensions=dimensions, difference_gain=difference_gain)\n",
    "    nengo.Connection(model.syll_idx1.output, model.syll_idx2.input)\n",
    "    nengo.Connection(model.syll_idx2.output, model.syll_idx1.input,\n",
    "                     transform=vocab['NEXTPOS'].get_convolution_matrix())\n",
    "\n",
    "    model.gate = nengo.Ensemble(100, dimensions=1,\n",
    "                                encoders=nengo.dists.Choice([[1]]),\n",
    "                                intercepts=nengo.dists.Uniform(0.2, 1))\n",
    "    nengo.Connection(model.gate, model.syll_idx1.gate)\n",
    "    # bias so that model.syll_idx2.gate gets 1 - gate\n",
    "    nengo.Connection(nengo.Node(1, label='gate bias'), model.syll_idx2.gate)\n",
    "    nengo.Connection(model.gate, model.syll_idx2.gate, transform=[-1])\n",
    "    \n",
    "    # syll = sequence * ~syll_idx\n",
    "    model.bind = nengo.networks.CircularConvolution(\n",
    "        neurons_per_d, dimensions, invert_a=False, invert_b=True)\n",
    "    nengo.Connection(model.sequence.state.output, model.bind.A)\n",
    "    nengo.Connection(model.syll_idx1.output, model.bind.B)\n",
    "    \n",
    "    # For quick testing\n",
    "    nengo.Connection(nengo.Node(lambda t: 1 if (t % 0.2) > 0.1 else 0), model.gate)\n",
    "    init_idx = nengo.Node(lambda t: vocab.parse('POS1').v if t < 0.2 else vocab.parse('0').v)\n",
    "    nengo.Connection(init_idx, model.syll_idx1.input)\n",
    "    nengo.Connection(nengo.Node(vocab.parse('PAT*POS1 + DAS*POS2 + KAP*POS3').v),\n",
    "                     model.sequence.state.input)\n",
    "\n",
    "    p_gate = nengo.Probe(model.gate, synapse=0.01)\n",
    "    p_syllidx = nengo.Probe(model.syll_idx1.output, synapse=0.01)"
   ]
  },
  {
   "cell_type": "code",
   "execution_count": null,
   "metadata": {
    "collapsed": false
   },
   "outputs": [],
   "source": [
    "with model:\n",
    "    model.syllable = spa.AssociativeMemory(just_syllables, wta_output=True)  # modify them here...\n",
    "    nengo.Connection(model.bind.output, model.syllable.input)\n",
    "    p_syll = nengo.Probe(model.syllable.output, synapse=0.01)"
   ]
  },
  {
   "cell_type": "code",
   "execution_count": null,
   "metadata": {
    "collapsed": false
   },
   "outputs": [],
   "source": [
    "sim = nengo.Simulator(model)\n",
    "sim.run(.6)"
   ]
  },
  {
   "cell_type": "code",
   "execution_count": null,
   "metadata": {
    "collapsed": false
   },
   "outputs": [],
   "source": [
    "plt.figure(figsize=(12, 12))\n",
    "    \n",
    "plt.subplot(3, 1, 1)\n",
    "plt.plot(sim.trange(),\n",
    "         spa.similarity(sim.data[p_syllidx],\n",
    "                        vocab.create_subset(['POS1', 'POS2', 'POS3'])))\n",
    "plt.legend(['POS1', 'POS2', 'POS3'], loc='best')\n",
    "plt.ylim([-0.2, 1.2])\n",
    "\n",
    "plt.subplot(3, 1, 2)\n",
    "plt.plot(sim.trange(), sim.data[p_gate])\n",
    "plt.ylim([-0.1, 1.1])\n",
    "\n",
    "plt.subplot(3, 1, 3)\n",
    "plt.plot(sim.trange(), \n",
    "         spa.similarity(sim.data[p_syll],\n",
    "                        vocab.create_subset(syllables)))\n",
    "plt.legend(syllables, loc='best')"
   ]
  },
  {
   "cell_type": "code",
   "execution_count": null,
   "metadata": {
    "collapsed": false
   },
   "outputs": [],
   "source": [
    "def get_traj(path, dt=0.001):\n",
    "    gs = skspeech.vtl.parse_ges(path)\n",
    "    wavfile = os.path.basename(path)[:-4] + '.wav'\n",
    "    if not os.path.exists(wavfile):\n",
    "        gs.synthesize(wavfile=wavfile)\n",
    "    traj = gs.trajectory(dt=dt)\n",
    "    return traj\n",
    "\n",
    "def rescale(val, old_min, old_max, new_min, new_max):\n",
    "    old_range = old_max - old_min\n",
    "    new_range = new_max - new_min\n",
    "    return (((val - old_min) * new_range) / old_range) + new_min\n",
    "\n",
    "def traj2func(traj, dt=0.001):\n",
    "    traj_ix = np.unique(np.nonzero(traj)[1])\n",
    "    traj = traj[:, traj_ix]\n",
    "    t_end = traj.shape[0] * dt\n",
    "    def _trajf(x):\n",
    "        # x goes from 0 to 1; normalize by t_end\n",
    "        # But give a bit of 0 at the start...\n",
    "        if x < 0.1:\n",
    "            return np.zeros(traj.shape[1])\n",
    "        ix = min(int(rescale(x, 0.1, 1., 0., t_end-0.1) / dt), traj.shape[0]-1)\n",
    "        return traj[ix]\n",
    "    _trajf.traj = traj\n",
    "    _trajf.ix = traj_ix\n",
    "    return _trajf, traj_ix\n",
    "\n",
    "dt = 0.001\n",
    "pat = get_traj(phd.ges_path('ges-de-cvc', 'pat.ges'), dt)\n",
    "das = get_traj(phd.ges_path('ges-de-cvc', 'das.ges'), dt)\n",
    "kap = get_traj(phd.ges_path('ges-de-cvc', 'kap.ges'), dt)\n",
    "pat_f, pat_ix = traj2func(pat, dt)\n",
    "das_f, das_ix = traj2func(das, dt)\n",
    "kap_f, kap_ix = traj2func(kap, dt)"
   ]
  },
  {
   "cell_type": "code",
   "execution_count": null,
   "metadata": {
    "collapsed": false
   },
   "outputs": [],
   "source": [
    "from phd.networks import dmp\n",
    "dmp = reload(dmp)\n",
    "\n",
    "def kick_f(x):\n",
    "    # We'll do this as a function of x, like the forcing_f\n",
    "    return 1 if x > 0.8 else 0\n",
    "\n",
    "# dz = 0.6 * np.pi\n",
    "\n",
    "with nengo.Network() as model:\n",
    "    pat_dmp = dmp.RhythmicDMP(200, freq=2.5, forcing_f=pat_f) # , deadzone=dz)\n",
    "    das_dmp = dmp.RhythmicDMP(200, freq=5.3, forcing_f=das_f) # , deadzone=dz)\n",
    "    kap_dmp = dmp.RhythmicDMP(200, freq=2.5, forcing_f=kap_f) # , deadzone=dz)\n",
    "\n",
    "    speech = nengo.networks.EnsembleArray(60, pat.shape[1])\n",
    "    nengo.Connection(pat_dmp.output, speech.input[pat_ix])\n",
    "    nengo.Connection(das_dmp.output, speech.input[das_ix])\n",
    "    nengo.Connection(kap_dmp.output, speech.input[kap_ix])\n",
    "\n",
    "    # disinhibit one to let it through\n",
    "    # switch at 1 second\n",
    "    nengo.Connection(nengo.Node(lambda t: 1 if t < 0.93 else 0), pat_dmp.disinhibit)\n",
    "    nengo.Connection(nengo.Node(lambda t: 1 if t > 0.85 else 0), das_dmp.disinhibit)\n",
    "    \n",
    "    # Kick is provided by the oscillators also\n",
    "    init_kick = nengo.Node(output=lambda t: 0.8 if t < 0.08 else 0.0)\n",
    "    kick = nengo.Node(size_in=1)\n",
    "    nengo.Connection(init_kick, kick)\n",
    "    nengo.Connection(kick, pat_dmp.kick)\n",
    "    nengo.Connection(pat_dmp.osc, kick, function=dmp.radial_f(kick_f)) # , dz))\n",
    "    nengo.Connection(kick, das_dmp.kick)\n",
    "    nengo.Connection(das_dmp.osc, kick, function=dmp.radial_f(kick_f)) # , dz))\n",
    "    nengo.Connection(kick, kap_dmp.kick)\n",
    "    nengo.Connection(kap_dmp.osc, kick, function=dmp.radial_f(kick_f)) # , dz))\n",
    "\n",
    "    p_kick = nengo.Probe(kick)\n",
    "    p_pat = nengo.Probe(pat_dmp.osc, synapse=0.01)\n",
    "    p_das =nengo.Probe(das_dmp.osc, synapse=0.01)\n",
    "    p_what = nengo.Probe(das_dmp.output, synapse=0.01)\n",
    "    p_sa = nengo.Probe(speech.output, synapse=0.01)"
   ]
  },
  {
   "cell_type": "code",
   "execution_count": null,
   "metadata": {
    "collapsed": false
   },
   "outputs": [],
   "source": [
    "sim = nengo.Simulator(model)\n",
    "sim.run(1.8)"
   ]
  },
  {
   "cell_type": "code",
   "execution_count": null,
   "metadata": {
    "collapsed": false
   },
   "outputs": [],
   "source": [
    "plt.subplot(1, 2, 1)\n",
    "plt.plot(sim.data[p_pat].T[0], sim.data[p_pat].T[1])\n",
    "plt.subplot(1, 2, 2)\n",
    "plt.plot(sim.data[p_das].T[0], sim.data[p_das].T[1])\n",
    "plt.figure()\n",
    "plt.plot(sim.trange(), sim.data[p_kick], c='k')\n",
    "plt.plot(sim.trange(), sim.data[p_sa]);"
   ]
  }
 ],
 "metadata": {
  "kernelspec": {
   "display_name": "Python 2",
   "language": "python",
   "name": "python2"
  },
  "language_info": {
   "codemirror_mode": {
    "name": "ipython",
    "version": 2
   },
   "file_extension": ".py",
   "mimetype": "text/x-python",
   "name": "python",
   "nbconvert_exporter": "python",
   "pygments_lexer": "ipython2",
   "version": "2.7.10"
  }
 },
 "nbformat": 4,
 "nbformat_minor": 0
}
