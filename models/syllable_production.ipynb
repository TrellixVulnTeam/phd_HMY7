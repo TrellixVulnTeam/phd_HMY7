{
 "cells": [
  {
   "cell_type": "code",
   "execution_count": null,
   "metadata": {
    "collapsed": false
   },
   "outputs": [],
   "source": [
    "import phd\n",
    "\n",
    "import os\n",
    "%matplotlib inline\n",
    "import matplotlib.pyplot as plt\n",
    "import matplotlib.gridspec as gs\n",
    "import seaborn as sns\n",
    "import nengo\n",
    "import numpy as np\n",
    "import soundfile as sf\n",
    "from IPython.display import Audio\n",
    "\n",
    "# Some plotting niceties\n",
    "phd.plots.setup()\n",
    "\n",
    "def run_and_plot(model, name, t):\n",
    "    net = model.build()\n",
    "    with net:\n",
    "        p_syll = nengo.Probe(net.sequence.syllable.output, synapse=0.01)\n",
    "        p_syllnext = nengo.Probe(net.sequence.syllable_next.output, synapse=0.01)\n",
    "        p_gate = nengo.Probe(net.sequencer.gate, synapse=0.01)\n",
    "        p_reset = nengo.Probe(net.sequencer.reset, synapse=0.01)\n",
    "        p_timer = nengo.Probe(net.sequencer.timer, synapse=0.01)\n",
    "        p_disinhib = [nengo.Probe(dmp.disinhibit, synapse=0.01) for dmp in net.syllables]\n",
    "        p_dmps = [nengo.Probe(dmp.osc, synapse=0.01) for dmp in net.syllables]\n",
    "        p_prod = nengo.Probe(net.production_info.output, synapse=0.01)\n",
    "    sim = nengo.Simulator(net)\n",
    "    sim.run(t)\n",
    "\n",
    "    # A bit of analysis\n",
    "    syllables = [s[1].upper() for s in freqs]\n",
    "    reconstructed = phd.experiments.gesture_score(sim.data[p_prod], model.trial.dt)\n",
    "    audio, fs = reconstructed.synthesize()\n",
    "    rtraj = reconstructed.trajectory(model.trial.dt)\n",
    " \n",
    "    accuracy, n_sub, n_del, n_ins = phd.analysis.gs_accuracy(reconstructed, gs_targets)\n",
    "    timing_mean, timing_var = phd.analysis.gs_timing(reconstructed, gs_targets)\n",
    "    cooccur, co_chance = phd.analysis.gs_cooccur(reconstructed, gs_targets)\n",
    "\n",
    "    # Print results\n",
    "    print(\"accuracy: %f\" % accuracy)\n",
    "    print(\"%d substitutions, %d deletions, %d insertions\" % (n_sub, n_ins, n_del))\n",
    "    print(\"timing: %f +/- %f\" % (float(timing_mean), float(timing_var)))\n",
    "    print(\"cooccurring: %f, chance is %f\" % (float(cooccur), float(co_chance)))\n",
    "\n",
    "    fig = plt.figure(figsize=(12, 12))\n",
    "    grid = gs.GridSpec(12, 3, width_ratios=[1, 1, 1.4])\n",
    "\n",
    "    # Current syllable output\n",
    "    ax = plt.subplot(grid[:3, 0])\n",
    "    ax.plot(sim.trange(), \n",
    "            nengo.spa.similarity(sim.data[p_syll],\n",
    "                                 net.sequence.vocab.create_subset(syllables)))\n",
    "    ax.legend(syllables, loc='best')\n",
    "    ax.set_title(\"Current syllable\")\n",
    "    ax.set_ylabel(\"Similarity\")\n",
    "    ax.set_xticks(())\n",
    "    sns.despine(ax=ax)\n",
    "\n",
    "    # Next syllable output\n",
    "    ax = plt.subplot(grid[3:6, 0])\n",
    "    ax.plot(sim.trange(), \n",
    "            nengo.spa.similarity(sim.data[p_syllnext],\n",
    "                                 net.sequence.vocab.create_subset(syllables)))\n",
    "    ax.legend(syllables, loc='best')\n",
    "    ax.set_title(\"Next syllable\")\n",
    "    ax.set_ylabel(\"Similarity\")\n",
    "    ax.set_xticks(())\n",
    "    sns.despine(ax=ax)\n",
    "\n",
    "    # Disinhibition\n",
    "    ax = plt.subplot(grid[6:9, 0])\n",
    "    for p_dis in p_disinhib:\n",
    "        ax.plot(sim.trange(), sim.data[p_dis])\n",
    "    ax.legend(syllables, loc=\"best\")\n",
    "    ax.set_title(\"DMP disinhibition\")\n",
    "    ax.set_ylabel(\"Disinhibition strength\")\n",
    "    ax.set_xticks(())\n",
    "    sns.despine(ax=ax)\n",
    "\n",
    "    # Gate / reset / timer dims\n",
    "    ax = plt.subplot(grid[9:, 0])\n",
    "    ax.plot(sim.trange(), sim.data[p_gate])\n",
    "    ax.plot(sim.trange(), sim.data[p_reset])\n",
    "    ax.plot(sim.trange(), sim.data[p_timer])\n",
    "    ax.legend(['Gate', 'Reset', 'Timer', 'Timer'],\n",
    "              loc=\"lower left\", frameon=True)\n",
    "    ax.set_title(\"Sequencer control signals\")\n",
    "    ax.set_ylabel(\"Decoded output\")\n",
    "    ax.set_xlabel(\"Time (s)\")\n",
    "    sns.despine(ax=ax)\n",
    "\n",
    "    # Oscillator states\n",
    "    ax = plt.subplot(grid[:3, 1])\n",
    "    ax.plot(sim.data[p_timer].T[0], sim.data[p_timer].T[1])\n",
    "    ax.set_title(\"Timer state\")\n",
    "    ax.set_ylabel(\"$x_1$\")\n",
    "    ax.set_xlabel(\"$x_0$\")\n",
    "    sns.despine(ax=ax)\n",
    "    for i, (label, p_dmp) in enumerate(zip(syllables, p_dmps)):\n",
    "        ax = plt.subplot(grid[(i+1)*3:(i+2)*3, 1])\n",
    "        ax.plot(sim.data[p_dmp].T[0], sim.data[p_dmp].T[1])\n",
    "        ax.set_title(\"%s DMP state\" % label)\n",
    "        ax.set_ylabel(\"$x_1$\")\n",
    "        ax.set_xlabel(\"$x_0$\")\n",
    "        sns.despine(ax=ax)\n",
    "\n",
    "    # Gesture trajectories\n",
    "    ax = plt.subplot(grid[:4, 2])\n",
    "    phd.plots.plot_traj(phd.experiments.ideal_traj(model, syllables), ax=ax, cbar=False)\n",
    "    ax.set_title(\"Original gesture trajectory (target)\")\n",
    "\n",
    "    ax = plt.subplot(grid[4:8, 2])\n",
    "    phd.plots.plot_traj(sim.data[p_prod], ax=ax, cbar=False)\n",
    "    ax.set_title(\"Simulated gesture trajectory\")\n",
    "\n",
    "    ax = plt.subplot(grid[8:, 2])\n",
    "    phd.plots.plot_traj(rtraj, ax=ax, cbar=False)\n",
    "    ax.set_title(\"Reconstructed gesture trajectory\")\n",
    "\n",
    "    fig.tight_layout()\n",
    "    phd.plots.savefig(fig, 'results', name)\n",
    "    return accuracy, audio"
   ]
  },
  {
   "cell_type": "markdown",
   "metadata": {},
   "source": [
    "## Basic usage"
   ]
  },
  {
   "cell_type": "code",
   "execution_count": null,
   "metadata": {
    "collapsed": false
   },
   "outputs": [],
   "source": [
    "model = phd.sermo.Production()\n",
    "model.trial.sequence = 'BLAA*POS1 + TII*POS2 + DAS*POS3'\n",
    "freqs = [('ges-de-ccv', 'blaa', 1.1), ('ges-de-cv', 'tii', 2.1), ('ges-de-cvc', 'das', 1.5)]\n",
    "t = 0.3\n",
    "audio = []\n",
    "gs_targets = []\n",
    "for gdir, ges, freq in freqs:\n",
    "    path = phd.ges_path(gdir, '%s.ges' % ges.lower())\n",
    "    score = phd.vtl.parse_ges(path)\n",
    "    a, fs = score.synthesize()\n",
    "    audio.append(a)\n",
    "    gs_targets.append(score)\n",
    "    traj = score.trajectory(dt=model.trial.dt)\n",
    "    model.add_syllable(label=ges.upper(), freq=freq, trajectory=traj)\n",
    "    t += 1. / freq\n",
    "audio = np.vstack(audio)"
   ]
  },
  {
   "cell_type": "code",
   "execution_count": null,
   "metadata": {
    "collapsed": false
   },
   "outputs": [],
   "source": [
    "sf.write(audio, 'original.wav', fs)\n",
    "Audio(data=audio.ravel(), rate=fs)"
   ]
  },
  {
   "cell_type": "code",
   "execution_count": null,
   "metadata": {
    "collapsed": false
   },
   "outputs": [],
   "source": [
    "acc = 0.\n",
    "while acc < 0.9:\n",
    "    acc, audio = run_and_plot(model, 'prod-good', t)\n",
    "sf.write(audio, 'synthesized.wav', fs)\n",
    "Audio(data=audio.ravel(), rate=fs)"
   ]
  },
  {
   "cell_type": "code",
   "execution_count": null,
   "metadata": {
    "collapsed": false
   },
   "outputs": [],
   "source": [
    "sf.write(audio, 'synthesized.wav', fs)\n",
    "Audio(data=audio.ravel(), rate=fs)"
   ]
  },
  {
   "cell_type": "code",
   "execution_count": null,
   "metadata": {
    "collapsed": false
   },
   "outputs": [],
   "source": [
    "acc = 1.\n",
    "while acc > 0.8:\n",
    "    acc, audio = run_and_plot(model, 'prod-bad', t)\n",
    "Audio(data=audio.ravel(), rate=fs)"
   ]
  },
  {
   "cell_type": "markdown",
   "metadata": {},
   "source": [
    "## VTL gestures"
   ]
  },
  {
   "cell_type": "code",
   "execution_count": null,
   "metadata": {
    "collapsed": false
   },
   "outputs": [],
   "source": [
    "labels = phd.vtl.VTL().gesture_labels()\n",
    "labels.remove('f0')\n",
    "for i, l in enumerate(labels):\n",
    "    print(\"%s, %s\" % (l, phd.experiments.ix2seqlabel(i, labels)))"
   ]
  },
  {
   "cell_type": "markdown",
   "metadata": {},
   "source": [
    "## Running an experiment"
   ]
  },
  {
   "cell_type": "code",
   "execution_count": null,
   "metadata": {
    "collapsed": false
   },
   "outputs": [],
   "source": [
    "model = phd.sermo.Production()\n",
    "model.syllable.tau = 0.018\n",
    "expt = phd.experiments.ProductionExperiment(model, n_syllables=2, sequence_len=2)\n",
    "key = expt.run()\n",
    "res = phd.experiments.ProductionResult.load(key)"
   ]
  },
  {
   "cell_type": "code",
   "execution_count": null,
   "metadata": {
    "collapsed": false
   },
   "outputs": [],
   "source": [
    "# Actual trajectory (from .ges files)\n",
    "img(res.traj)\n",
    "print(res.seq)\n",
    "print(res.freqs)"
   ]
  },
  {
   "cell_type": "code",
   "execution_count": null,
   "metadata": {
    "collapsed": false
   },
   "outputs": [],
   "source": [
    "# Simulated trajectory\n",
    "img(res.simtraj)\n",
    "print(res.simrmse)"
   ]
  },
  {
   "cell_type": "code",
   "execution_count": null,
   "metadata": {
    "collapsed": false
   },
   "outputs": [],
   "source": [
    "# Trajectory from .ges file reconstructed from simulated trajectory\n",
    "img(res.reconstructed)\n",
    "print(res.reconstructedrmse)"
   ]
  },
  {
   "cell_type": "code",
   "execution_count": null,
   "metadata": {
    "collapsed": false
   },
   "outputs": [],
   "source": [
    "Audio(data=res.clean_audio.flatten(), rate=res.fs)"
   ]
  },
  {
   "cell_type": "code",
   "execution_count": null,
   "metadata": {
    "collapsed": false
   },
   "outputs": [],
   "source": [
    "# Audio synthesized by VTL given .ges file\n",
    "# reconstructed from simulated trajectory;\n",
    "# note, no f0 gestures provided.\n",
    "Audio(data=res.audio.flatten(), rate=res.fs)"
   ]
  },
  {
   "cell_type": "code",
   "execution_count": null,
   "metadata": {
    "collapsed": false
   },
   "outputs": [],
   "source": [
    "print(\"accuracy: %f\" % res.accuracy)\n",
    "print(\"timing: %f +/- %f\" % (float(res.timing_mean), float(res.timing_var)))\n",
    "print(\"cooccurring: %f, chance is %f\" % (float(res.cooccur), float(res.co_chance)))"
   ]
  },
  {
   "cell_type": "markdown",
   "metadata": {},
   "source": [
    "## Plotting experimental results"
   ]
  },
  {
   "cell_type": "code",
   "execution_count": null,
   "metadata": {
    "collapsed": false
   },
   "outputs": [],
   "source": [
    "phd.plots.prod_time('tau', 'Syllable tau');"
   ]
  },
  {
   "cell_type": "code",
   "execution_count": null,
   "metadata": {
    "collapsed": false
   },
   "outputs": [],
   "source": [
    "phd.plots.prod_time('syllneurons', 'Syllable neurons');"
   ]
  },
  {
   "cell_type": "code",
   "execution_count": null,
   "metadata": {
    "collapsed": false
   },
   "outputs": [],
   "source": [
    "phd.plots.prod_time('seqneurons', 'Sequencer neurons');"
   ]
  },
  {
   "cell_type": "code",
   "execution_count": null,
   "metadata": {
    "collapsed": false
   },
   "outputs": [],
   "source": [
    "phd.plots.prod_time('freq', 'Frequency');"
   ]
  },
  {
   "cell_type": "code",
   "execution_count": null,
   "metadata": {
    "collapsed": false
   },
   "outputs": [],
   "source": [
    "phd.plots.prod_time('n_syllables', 'Syllabary size');"
   ]
  },
  {
   "cell_type": "code",
   "execution_count": null,
   "metadata": {
    "collapsed": false
   },
   "outputs": [],
   "source": [
    "phd.plots.prod_time('sequence_len', 'Sequence length');"
   ]
  },
  {
   "cell_type": "code",
   "execution_count": null,
   "metadata": {
    "collapsed": false
   },
   "outputs": [],
   "source": [
    "phd.plots.prod_cmp('repeat', 'Repeated syllables', hue_order=[\"False\", \"True\"]);"
   ]
  },
  {
   "cell_type": "code",
   "execution_count": null,
   "metadata": {
    "collapsed": false
   },
   "outputs": [],
   "source": [
    "df = phd.analysis.load_results(\n",
    "    phd.experiments.ProductionResult,\n",
    "    keys=['seqneurons'])\n",
    "\n",
    "for i in range(len(df.index)):\n",
    "    if df['seqneurons'][i] != '1000':\n",
    "        continue\n",
    "\n",
    "    # Output all the .wavs to current directory\n",
    "    cpath, spath = '%d-clean.wav' % i, '%d-sim.wav' % i\n",
    "    if not os.path.exists(cpath):\n",
    "        sf.write(df['clean_audio'][i], cpath, df['fs'][i])\n",
    "    if not os.path.exists(spath):\n",
    "        sf.write(df['audio'][i], spath, df['fs'][i])\n",
    "\n",
    "# After going through them manually...\n",
    "good = [22, 23, 24, 25, 26, 35, 38]\n",
    "okay = [20, 21, 27, 28, 29, 31, 33, 34]\n",
    "bad = [30, 32, 36, 37, 39]\n",
    "total = len(good) + len(okay) + len(bad)\n",
    "print(\"Good: %d, %f\" % (len(good), float(len(good)) / total))\n",
    "print(\"Okay: %d, %f\" % (len(okay), float(len(okay)) / total))\n",
    "print(\"Bad: %d, %f\" % (len(bad), float(len(bad)) / total))"
   ]
  },
  {
   "cell_type": "markdown",
   "metadata": {},
   "source": [
    "## Scaling"
   ]
  },
  {
   "cell_type": "code",
   "execution_count": null,
   "metadata": {
    "collapsed": false
   },
   "outputs": [],
   "source": [
    "def n_neurons(msg, model, n_syllables):\n",
    "    net = model.build()\n",
    "    nn = sum(e.n_neurons for e in net.all_ensembles)\n",
    "    print(\"=== %s ===\" % msg)\n",
    "\n",
    "    # --- SPA sequence stuff\n",
    "    spasyllneurons = model.sequence.syllable_d * model.sequence.n_per_d\n",
    "    spaneurons = spasyllneurons * 5\n",
    "    spaneurons += len(net.sequence.bind.all_ensembles) * model.sequence.n_per_d\n",
    "    # * 5 = sequence, pos (2), pos_next (2), \n",
    "    # net.sequence.bind.all_ensembles => .5 * n_per_d per ensemble, but there's both bind and bind_next\n",
    "    amneurons = 2 * ((n_syllables * 3 + 1) * 50)  # 50 is default for AM\n",
    "    # 2: syllable and syllable_next\n",
    "    # + 1 is for the default output\n",
    "    spaneurons += amneurons\n",
    "\n",
    "    # --- Sequencer stuff\n",
    "    # * 2 + 2: timer is 2d; timer_recur is 2d\n",
    "    # + 60: reset is 60 neurons\n",
    "    # + 20: tr_inhibit is 20 neurons\n",
    "    # + 60: gate is 60 neurons\n",
    "    seqneurons = (model.sequencer.n_per_d * (2 + 2)) + 60 + 20 + 60\n",
    "\n",
    "    # --- DMP stuff\n",
    "    syllneurons = model.syllable.n_per_d\n",
    "    # * (2 + 1): osc is 2d; diff is 1\n",
    "    # + 20: diff_inhib is 20\n",
    "    # + 20: inhib is 20\n",
    "    dmpneurons = n_syllables * ((syllneurons * (2 + 1)) + 20 + 20)\n",
    "\n",
    "    # Emulate having more than 3 syllables\n",
    "\n",
    "    # --- Readout\n",
    "    prodneurons = model.production_info.n_per_d * 48\n",
    "\n",
    "    # --- Total\n",
    "    allneurons = spaneurons + seqneurons + dmpneurons + prodneurons\n",
    "\n",
    "    print(\"Nspa: %d, Nseq: %d, Ndmp: %d, Nprod: %d\" % (\n",
    "        spaneurons, seqneurons, dmpneurons, prodneurons))\n",
    "    print(\"Total: %d neurons\" % allneurons)\n",
    "    print(\"%.3f mm^3 of cortex\" % (allneurons / 27000.))\n",
    "    print(\"\")\n",
    "\n",
    "def add_syllables(model, n_syllables):\n",
    "    model.trial.sequence = \"POS1\"\n",
    "    for p, f in zip(*phd.analysis.get_syllables(n_syllables, 1, 1)):\n",
    "        tr = phd.vtl.parse_ges(p).trajectory(model.trial.dt)\n",
    "        lbl = phd.experiments.path2label(p)\n",
    "        model.add_syllable(label=lbl, freq=f, trajectory=tr)\n",
    "\n",
    "model = phd.sermo.Production()\n",
    "add_syllables(model, 3)\n",
    "net = model.build()\n",
    "n_neurons(\"Default configuration\", model, 3)\n",
    "model = phd.sermo.Production()\n",
    "model.sequence.syllable_d = 256\n",
    "add_syllables(model, 3)\n",
    "net = model.build()\n",
    "n_neurons(\"Conservative estimate\", model, 1000)\n",
    "model = phd.sermo.Production()\n",
    "model.sequence.syllable_d = 512\n",
    "add_syllables(model, 3)\n",
    "net = model.build()\n",
    "n_neurons(\"Generous estimate\", model, 2000);"
   ]
  }
 ],
 "metadata": {
  "kernelspec": {
   "display_name": "Python 2",
   "language": "python",
   "name": "python2"
  },
  "language_info": {
   "codemirror_mode": {
    "name": "ipython",
    "version": 2
   },
   "file_extension": ".py",
   "mimetype": "text/x-python",
   "name": "python",
   "nbconvert_exporter": "python",
   "pygments_lexer": "ipython2",
   "version": "2.7.10"
  }
 },
 "nbformat": 4,
 "nbformat_minor": 0
}
