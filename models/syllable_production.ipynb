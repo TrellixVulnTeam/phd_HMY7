{
 "cells": [
  {
   "cell_type": "code",
   "execution_count": null,
   "metadata": {
    "collapsed": false
   },
   "outputs": [],
   "source": [
    "import numpy as np\n",
    "import matplotlib.pyplot as plt\n",
    "%matplotlib inline\n",
    "import seaborn as sns\n",
    "from IPython.display import Audio\n",
    "\n",
    "# Some plotting niceties\n",
    "plt.rc('figure', figsize=(10, 4))\n",
    "sns.set_style('white')\n",
    "sns.set_style('ticks')\n",
    "\n",
    "import nengo\n",
    "import phd\n",
    "\n",
    "def img(array):\n",
    "    plt.pcolormesh(array.T)\n",
    "    plt.ylim(top=array.shape[1])\n",
    "    plt.xlim(right=array.shape[0])\n",
    "    plt.yticks(())\n",
    "    sns.despine(left=True)\n",
    "    plt.tight_layout()"
   ]
  },
  {
   "cell_type": "code",
   "execution_count": null,
   "metadata": {
    "collapsed": false
   },
   "outputs": [],
   "source": [
    "%%javascript\n",
    "if($(IPython.toolbar.selector.concat(' > #kill-run-first')).length == 0){\n",
    "  IPython.toolbar.add_buttons_group([\n",
    "    {\n",
    "      'label'   : 'kill and run-first',\n",
    "      'icon'    : 'fa fa-angle-double-down',\n",
    "      'callback': function(){\n",
    "        IPython.notebook.kernel.restart();\n",
    "        $(IPython.events).one('kernel_ready.Kernel', function(){\n",
    "          var idx = IPython.notebook.get_selected_index();\n",
    "          IPython.notebook.select(0);\n",
    "          IPython.notebook.execute_cell();\n",
    "          IPython.notebook.select(idx);\n",
    "        });\n",
    "      }\n",
    "    }\n",
    "  ], 'kill-run-first');\n",
    "}"
   ]
  },
  {
   "cell_type": "markdown",
   "metadata": {},
   "source": [
    "## Basic usage"
   ]
  },
  {
   "cell_type": "code",
   "execution_count": null,
   "metadata": {
    "collapsed": false
   },
   "outputs": [],
   "source": [
    "model = phd.sermo.Production()\n",
    "model.trial.sequence = 'BLAA*POS1 + TII*POS2 + DAS*POS3'\n",
    "freqs = [('ges-de-ccv', 'blaa', 1.2), ('ges-de-cv', 'tii', 1.8), ('ges-de-cvc', 'das', 1.1)]\n",
    "t = 0.2\n",
    "for gdir, ges, freq in freqs:\n",
    "    path = phd.ges_path(gdir, '%s.ges' % ges.lower())\n",
    "    traj = phd.vtl.parse_ges(path).trajectory(dt=model.trial.dt)\n",
    "    model.add_syllable(label=ges.upper(), freq=freq, trajectory=traj)\n",
    "    t += 1. / freq"
   ]
  },
  {
   "cell_type": "code",
   "execution_count": null,
   "metadata": {
    "collapsed": false
   },
   "outputs": [],
   "source": [
    "net = model.build()\n",
    "with net:\n",
    "    p_syll = nengo.Probe(net.sequence.syllable.output, synapse=0.01)\n",
    "    p_gate = nengo.Probe(net.sequencer.gate, synapse=0.01)\n",
    "    p_reset = nengo.Probe(net.sequencer.reset, synapse=0.01)\n",
    "    p_timer = nengo.Probe(net.sequencer.timer, synapse=0.01)\n",
    "    p_disinhib = [nengo.Probe(dmp.disinhibit, synapse=0.01) for dmp in net.syllables]\n",
    "    p_dmps = [nengo.Probe(dmp.osc, synapse=0.01) for dmp in net.syllables]\n",
    "    p_prod = nengo.Probe(net.production_info.output, synapse=0.01)"
   ]
  },
  {
   "cell_type": "code",
   "execution_count": null,
   "metadata": {
    "collapsed": false
   },
   "outputs": [],
   "source": [
    "sim = nengo.Simulator(net)\n",
    "sim.run(t)"
   ]
  },
  {
   "cell_type": "code",
   "execution_count": null,
   "metadata": {
    "collapsed": false,
    "scrolled": true
   },
   "outputs": [],
   "source": [
    "syllables = [s[1].upper() for s in freqs]\n",
    "plt.plot(sim.trange(), \n",
    "         nengo.spa.similarity(sim.data[p_syll],\n",
    "                              net.sequence.vocab.create_subset(syllables)))\n",
    "plt.legend(syllables, loc='best')"
   ]
  },
  {
   "cell_type": "code",
   "execution_count": null,
   "metadata": {
    "collapsed": false
   },
   "outputs": [],
   "source": [
    "plt.plot(sim.trange(), sim.data[p_gate])\n",
    "plt.plot(sim.trange(), sim.data[p_reset])\n",
    "plt.plot(sim.trange(), sim.data[p_timer])\n",
    "plt.legend(['gate', 'kick', 'timer', 'timer'], loc=\"best\")"
   ]
  },
  {
   "cell_type": "code",
   "execution_count": null,
   "metadata": {
    "collapsed": false
   },
   "outputs": [],
   "source": [
    "for p_dis in p_disinhib:\n",
    "    plt.plot(sim.trange(), sim.data[p_dis])\n",
    "plt.legend(syllables, loc=\"best\")"
   ]
  },
  {
   "cell_type": "code",
   "execution_count": null,
   "metadata": {
    "collapsed": false
   },
   "outputs": [],
   "source": [
    "plt.figure(figsize=(10, 10))\n",
    "plt.subplot(2, 2, 1)\n",
    "plt.plot(sim.data[p_timer].T[0], sim.data[p_timer].T[1])\n",
    "for i, p_dmp in enumerate(p_dmps):\n",
    "    plt.subplot(2, 2, i + 2)\n",
    "    plt.plot(sim.data[p_dmp].T[0], sim.data[p_dmp].T[1])"
   ]
  },
  {
   "cell_type": "code",
   "execution_count": null,
   "metadata": {
    "collapsed": false
   },
   "outputs": [],
   "source": [
    "img(sim.data[p_prod]);"
   ]
  },
  {
   "cell_type": "markdown",
   "metadata": {},
   "source": [
    "## Running an experiment"
   ]
  },
  {
   "cell_type": "code",
   "execution_count": null,
   "metadata": {
    "collapsed": false
   },
   "outputs": [],
   "source": [
    "model = phd.sermo.Production()\n",
    "expt = phd.experiments.ProductionExperiment(model, n_syllables=2, sequence_len=2, seed=5)\n",
    "key = expt.run()\n",
    "res = phd.experiments.ProductionResult.load(key)"
   ]
  },
  {
   "cell_type": "code",
   "execution_count": null,
   "metadata": {
    "collapsed": false
   },
   "outputs": [],
   "source": [
    "# Actual trajectory (from .ges files)\n",
    "img(res.traj)\n",
    "print(res.seq)\n",
    "print(res.freqs)"
   ]
  },
  {
   "cell_type": "code",
   "execution_count": null,
   "metadata": {
    "collapsed": false
   },
   "outputs": [],
   "source": [
    "# Simulated trajectory\n",
    "img(res.simtraj)\n",
    "print(res.simrmse)"
   ]
  },
  {
   "cell_type": "code",
   "execution_count": null,
   "metadata": {
    "collapsed": false
   },
   "outputs": [],
   "source": [
    "# Trajectory from .ges file reconstructed from simulated trajectory\n",
    "img(res.reconstructed)\n",
    "print(res.reconstructedrmse)"
   ]
  },
  {
   "cell_type": "code",
   "execution_count": null,
   "metadata": {
    "collapsed": false
   },
   "outputs": [],
   "source": [
    "# Audio synthesized by VTL given .ges file\n",
    "# reconstructed from simulated trajectory;\n",
    "# note, no f0 gestures provided.\n",
    "Audio(data=res.audio.flatten(), rate=res.fs)"
   ]
  },
  {
   "cell_type": "code",
   "execution_count": null,
   "metadata": {
    "collapsed": false
   },
   "outputs": [],
   "source": [
    "print(\"accuracy: %f\" % res.accuracy)\n",
    "print(\"timing: %f +/- %f\" % (float(res.timing_mean), float(res.timing_var)))\n",
    "print(\"cooccurring: %f, chance is %f\" % (float(res.cooccur), float(res.co_chance)))"
   ]
  },
  {
   "cell_type": "markdown",
   "metadata": {},
   "source": [
    "## Plotting experimental results"
   ]
  },
  {
   "cell_type": "code",
   "execution_count": null,
   "metadata": {
    "collapsed": false
   },
   "outputs": [],
   "source": [
    "df = phd.analysis.load_results(phd.experiments.ProductionResult, ['outneurons'])\n",
    "print(df.columns)\n",
    "\n",
    "plt.figure()\n",
    "phd.plots.compare(df,\n",
    "                  columns=['simrmse', 'reconstructedrmse'],\n",
    "                  group_by='outneurons',\n",
    "                  x_keys=['Simulated trajectory', 'Reconstructed trajectory'],\n",
    "                  x_label='Syllable neurons',\n",
    "                  y_label='RMSE',\n",
    "                  plot_f=sns.barplot,\n",
    "                  hue_order=[\"30\", \"60\", \"90\", \"120\"])\n",
    "plt.xlabel(\"\")\n",
    "\n",
    "plt.figure()\n",
    "phd.plots.compare(df,\n",
    "                  columns=['accuracy'],\n",
    "                  group_by='outneurons',\n",
    "                  x_keys=['Accuracy'],\n",
    "                  x_label='Syllable neurons',\n",
    "                  y_label='Accuracy',\n",
    "                  plot_f=sns.barplot,\n",
    "                  hue_order=[\"30\", \"60\", \"90\", \"120\"])\n",
    "plt.xlabel(\"\")\n",
    "\n",
    "plt.figure()\n",
    "phd.plots.compare(df,\n",
    "                  columns=['timing_mean', 'timing_var'],\n",
    "                  group_by='outneurons',\n",
    "                  x_keys=['Timing mean', 'Timing variance'],\n",
    "                  x_label='Syllable neurons',\n",
    "                  y_label='Timing',\n",
    "                  plot_f=sns.barplot,\n",
    "                  hue_order=[\"30\", \"60\", \"90\", \"120\"])\n",
    "plt.xlabel(\"\")\n",
    "\n",
    "plt.figure()\n",
    "phd.plots.compare(df,\n",
    "                  columns=['cooccur'],\n",
    "                  group_by='outneurons',\n",
    "                  x_keys=['Cooccurrence'],\n",
    "                  x_label='Coocurrence',\n",
    "                  y_label='Accuracy',\n",
    "                  plot_f=sns.barplot,\n",
    "                  hue_order=[\"30\", \"60\", \"90\", \"120\"])\n",
    "plt.axhline(df[\"co_chance\"].mean(), c='k')\n",
    "plt.xlabel(\"\")"
   ]
  },
  {
   "cell_type": "code",
   "execution_count": null,
   "metadata": {
    "collapsed": false
   },
   "outputs": [],
   "source": [
    "df = phd.analysis.load_results(phd.experiments.ProductionResult, ['seqneurons'])\n",
    "print(df.columns)\n",
    "\n",
    "plt.figure()\n",
    "phd.plots.compare(df,\n",
    "                  columns=['simrmse', 'reconstructedrmse'],\n",
    "                  group_by='seqneurons',\n",
    "                  x_keys=['Simulated trajectory', 'Reconstructed trajectory'],\n",
    "                  x_label='Syllable neurons',\n",
    "                  y_label='RMSE',\n",
    "                  plot_f=sns.barplot,\n",
    "                  hue_order=[\"60\", \"120\", \"180\", \"240\"])\n",
    "plt.xlabel(\"\")\n",
    "\n",
    "plt.figure()\n",
    "phd.plots.compare(df,\n",
    "                  columns=['accuracy'],\n",
    "                  group_by='seqneurons',\n",
    "                  x_keys=['Accuracy'],\n",
    "                  x_label='Syllable neurons',\n",
    "                  y_label='Accuracy',\n",
    "                  plot_f=sns.barplot,\n",
    "                  hue_order=[\"60\", \"120\", \"180\", \"240\"])\n",
    "plt.xlabel(\"\")\n",
    "\n",
    "plt.figure()\n",
    "phd.plots.compare(df,\n",
    "                  columns=['timing_mean', 'timing_var'],\n",
    "                  group_by='seqneurons',\n",
    "                  x_keys=['Timing mean', 'Timing variance'],\n",
    "                  x_label='Syllable neurons',\n",
    "                  y_label='Timing',\n",
    "                  plot_f=sns.barplot,\n",
    "                  hue_order=[\"60\", \"120\", \"180\", \"240\"])\n",
    "plt.xlabel(\"\")\n",
    "\n",
    "plt.figure()\n",
    "phd.plots.compare(df,\n",
    "                  columns=['cooccur'],\n",
    "                  group_by='seqneurons',\n",
    "                  x_keys=['Cooccurrence'],\n",
    "                  x_label='Coocurrence',\n",
    "                  y_label='Accuracy',\n",
    "                  plot_f=sns.barplot,\n",
    "                  hue_order=[\"60\", \"120\", \"180\", \"240\"])\n",
    "plt.axhline(df[\"co_chance\"].mean(), c='k')\n",
    "plt.xlabel(\"\")"
   ]
  },
  {
   "cell_type": "code",
   "execution_count": null,
   "metadata": {
    "collapsed": false
   },
   "outputs": [],
   "source": [
    "df = phd.analysis.load_results(phd.experiments.ProductionResult, ['syllneurons'])\n",
    "print(df.columns)\n",
    "\n",
    "plt.figure()\n",
    "phd.plots.compare(df,\n",
    "                  columns=['simrmse', 'reconstructedrmse'],\n",
    "                  group_by='syllneurons',\n",
    "                  x_keys=['Simulated trajectory', 'Reconstructed trajectory'],\n",
    "                  x_label='Syllable neurons',\n",
    "                  y_label='RMSE',\n",
    "                  plot_f=sns.barplot,\n",
    "                  hue_order=[\"60\", \"120\", \"180\", \"240\"])\n",
    "plt.xlabel(\"\")\n",
    "\n",
    "plt.figure()\n",
    "phd.plots.compare(df,\n",
    "                  columns=['accuracy'],\n",
    "                  group_by='syllneurons',\n",
    "                  x_keys=['Accuracy'],\n",
    "                  x_label='Syllable neurons',\n",
    "                  y_label='Accuracy',\n",
    "                  plot_f=sns.barplot,\n",
    "                  hue_order=[\"60\", \"120\", \"180\", \"240\"])\n",
    "plt.xlabel(\"\")\n",
    "\n",
    "plt.figure()\n",
    "phd.plots.compare(df,\n",
    "                  columns=['timing_mean', 'timing_var'],\n",
    "                  group_by='syllneurons',\n",
    "                  x_keys=['Timing mean', 'Timing variance'],\n",
    "                  x_label='Syllable neurons',\n",
    "                  y_label='Timing',\n",
    "                  plot_f=sns.barplot,\n",
    "                  hue_order=[\"60\", \"120\", \"180\", \"240\"])\n",
    "plt.xlabel(\"\")\n",
    "\n",
    "plt.figure()\n",
    "phd.plots.compare(df,\n",
    "                  columns=['cooccur'],\n",
    "                  group_by='syllneurons',\n",
    "                  x_keys=['Cooccurrence'],\n",
    "                  x_label='Coocurrence',\n",
    "                  y_label='Accuracy',\n",
    "                  plot_f=sns.barplot,\n",
    "                  hue_order=[\"60\", \"120\", \"180\", \"240\"])\n",
    "plt.axhline(df[\"co_chance\"].mean(), c='k')\n",
    "plt.xlabel(\"\")"
   ]
  }
 ],
 "metadata": {
  "kernelspec": {
   "display_name": "Python 2",
   "language": "python",
   "name": "python2"
  },
  "language_info": {
   "codemirror_mode": {
    "name": "ipython",
    "version": 2
   },
   "file_extension": ".py",
   "mimetype": "text/x-python",
   "name": "python",
   "nbconvert_exporter": "python",
   "pygments_lexer": "ipython2",
   "version": "2.7.10"
  }
 },
 "nbformat": 4,
 "nbformat_minor": 0
}
