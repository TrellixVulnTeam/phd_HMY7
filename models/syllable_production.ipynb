{
 "cells": [
  {
   "cell_type": "code",
   "execution_count": null,
   "metadata": {
    "collapsed": false
   },
   "outputs": [],
   "source": [
    "import phd\n",
    "\n",
    "import os\n",
    "%matplotlib inline\n",
    "import matplotlib.pyplot as plt\n",
    "import seaborn as sns\n",
    "import nengo\n",
    "import numpy as np\n",
    "import soundfile as sf\n",
    "from IPython.display import Audio\n",
    "\n",
    "# Some plotting niceties\n",
    "phd.plots.setup()"
   ]
  },
  {
   "cell_type": "code",
   "execution_count": null,
   "metadata": {
    "collapsed": false
   },
   "outputs": [],
   "source": [
    "%%javascript\n",
    "if($(IPython.toolbar.selector.concat(' > #kill-run-first')).length == 0){\n",
    "  IPython.toolbar.add_buttons_group([\n",
    "    {\n",
    "      'label'   : 'kill and run-first',\n",
    "      'icon'    : 'fa fa-angle-double-down',\n",
    "      'callback': function(){\n",
    "        IPython.notebook.kernel.restart();\n",
    "        $(IPython.events).one('kernel_ready.Kernel', function(){\n",
    "          var idx = IPython.notebook.get_selected_index();\n",
    "          IPython.notebook.select(0);\n",
    "          IPython.notebook.execute_cell();\n",
    "          IPython.notebook.select(idx);\n",
    "        });\n",
    "      }\n",
    "    }\n",
    "  ], 'kill-run-first');\n",
    "}"
   ]
  },
  {
   "cell_type": "markdown",
   "metadata": {},
   "source": [
    "## Basic usage"
   ]
  },
  {
   "cell_type": "code",
   "execution_count": null,
   "metadata": {
    "collapsed": false
   },
   "outputs": [],
   "source": [
    "model = phd.sermo.Production()\n",
    "model.trial.sequence = 'BLAA*POS1 + TII*POS2 + DAS*POS3'\n",
    "freqs = [('ges-de-ccv', 'blaa', 1.8), ('ges-de-cv', 'tii', 2.2), ('ges-de-cvc', 'das', 1.5)]\n",
    "t = 0.2\n",
    "for gdir, ges, freq in freqs:\n",
    "    path = phd.ges_path(gdir, '%s.ges' % ges.lower())\n",
    "    traj = phd.vtl.parse_ges(path).trajectory(dt=model.trial.dt)\n",
    "    model.add_syllable(label=ges.upper(), freq=freq, trajectory=traj)\n",
    "    t += 1. / freq"
   ]
  },
  {
   "cell_type": "code",
   "execution_count": null,
   "metadata": {
    "collapsed": false
   },
   "outputs": [],
   "source": [
    "net = model.build(net=nengo.Network(seed=0))\n",
    "with net:\n",
    "    p_syll = nengo.Probe(net.sequence.syllable.output, synapse=0.01)\n",
    "    p_gate = nengo.Probe(net.sequencer.gate, synapse=0.01)\n",
    "    p_reset = nengo.Probe(net.sequencer.reset, synapse=0.01)\n",
    "    p_timer = nengo.Probe(net.sequencer.timer, synapse=0.01)\n",
    "    p_disinhib = [nengo.Probe(dmp.disinhibit, synapse=0.01) for dmp in net.syllables]\n",
    "    p_dmps = [nengo.Probe(dmp.osc, synapse=0.01) for dmp in net.syllables]\n",
    "    p_prod = nengo.Probe(net.production_info.output, synapse=0.01)"
   ]
  },
  {
   "cell_type": "code",
   "execution_count": null,
   "metadata": {
    "collapsed": false
   },
   "outputs": [],
   "source": [
    "sim = nengo.Simulator(net)\n",
    "sim.run(t)"
   ]
  },
  {
   "cell_type": "code",
   "execution_count": null,
   "metadata": {
    "collapsed": false,
    "scrolled": true
   },
   "outputs": [],
   "source": [
    "syllables = [s[1].upper() for s in freqs]\n",
    "plt.plot(sim.trange(), \n",
    "         nengo.spa.similarity(sim.data[p_syll],\n",
    "                              net.sequence.vocab.create_subset(syllables)))\n",
    "plt.legend(syllables, loc='best')"
   ]
  },
  {
   "cell_type": "code",
   "execution_count": null,
   "metadata": {
    "collapsed": false
   },
   "outputs": [],
   "source": [
    "plt.plot(sim.trange(), sim.data[p_gate])\n",
    "plt.plot(sim.trange(), sim.data[p_reset])\n",
    "plt.plot(sim.trange(), sim.data[p_timer])\n",
    "plt.legend(['gate', 'kick', 'timer', 'timer'], loc=\"best\")"
   ]
  },
  {
   "cell_type": "code",
   "execution_count": null,
   "metadata": {
    "collapsed": false
   },
   "outputs": [],
   "source": [
    "for p_dis in p_disinhib:\n",
    "    plt.plot(sim.trange(), sim.data[p_dis])\n",
    "plt.legend(syllables, loc=\"best\")"
   ]
  },
  {
   "cell_type": "code",
   "execution_count": null,
   "metadata": {
    "collapsed": false
   },
   "outputs": [],
   "source": [
    "plt.figure(figsize=(10, 10))\n",
    "plt.subplot(2, 2, 1)\n",
    "plt.plot(sim.data[p_timer].T[0], sim.data[p_timer].T[1])\n",
    "for i, p_dmp in enumerate(p_dmps):\n",
    "    plt.subplot(2, 2, i + 2)\n",
    "    plt.plot(sim.data[p_dmp].T[0], sim.data[p_dmp].T[1])"
   ]
  },
  {
   "cell_type": "code",
   "execution_count": null,
   "metadata": {
    "collapsed": false
   },
   "outputs": [],
   "source": [
    "plt.figure(figsize=(6, 4))\n",
    "phd.plots.plot_traj(sim.data[p_prod], cbar=False);"
   ]
  },
  {
   "cell_type": "markdown",
   "metadata": {},
   "source": [
    "## Running an experiment"
   ]
  },
  {
   "cell_type": "code",
   "execution_count": null,
   "metadata": {
    "collapsed": false
   },
   "outputs": [],
   "source": [
    "model = phd.sermo.Production()\n",
    "model.syllable.tau = 0.018\n",
    "expt = phd.experiments.ProductionExperiment(model, n_syllables=2, sequence_len=2)\n",
    "key = expt.run()\n",
    "res = phd.experiments.ProductionResult.load(key)"
   ]
  },
  {
   "cell_type": "code",
   "execution_count": null,
   "metadata": {
    "collapsed": false
   },
   "outputs": [],
   "source": [
    "# Actual trajectory (from .ges files)\n",
    "img(res.traj)\n",
    "print(res.seq)\n",
    "print(res.freqs)"
   ]
  },
  {
   "cell_type": "code",
   "execution_count": null,
   "metadata": {
    "collapsed": false
   },
   "outputs": [],
   "source": [
    "# Simulated trajectory\n",
    "img(res.simtraj)\n",
    "print(res.simrmse)"
   ]
  },
  {
   "cell_type": "code",
   "execution_count": null,
   "metadata": {
    "collapsed": false
   },
   "outputs": [],
   "source": [
    "# Trajectory from .ges file reconstructed from simulated trajectory\n",
    "img(res.reconstructed)\n",
    "print(res.reconstructedrmse)"
   ]
  },
  {
   "cell_type": "code",
   "execution_count": null,
   "metadata": {
    "collapsed": false
   },
   "outputs": [],
   "source": [
    "Audio(data=res.clean_audio.flatten(), rate=res.fs)"
   ]
  },
  {
   "cell_type": "code",
   "execution_count": null,
   "metadata": {
    "collapsed": false
   },
   "outputs": [],
   "source": [
    "# Audio synthesized by VTL given .ges file\n",
    "# reconstructed from simulated trajectory;\n",
    "# note, no f0 gestures provided.\n",
    "Audio(data=res.audio.flatten(), rate=res.fs)"
   ]
  },
  {
   "cell_type": "code",
   "execution_count": null,
   "metadata": {
    "collapsed": false
   },
   "outputs": [],
   "source": [
    "print(\"accuracy: %f\" % res.accuracy)\n",
    "print(\"timing: %f +/- %f\" % (float(res.timing_mean), float(res.timing_var)))\n",
    "print(\"cooccurring: %f, chance is %f\" % (float(res.cooccur), float(res.co_chance)))"
   ]
  },
  {
   "cell_type": "markdown",
   "metadata": {},
   "source": [
    "## Plotting experimental results"
   ]
  },
  {
   "cell_type": "code",
   "execution_count": null,
   "metadata": {
    "collapsed": false
   },
   "outputs": [],
   "source": [
    "# Put figures in phd/figures\n",
    "root = os.path.abspath(os.path.join(os.path.dirname(phd.__file__), \"..\"))\n",
    "def fig(name, ext='svg'):\n",
    "    return os.path.join(root, \"figures\", \"results\", \"%s.%s\" % (name, ext))\n",
    "\n",
    "def time_plots(key, x_label):\n",
    "    df = phd.analysis.load_results(phd.experiments.ProductionResult, [key])\n",
    "\n",
    "    cmp_args = {'group_by': key,\n",
    "                'x_label': x_label}\n",
    "\n",
    "    acc = plt.figure()\n",
    "    phd.plots.timeseries(df,\n",
    "                      columns=['accuracy'],\n",
    "                      x_keys=['Accuracy'],\n",
    "                      y_label='Accuracy',\n",
    "                      **cmp_args)\n",
    "    plt.axhline(phd.analysis.gs_accuracy_baseline, c='k', ls=':')\n",
    "    plt.xlabel(\"\")\n",
    "    plt.tight_layout()\n",
    "    acc.savefig(fig('prod-%s-acc' % key))\n",
    "\n",
    "    err = plt.figure()\n",
    "    phd.plots.timeseries(df,\n",
    "                      columns=['n_sub', 'n_del', 'n_ins'],\n",
    "                      x_keys=['Substitutions', 'Deletions', 'Insertions'],\n",
    "                      y_label='Count',\n",
    "                      **cmp_args)\n",
    "    plt.xlabel(\"\")\n",
    "    plt.tight_layout()\n",
    "    err.savefig(fig('prod-%s-err' % key))\n",
    "\n",
    "    timing = plt.figure()\n",
    "    phd.plots.timeseries(df,\n",
    "                      columns=['timing_mean', 'timing_var'],\n",
    "                      x_keys=['Timing mean', 'Timing variance'],\n",
    "                      y_label='Timing',\n",
    "                      **cmp_args)\n",
    "    plt.xlabel(\"\")\n",
    "    plt.tight_layout()\n",
    "    timing.savefig(fig('prod-%s-timing' % key))\n",
    "\n",
    "    co = plt.figure()\n",
    "    phd.plots.timeseries(df,\n",
    "                      columns=['cooccur'],\n",
    "                      x_keys=['Cooccurrence'],\n",
    "                      y_label='Cooccurrence',\n",
    "                      **cmp_args)\n",
    "    plt.axhline(df[\"co_chance\"].mean(), c='k', ls=\":\")\n",
    "    plt.xlabel(\"\")\n",
    "    plt.tight_layout()\n",
    "    co.savefig(fig('prod-%s-co' % key))\n",
    "    return acc, timing, co\n",
    "\n",
    "def cmp_plots(key, x_label, hue_order):\n",
    "    df = phd.analysis.load_results(phd.experiments.ProductionResult, [key])\n",
    "\n",
    "    cmp_args = {'group_by': key,\n",
    "                'x_label': x_label,\n",
    "                'hue_order': hue_order}\n",
    "\n",
    "    acc = plt.figure()\n",
    "    phd.plots.compare(df,\n",
    "                      columns=['accuracy'],\n",
    "                      x_keys=['Accuracy'],\n",
    "                      y_label='Accuracy',\n",
    "                      plot_f=sns.barplot,\n",
    "                      **cmp_args)\n",
    "    plt.axhline(phd.analysis.gs_accuracy_baseline, c='k', ls=':')\n",
    "    plt.xlabel(\"\")\n",
    "    plt.tight_layout()\n",
    "    acc.savefig(fig('prod-%s-acc' % key))\n",
    "\n",
    "    err = plt.figure()\n",
    "    phd.plots.compare(df,\n",
    "                      columns=['n_sub', 'n_del', 'n_ins'],\n",
    "                      x_keys=['Substitutions', 'Deletions', 'Insertions'],\n",
    "                      y_label='Count',\n",
    "                      plot_f=sns.barplot,\n",
    "                      **cmp_args)\n",
    "    plt.xlabel(\"\")\n",
    "    plt.tight_layout()\n",
    "    err.savefig(fig('prod-%s-err' % key))\n",
    "\n",
    "    timing = plt.figure()\n",
    "    phd.plots.compare(df,\n",
    "                      columns=['timing_mean', 'timing_var'],\n",
    "                      x_keys=['Timing mean', 'Timing variance'],\n",
    "                      y_label='Timing',\n",
    "                      plot_f=sns.barplot,\n",
    "                      **cmp_args)\n",
    "    plt.xlabel(\"\")\n",
    "    plt.tight_layout()\n",
    "    timing.savefig(fig('prod-%s-timing' % key))\n",
    "\n",
    "    co = plt.figure()\n",
    "    phd.plots.compare(df,\n",
    "                      columns=['cooccur'],\n",
    "                      x_keys=['Cooccurrence'],\n",
    "                      y_label='Cooccurrence',\n",
    "                      plot_f=sns.barplot,\n",
    "                      **cmp_args)\n",
    "    plt.axhline(df[\"co_chance\"].mean(), c='k', ls=\":\")\n",
    "    plt.xlabel(\"\")\n",
    "    plt.tight_layout()\n",
    "    co.savefig(fig('prod-%s-co' % key))\n",
    "    return acc, timing, co"
   ]
  },
  {
   "cell_type": "code",
   "execution_count": null,
   "metadata": {
    "collapsed": false
   },
   "outputs": [],
   "source": [
    "time_plots('tau', 'Syllable tau');"
   ]
  },
  {
   "cell_type": "code",
   "execution_count": null,
   "metadata": {
    "collapsed": false
   },
   "outputs": [],
   "source": [
    "time_plots('syllneurons', 'Syllable neurons');"
   ]
  },
  {
   "cell_type": "code",
   "execution_count": null,
   "metadata": {
    "collapsed": false
   },
   "outputs": [],
   "source": [
    "time_plots('seqneurons', 'Sequencer neurons');"
   ]
  },
  {
   "cell_type": "code",
   "execution_count": null,
   "metadata": {
    "collapsed": false
   },
   "outputs": [],
   "source": [
    "time_plots('freq', 'Frequency');"
   ]
  },
  {
   "cell_type": "code",
   "execution_count": null,
   "metadata": {
    "collapsed": false
   },
   "outputs": [],
   "source": [
    "time_plots('n_syllables', 'Syllabary size');"
   ]
  },
  {
   "cell_type": "code",
   "execution_count": null,
   "metadata": {
    "collapsed": false
   },
   "outputs": [],
   "source": [
    "time_plots('sequence_len', 'Sequence length');"
   ]
  },
  {
   "cell_type": "code",
   "execution_count": null,
   "metadata": {
    "collapsed": false
   },
   "outputs": [],
   "source": [
    "cmp_plots('repeat', 'Repeated syllables', hue_order=[\"False\", \"True\"]);"
   ]
  },
  {
   "cell_type": "code",
   "execution_count": null,
   "metadata": {
    "collapsed": false
   },
   "outputs": [],
   "source": [
    "df = phd.analysis.load_results(\n",
    "    phd.experiments.ProductionResult,\n",
    "    keys=['tau'])\n",
    "\n",
    "for i in range(len(df.index)):\n",
    "    # Output all the .wavs to current directory\n",
    "    cpath, spath = '%d-clean.wav' % i, '%d-sim.wav' % i\n",
    "    if not os.path.exists(cpath):\n",
    "        sf.write(df['clean_audio'][i], cpath, df['fs'][i])\n",
    "    if not os.path.exists(spath):\n",
    "        sf.write(df['audio'][i], spath, df['fs'][i])\n",
    "\n",
    "# After going through them manually...\n",
    "good = [0]\n",
    "okay = [1]\n",
    "bad = [2]\n",
    "silent = [3]\n",
    "total = len(good) + len(okay) + len(bad) + len(silent)\n",
    "print(\"Good: %f\" % (float(len(good)) / total))\n",
    "print(\"Okay: %f\" % (float(len(okay)) / total))\n",
    "print(\"Bad: %f\" % (float(len(bad)) / total))\n",
    "print(\"Silent: %f\" % (float(len(silent)) / total))"
   ]
  },
  {
   "cell_type": "markdown",
   "metadata": {},
   "source": [
    "## Scaling"
   ]
  },
  {
   "cell_type": "code",
   "execution_count": null,
   "metadata": {
    "collapsed": false
   },
   "outputs": [],
   "source": [
    "def n_neurons(msg, model, n_syllables):\n",
    "    net = model.build()\n",
    "    nn = sum(e.n_neurons for e in net.all_ensembles)\n",
    "    print(\"=== %s ===\" % msg)\n",
    "\n",
    "    # --- SPA sequence stuff\n",
    "    spasyllneurons = model.sequence.syllable_d * model.sequence.n_per_d\n",
    "    spaneurons = spasyllneurons * 5\n",
    "    spaneurons += len(net.sequence.bind.all_ensembles) * model.sequence.n_per_d\n",
    "    # * 5 = sequence, pos (2), pos_next (2), \n",
    "    # net.sequence.bind.all_ensembles => .5 * n_per_d per ensemble, but there's both bind and bind_next\n",
    "    amneurons = 2 * ((n_syllables * 3 + 1) * 50)  # 50 is default for AM\n",
    "    # 2: syllable and syllable_next\n",
    "    # + 1 is for the default output\n",
    "    spaneurons += amneurons\n",
    "\n",
    "    # --- Sequencer stuff\n",
    "    # * 2 + 2: timer is 2d; timer_recur is 2d\n",
    "    # + 60: reset is 60 neurons\n",
    "    # + 20: tr_inhibit is 20 neurons\n",
    "    # + 60: gate is 60 neurons\n",
    "    seqneurons = (model.sequencer.n_per_d * (2 + 2)) + 60 + 20 + 60\n",
    "\n",
    "    # --- DMP stuff\n",
    "    syllneurons = model.syllable.n_per_d\n",
    "    # * (2 + 1): osc is 2d; diff is 1\n",
    "    # + 20: diff_inhib is 20\n",
    "    # + 20: inhib is 20\n",
    "    dmpneurons = n_syllables * ((syllneurons * (2 + 1)) + 20 + 20)\n",
    "\n",
    "    # Emulate having more than 3 syllables\n",
    "\n",
    "    # --- Readout\n",
    "    prodneurons = model.production_info.n_per_d * 48\n",
    "\n",
    "    # --- Total\n",
    "    allneurons = spaneurons + seqneurons + dmpneurons + prodneurons\n",
    "\n",
    "    print(\"Nspa: %d, Nseq: %d, Ndmp: %d, Nprod: %d\" % (\n",
    "        spaneurons, seqneurons, dmpneurons, prodneurons))\n",
    "    print(\"Total: %d neurons\" % allneurons)\n",
    "    print(\"\")\n",
    "\n",
    "def add_syllables(model, n_syllables):\n",
    "    model.trial.sequence = \"POS1\"\n",
    "    for p, f in zip(*phd.experiments.get_syllables(n_syllables, 1, 1)):\n",
    "        tr = phd.vtl.parse_ges(p).trajectory(model.trial.dt)\n",
    "        lbl = phd.experiments.path2label(p)\n",
    "        model.add_syllable(label=lbl, freq=f, trajectory=tr)\n",
    "\n",
    "model = phd.sermo.Production()\n",
    "add_syllables(model, 3)\n",
    "net = model.build()\n",
    "n_neurons(\"Default configuration\", model, 3)\n",
    "model = phd.sermo.Production()\n",
    "model.sequence.syllable_d = 256\n",
    "add_syllables(model, 3)\n",
    "net = model.build()\n",
    "n_neurons(\"Conservative estimate\", model, 2000)\n",
    "model = phd.sermo.Production()\n",
    "model.sequence.syllable_d = 512\n",
    "add_syllables(model, 3)\n",
    "net = model.build()\n",
    "n_neurons(\"Generous estimate\", model, 4000);"
   ]
  }
 ],
 "metadata": {
  "kernelspec": {
   "display_name": "Python 2",
   "language": "python",
   "name": "python2"
  },
  "language_info": {
   "codemirror_mode": {
    "name": "ipython",
    "version": 2
   },
   "file_extension": ".py",
   "mimetype": "text/x-python",
   "name": "python",
   "nbconvert_exporter": "python",
   "pygments_lexer": "ipython2",
   "version": "2.7.10"
  }
 },
 "nbformat": 4,
 "nbformat_minor": 0
}
