{
 "cells": [
  {
   "cell_type": "code",
   "execution_count": null,
   "metadata": {
    "collapsed": false
   },
   "outputs": [],
   "source": [
    "import numpy as np\n",
    "import matplotlib.pyplot as plt\n",
    "%matplotlib inline\n",
    "import seaborn as sns\n",
    "from IPython.display import Audio\n",
    "\n",
    "# Some plotting niceties\n",
    "plt.rc('figure', figsize=(10, 4))\n",
    "sns.set_style('white')\n",
    "sns.set_style('ticks')\n",
    "\n",
    "import nengo\n",
    "import phd\n",
    "\n",
    "def img(array):\n",
    "    plt.pcolormesh(array.T)\n",
    "    plt.ylim(top=array.shape[1])\n",
    "    plt.xlim(right=array.shape[0])\n",
    "    plt.yticks(())\n",
    "    sns.despine(left=True)\n",
    "    plt.tight_layout()"
   ]
  },
  {
   "cell_type": "code",
   "execution_count": null,
   "metadata": {
    "collapsed": false
   },
   "outputs": [],
   "source": [
    "%%javascript\n",
    "if($(IPython.toolbar.selector.concat(' > #kill-run-first')).length == 0){\n",
    "  IPython.toolbar.add_buttons_group([\n",
    "    {\n",
    "      'label'   : 'kill and run-first',\n",
    "      'icon'    : 'fa fa-angle-double-down',\n",
    "      'callback': function(){\n",
    "        IPython.notebook.kernel.restart();\n",
    "        $(IPython.events).one('kernel_ready.Kernel', function(){\n",
    "          var idx = IPython.notebook.get_selected_index();\n",
    "          IPython.notebook.select(0);\n",
    "          IPython.notebook.execute_cell();\n",
    "          IPython.notebook.select(idx);\n",
    "        });\n",
    "      }\n",
    "    }\n",
    "  ], 'kill-run-first');\n",
    "}"
   ]
  },
  {
   "cell_type": "markdown",
   "metadata": {},
   "source": [
    "## Basic usage"
   ]
  },
  {
   "cell_type": "code",
   "execution_count": null,
   "metadata": {
    "collapsed": false
   },
   "outputs": [],
   "source": [
    "model = phd.sermo.Production()\n",
    "model.trial.sequence = 'BLAA*POS1 + TII*POS2 + DAS*POS3'\n",
    "freqs = [('ges-de-ccv', 'blaa', 1.2), ('ges-de-cv', 'tii', 1.8), ('ges-de-cvc', 'das', 1.1)]\n",
    "t = 0.2\n",
    "for gdir, ges, freq in freqs:\n",
    "    path = phd.ges_path(gdir, '%s.ges' % ges.lower())\n",
    "    traj = phd.vtl.parse_ges(path).trajectory(dt=model.trial.dt)\n",
    "    model.add_syllable(label=ges.upper(), freq=freq, trajectory=traj)\n",
    "    t += 1. / freq"
   ]
  },
  {
   "cell_type": "code",
   "execution_count": null,
   "metadata": {
    "collapsed": false
   },
   "outputs": [],
   "source": [
    "net = model.build()\n",
    "with net:\n",
    "    p_syll = nengo.Probe(net.sequence.syllable.output, synapse=0.01)\n",
    "    p_gate = nengo.Probe(net.sequencer.gate, synapse=0.01)\n",
    "    p_reset = nengo.Probe(net.sequencer.reset, synapse=0.01)\n",
    "    p_timer = nengo.Probe(net.sequencer.timer, synapse=0.01)\n",
    "    p_disinhib = [nengo.Probe(dmp.disinhibit, synapse=0.01) for dmp in net.syllables]\n",
    "    p_dmps = [nengo.Probe(dmp.osc, synapse=0.01) for dmp in net.syllables]\n",
    "    p_prod = nengo.Probe(net.production_info.output, synapse=0.01)"
   ]
  },
  {
   "cell_type": "code",
   "execution_count": null,
   "metadata": {
    "collapsed": false
   },
   "outputs": [],
   "source": [
    "sim = nengo.Simulator(net)\n",
    "sim.run(t)"
   ]
  },
  {
   "cell_type": "code",
   "execution_count": null,
   "metadata": {
    "collapsed": false,
    "scrolled": true
   },
   "outputs": [],
   "source": [
    "syllables = [s[1].upper() for s in freqs]\n",
    "plt.plot(sim.trange(), \n",
    "         nengo.spa.similarity(sim.data[p_syll],\n",
    "                              net.sequence.vocab.create_subset(syllables)))\n",
    "plt.legend(syllables, loc='best')"
   ]
  },
  {
   "cell_type": "code",
   "execution_count": null,
   "metadata": {
    "collapsed": false
   },
   "outputs": [],
   "source": [
    "plt.plot(sim.trange(), sim.data[p_gate])\n",
    "plt.plot(sim.trange(), sim.data[p_reset])\n",
    "plt.plot(sim.trange(), sim.data[p_timer])\n",
    "plt.legend(['gate', 'kick', 'timer', 'timer'], loc=\"best\")"
   ]
  },
  {
   "cell_type": "code",
   "execution_count": null,
   "metadata": {
    "collapsed": false
   },
   "outputs": [],
   "source": [
    "for p_dis in p_disinhib:\n",
    "    plt.plot(sim.trange(), sim.data[p_dis])\n",
    "plt.legend(syllables, loc=\"best\")"
   ]
  },
  {
   "cell_type": "code",
   "execution_count": null,
   "metadata": {
    "collapsed": false
   },
   "outputs": [],
   "source": [
    "plt.figure(figsize=(10, 10))\n",
    "plt.subplot(2, 2, 1)\n",
    "plt.plot(sim.data[p_timer].T[0], sim.data[p_timer].T[1])\n",
    "for i, p_dmp in enumerate(p_dmps):\n",
    "    plt.subplot(2, 2, i + 2)\n",
    "    plt.plot(sim.data[p_dmp].T[0], sim.data[p_dmp].T[1])"
   ]
  },
  {
   "cell_type": "code",
   "execution_count": null,
   "metadata": {
    "collapsed": false
   },
   "outputs": [],
   "source": [
    "plt.plot(sim.trange(), sim.data[p_prod]);"
   ]
  },
  {
   "cell_type": "markdown",
   "metadata": {},
   "source": [
    "## Running an experiment"
   ]
  },
  {
   "cell_type": "code",
   "execution_count": null,
   "metadata": {
    "collapsed": false
   },
   "outputs": [],
   "source": [
    "model = phd.sermo.Production()\n",
    "syllables = [('ges-de-ccv', 'blaa', 1.2), ('ges-de-cv', 'tii', 1.8), ('ges-de-cvc', 'das', 1.1)]\n",
    "sequence = ['blaa' , 'tii', 'das']\n",
    "expt = phd.experiments.ProductionExperiment(model, syllables, sequence)\n",
    "res = expt.run()"
   ]
  },
  {
   "cell_type": "code",
   "execution_count": null,
   "metadata": {
    "collapsed": false
   },
   "outputs": [],
   "source": [
    "img(res.traj)"
   ]
  },
  {
   "cell_type": "code",
   "execution_count": null,
   "metadata": {
    "collapsed": false
   },
   "outputs": [],
   "source": [
    "img(res.simtraj)\n",
    "print(res.simrmse)"
   ]
  },
  {
   "cell_type": "code",
   "execution_count": null,
   "metadata": {
    "collapsed": false
   },
   "outputs": [],
   "source": [
    "img(res.reconstructed)\n",
    "print(res.reconstructedrmse)"
   ]
  },
  {
   "cell_type": "code",
   "execution_count": null,
   "metadata": {
    "collapsed": false
   },
   "outputs": [],
   "source": [
    "Audio(data=res.audio.flatten(), rate=res.fs)"
   ]
  },
  {
   "cell_type": "code",
   "execution_count": null,
   "metadata": {
    "collapsed": false
   },
   "outputs": [],
   "source": [
    "from phd import analysis\n",
    "reload(analysis)\n",
    "comb = phd.analysis.gs_combine(targets)\n",
    "img(comb.trajectory(0.001))"
   ]
  },
  {
   "cell_type": "code",
   "execution_count": null,
   "metadata": {
    "collapsed": true
   },
   "outputs": [],
   "source": [
    "astring, ad, ats, ate = phd.analysis.gs2strings(comb)\n",
    "astring #, gd, gts, gte"
   ]
  },
  {
   "cell_type": "code",
   "execution_count": null,
   "metadata": {
    "collapsed": false
   },
   "outputs": [],
   "source": [
    "gs = phd.experiments.gesture_score(res.simtraj, model.trial.dt)\n",
    "gstring, gd, gts, gte = phd.analysis.gs2strings(gs)\n",
    "gstring #, gd, gts, gte"
   ]
  },
  {
   "cell_type": "code",
   "execution_count": null,
   "metadata": {
    "collapsed": false
   },
   "outputs": [],
   "source": [
    "# Insert 0s where we have insertions\n",
    "for i, ch in enumerate(left):\n",
    "    if ch == '-':\n",
    "        ad.insert(i, -1)\n",
    "        ats.insert(i, -1)\n",
    "        ate.insert(i, -1)\n",
    "for i, ch in enumerate(right):\n",
    "    if ch == '-':\n",
    "        gd.insert(i, -1)\n",
    "        gts.insert(i, -1)\n",
    "        gte.insert(i, -1)\n",
    "\n",
    "good_ix = [i for i in range(len(left)) if left[i] == right[i]]\n",
    "ad, gd = np.array(ad), np.array(gd)\n",
    "ddiff = gd[good_ix] - ad[good_ix]\n",
    "np.mean(ddiff), np.var(ddiff)"
   ]
  },
  {
   "cell_type": "code",
   "execution_count": null,
   "metadata": {
    "collapsed": false
   },
   "outputs": [],
   "source": [
    "th = 0.001\n",
    "\n",
    "ats = np.array(ats)[good_ix].tolist()\n",
    "ate = np.array(ate)[good_ix].tolist()\n",
    "gts = np.array(gts)[good_ix].tolist()\n",
    "gte = np.array(gte)[good_ix].tolist()\n",
    "\n",
    "costart_ix = []\n",
    "for i in range(len(ats)):\n",
    "    for j in range(i, len(ats)):\n",
    "        if i != j and abs(ats[i] - ats[j]) < th:\n",
    "            costart_ix.append((i, j))\n",
    "\n",
    "coend_ix = []\n",
    "for i in range(len(ate)):\n",
    "    for j in range(i, len(ate)):\n",
    "        if i != j and abs(ate[i] - ate[j]) < th:\n",
    "            coend_ix.append((i, j))\n",
    "costart_ix, coend_ix"
   ]
  },
  {
   "cell_type": "code",
   "execution_count": null,
   "metadata": {
    "collapsed": false
   },
   "outputs": [],
   "source": [
    "l, r = 0, 7\n",
    "print(ats[l], ats[r])\n",
    "print(gts[l], gts[r])"
   ]
  },
  {
   "cell_type": "code",
   "execution_count": null,
   "metadata": {
    "collapsed": false
   },
   "outputs": [],
   "source": [
    "th = 0.05\n",
    "good = 0\n",
    "bad = 0\n",
    "for lix, rix in costart_ix:\n",
    "    if abs(gts[lix] - gts[rix]) < th:\n",
    "        good += 1\n",
    "    else:\n",
    "        bad += 1\n",
    "for lix, rix in coend_ix:\n",
    "    if abs(gte[lix] - gte[rix]) < th:\n",
    "        good += 1\n",
    "    else:\n",
    "        bad += 1\n",
    "\n",
    "good / float(good + bad)"
   ]
  },
  {
   "cell_type": "code",
   "execution_count": null,
   "metadata": {
    "collapsed": false
   },
   "outputs": [],
   "source": [
    "# baseline\n",
    "import random\n",
    "good = bad = 0\n",
    "s_gts, s_gte = list(gts), list(gte)\n",
    "random.shuffle(s_gts)\n",
    "random.shuffle(s_gte)\n",
    "\n",
    "for lix, rix in costart_ix:\n",
    "    if abs(s_gts[lix] - s_gts[rix]) < th:\n",
    "        good += 1\n",
    "    else:\n",
    "        bad += 1\n",
    "for lix, rix in coend_ix:\n",
    "    if abs(s_gte[lix] - s_gte[rix]) < th:\n",
    "        good += 1\n",
    "    else:\n",
    "        bad += 1\n",
    "\n",
    "good / float(good + bad)"
   ]
  }
 ],
 "metadata": {
  "kernelspec": {
   "display_name": "Python 2",
   "language": "python",
   "name": "python2"
  },
  "language_info": {
   "codemirror_mode": {
    "name": "ipython",
    "version": 2
   },
   "file_extension": ".py",
   "mimetype": "text/x-python",
   "name": "python",
   "nbconvert_exporter": "python",
   "pygments_lexer": "ipython2",
   "version": "2.7.10"
  }
 },
 "nbformat": 4,
 "nbformat_minor": 0
}
