{
 "cells": [
  {
   "cell_type": "code",
   "execution_count": null,
   "metadata": {
    "collapsed": false
   },
   "outputs": [],
   "source": [
    "import numpy as np\n",
    "import matplotlib.pyplot as plt\n",
    "%matplotlib inline\n",
    "import seaborn as sns\n",
    "\n",
    "# Some plotting niceties\n",
    "plt.rc('figure', figsize=(10, 4))\n",
    "sns.set_style('white')\n",
    "sns.set_style('ticks')\n",
    "\n",
    "import nengo\n",
    "import phd\n",
    "\n",
    "def img(array):\n",
    "    plt.pcolormesh(array.T)\n",
    "    plt.ylim(top=array.shape[1])\n",
    "    plt.xlim(right=array.shape[0])\n",
    "    plt.yticks(())\n",
    "    sns.despine(left=True)\n",
    "    plt.tight_layout()"
   ]
  },
  {
   "cell_type": "code",
   "execution_count": null,
   "metadata": {
    "collapsed": false
   },
   "outputs": [],
   "source": [
    "%%javascript\n",
    "if($(IPython.toolbar.selector.concat(' > #kill-run-first')).length == 0){\n",
    "  IPython.toolbar.add_buttons_group([\n",
    "    {\n",
    "      'label'   : 'kill and run-first',\n",
    "      'icon'    : 'fa fa-angle-double-down',\n",
    "      'callback': function(){\n",
    "        IPython.notebook.kernel.restart();\n",
    "        $(IPython.events).one('kernel_ready.Kernel', function(){\n",
    "          var idx = IPython.notebook.get_selected_index();\n",
    "          IPython.notebook.select(0);\n",
    "          IPython.notebook.execute_cell();\n",
    "          IPython.notebook.select(idx);\n",
    "        });\n",
    "      }\n",
    "    }\n",
    "  ], 'kill-run-first');\n",
    "}"
   ]
  },
  {
   "cell_type": "code",
   "execution_count": null,
   "metadata": {
    "collapsed": false
   },
   "outputs": [],
   "source": [
    "model = phd.sermo.Production()\n",
    "# model.sequence.syllable_d = 96\n",
    "model.trial.sequence = 'PAT*POS1 + DAS*POS2 + KAP*POS3'\n",
    "freqs = [('pat', 2.5), ('das', 4.7), ('kap', 3.2)]\n",
    "for ges, freq in freqs:\n",
    "    path = phd.ges_path('ges-de-cvc', '%s.ges' % ges.lower())\n",
    "    traj = phd.vtl.parse_ges(path).trajectory(dt=model.trial.dt)\n",
    "    model.add_syllable(label=ges.upper(), freq=freq, trajectory=traj)"
   ]
  },
  {
   "cell_type": "code",
   "execution_count": null,
   "metadata": {
    "collapsed": false
   },
   "outputs": [],
   "source": [
    "net = model.build()\n",
    "with net:\n",
    "    p_syll = nengo.Probe(net.sequence.syllable.output, synapse=0.01)\n",
    "    p_gate = nengo.Probe(net.sequencer.gate, synapse=0.01)\n",
    "    p_reset = nengo.Probe(net.sequencer.reset, synapse=0.01)\n",
    "    p_timer = nengo.Probe(net.sequencer.timer, synapse=0.01)\n",
    "    p_disinhib = [nengo.Probe(dmp.disinhibit, synapse=0.01) for dmp in net.syllables]\n",
    "    p_dmps = [nengo.Probe(dmp.osc, synapse=0.01) for dmp in net.syllables]\n",
    "    p_prod = nengo.Probe(net.production_info.output, synapse=0.01)"
   ]
  },
  {
   "cell_type": "code",
   "execution_count": null,
   "metadata": {
    "collapsed": false
   },
   "outputs": [],
   "source": [
    "sim = nengo.Simulator(net)\n",
    "sim.run(0.924 + 0.2)"
   ]
  },
  {
   "cell_type": "code",
   "execution_count": null,
   "metadata": {
    "collapsed": false,
    "scrolled": true
   },
   "outputs": [],
   "source": [
    "syllables = [s[0].upper() for s in freqs]\n",
    "plt.plot(sim.trange(), \n",
    "         nengo.spa.similarity(sim.data[p_syll],\n",
    "                              net.sequence.vocab.create_subset(syllables)))\n",
    "plt.legend(syllables, loc='best')"
   ]
  },
  {
   "cell_type": "code",
   "execution_count": null,
   "metadata": {
    "collapsed": false
   },
   "outputs": [],
   "source": [
    "plt.plot(sim.trange(), sim.data[p_gate])\n",
    "plt.plot(sim.trange(), sim.data[p_reset])\n",
    "plt.plot(sim.trange(), sim.data[p_timer])\n",
    "plt.legend(['gate', 'kick', 'timer', 'timer'], loc=\"best\")\n",
    "# plt.ylim([-0.1, 1.1])"
   ]
  },
  {
   "cell_type": "code",
   "execution_count": null,
   "metadata": {
    "collapsed": false
   },
   "outputs": [],
   "source": [
    "for p_dis in p_disinhib:\n",
    "    plt.plot(sim.trange(), sim.data[p_dis])\n",
    "plt.legend(['PAT', 'DAS', 'KAP'], loc=\"best\")\n",
    "# plt.ylim([-0.1, 1.1])"
   ]
  },
  {
   "cell_type": "code",
   "execution_count": null,
   "metadata": {
    "collapsed": false
   },
   "outputs": [],
   "source": [
    "plt.figure(figsize=(10, 10))\n",
    "plt.subplot(2, 2, 1)\n",
    "plt.plot(sim.data[p_timer].T[0], sim.data[p_timer].T[1])\n",
    "for i, p_dmp in enumerate(p_dmps):\n",
    "    plt.subplot(2, 2, i + 2)\n",
    "    plt.plot(sim.data[p_dmp].T[0], sim.data[p_dmp].T[1])"
   ]
  },
  {
   "cell_type": "code",
   "execution_count": null,
   "metadata": {
    "collapsed": false
   },
   "outputs": [],
   "source": [
    "plt.plot(sim.trange(), sim.data[p_prod]);"
   ]
  },
  {
   "cell_type": "markdown",
   "metadata": {},
   "source": [
    "## Construct a gesture score from the prod data"
   ]
  },
  {
   "cell_type": "code",
   "execution_count": null,
   "metadata": {
    "collapsed": false
   },
   "outputs": [],
   "source": [
    "# Target: actual trajectories\n",
    "from phd.experiments import shorten\n",
    "\n",
    "full_traj = []\n",
    "order = [0, 1, 2]\n",
    "for i in order:\n",
    "    syll = model.syllables[i]\n",
    "    speed = syll.freq\n",
    "    t_frames = int((1. / speed) / model.trial.dt)\n",
    "    full_traj.append(shorten(syll.trajectory, t_frames))\n",
    "full_traj = np.vstack(full_traj)\n",
    "img(full_traj)\n",
    "print full_traj.shape[0]"
   ]
  },
  {
   "cell_type": "code",
   "execution_count": null,
   "metadata": {
    "collapsed": false
   },
   "outputs": [],
   "source": [
    "delay_frames = 200\n",
    "y = sim.data[p_prod][delay_frames:]\n",
    "print(y.shape)\n",
    "img(y)"
   ]
  },
  {
   "cell_type": "code",
   "execution_count": null,
   "metadata": {
    "collapsed": false
   },
   "outputs": [],
   "source": [
    "import nengo.utils.numpy as npext\n",
    "print(npext.rmse(full_traj, y))"
   ]
  },
  {
   "cell_type": "code",
   "execution_count": null,
   "metadata": {
    "collapsed": false
   },
   "outputs": [],
   "source": [
    "# Make a gesture score out of the traj\n",
    "from phd.mfcc import derivative\n",
    "\n",
    "tderiv = np.abs(derivative(y, 20))\n",
    "slices = tderiv > 0.015\n",
    "img(full_traj)\n",
    "plt.figure()\n",
    "img(slices)"
   ]
  },
  {
   "cell_type": "code",
   "execution_count": null,
   "metadata": {
    "collapsed": false
   },
   "outputs": [],
   "source": [
    "x_ind, y_ind = np.where(np.abs(np.diff(np.vstack([np.zeros(48), slices]), axis=0)))\n",
    "# Add a blank area at the start, so that the starting neutral gesture is recorded\n",
    "x_ind = np.hstack([np.zeros(48 * 2, dtype=int), x_ind])\n",
    "y_ind = np.hstack([np.arange(48), np.arange(48), y_ind])\n",
    "img(slices)\n",
    "plt.plot(x_ind, y_ind, ls='none', marker='o')"
   ]
  },
  {
   "cell_type": "code",
   "execution_count": null,
   "metadata": {
    "collapsed": false
   },
   "outputs": [],
   "source": [
    "# Sort by y_index then x_index as each gesture depends on the two\n",
    "# subsequent time slices for that gesture\n",
    "sort_ix = np.argsort(y_ind)\n",
    "x_ind = x_ind[sort_ix]\n",
    "y_ind = y_ind[sort_ix]\n",
    "\n",
    "# sort within each group\n",
    "for yi in np.unique(y_ind):\n",
    "    x_ind[y_ind==yi] = np.sort(x_ind[y_ind==yi])\n",
    "\n",
    "print y_ind\n",
    "print x_ind"
   ]
  },
  {
   "cell_type": "code",
   "execution_count": null,
   "metadata": {
    "collapsed": false
   },
   "outputs": [],
   "source": [
    "def gest2seqlabel(gesture, vtl=None):\n",
    "    if vtl is None:\n",
    "        vtl = phd.vtl.VTL()\n",
    "    labels = vtl.gesture_labels()\n",
    "    labels.remove(\"f0\")\n",
    "    ix = labels.index(gesture)\n",
    "    return ix2seqlabel(ix, labels)\n",
    "\n",
    "def ix2seqlabel(ix, labels):\n",
    "    if ix < labels.index('ll-labial-nas'):\n",
    "        return 'vowel-gestures'\n",
    "    elif ix < labels.index('tt-alveolar-nas'):\n",
    "        return 'lip-gestures'\n",
    "    elif ix < labels.index('tb-palatal-fric'):\n",
    "        return 'tongue-tip-gestures'\n",
    "    elif ix < labels.index('breathy'):\n",
    "        return 'tongue-body-gestures'\n",
    "    elif ix < labels.index('velic'):\n",
    "        return 'glottal-shape-gestures'\n",
    "    elif ix < labels.index('lung-pressure'):\n",
    "        return 'velic-gestures'\n",
    "    else:\n",
    "        return 'lung-pressure-gestures'\n",
    "\n",
    "print phd.vtl.VTL().gesture_labels()"
   ]
  },
  {
   "cell_type": "code",
   "execution_count": null,
   "metadata": {
    "collapsed": false
   },
   "outputs": [],
   "source": [
    "# Make a gesture score\n",
    "vtl = phd.vtl.VTL()\n",
    "gs = phd.vtl.GestureScore(vtl.gesture_labels())\n",
    "gs.labels.remove('f0')\n",
    "seq = phd.vtl.GestureSequence('vowel-gestures')\n",
    "gs.sequences.append(seq)\n",
    "for i in range(0, x_ind.size, 2):\n",
    "    this_start = x_ind[i]\n",
    "    this_end = x_ind[i+1]\n",
    "\n",
    "    if i+3 > x_ind.size:\n",
    "        next_start = next_end = tderiv.shape[0]\n",
    "    else:\n",
    "        this_y = y_ind[i]\n",
    "        next_y = y_ind[i+2]\n",
    "        if this_y != next_y:\n",
    "            next_start = next_end = tderiv.shape[0]\n",
    "        else:\n",
    "            next_start = x_ind[i+2]\n",
    "            next_end = x_ind[i+3]\n",
    "\n",
    "    seqlabel = ix2seqlabel(this_y, gs.labels)\n",
    "    if seq.type != seqlabel:\n",
    "        seq = phd.vtl.GestureSequence(seqlabel)\n",
    "        gs.sequences.append(seq)\n",
    "\n",
    "    value = np.mean(y[this_end:next_start, this_y])\n",
    "    if value < 0.05:\n",
    "        neutral = True\n",
    "    else:\n",
    "        neutral = False\n",
    "    value = gs.labels[this_y]\n",
    "    \n",
    "    tau = (this_end - this_start) * model.trial.dt * 0.5  # to match normal values\n",
    "    duration = (next_start - this_start) * model.trial.dt\n",
    "    if duration < 1e-0.:\n",
    "        continue\n",
    "    seq.gestures.append(phd.vtl.Gesture(value, 0., duration, tau, neutral))\n",
    "\n",
    "img(gs.trajectory(dt=model.trial.dt))\n",
    "for seq in gs.sequences:\n",
    "    print \"---\", seq.type\n",
    "    for ges in seq.gestures:\n",
    "        print ges.value, ges.duration_s, ges.neutral"
   ]
  }
 ],
 "metadata": {
  "kernelspec": {
   "display_name": "Python 2",
   "language": "python",
   "name": "python2"
  },
  "language_info": {
   "codemirror_mode": {
    "name": "ipython",
    "version": 2
   },
   "file_extension": ".py",
   "mimetype": "text/x-python",
   "name": "python",
   "nbconvert_exporter": "python",
   "pygments_lexer": "ipython2",
   "version": "2.7.10"
  }
 },
 "nbformat": 4,
 "nbformat_minor": 0
}
