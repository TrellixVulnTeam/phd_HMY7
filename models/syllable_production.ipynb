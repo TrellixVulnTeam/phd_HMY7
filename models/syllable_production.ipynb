{
 "cells": [
  {
   "cell_type": "code",
   "execution_count": null,
   "metadata": {
    "collapsed": false
   },
   "outputs": [],
   "source": [
    "import numpy as np\n",
    "import matplotlib.pyplot as plt\n",
    "%matplotlib inline\n",
    "import seaborn as sns\n",
    "\n",
    "# Some plotting niceties\n",
    "plt.rc('figure', figsize=(10, 4))\n",
    "sns.set_style('white')\n",
    "sns.set_style('ticks')\n",
    "\n",
    "import nengo\n",
    "import phd"
   ]
  },
  {
   "cell_type": "code",
   "execution_count": null,
   "metadata": {
    "collapsed": false
   },
   "outputs": [],
   "source": [
    "%%javascript\n",
    "if($(IPython.toolbar.selector.concat(' > #kill-run-first')).length == 0){\n",
    "  IPython.toolbar.add_buttons_group([\n",
    "    {\n",
    "      'label'   : 'kill and run-first',\n",
    "      'icon'    : 'fa fa-angle-double-down',\n",
    "      'callback': function(){\n",
    "        IPython.notebook.kernel.restart();\n",
    "        $(IPython.events).one('kernel_ready.Kernel', function(){\n",
    "          var idx = IPython.notebook.get_selected_index();\n",
    "          IPython.notebook.select(0);\n",
    "          IPython.notebook.execute_cell();\n",
    "          IPython.notebook.select(idx);\n",
    "        });\n",
    "      }\n",
    "    }\n",
    "  ], 'kill-run-first');\n",
    "}"
   ]
  },
  {
   "cell_type": "code",
   "execution_count": null,
   "metadata": {
    "collapsed": false
   },
   "outputs": [],
   "source": [
    "model = phd.sermo.Production()\n",
    "model.production_info.dimensions = 96\n",
    "model.experiment.sequence = 'PAT*POS1 + DAS*POS2 + KAP*POS3'\n",
    "freqs = [('pat', 2.5), ('das', 4.7), ('kap', 3.2)]\n",
    "for ges, freq in freqs:\n",
    "    path = phd.ges_path('ges-de-cvc', '%s.ges' % ges.lower())\n",
    "    traj = phd.vtl.parse_ges(path).trajectory(dt=model.experiment.dt)\n",
    "    model.add_syllable(label=ges.upper(), freq=freq, trajectory=traj)"
   ]
  },
  {
   "cell_type": "code",
   "execution_count": null,
   "metadata": {
    "collapsed": false
   },
   "outputs": [],
   "source": [
    "net = model.build()\n",
    "with net:\n",
    "    p_syll = nengo.Probe(net.sequence.syllable.output, synapse=0.01)\n",
    "    p_gate = nengo.Probe(net.sequencer.gate, synapse=0.01)\n",
    "    p_reset = nengo.Probe(net.sequencer.reset, synapse=0.01)\n",
    "    p_timer = nengo.Probe(net.sequencer.timer, synapse=0.01)\n",
    "    p_disinhib = [nengo.Probe(dmp.disinhibit, synapse=0.01) for dmp in net.syllables]\n",
    "    p_dmps = [nengo.Probe(dmp.osc, synapse=0.01) for dmp in net.syllables]\n",
    "    p_prod = nengo.Probe(net.production_info.output, synapse=0.01)"
   ]
  },
  {
   "cell_type": "code",
   "execution_count": null,
   "metadata": {
    "collapsed": false
   },
   "outputs": [],
   "source": [
    "sim = nengo.Simulator(net)\n",
    "sim.run(1.2)"
   ]
  },
  {
   "cell_type": "code",
   "execution_count": null,
   "metadata": {
    "collapsed": false,
    "scrolled": true
   },
   "outputs": [],
   "source": [
    "syllables = [s[0].upper() for s in freqs]\n",
    "plt.plot(sim.trange(), \n",
    "         nengo.spa.similarity(sim.data[p_syll],\n",
    "                              net.sequence.vocab.create_subset(syllables)))\n",
    "plt.legend(syllables, loc='best')"
   ]
  },
  {
   "cell_type": "code",
   "execution_count": null,
   "metadata": {
    "collapsed": false
   },
   "outputs": [],
   "source": [
    "plt.plot(sim.trange(), sim.data[p_gate])\n",
    "plt.plot(sim.trange(), sim.data[p_reset])\n",
    "plt.plot(sim.trange(), sim.data[p_timer])\n",
    "plt.legend(['gate', 'kick', 'timer', 'timer'], loc=\"best\")\n",
    "# plt.ylim([-0.1, 1.1])"
   ]
  },
  {
   "cell_type": "code",
   "execution_count": null,
   "metadata": {
    "collapsed": false
   },
   "outputs": [],
   "source": [
    "for p_dis in p_disinhib:\n",
    "    plt.plot(sim.trange(), sim.data[p_dis])\n",
    "plt.legend(['PAT', 'DAS', 'KAP'], loc=\"best\")\n",
    "# plt.ylim([-0.1, 1.1])"
   ]
  },
  {
   "cell_type": "code",
   "execution_count": null,
   "metadata": {
    "collapsed": false
   },
   "outputs": [],
   "source": [
    "plt.figure(figsize=(10, 10))\n",
    "plt.subplot(2, 2, 1)\n",
    "plt.plot(sim.data[p_timer].T[0], sim.data[p_timer].T[1])\n",
    "for i, p_dmp in enumerate(p_dmps):\n",
    "    plt.subplot(2, 2, i + 2)\n",
    "    plt.plot(sim.data[p_dmp].T[0], sim.data[p_dmp].T[1])"
   ]
  },
  {
   "cell_type": "code",
   "execution_count": null,
   "metadata": {
    "collapsed": false
   },
   "outputs": [],
   "source": [
    "plt.plot(sim.trange(), sim.data[p_prod]);"
   ]
  }
 ],
 "metadata": {
  "kernelspec": {
   "display_name": "Python 2",
   "language": "python",
   "name": "python2"
  },
  "language_info": {
   "codemirror_mode": {
    "name": "ipython",
    "version": 2
   },
   "file_extension": ".py",
   "mimetype": "text/x-python",
   "name": "python",
   "nbconvert_exporter": "python",
   "pygments_lexer": "ipython2",
   "version": "2.7.10"
  }
 },
 "nbformat": 4,
 "nbformat_minor": 0
}
