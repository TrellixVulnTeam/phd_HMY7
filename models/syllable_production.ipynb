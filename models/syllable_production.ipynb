{
 "cells": [
  {
   "cell_type": "code",
   "execution_count": null,
   "metadata": {
    "collapsed": false
   },
   "outputs": [],
   "source": [
    "import numpy as np\n",
    "import matplotlib.pyplot as plt\n",
    "%matplotlib inline\n",
    "import seaborn as sns\n",
    "from IPython.display import Audio\n",
    "\n",
    "# Some plotting niceties\n",
    "plt.rc('figure', figsize=(10, 4))\n",
    "sns.set_style('white')\n",
    "sns.set_style('ticks')\n",
    "\n",
    "import nengo\n",
    "import phd\n",
    "\n",
    "def img(array):\n",
    "    plt.pcolormesh(array.T)\n",
    "    plt.ylim(top=array.shape[1])\n",
    "    plt.xlim(right=array.shape[0])\n",
    "    plt.yticks(())\n",
    "    sns.despine(left=True)\n",
    "    plt.tight_layout()"
   ]
  },
  {
   "cell_type": "code",
   "execution_count": null,
   "metadata": {
    "collapsed": false
   },
   "outputs": [],
   "source": [
    "%%javascript\n",
    "if($(IPython.toolbar.selector.concat(' > #kill-run-first')).length == 0){\n",
    "  IPython.toolbar.add_buttons_group([\n",
    "    {\n",
    "      'label'   : 'kill and run-first',\n",
    "      'icon'    : 'fa fa-angle-double-down',\n",
    "      'callback': function(){\n",
    "        IPython.notebook.kernel.restart();\n",
    "        $(IPython.events).one('kernel_ready.Kernel', function(){\n",
    "          var idx = IPython.notebook.get_selected_index();\n",
    "          IPython.notebook.select(0);\n",
    "          IPython.notebook.execute_cell();\n",
    "          IPython.notebook.select(idx);\n",
    "        });\n",
    "      }\n",
    "    }\n",
    "  ], 'kill-run-first');\n",
    "}"
   ]
  },
  {
   "cell_type": "code",
   "execution_count": null,
   "metadata": {
    "collapsed": false
   },
   "outputs": [],
   "source": [
    "model = phd.sermo.Production()\n",
    "model.trial.sequence = 'PAT*POS1 + DAS*POS2 + KAP*POS3'\n",
    "# model.trial.sequence = 'PAT*POS1'\n",
    "freqs = [('pat', 1.5), ('das', 1.7), ('kap', 1.2)]\n",
    "t = 0.2\n",
    "for ges, freq in freqs:\n",
    "    path = phd.ges_path('ges-de-cvc', '%s.ges' % ges.lower())\n",
    "    traj = phd.vtl.parse_ges(path).trajectory(dt=model.trial.dt)\n",
    "    model.add_syllable(label=ges.upper(), freq=freq, trajectory=traj)\n",
    "    t += 1. / freq"
   ]
  },
  {
   "cell_type": "code",
   "execution_count": null,
   "metadata": {
    "collapsed": false
   },
   "outputs": [],
   "source": [
    "net = model.build()\n",
    "with net:\n",
    "    p_syll = nengo.Probe(net.sequence.syllable.output, synapse=0.01)\n",
    "    p_gate = nengo.Probe(net.sequencer.gate, synapse=0.01)\n",
    "    p_reset = nengo.Probe(net.sequencer.reset, synapse=0.01)\n",
    "    p_timer = nengo.Probe(net.sequencer.timer, synapse=0.01)\n",
    "    p_disinhib = [nengo.Probe(dmp.disinhibit, synapse=0.01) for dmp in net.syllables]\n",
    "    p_dmps = [nengo.Probe(dmp.osc, synapse=0.01) for dmp in net.syllables]\n",
    "    p_prod = nengo.Probe(net.production_info.output, synapse=0.01)"
   ]
  },
  {
   "cell_type": "code",
   "execution_count": null,
   "metadata": {
    "collapsed": false
   },
   "outputs": [],
   "source": [
    "sim = nengo.Simulator(net)\n",
    "sim.run(t)"
   ]
  },
  {
   "cell_type": "code",
   "execution_count": null,
   "metadata": {
    "collapsed": false,
    "scrolled": true
   },
   "outputs": [],
   "source": [
    "syllables = [s[0].upper() for s in freqs]\n",
    "plt.plot(sim.trange(), \n",
    "         nengo.spa.similarity(sim.data[p_syll],\n",
    "                              net.sequence.vocab.create_subset(syllables)))\n",
    "plt.legend(syllables, loc='best')"
   ]
  },
  {
   "cell_type": "code",
   "execution_count": null,
   "metadata": {
    "collapsed": false
   },
   "outputs": [],
   "source": [
    "plt.plot(sim.trange(), sim.data[p_gate])\n",
    "plt.plot(sim.trange(), sim.data[p_reset])\n",
    "plt.plot(sim.trange(), sim.data[p_timer])\n",
    "plt.legend(['gate', 'kick', 'timer', 'timer'], loc=\"best\")\n",
    "# plt.ylim([-0.1, 1.1])"
   ]
  },
  {
   "cell_type": "code",
   "execution_count": null,
   "metadata": {
    "collapsed": false
   },
   "outputs": [],
   "source": [
    "for p_dis in p_disinhib:\n",
    "    plt.plot(sim.trange(), sim.data[p_dis])\n",
    "plt.legend(['PAT', 'DAS', 'KAP'], loc=\"best\")\n",
    "# plt.ylim([-0.1, 1.1])"
   ]
  },
  {
   "cell_type": "code",
   "execution_count": null,
   "metadata": {
    "collapsed": false
   },
   "outputs": [],
   "source": [
    "plt.figure(figsize=(10, 10))\n",
    "plt.subplot(2, 2, 1)\n",
    "plt.plot(sim.data[p_timer].T[0], sim.data[p_timer].T[1])\n",
    "for i, p_dmp in enumerate(p_dmps):\n",
    "    plt.subplot(2, 2, i + 2)\n",
    "    plt.plot(sim.data[p_dmp].T[0], sim.data[p_dmp].T[1])"
   ]
  },
  {
   "cell_type": "code",
   "execution_count": null,
   "metadata": {
    "collapsed": false
   },
   "outputs": [],
   "source": [
    "plt.plot(sim.trange(), sim.data[p_prod]);"
   ]
  },
  {
   "cell_type": "markdown",
   "metadata": {},
   "source": [
    "## Construct a gesture score from the prod data"
   ]
  },
  {
   "cell_type": "code",
   "execution_count": null,
   "metadata": {
    "collapsed": false
   },
   "outputs": [],
   "source": [
    "# Target: actual trajectories\n",
    "from phd.experiments import shorten\n",
    "\n",
    "def gest2seqlabel(gesture, vtl=None):\n",
    "    if vtl is None:\n",
    "        vtl = phd.vtl.VTL()\n",
    "    labels = vtl.gesture_labels()\n",
    "    labels.remove(\"f0\")\n",
    "    ix = labels.index(gesture)\n",
    "    return ix2seqlabel(ix, labels)\n",
    "\n",
    "def ix2seqlabel(ix, labels):\n",
    "    if ix < labels.index('ll-labial-nas'):\n",
    "        return 'vowel-gestures'\n",
    "    elif ix < labels.index('tt-alveolar-nas'):\n",
    "        return 'lip-gestures'\n",
    "    elif ix < labels.index('tb-palatal-fric'):\n",
    "        return 'tongue-tip-gestures'\n",
    "    elif ix < labels.index('breathy'):\n",
    "        return 'tongue-body-gestures'\n",
    "    elif ix < labels.index('velic'):\n",
    "        return 'glottal-shape-gestures'\n",
    "    elif ix < labels.index('lung-pressure'):\n",
    "        return 'velic-gestures'\n",
    "    else:\n",
    "        return 'lung-pressure-gestures'\n",
    "\n",
    "full_traj = []\n",
    "order = [0, 1, 2]\n",
    "for i in order:\n",
    "    syll = model.syllables[i]\n",
    "    speed = syll.freq\n",
    "    t_frames = int((1. / speed) / model.trial.dt)\n",
    "    full_traj.append(shorten(syll.trajectory, t_frames))\n",
    "full_traj = np.vstack(full_traj)\n",
    "img(full_traj)\n",
    "print full_traj.shape[0]"
   ]
  },
  {
   "cell_type": "code",
   "execution_count": null,
   "metadata": {
    "collapsed": false
   },
   "outputs": [],
   "source": [
    "delay_frames = 200\n",
    "y = sim.data[p_prod][delay_frames:]\n",
    "print(y.shape)\n",
    "img(y)"
   ]
  },
  {
   "cell_type": "code",
   "execution_count": null,
   "metadata": {
    "collapsed": false
   },
   "outputs": [],
   "source": [
    "import nengo.utils.numpy as npext\n",
    "print(npext.rmse(full_traj, y[:full_traj.shape[0]]))"
   ]
  },
  {
   "cell_type": "code",
   "execution_count": null,
   "metadata": {
    "collapsed": false
   },
   "outputs": [],
   "source": [
    "# Make a gesture score out of the traj\n",
    "from phd.mfcc import derivative\n",
    "\n",
    "tderiv = np.abs(derivative(y, 18))\n",
    "slices = tderiv > 0.012\n",
    "img(y)\n",
    "plt.figure()\n",
    "img(slices)"
   ]
  },
  {
   "cell_type": "code",
   "execution_count": null,
   "metadata": {
    "collapsed": false
   },
   "outputs": [],
   "source": [
    "x_ind, y_ind = np.where(np.abs(np.diff(np.vstack([np.zeros(48), slices, np.zeros(48)]), axis=0)))\n",
    "# Add a blank area at the start, so that the starting neutral gesture is recorded\n",
    "# x_ind = np.hstack([np.zeros(48 * 2, dtype=int), x_ind])\n",
    "# y_ind = np.hstack([np.arange(48), np.arange(48), y_ind])\n",
    "img(slices)\n",
    "plt.plot(x_ind, y_ind, ls='none', marker='o')"
   ]
  },
  {
   "cell_type": "code",
   "execution_count": null,
   "metadata": {
    "collapsed": false
   },
   "outputs": [],
   "source": [
    "# Sort by seq_index then x_index as each gesture depends on the two\n",
    "# subsequent time slices for that gesture\n",
    "vtl = phd.vtl.VTL()\n",
    "labels = vtl.gesture_labels()\n",
    "labels.remove(\"f0\")\n",
    "seqs = np.array([ix2seqlabel(yi, labels) for yi in y_ind])\n",
    "sort_ix = np.argsort(seqs)\n",
    "seqs = seqs[sort_ix]\n",
    "x_ind = x_ind[sort_ix]\n",
    "y_ind = y_ind[sort_ix]\n",
    "\n",
    "# sort within each group\n",
    "for seq in np.unique(seqs):\n",
    "    subset = seqs == seq\n",
    "    x_order = np.argsort(x_ind[subset])\n",
    "    y_ind[subset] = y_ind[subset][x_order]\n",
    "    x_ind[subset] = x_ind[subset][x_order]\n",
    "\n",
    "print seqs\n",
    "print y_ind\n",
    "print x_ind"
   ]
  },
  {
   "cell_type": "code",
   "execution_count": null,
   "metadata": {
    "collapsed": false
   },
   "outputs": [],
   "source": [
    "from phd.utils import rescale\n",
    "\n",
    "gs = phd.vtl.GestureScore(vtl.gesture_labels())\n",
    "gs.labels.remove('f0')\n",
    "seq = phd.vtl.GestureSequence(seqs[0])\n",
    "# print \"--- first sequence:\", seq.type\n",
    "gs.sequences.append(seq)\n",
    "for i in range(0, x_ind.size, 2):\n",
    "    this_start = x_ind[i]\n",
    "    this_end = x_ind[i+1]\n",
    "    this_y = y_ind[i]\n",
    "\n",
    "    if i+3 > x_ind.size:\n",
    "        next_start = next_end = tderiv.shape[0]\n",
    "    else:\n",
    "        this_seq = seqs[i]\n",
    "        next_seq = seqs[i+2]\n",
    "        if this_seq != next_seq:\n",
    "            next_start = next_end = tderiv.shape[0]\n",
    "        else:\n",
    "            next_start = x_ind[i+2]\n",
    "            next_end = x_ind[i+3]\n",
    "\n",
    "    if seq.type != this_seq:\n",
    "#         print \"--- next sequence:\", this_seq\n",
    "        seq = phd.vtl.GestureSequence(this_seq)\n",
    "        gs.sequences.append(seq)\n",
    "\n",
    "    st = int((this_end + this_start) // 2)\n",
    "    ed = int((next_end + next_start) // 2)\n",
    "    y_slice = y[st:ed, this_y]\n",
    "\n",
    "#     print \"i=%d\" % i, \"x=%d->%d => %d->%d\" % (this_start, this_end, next_start, next_end),\n",
    "#     print \"y=%d\" % this_y\n",
    "\n",
    "#     if ed == st:\n",
    "#         print \" size 0\"\n",
    "#     else:\n",
    "#         print \" y: mean=%f, max=%f, median=%f\" % (y_slice.mean(), y_slice.max(), np.median(y_slice))\n",
    "\n",
    "    if np.median(y_slice) < 0.1:\n",
    "        # We will ignore neutral gestures that occur,\n",
    "        # but then add in our own when necessary\n",
    "#         print \"  ignoring\"\n",
    "        continue\n",
    "        \n",
    "    if seq.numerical:\n",
    "        value = y_slice.max()\n",
    "        value = rescale(value, 0, 1, *vtl.numerical_range[gs.labels[this_y]])\n",
    "    else:\n",
    "        value = gs.labels[this_y]\n",
    "\n",
    "    tau = (this_end - this_start) * model.trial.dt * 0.5  # to match normal values\n",
    "    duration = (ed - st) * model.trial.dt\n",
    "\n",
    "    # Current time according to seq is seq.t_end\n",
    "    # Time that this gesture starts is this_start * model.trial.dt\n",
    "    this_start_t = round(st * model.trial.dt, 3)\n",
    "    seq_t = round(seq.t_end, 3)\n",
    "    if this_start_t < seq_t:\n",
    "        raise RuntimeError()\n",
    "    elif this_start_t > seq_t:\n",
    "        # Add a neutral gesture to make up the difference\n",
    "        t_diff = this_start_t - seq_t\n",
    "#         print \"  adding neutral\", t_diff\n",
    "        seq.gestures.append(phd.vtl.Gesture(\"\", 0., t_diff, tau, True))\n",
    "#     print \"  adding\", value, duration\n",
    "    seq.gestures.append(phd.vtl.Gesture(value, 0., duration, tau, False))\n",
    "\n",
    "# for seq in gs.sequences:\n",
    "#     plt.figure()\n",
    "#     plt.plot(seq.trajectory(seq.t_end, model.trial.dt, gs.labels))\n",
    "#     plt.title(seq.type)\n",
    "\n",
    "#     print \"---\", seq.type, seq.t_end\n",
    "#     for ges in seq.gestures:\n",
    "#         print ges.value if ges.value else \"neutral\", ges.duration_s\n",
    "img(y)\n",
    "plt.figure()\n",
    "img(gs.trajectory(dt=model.trial.dt))\n",
    "plt.xlim(right=y.shape[0])"
   ]
  },
  {
   "cell_type": "code",
   "execution_count": null,
   "metadata": {
    "collapsed": false
   },
   "outputs": [],
   "source": [
    "audio, fs = gs.synthesize()\n",
    "Audio(data=audio, rate=fs)"
   ]
  }
 ],
 "metadata": {
  "kernelspec": {
   "display_name": "Python 2",
   "language": "python",
   "name": "python2"
  },
  "language_info": {
   "codemirror_mode": {
    "name": "ipython",
    "version": 2
   },
   "file_extension": ".py",
   "mimetype": "text/x-python",
   "name": "python",
   "nbconvert_exporter": "python",
   "pygments_lexer": "ipython2",
   "version": "2.7.10"
  }
 },
 "nbformat": 4,
 "nbformat_minor": 0
}
