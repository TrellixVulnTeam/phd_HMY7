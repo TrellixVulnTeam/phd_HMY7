{
 "cells": [
  {
   "cell_type": "code",
   "execution_count": null,
   "metadata": {
    "collapsed": false
   },
   "outputs": [],
   "source": [
    "import phd\n",
    "\n",
    "import os\n",
    "%matplotlib inline\n",
    "import matplotlib.pyplot as plt\n",
    "import seaborn as sns\n",
    "import nengo\n",
    "import nengo.utils.numpy as npext\n",
    "import numpy as np\n",
    "\n",
    "# Some plotting niceties\n",
    "phd.plots.setup()\n",
    "\n",
    "def run_and_plot(model, name, seed):\n",
    "    net = model.build(net=nengo.Network(seed=seed))\n",
    "    with net:\n",
    "        p_traj = nengo.Probe(net.trajectory.output, synapse=0.01)\n",
    "        p_states = [nengo.Probe(dmp.state[0], synapse=0.01) for dmp in net.syllables]\n",
    "        p_dmps = [nengo.Probe(dmp.state, synapse=0.01) for dmp in net.syllables]\n",
    "        p_mem = nengo.Probe(net.memory.output, synapse=0.01)\n",
    "        p_class = nengo.Probe(net.classifier, synapse=0.01)\n",
    "        p_resets = [nengo.Probe(dmp.reset, synapse=0.01) for dmp in net.syllables]\n",
    "\n",
    "    labels = [label.upper() for _, label in freqs]\n",
    "    simt = 0.0\n",
    "    tgt_time = []\n",
    "    for label in labels:\n",
    "        syllable = model.syllable_dict[label]\n",
    "        simt += syllable.trajectory.shape[0] * model.trial.dt\n",
    "        tgt_time.append(simt)\n",
    "\n",
    "    sim = nengo.Simulator(net)\n",
    "    sim.run(0.1 + simt)\n",
    "\n",
    "    # Some analysis\n",
    "    dmps = np.hstack([sim.data[p_d] for p_d in p_states])\n",
    "    dmp_labels = np.array([s.label for s in model.syllables])\n",
    "    memory = nengo.spa.similarity(sim.data[p_mem], net.vocab, True)\n",
    "\n",
    "    t_ix, class_ix = phd.analysis.classinfo(sim.data[p_class], dmps)\n",
    "    class_time = sim.trange()[t_ix]\n",
    "    class_labels = np.array([phd.experiments.path2label(paths[ix]) for ix in class_ix])\n",
    "    recinfo = [(t, l) for t, l in zip(class_time, class_labels)]\n",
    "    tgtinfo = [(t, l) for t, l in zip(tgt_time, labels)]\n",
    "    acc, n_sub, n_del, n_ins = phd.analysis.cl_accuracy(recinfo, tgtinfo)\n",
    "    tdiff_mean, tdiff_var = phd.analysis.cl_timing(recinfo, tgtinfo)\n",
    "\n",
    "    tgt_time = np.asarray(tgt_time)\n",
    "    mem_times = (tgt_time[1:] + tgt_time[:-1]) * 0.5\n",
    "    mem_ix = (mem_times / model.trial.dt).astype(int)\n",
    "    mem_class = np.argmax(memory[mem_ix], axis=1)\n",
    "    slabels = [s.label for s in model.syllables]\n",
    "    actual = np.array([slabels.index(lbl) for lbl in labels[:-1]])\n",
    "    memory_acc = np.mean(mem_class == actual)\n",
    "\n",
    "    print(\"accuracy: %f\" % acc)\n",
    "    print(\"subst: %d, del: %d, ins: %d\" % (n_sub, n_del, n_ins))\n",
    "    print(\"time diff: %f +/- %f\" % (tdiff_mean, tdiff_var))\n",
    "    print(\"memory acc: %f\" % memory_acc)\n",
    "\n",
    "    # Plotting\n",
    "    t = sim.trange()\n",
    "    fig = plt.figure(figsize=(7, 10))\n",
    "\n",
    "    ax = plt.subplot(6, 1, 1)\n",
    "    ax.plot(t, sim.data[p_traj])\n",
    "    ax.set_ylabel(\"Trajectory input\")\n",
    "    ax.set_xlim(right=t[-1])\n",
    "    ax.set_xticks(())\n",
    "    sns.despine(ax=ax)\n",
    "\n",
    "    for i, (pr, label) in enumerate(zip(p_dmps, labels)):\n",
    "        ax = plt.subplot(6, 1, i+2)\n",
    "        ax.plot(t, sim.data[pr][:, 1:], c='0.8')\n",
    "        ax.plot(t, sim.data[pr][:, 0], c='k')\n",
    "        ax.set_ylabel(\"%s iDMP\" % label)\n",
    "        ax.set_xlim(right=t[-1])\n",
    "        ax.set_xticks(())\n",
    "        sns.despine(ax=ax)\n",
    "\n",
    "    ax = plt.subplot(6, 1, 5)\n",
    "    ax.plot(t, sim.data[p_class])\n",
    "    ax.set_ylabel(\"Classifier\")\n",
    "    ax.set_xlim(right=t[-1])\n",
    "    ax.set_xticks(())\n",
    "    sns.despine(ax=ax)\n",
    "\n",
    "    ax = plt.subplot(6, 1, 6)\n",
    "    ax.plot(t, nengo.spa.similarity(sim.data[p_mem], net.vocab, True))\n",
    "    ax.set_ylabel(\"Memory (similarity)\")\n",
    "    ax.set_xlim(right=t[-1])\n",
    "    ax.legend(labels, loc='best', frameon=True)\n",
    "    ax.set_xlabel(\"Time (s)\")\n",
    "    sns.despine(ax=ax)\n",
    "\n",
    "    fig.tight_layout()\n",
    "    phd.plots.savefig(fig, 'results', name)"
   ]
  },
  {
   "cell_type": "markdown",
   "metadata": {},
   "source": [
    "## Basic usage"
   ]
  },
  {
   "cell_type": "code",
   "execution_count": null,
   "metadata": {
    "collapsed": false
   },
   "outputs": [],
   "source": [
    "model = phd.sermo.Recognition()\n",
    "freqs = [('ges-de-ccv', 'blaa'), ('ges-de-cv', 'tii'), ('ges-de-cvc', 'das')]\n",
    "paths = []\n",
    "for gdir, ges in freqs:\n",
    "    path = phd.ges_path(gdir, '%s.ges' % ges.lower())\n",
    "    paths.append(path)\n",
    "    traj = phd.vtl.parse_ges(path).trajectory(dt=model.trial.dt * 2)\n",
    "    model.add_syllable(label=ges.upper(),\n",
    "                       trajectory=traj)\n",
    "model.trial.trajectory = np.vstack([s.trajectory for s in model.syllables])"
   ]
  },
  {
   "cell_type": "code",
   "execution_count": null,
   "metadata": {
    "collapsed": false
   },
   "outputs": [],
   "source": [
    "run_and_plot(model, 'recog-good', seed=0)"
   ]
  },
  {
   "cell_type": "code",
   "execution_count": null,
   "metadata": {
    "collapsed": false
   },
   "outputs": [],
   "source": [
    "run_and_plot(model, 'recog-bad', seed=3)"
   ]
  },
  {
   "cell_type": "markdown",
   "metadata": {},
   "source": [
    "## Running an experiment"
   ]
  },
  {
   "cell_type": "code",
   "execution_count": null,
   "metadata": {
    "collapsed": false
   },
   "outputs": [],
   "source": [
    "model = phd.sermo.Recognition()\n",
    "expt = phd.experiments.RecognitionExperiment(model, n_syllables=3, sequence_len=3)\n",
    "key = expt.run()\n",
    "res = phd.experiments.RecognitionResult.load(key)"
   ]
  },
  {
   "cell_type": "code",
   "execution_count": null,
   "metadata": {
    "collapsed": false
   },
   "outputs": [],
   "source": [
    "print(\"Should be %s\" % res.seq)\n",
    "plt.plot(res.memory)\n",
    "plt.legend(res.dmp_labels)"
   ]
  },
  {
   "cell_type": "code",
   "execution_count": null,
   "metadata": {
    "collapsed": false
   },
   "outputs": [],
   "source": [
    "plt.plot(res.dmps);"
   ]
  },
  {
   "cell_type": "code",
   "execution_count": null,
   "metadata": {
    "collapsed": false
   },
   "outputs": [],
   "source": [
    "print(\"accuracy: %f\" % res.acc)\n",
    "print(\"subst: %d, del: %d, ins: %d\" % (res.n_sub, res.n_del, res.n_ins))\n",
    "print(\"time diff: %f +/- %f\" % (res.tdiff_mean, res.tdiff_var))\n",
    "print(\"memory acc: %f\" % res.memory_acc)"
   ]
  },
  {
   "cell_type": "markdown",
   "metadata": {},
   "source": [
    "## Plotting experimental results"
   ]
  },
  {
   "cell_type": "code",
   "execution_count": null,
   "metadata": {
    "collapsed": false
   },
   "outputs": [],
   "source": [
    "phd.plots.recog_time('similarity', 'Similarity threshold');"
   ]
  },
  {
   "cell_type": "code",
   "execution_count": null,
   "metadata": {
    "collapsed": false
   },
   "outputs": [],
   "source": [
    "phd.plots.recog_time('scale', 'Scale');"
   ]
  },
  {
   "cell_type": "code",
   "execution_count": null,
   "metadata": {
    "collapsed": false
   },
   "outputs": [],
   "source": [
    "phd.plots.recog_time('syllneurons', 'Syllable neurons');"
   ]
  },
  {
   "cell_type": "code",
   "execution_count": null,
   "metadata": {
    "collapsed": false
   },
   "outputs": [],
   "source": [
    "phd.plots.recog_time('freq', 'Syllable frequency');"
   ]
  },
  {
   "cell_type": "code",
   "execution_count": null,
   "metadata": {
    "collapsed": false
   },
   "outputs": [],
   "source": [
    "phd.plots.recog_time('n_syllables', 'Syllabary size', n_syllables=list(range(1, 9)));"
   ]
  },
  {
   "cell_type": "code",
   "execution_count": null,
   "metadata": {
    "collapsed": false
   },
   "outputs": [],
   "source": [
    "phd.plots.recog_time('sequence_len', 'Sequence length');"
   ]
  },
  {
   "cell_type": "code",
   "execution_count": null,
   "metadata": {
    "collapsed": false
   },
   "outputs": [],
   "source": [
    "phd.plots.recog_cmp('repeat', 'Repeat syllables', hue_order=['False', 'True']);"
   ]
  },
  {
   "cell_type": "markdown",
   "metadata": {},
   "source": [
    "## Scaling"
   ]
  },
  {
   "cell_type": "code",
   "execution_count": null,
   "metadata": {
    "collapsed": false
   },
   "outputs": [],
   "source": [
    "def n_neurons(msg, model, n_syllables):\n",
    "    net = model.build()\n",
    "    nn = sum(e.n_neurons for e in net.all_ensembles)\n",
    "    print(\"=== %s ===\" % msg)\n",
    "\n",
    "    inneurons = 80 * 48\n",
    "    amneurons = ((n_syllables * 3) * 50)  # 50 is default for AM\n",
    "    memneurons = model.cleanup.dimensions * model.memory.neurons_per_dimension\n",
    "    # Note: depends on gestures per syllable.\n",
    "    g_per_syll = np.mean([d.state.dimensions - 1 for d in net.syllables])\n",
    "    print(\"g per syll: %.3f\" % g_per_syll)\n",
    "    syllneurons = n_syllables * (model.syllable.n_per_d * (g_per_syll + 2) + 20)\n",
    "    clsneurons = 20\n",
    "\n",
    "    allneurons = inneurons + amneurons + memneurons + syllneurons + clsneurons\n",
    "\n",
    "    print(\"in: %d, spa: %d, syll: %d, cls %d\" % (\n",
    "        inneurons, amneurons + memneurons, syllneurons, clsneurons))\n",
    "\n",
    "    print(\"Total: %d neurons\" % allneurons)\n",
    "    print(\"%.3f mm^3 of cortex\" % (allneurons / 27000.))\n",
    "    print(\"\")\n",
    "\n",
    "def add_syllables(model, n_syllables):\n",
    "    model.trial.trajectory = np.zeros((2, 48))\n",
    "    for p, f in zip(*phd.analysis.get_syllables(n_syllables, 1, 1)):\n",
    "        tr = phd.vtl.parse_ges(p).trajectory(model.trial.dt)\n",
    "        lbl = phd.experiments.path2label(p)\n",
    "        model.add_syllable(label=lbl, freq=f, trajectory=tr)\n",
    "\n",
    "model = phd.sermo.Recognition()\n",
    "add_syllables(model, 3)\n",
    "net = model.build()\n",
    "n_neurons(\"Default configuration\", model, 3)\n",
    "model = phd.sermo.Recognition()\n",
    "model.cleanup.dimensions = 256\n",
    "add_syllables(model, 3)\n",
    "net = model.build()\n",
    "n_neurons(\"Conservative estimate\", model, 1000)\n",
    "model = phd.sermo.Recognition()\n",
    "model.cleanup.dimensions = 512\n",
    "add_syllables(model, 3)\n",
    "net = model.build()\n",
    "n_neurons(\"Generous estimate\", model, 2000);"
   ]
  }
 ],
 "metadata": {
  "kernelspec": {
   "display_name": "Python 2",
   "language": "python",
   "name": "python2"
  },
  "language_info": {
   "codemirror_mode": {
    "name": "ipython",
    "version": 2
   },
   "file_extension": ".py",
   "mimetype": "text/x-python",
   "name": "python",
   "nbconvert_exporter": "python",
   "pygments_lexer": "ipython2",
   "version": "2.7.10"
  }
 },
 "nbformat": 4,
 "nbformat_minor": 0
}
