{
 "cells": [
  {
   "cell_type": "code",
   "execution_count": null,
   "metadata": {
    "collapsed": false
   },
   "outputs": [],
   "source": [
    "import phd\n",
    "\n",
    "import os\n",
    "%matplotlib inline\n",
    "import matplotlib.pyplot as plt\n",
    "import seaborn as sns\n",
    "import nengo\n",
    "import nengo.utils.numpy as npext\n",
    "import numpy as np\n",
    "\n",
    "# Some plotting niceties\n",
    "phd.plots.setup()"
   ]
  },
  {
   "cell_type": "code",
   "execution_count": null,
   "metadata": {
    "collapsed": false
   },
   "outputs": [],
   "source": [
    "%%javascript\n",
    "if($(IPython.toolbar.selector.concat(' > #kill-run-first')).length == 0){\n",
    "  IPython.toolbar.add_buttons_group([\n",
    "    {\n",
    "      'label'   : 'kill and run-first',\n",
    "      'icon'    : 'fa fa-angle-double-down',\n",
    "      'callback': function(){\n",
    "        IPython.notebook.kernel.restart();\n",
    "        $(IPython.events).one('kernel_ready.Kernel', function(){\n",
    "          var idx = IPython.notebook.get_selected_index();\n",
    "          IPython.notebook.select(0);\n",
    "          IPython.notebook.execute_cell();\n",
    "          IPython.notebook.select(idx);\n",
    "        });\n",
    "      }\n",
    "    }\n",
    "  ], 'kill-run-first');\n",
    "}"
   ]
  },
  {
   "cell_type": "markdown",
   "metadata": {},
   "source": [
    "## Basic usage"
   ]
  },
  {
   "cell_type": "code",
   "execution_count": null,
   "metadata": {
    "collapsed": false
   },
   "outputs": [],
   "source": [
    "model = phd.sermo.Recognition()\n",
    "freqs = [('ges-de-ccv', 'blaa'), ('ges-de-cv', 'tii'), ('ges-de-cvc', 'das')]\n",
    "for gdir, ges in freqs:\n",
    "    path = phd.ges_path(gdir, '%s.ges' % ges.lower())\n",
    "    traj = phd.vtl.parse_ges(path).trajectory(dt=model.trial.dt * 2)\n",
    "    model.add_syllable(label=ges.upper(),\n",
    "                       trajectory=traj)\n",
    "model.trial.trajectory = np.vstack([s.trajectory for s in model.syllables])"
   ]
  },
  {
   "cell_type": "code",
   "execution_count": null,
   "metadata": {
    "collapsed": false
   },
   "outputs": [],
   "source": [
    "net = model.build(net=nengo.Network(seed=0))\n",
    "with net:\n",
    "    p_traj = nengo.Probe(net.trajectory.output, synapse=0.01)\n",
    "    p_dmps = [nengo.Probe(dmp.state, synapse=0.01) for dmp in net.syllables]\n",
    "    p_mem = nengo.Probe(net.memory.output, synapse=0.01)\n",
    "    p_class = nengo.Probe(net.classifier, synapse=0.01)\n",
    "    p_resets = [nengo.Probe(dmp.reset, synapse=0.01) for dmp in net.syllables]"
   ]
  },
  {
   "cell_type": "code",
   "execution_count": null,
   "metadata": {
    "collapsed": false
   },
   "outputs": [],
   "source": [
    "sim = nengo.Simulator(net)\n",
    "sim.run(sum(s.trajectory.shape[0] * model.trial.dt for s in model.syllables))"
   ]
  },
  {
   "cell_type": "code",
   "execution_count": null,
   "metadata": {
    "collapsed": false
   },
   "outputs": [],
   "source": [
    "labels = [label for _, label in freqs]\n",
    "t = sim.trange()\n",
    "plt.figure()\n",
    "plt.plot(t, sim.data[p_traj])\n",
    "plt.xlim(right=t[-1])\n",
    "for pr, label in zip(p_dmps, labels):\n",
    "    plt.figure()\n",
    "    plt.plot(t, sim.data[pr])\n",
    "    plt.xlim(right=t[-1])\n",
    "plt.figure()\n",
    "plt.plot(t, nengo.spa.similarity(sim.data[p_mem], net.vocab, True))\n",
    "plt.xlim(right=t[-1])\n",
    "plt.legend(labels, loc='best')\n",
    "plt.figure()\n",
    "plt.plot(t, sim.data[p_class])\n",
    "plt.xlim(right=t[-1]);"
   ]
  },
  {
   "cell_type": "markdown",
   "metadata": {},
   "source": [
    "## Running an experiment"
   ]
  },
  {
   "cell_type": "code",
   "execution_count": null,
   "metadata": {
    "collapsed": false
   },
   "outputs": [],
   "source": [
    "model = phd.sermo.Recognition()\n",
    "expt = phd.experiments.RecognitionExperiment(model, n_syllables=3, sequence_len=3)\n",
    "key = expt.run()\n",
    "res = phd.experiments.RecognitionResult.load(key)"
   ]
  },
  {
   "cell_type": "code",
   "execution_count": null,
   "metadata": {
    "collapsed": true
   },
   "outputs": [],
   "source": [
    "res = phd.experiments.RecognitionResult.load('similarity:0.650,seed:6')"
   ]
  },
  {
   "cell_type": "code",
   "execution_count": null,
   "metadata": {
    "collapsed": false
   },
   "outputs": [],
   "source": [
    "print(\"Should be %s\" % res.seq)\n",
    "plt.plot(res.memory)\n",
    "plt.legend(res.dmp_labels)"
   ]
  },
  {
   "cell_type": "code",
   "execution_count": null,
   "metadata": {
    "collapsed": false
   },
   "outputs": [],
   "source": [
    "plt.plot(res.dmps);"
   ]
  },
  {
   "cell_type": "code",
   "execution_count": null,
   "metadata": {
    "collapsed": false
   },
   "outputs": [],
   "source": [
    "print(\"accuracy: %f\" % res.acc)\n",
    "print(\"subst: %d, del: %d, ins: %d\" % (res.n_sub, res.n_del, res.n_ins))\n",
    "print(\"time diff: %f +/- %f\" % (res.tdiff_mean, res.tdiff_var))\n",
    "print(\"memory acc: %f\" % res.memory_acc)"
   ]
  },
  {
   "cell_type": "markdown",
   "metadata": {},
   "source": [
    "## Plotting experimental results"
   ]
  },
  {
   "cell_type": "code",
   "execution_count": null,
   "metadata": {
    "collapsed": false
   },
   "outputs": [],
   "source": [
    "# Put figures in phd/figures\n",
    "root = os.path.abspath(os.path.join(os.path.dirname(phd.__file__), \"..\"))\n",
    "def fig(name, ext='svg'):\n",
    "    return os.path.join(root, \"figures\", \"results\", \"%s.%s\" % (name, ext))\n",
    "\n",
    "def time_plots(key, x_label, mem_chance=1./3):\n",
    "    df = phd.analysis.load_results(phd.experiments.RecognitionResult, [key])\n",
    "\n",
    "    cmp_args = {'group_by': key,\n",
    "                'x_label': x_label}\n",
    "\n",
    "    acc = plt.figure()\n",
    "    phd.plots.timeseries(df,\n",
    "                      columns=['acc'],\n",
    "                      x_keys=['Accuracy'],\n",
    "                      y_label='Accuracy',\n",
    "                      **cmp_args)\n",
    "    plt.xlabel(\"\")\n",
    "    plt.tight_layout()\n",
    "    acc.savefig(fig('recog-%s-acc' % key))\n",
    "\n",
    "    err = plt.figure()\n",
    "    phd.plots.timeseries(df,\n",
    "                      columns=['n_sub', 'n_del', 'n_ins'],\n",
    "                      x_keys=['Substitutions', 'Deletions', 'Insertions'],\n",
    "                      y_label='Count',\n",
    "                      **cmp_args)\n",
    "    plt.xlabel(\"\")\n",
    "    plt.tight_layout()\n",
    "    err.savefig(fig('recog-%s-err' % key))\n",
    "\n",
    "    tdiff = plt.figure()\n",
    "    phd.plots.timeseries(df,\n",
    "                      columns=['tdiff_mean', 'tdiff_var'],\n",
    "                      x_keys=['Timing mean', 'Timing variance'],\n",
    "                      y_label='Timing',\n",
    "                      **cmp_args)\n",
    "    plt.xlabel(\"\")\n",
    "    plt.tight_layout()\n",
    "    tdiff.savefig(fig('recog-%s-tdiff' % key))\n",
    "\n",
    "    mem = plt.figure()\n",
    "    phd.plots.timeseries(df,\n",
    "                      columns=['memory_acc'],\n",
    "                      x_keys=['Memory accuracy'],\n",
    "                      y_label='Accuracy',\n",
    "                      **cmp_args)\n",
    "    plt.axhline(mem_chance, c='k', ls=':')\n",
    "    plt.xlabel(\"\")\n",
    "    plt.tight_layout()\n",
    "    mem.savefig(fig('recog-%s-mem' % key))\n",
    "    return acc, err, tdiff, mem\n",
    "\n",
    "def cmp_plots(key, x_label, hue_order, mem_chance=1./3):\n",
    "    df = phd.analysis.load_results(phd.experiments.RecognitionResult, [key])\n",
    "\n",
    "    cmp_args = {'group_by': key,\n",
    "                'x_label': x_label,\n",
    "                'hue_order': hue_order}\n",
    "\n",
    "    acc = plt.figure()\n",
    "    phd.plots.compare(df,\n",
    "                      columns=['acc'],\n",
    "                      x_keys=['Accuracy'],\n",
    "                      y_label='Accuracy',\n",
    "                      plot_f=sns.barplot,\n",
    "                      **cmp_args)\n",
    "    plt.xlabel(\"\")\n",
    "    plt.tight_layout()\n",
    "    acc.savefig(fig('recog-%s-acc' % key))\n",
    "\n",
    "    err = plt.figure()\n",
    "    phd.plots.compare(df,\n",
    "                      columns=['n_sub', 'n_del', 'n_ins'],\n",
    "                      x_keys=['Substitutions', 'Deletions', 'Insertions'],\n",
    "                      y_label='Count',\n",
    "                      plot_f=sns.barplot,\n",
    "                      **cmp_args)\n",
    "    plt.xlabel(\"\")\n",
    "    plt.tight_layout()\n",
    "    err.savefig(fig('recog-%s-err' % key))\n",
    "\n",
    "    tdiff = plt.figure()\n",
    "    phd.plots.compare(df,\n",
    "                      columns=['tdiff_mean', 'tdiff_var'],\n",
    "                      x_keys=['Timing mean', 'Timing variance'],\n",
    "                      y_label='Timing',\n",
    "                      plot_f=sns.barplot,\n",
    "                      **cmp_args)\n",
    "    plt.xlabel(\"\")\n",
    "    plt.tight_layout()\n",
    "    tdiff.savefig(fig('recog-%s-tdiff' % key))\n",
    "\n",
    "    mem = plt.figure()\n",
    "    phd.plots.compare(df,\n",
    "                      columns=['memory_acc'],\n",
    "                      x_keys=['Memory accuracy'],\n",
    "                      y_label='Accuracy',\n",
    "                      plot_f=sns.barplot,\n",
    "                      **cmp_args)\n",
    "    plt.axhline(mem_chance, c='k', ls=':')\n",
    "    plt.xlabel(\"\")\n",
    "    plt.tight_layout()\n",
    "    mem.savefig(fig('recog-%s-mem' % key))\n",
    "    return acc, err, tdiff, mem"
   ]
  },
  {
   "cell_type": "code",
   "execution_count": null,
   "metadata": {
    "collapsed": false
   },
   "outputs": [],
   "source": [
    "time_plots('similarity', 'Similarity threshold');"
   ]
  },
  {
   "cell_type": "code",
   "execution_count": null,
   "metadata": {
    "collapsed": false
   },
   "outputs": [],
   "source": [
    "time_plots('scale', 'Scale');"
   ]
  },
  {
   "cell_type": "code",
   "execution_count": null,
   "metadata": {
    "collapsed": false
   },
   "outputs": [],
   "source": [
    "time_plots('syllneurons', 'Syllable neurons');"
   ]
  },
  {
   "cell_type": "code",
   "execution_count": null,
   "metadata": {
    "collapsed": false
   },
   "outputs": [],
   "source": [
    "time_plots('freq', 'Syllable frequency');"
   ]
  },
  {
   "cell_type": "code",
   "execution_count": null,
   "metadata": {
    "collapsed": false
   },
   "outputs": [],
   "source": [
    "time_plots('n_syllables', 'Syllabary size'); # fill in mem_chance=);"
   ]
  },
  {
   "cell_type": "code",
   "execution_count": null,
   "metadata": {
    "collapsed": false
   },
   "outputs": [],
   "source": [
    "time_plots('sequence_len', 'Sequence length');"
   ]
  },
  {
   "cell_type": "code",
   "execution_count": null,
   "metadata": {
    "collapsed": false
   },
   "outputs": [],
   "source": [
    "cmp_plots('repeat', 'Repeat syllables', hue_order=['False', 'True']);"
   ]
  },
  {
   "cell_type": "markdown",
   "metadata": {},
   "source": [
    "## Scaling"
   ]
  },
  {
   "cell_type": "code",
   "execution_count": null,
   "metadata": {
    "collapsed": false
   },
   "outputs": [],
   "source": [
    "def n_neurons(msg, model, n_syllables):\n",
    "    net = model.build()\n",
    "    nn = sum(e.n_neurons for e in net.all_ensembles)\n",
    "    print(\"=== %s ===\" % msg)\n",
    "\n",
    "    inneurons = 80 * 48\n",
    "    amneurons = ((n_syllables * 3) * 50)  # 50 is default for AM\n",
    "    memneurons = model.cleanup.dimensions * model.memory.neurons_per_dimension\n",
    "    # Note: depends on gestures per syllable.\n",
    "    g_per_syll = np.mean([d.state.dimensions - 1 for d in net.syllables])\n",
    "    print(\"g per syll: %.3f\" % g_per_syll)\n",
    "    syllneurons = n_syllables * (model.syllable.n_per_d * (g_per_syll + 2) + 20)\n",
    "    clsneurons = 20\n",
    "\n",
    "    allneurons = inneurons + amneurons + memneurons + syllneurons + clsneurons\n",
    "\n",
    "    print(\"in: %d, spa: %d, syll: %d, cls %d\" % (\n",
    "        inneurons, amneurons + memneurons, syllneurons, clsneurons))\n",
    "\n",
    "    print(\"Total: %d neurons\" % allneurons)\n",
    "    print(\"\")\n",
    "\n",
    "def add_syllables(model, n_syllables):\n",
    "    model.trial.trajectory = np.zeros((2, 48))\n",
    "    for p, f in zip(*phd.experiments.get_syllables(n_syllables, 1, 1)):\n",
    "        tr = phd.vtl.parse_ges(p).trajectory(model.trial.dt)\n",
    "        lbl = phd.experiments.path2label(p)\n",
    "        model.add_syllable(label=lbl, freq=f, trajectory=tr)\n",
    "\n",
    "model = phd.sermo.Recognition()\n",
    "add_syllables(model, 3)\n",
    "net = model.build()\n",
    "n_neurons(\"Default configuration\", model, 3)\n",
    "model = phd.sermo.Recognition()\n",
    "model.cleanup.dimensions = 256\n",
    "add_syllables(model, 3)\n",
    "net = model.build()\n",
    "n_neurons(\"Conservative estimate\", model, 2000)\n",
    "model = phd.sermo.Recognition()\n",
    "model.cleanup.dimensions = 512\n",
    "add_syllables(model, 3)\n",
    "net = model.build()\n",
    "n_neurons(\"Generous estimate\", model, 4000);"
   ]
  }
 ],
 "metadata": {
  "kernelspec": {
   "display_name": "Python 2",
   "language": "python",
   "name": "python2"
  },
  "language_info": {
   "codemirror_mode": {
    "name": "ipython",
    "version": 2
   },
   "file_extension": ".py",
   "mimetype": "text/x-python",
   "name": "python",
   "nbconvert_exporter": "python",
   "pygments_lexer": "ipython2",
   "version": "2.7.10"
  }
 },
 "nbformat": 4,
 "nbformat_minor": 0
}
