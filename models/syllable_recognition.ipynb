{
 "cells": [
  {
   "cell_type": "code",
   "execution_count": null,
   "metadata": {
    "collapsed": false
   },
   "outputs": [],
   "source": [
    "import os\n",
    "\n",
    "import numpy as np\n",
    "import nengo\n",
    "import nengo.utils.numpy as npext\n",
    "from nengo_gui.ipython import IPythonViz\n",
    "\n",
    "%matplotlib inline\n",
    "import matplotlib.pyplot as plt\n",
    "import seaborn as sns\n",
    "plt.rc('figure', figsize=(12, 3))\n",
    "\n",
    "import phd"
   ]
  },
  {
   "cell_type": "code",
   "execution_count": null,
   "metadata": {
    "collapsed": false
   },
   "outputs": [],
   "source": [
    "%%javascript\n",
    "if($(IPython.toolbar.selector.concat(' > #kill-run-first')).length == 0){\n",
    "  IPython.toolbar.add_buttons_group([\n",
    "    {\n",
    "      'label'   : 'kill and run-first',\n",
    "      'icon'    : 'fa fa-angle-double-down',\n",
    "      'callback': function(){\n",
    "        IPython.notebook.kernel.restart();\n",
    "        $(IPython.events).one('kernel_ready.Kernel', function(){\n",
    "          var idx = IPython.notebook.get_selected_index();\n",
    "          IPython.notebook.select(0);\n",
    "          IPython.notebook.execute_cell();\n",
    "          IPython.notebook.select(idx);\n",
    "        });\n",
    "      }\n",
    "    }\n",
    "  ], 'kill-run-first');\n",
    "}"
   ]
  },
  {
   "cell_type": "markdown",
   "metadata": {},
   "source": [
    "## Trajectory detection\n",
    "\n",
    "Basic idea:\n",
    "\n",
    "- We know the trajectory through time,\n",
    "  and use this to make continuous predictions of the trajectory.\n",
    "- When the actual trajectory matches our predictions, we advance time.\n",
    "- We can interrogate how far along the trajectory we are."
   ]
  },
  {
   "cell_type": "code",
   "execution_count": null,
   "metadata": {
    "collapsed": false
   },
   "outputs": [],
   "source": [
    "import nengo.utils.numpy as npext\n",
    "\n",
    "def predict(x):\n",
    "    # Simple trajectory that just goes through 4 discrete states\n",
    "    if x <= 0.25:\n",
    "        return np.array([0, 0, 1, 1]).astype(float)\n",
    "    elif x <= 0.5:\n",
    "        return np.array([0, 1, 0, 1]).astype(float)\n",
    "    elif x <= 0.75:\n",
    "        return np.array([1, 0, 1, 0]).astype(float)\n",
    "    else:\n",
    "        return np.array([1, 1, 0, 0]).astype(float)\n",
    "\n",
    "def observe(t):\n",
    "    # Same trajectory, but at various points in time\n",
    "    if t <= 0.5:\n",
    "        return np.array([0, 0, 1, 1]).astype(float)\n",
    "    elif t <= 0.6:\n",
    "        return np.array([0, 1, 0, 1]).astype(float)\n",
    "    elif t <= 0.7:\n",
    "        return np.array([1, 0, 1, 0]).astype(float)\n",
    "    else:\n",
    "        return np.array([1, 1, 0, 0]).astype(float)\n",
    "\n",
    "def similarity(v1, v2):\n",
    "    # v1 and v2 are vectors\n",
    "    eps = np.nextafter(0, 1)  # smallest float above zero\n",
    "    dot = np.dot(v1, v2)\n",
    "    dot /= max(npext.norm(v1), eps)\n",
    "    dot /= max(npext.norm(v2), eps)\n",
    "    return dot\n",
    "\n",
    "# Go from time 0 to 2\n",
    "t = np.linspace(0, 1, num=200)\n",
    "# State\n",
    "x = 0.\n",
    "c = 0.02\n",
    "x_hist = []\n",
    "for tt in t:\n",
    "    # Make a prediction, get an observation\n",
    "    pred = predict(x)\n",
    "    obs = observe(tt)\n",
    "\n",
    "    # Increment x\n",
    "    x += (similarity(pred, obs) > 0.9) * c\n",
    "    x = np.clip(x, 0, 1)\n",
    "    x_hist.append(x)\n",
    "\n",
    "plt.plot(t, x_hist)"
   ]
  },
  {
   "cell_type": "markdown",
   "metadata": {},
   "source": [
    "## Trajectory detection in Nengo"
   ]
  },
  {
   "cell_type": "code",
   "execution_count": null,
   "metadata": {
    "collapsed": false
   },
   "outputs": [],
   "source": [
    "dt = 0.001\n",
    "trajs = []\n",
    "gests = ('pat', 'das')\n",
    "for ges in gests:\n",
    "    path = phd.ges_path('ges-de-cvc', '%s.ges' % ges.lower())\n",
    "    trajs.append(phd.vtl.parse_ges(path).trajectory(dt=dt))\n",
    "\n",
    "model = phd.sermo.Recognition()\n",
    "model.trial.dt = dt\n",
    "model.trial.trajectory = np.vstack(trajs)\n",
    "for ges in gests:\n",
    "    path = phd.ges_path('ges-de-cvc', '%s.ges' % ges.lower())\n",
    "    traj = phd.vtl.parse_ges(path).trajectory(dt=model.trial.dt)\n",
    "    model.add_syllable(label=ges.upper(),\n",
    "                       n_per_d=400,\n",
    "                       trajectory=traj,\n",
    "                       similarity_th=0.85,\n",
    "                       scale=0.67)"
   ]
  },
  {
   "cell_type": "code",
   "execution_count": null,
   "metadata": {
    "collapsed": false
   },
   "outputs": [],
   "source": [
    "net = model.build()\n",
    "with net:\n",
    "    p_traj = nengo.Probe(net.trajectory.output, synapse=0.01)\n",
    "    p_dmps = [nengo.Probe(dmp.state, synapse=0.01) for dmp in net.syllables]\n",
    "    p_mem = nengo.Probe(net.memory.output, synapse=0.01)\n",
    "    p_class = nengo.Probe(net.classifier, synapse=0.01)\n",
    "    p_resets = [nengo.Probe(dmp.reset, synapse=0.01) for dmp in net.syllables]\n",
    "\n",
    "sim = nengo.Simulator(net)\n",
    "sim.run(sum(t.shape[0] * dt for t in trajs))\n",
    "\n",
    "t = sim.trange()\n",
    "plt.figure()\n",
    "plt.plot(t, sim.data[p_traj])\n",
    "plt.xlim(right=t[-1])\n",
    "for pr, label in zip(p_dmps, gests):\n",
    "    plt.figure()\n",
    "    plt.plot(t, sim.data[pr])\n",
    "    plt.title(label)\n",
    "    plt.xlim(right=t[-1])\n",
    "plt.figure()\n",
    "plt.plot(t, nengo.spa.similarity(sim.data[p_mem], net.vocab, True))\n",
    "plt.xlim(right=t[-1])\n",
    "plt.legend(gests, loc='best')\n",
    "plt.figure()\n",
    "plt.plot(t, sim.data[p_class])\n",
    "plt.xlim(right=t[-1]);"
   ]
  },
  {
   "cell_type": "code",
   "execution_count": null,
   "metadata": {
    "collapsed": false
   },
   "outputs": [],
   "source": [
    "print(\"Whole model: %d neurons\" % sum(e.n_neurons for e in net.all_ensembles))\n",
    "print(\"Each syllable: %d neurons\" % sum(e.n_neurons for e in net.syllables[0].all_ensembles))"
   ]
  }
 ],
 "metadata": {
  "kernelspec": {
   "display_name": "Python 2",
   "language": "python",
   "name": "python2"
  },
  "language_info": {
   "codemirror_mode": {
    "name": "ipython",
    "version": 2
   },
   "file_extension": ".py",
   "mimetype": "text/x-python",
   "name": "python",
   "nbconvert_exporter": "python",
   "pygments_lexer": "ipython2",
   "version": "2.7.10"
  }
 },
 "nbformat": 4,
 "nbformat_minor": 0
}
