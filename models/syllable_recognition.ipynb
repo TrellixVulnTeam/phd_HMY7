{
 "cells": [
  {
   "cell_type": "code",
   "execution_count": null,
   "metadata": {
    "collapsed": false
   },
   "outputs": [],
   "source": [
    "import phd\n",
    "\n",
    "import os\n",
    "import numpy as np\n",
    "import nengo\n",
    "import nengo.utils.numpy as npext\n",
    "from nengo_gui.ipython import IPythonViz\n",
    "\n",
    "%matplotlib inline\n",
    "import matplotlib.pyplot as plt\n",
    "import seaborn as sns\n",
    "plt.rc('figure', figsize=(12, 3))"
   ]
  },
  {
   "cell_type": "code",
   "execution_count": null,
   "metadata": {
    "collapsed": false
   },
   "outputs": [],
   "source": [
    "%%javascript\n",
    "if($(IPython.toolbar.selector.concat(' > #kill-run-first')).length == 0){\n",
    "  IPython.toolbar.add_buttons_group([\n",
    "    {\n",
    "      'label'   : 'kill and run-first',\n",
    "      'icon'    : 'fa fa-angle-double-down',\n",
    "      'callback': function(){\n",
    "        IPython.notebook.kernel.restart();\n",
    "        $(IPython.events).one('kernel_ready.Kernel', function(){\n",
    "          var idx = IPython.notebook.get_selected_index();\n",
    "          IPython.notebook.select(0);\n",
    "          IPython.notebook.execute_cell();\n",
    "          IPython.notebook.select(idx);\n",
    "        });\n",
    "      }\n",
    "    }\n",
    "  ], 'kill-run-first');\n",
    "}"
   ]
  },
  {
   "cell_type": "markdown",
   "metadata": {},
   "source": [
    "## Basic usage"
   ]
  },
  {
   "cell_type": "code",
   "execution_count": null,
   "metadata": {
    "collapsed": false
   },
   "outputs": [],
   "source": [
    "model = phd.sermo.Recognition()\n",
    "model.trial.dt = 0.001\n",
    "model.syllable.similarity_th = 0.83\n",
    "model.syllable.scale = 0.66\n",
    "freqs = [('ges-de-ccv', 'blaa', 1.2), ('ges-de-cv', 'tii', 1.8), ('ges-de-cvc', 'das', 1.0)]\n",
    "for gdir, ges, freq in freqs:\n",
    "    path = phd.ges_path(gdir, '%s.ges' % ges.lower())\n",
    "    traj = phd.vtl.parse_ges(path).trajectory(dt=model.trial.dt)\n",
    "    model.add_syllable(label=ges.upper(),\n",
    "                       trajectory=traj)\n",
    "    # Freq unused here\n",
    "model.trial.trajectory = np.vstack([s.trajectory for s in model.syllables])"
   ]
  },
  {
   "cell_type": "code",
   "execution_count": null,
   "metadata": {
    "collapsed": false
   },
   "outputs": [],
   "source": [
    "net = model.build()\n",
    "with net:\n",
    "    p_traj = nengo.Probe(net.trajectory.output, synapse=0.01)\n",
    "    p_dmps = [nengo.Probe(dmp.state, synapse=0.01) for dmp in net.syllables]\n",
    "    p_mem = nengo.Probe(net.memory.output, synapse=0.01)\n",
    "    p_class = nengo.Probe(net.classifier, synapse=0.01)\n",
    "    p_resets = [nengo.Probe(dmp.reset, synapse=0.01) for dmp in net.syllables]"
   ]
  },
  {
   "cell_type": "code",
   "execution_count": null,
   "metadata": {
    "collapsed": false
   },
   "outputs": [],
   "source": [
    "sim = nengo.Simulator(net)\n",
    "sim.run(sum(s.trajectory.shape[0] * model.trial.dt for s in model.syllables))"
   ]
  },
  {
   "cell_type": "code",
   "execution_count": null,
   "metadata": {
    "collapsed": false
   },
   "outputs": [],
   "source": [
    "labels = [label for _, label, _ in freqs]\n",
    "t = sim.trange()\n",
    "plt.figure()\n",
    "plt.plot(t, sim.data[p_traj])\n",
    "plt.xlim(right=t[-1])\n",
    "for pr, label in zip(p_dmps, labels):\n",
    "    plt.figure()\n",
    "    plt.plot(t, sim.data[pr])\n",
    "    plt.xlim(right=t[-1])\n",
    "plt.figure()\n",
    "plt.plot(t, nengo.spa.similarity(sim.data[p_mem], net.vocab, True))\n",
    "plt.xlim(right=t[-1])\n",
    "plt.legend(labels, loc='best')\n",
    "plt.figure()\n",
    "plt.plot(t, sim.data[p_class])\n",
    "plt.xlim(right=t[-1]);"
   ]
  },
  {
   "cell_type": "markdown",
   "metadata": {},
   "source": [
    "## Running an experiment"
   ]
  },
  {
   "cell_type": "code",
   "execution_count": null,
   "metadata": {
    "collapsed": false
   },
   "outputs": [],
   "source": [
    "model = phd.sermo.Recognition()\n",
    "model.syllable.similarity_th = 0.8\n",
    "model.syllable.scale = 0.72\n",
    "expt = phd.experiments.RecognitionExperiment(model, n_syllables=5, sequence_len=2)\n",
    "key = expt.run()\n",
    "res = phd.experiments.RecognitionResult.load(key)"
   ]
  },
  {
   "cell_type": "code",
   "execution_count": null,
   "metadata": {
    "collapsed": false
   },
   "outputs": [],
   "source": [
    "print(\"Should be %s\" % res.seq)\n",
    "plt.plot(res.memory)\n",
    "plt.legend(res.dmp_labels)"
   ]
  },
  {
   "cell_type": "code",
   "execution_count": null,
   "metadata": {
    "collapsed": false
   },
   "outputs": [],
   "source": [
    "plt.plot(res.dmps);"
   ]
  },
  {
   "cell_type": "code",
   "execution_count": null,
   "metadata": {
    "collapsed": false
   },
   "outputs": [],
   "source": [
    "print(\"accuracy: %f\" % res.acc)\n",
    "print(\"subst: %d, del: %d, ins: %d\" % (res.n_sub, res.n_del, res.n_ins))\n",
    "print(\"time diff: %f +/- %f\" % (res.tdiff_mean, res.tdiff_var))\n",
    "print(\"memory acc: %f\" % res.memory_acc)"
   ]
  },
  {
   "cell_type": "markdown",
   "metadata": {},
   "source": [
    "## Plotting experimental results"
   ]
  },
  {
   "cell_type": "code",
   "execution_count": null,
   "metadata": {
    "collapsed": true
   },
   "outputs": [],
   "source": [
    "def compare_plots(key, x_label): # , hue_order):\n",
    "    df = phd.analysis.load_results(phd.experiments.RecognitionResult, [key])\n",
    "\n",
    "    cmp_args = {'group_by': key,\n",
    "                'x_label': x_label,}\n",
    "#                 'hue_order': hue_order}\n",
    "\n",
    "    plt.figure()\n",
    "    phd.plots.timeseries(df,\n",
    "                      columns=['acc'],\n",
    "                      x_keys=['Accuracy'],\n",
    "                      y_label='Accuracy',\n",
    "#                       plot_f=sns.barplot,\n",
    "                      **cmp_args)\n",
    "    plt.xlabel(\"\")\n",
    "\n",
    "    plt.figure()\n",
    "    phd.plots.timeseries(df,\n",
    "                      columns=['n_sub', 'n_del', 'n_ins'],\n",
    "                      x_keys=['Substitutions', 'Deletions', 'Insertions'],\n",
    "                      y_label='Count',\n",
    "#                       plot_f=sns.barplot,\n",
    "                      **cmp_args)\n",
    "    plt.xlabel(\"\")\n",
    "\n",
    "    plt.figure()\n",
    "    phd.plots.timeseries(df,\n",
    "                      columns=['tdiff_mean', 'tdiff_var'],\n",
    "                      x_keys=['Timing mean', 'Timing variance'],\n",
    "                      y_label='Timing',\n",
    "#                       plot_f=sns.barplot,\n",
    "                      **cmp_args)\n",
    "    plt.xlabel(\"\")\n",
    "\n",
    "    plt.figure()\n",
    "    phd.plots.timeseries(df,\n",
    "                      columns=['memory_acc'],\n",
    "                      x_keys=['Memory accuracy'],\n",
    "                      y_label='Accuracy',\n",
    "#                       plot_f=sns.barplot,\n",
    "                      **cmp_args)\n",
    "    plt.xlabel(\"\")"
   ]
  },
  {
   "cell_type": "code",
   "execution_count": null,
   "metadata": {
    "collapsed": false
   },
   "outputs": [],
   "source": [
    "compare_plots('scale',\n",
    "              'Scale')\n",
    "#               [\"%.3f\" % s for s in np.arange(0.64, 0.91, 0.01)])"
   ]
  },
  {
   "cell_type": "code",
   "execution_count": null,
   "metadata": {
    "collapsed": false
   },
   "outputs": [],
   "source": [
    "compare_plots('similarity',\n",
    "              'Similarity threshold')\n",
    "#               [\"%.3f\" % s for s in np.arange(0.6, 1.05, 0.05)])"
   ]
  }
 ],
 "metadata": {
  "kernelspec": {
   "display_name": "Python 2",
   "language": "python",
   "name": "python2"
  },
  "language_info": {
   "codemirror_mode": {
    "name": "ipython",
    "version": 2
   },
   "file_extension": ".py",
   "mimetype": "text/x-python",
   "name": "python",
   "nbconvert_exporter": "python",
   "pygments_lexer": "ipython2",
   "version": "2.7.10"
  }
 },
 "nbformat": 4,
 "nbformat_minor": 0
}
