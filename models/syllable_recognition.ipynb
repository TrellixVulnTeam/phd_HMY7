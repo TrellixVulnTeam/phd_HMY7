{
 "cells": [
  {
   "cell_type": "code",
   "execution_count": null,
   "metadata": {
    "collapsed": false
   },
   "outputs": [],
   "source": [
    "import os\n",
    "\n",
    "import numpy as np\n",
    "import nengo\n",
    "import nengo.utils.numpy as npext\n",
    "from nengo_gui.ipython import IPythonViz\n",
    "\n",
    "%matplotlib inline\n",
    "import matplotlib.pyplot as plt\n",
    "import seaborn as sns\n",
    "plt.rc('figure', figsize=(12, 3))\n",
    "\n",
    "import phd"
   ]
  },
  {
   "cell_type": "code",
   "execution_count": null,
   "metadata": {
    "collapsed": false
   },
   "outputs": [],
   "source": [
    "%%javascript\n",
    "if($(IPython.toolbar.selector.concat(' > #kill-run-first')).length == 0){\n",
    "  IPython.toolbar.add_buttons_group([\n",
    "    {\n",
    "      'label'   : 'kill and run-first',\n",
    "      'icon'    : 'fa fa-angle-double-down',\n",
    "      'callback': function(){\n",
    "        IPython.notebook.kernel.restart();\n",
    "        $(IPython.events).one('kernel_ready.Kernel', function(){\n",
    "          var idx = IPython.notebook.get_selected_index();\n",
    "          IPython.notebook.select(0);\n",
    "          IPython.notebook.execute_cell();\n",
    "          IPython.notebook.select(idx);\n",
    "        });\n",
    "      }\n",
    "    }\n",
    "  ], 'kill-run-first');\n",
    "}"
   ]
  },
  {
   "cell_type": "markdown",
   "metadata": {},
   "source": [
    "## Trajectory detection\n",
    "\n",
    "Basic idea:\n",
    "\n",
    "- We know the trajectory through time,\n",
    "  and use this to make continuous predictions of the trajectory.\n",
    "- When the actual trajectory matches our predictions, we advance time.\n",
    "- We can interrogate how far along the trajectory we are."
   ]
  },
  {
   "cell_type": "code",
   "execution_count": null,
   "metadata": {
    "collapsed": false
   },
   "outputs": [],
   "source": [
    "import nengo.utils.numpy as npext\n",
    "\n",
    "def predict(x):\n",
    "    # Simple trajectory that just goes through 4 discrete states\n",
    "    if x <= 0.25:\n",
    "        return np.array([0, 0, 1, 1]).astype(float)\n",
    "    elif x <= 0.5:\n",
    "        return np.array([0, 1, 0, 1]).astype(float)\n",
    "    elif x <= 0.75:\n",
    "        return np.array([1, 0, 1, 0]).astype(float)\n",
    "    else:\n",
    "        return np.array([1, 1, 0, 0]).astype(float)\n",
    "\n",
    "def observe(t):\n",
    "    # Same trajectory, but at various points in time\n",
    "    if t <= 0.5:\n",
    "        return np.array([0, 0, 1, 1]).astype(float)\n",
    "    elif t <= 0.6:\n",
    "        return np.array([0, 1, 0, 1]).astype(float)\n",
    "    elif t <= 0.7:\n",
    "        return np.array([1, 0, 1, 0]).astype(float)\n",
    "    else:\n",
    "        return np.array([1, 1, 0, 0]).astype(float)\n",
    "\n",
    "def similarity(v1, v2):\n",
    "    # v1 and v2 are vectors\n",
    "    eps = np.nextafter(0, 1)  # smallest float above zero\n",
    "    dot = np.dot(v1, v2)\n",
    "    dot /= max(npext.norm(v1), eps)\n",
    "    dot /= max(npext.norm(v2), eps)\n",
    "    return dot\n",
    "\n",
    "# Go from time 0 to 2\n",
    "t = np.linspace(0, 1, num=200)\n",
    "# State\n",
    "x = 0.\n",
    "c = 0.02\n",
    "x_hist = []\n",
    "for tt in t:\n",
    "    # Make a prediction, get an observation\n",
    "    pred = np.hstack([[x], predict(x)])\n",
    "    obs = np.hstack([[x], observe(tt)])\n",
    "\n",
    "    # Increment x\n",
    "    x += (similarity(pred, obs) > 0.9) * c\n",
    "    x = np.clip(x, 0, 1)\n",
    "    x_hist.append(x)\n",
    "\n",
    "plt.plot(t, x_hist)"
   ]
  },
  {
   "cell_type": "markdown",
   "metadata": {},
   "source": [
    "## Trajectory detection in Nengo"
   ]
  },
  {
   "cell_type": "code",
   "execution_count": null,
   "metadata": {
    "collapsed": false
   },
   "outputs": [],
   "source": [
    "trajs = []\n",
    "gests = ('pat', 'das')\n",
    "for ges in gests:\n",
    "    path = phd.ges_path('ges-de-cvc', '%s.ges' % ges.lower())\n",
    "    trajs.append(phd.vtl.parse_ges(path).trajectory(dt=0.001))\n",
    "\n",
    "model = phd.sermo.Recognition()\n",
    "model.trial.trajectory = trajs[0]\n",
    "freqs = [('pat', 2.5), ('das', 4.7)]\n",
    "for ges, freq in freqs:\n",
    "    path = phd.ges_path('ges-de-cvc', '%s.ges' % ges.lower())\n",
    "    traj = phd.vtl.parse_ges(path).trajectory(dt=model.trial.dt)\n",
    "    model.add_syllable(freq=freq, trajectory=traj)"
   ]
  },
  {
   "cell_type": "code",
   "execution_count": null,
   "metadata": {
    "collapsed": false
   },
   "outputs": [],
   "source": [
    "net = model.build()\n",
    "with net:\n",
    "    p_traj = nengo.Probe(net.trajectory.output, synapse=0.01)\n",
    "    p_dmps = [nengo.Probe(dmp.state, synapse=0.01) for dmp in net.syllables]"
   ]
  },
  {
   "cell_type": "code",
   "execution_count": null,
   "metadata": {
    "collapsed": false
   },
   "outputs": [],
   "source": [
    "sim = nengo.Simulator(net)\n",
    "sim.run(1.0)\n",
    "\n",
    "t = sim.trange()\n",
    "plt.figure()\n",
    "plt.plot(t, sim.data[p_traj])\n",
    "for pr, label in zip(p_dmps, gests):\n",
    "    plt.figure()\n",
    "    plt.plot(t, sim.data[pr])\n",
    "    plt.title(label)"
   ]
  },
  {
   "cell_type": "code",
   "execution_count": null,
   "metadata": {
    "collapsed": true
   },
   "outputs": [],
   "source": [
    "def sp_to_assocmem(sp=None):\n",
    "    # Random SP\n",
    "    sp = nengo.spa.SemanticPointer(16).v if sp is None else sp\n",
    "    def to_assocmem(x):\n",
    "        if x[0] > 0.8:\n",
    "            return sp\n",
    "        else:\n",
    "            return np.zeros_like(sp)\n",
    "    to_assocmem.sp = sp\n",
    "    return to_assocmem"
   ]
  },
  {
   "cell_type": "code",
   "execution_count": null,
   "metadata": {
    "collapsed": false
   },
   "outputs": [],
   "source": [
    "from phd.networks.dmp import traj2func\n",
    "\n",
    "ffuncs = [traj2func(traj, dt=0.001)[0] for traj in trajs]\n",
    "traj_dims = trajs[0].shape[1]\n",
    "\n",
    "with nengo.Network() as net:\n",
    "    # Emulate the associative memory input, for now.\n",
    "    assoc_mem_in = nengo.networks.EnsembleArray(25, 16)\n",
    "\n",
    "    sps, ensembles, probes = [], [], []\n",
    "    for f in ffuncs:\n",
    "        # recover `x` ramp from forced function\n",
    "        forced_inv = nengo.Ensemble(200*(f.ix.size+1), dimensions=f.ix.size+1,\n",
    "                                    n_eval_points=10000, radius=1.4)\n",
    "        ensembles.append(forced_inv)\n",
    "        # first dimension is a recurrent connection,\n",
    "        # advancing x or not depending on the input observation\n",
    "        nengo.Connection(forced_inv, forced_inv[0],\n",
    "                         function=ff_inv(f), synapse=0.05)\n",
    "        # last three dimensions are getting input observations\n",
    "        nengo.Connection(dmp_out.output[f.ix], forced_inv[1:])\n",
    "\n",
    "        # Reset with the kick\n",
    "        nengo.Connection(reset, forced_inv.neurons, synapse=.01,\n",
    "                         transform=-np.ones((forced_inv.n_neurons, 1)))\n",
    "\n",
    "        # Connect to associative memory\n",
    "        ffi_toassocmem = sp_to_assocmem()\n",
    "        sps.append(ffi_toassocmem.sp)\n",
    "        nengo.Connection(forced_inv, assoc_mem_in.input, function=ffi_toassocmem)\n",
    "\n",
    "        # Probe\n",
    "        probes.append(nengo.Probe(forced_inv, synapse=0.01))\n",
    "\n",
    "    # Introduce some minor (friendly!) competition\n",
    "    comp_scale = 0.05\n",
    "    for ens1 in ensembles:\n",
    "        for ens2 in ensembles:\n",
    "            if ens1 is not ens2:\n",
    "                nengo.Connection(ens1[0], ens2[0], transform=-comp_scale)\n",
    "\n",
    "    p_ff = nengo.Probe(dmp.osc, synapse=0.01)\n",
    "    p_forced = nengo.Probe(dmp_out.output, synapse=0.01)\n",
    "    p_assocmem = nengo.Probe(assoc_mem_in.output, synapse=0.01)"
   ]
  },
  {
   "cell_type": "code",
   "execution_count": null,
   "metadata": {
    "collapsed": false
   },
   "outputs": [],
   "source": [
    "sim = nengo.Simulator(net)\n",
    "sim.run(1.0)\n",
    "\n",
    "t = sim.trange()\n",
    "plt.figure()\n",
    "plt.plot(t, sim.data[p_ff])\n",
    "plt.figure()\n",
    "plt.plot(t, sim.data[p_forced])\n",
    "for pr, label in zip(probes, gests):\n",
    "    plt.figure()\n",
    "    plt.plot(t, sim.data[pr])\n",
    "    plt.title(label)\n",
    "plt.figure()\n",
    "plt.plot(t, nengo.spa.similarity(sim.data[p_assocmem], sps, True))\n",
    "plt.legend(gests, loc='best')"
   ]
  }
 ],
 "metadata": {
  "kernelspec": {
   "display_name": "Python 2",
   "language": "python",
   "name": "python2"
  },
  "language_info": {
   "codemirror_mode": {
    "name": "ipython",
    "version": 2
   },
   "file_extension": ".py",
   "mimetype": "text/x-python",
   "name": "python",
   "nbconvert_exporter": "python",
   "pygments_lexer": "ipython2",
   "version": "2.7.10"
  }
 },
 "nbformat": 4,
 "nbformat_minor": 0
}
