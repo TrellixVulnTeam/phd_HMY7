{
 "cells": [
  {
   "cell_type": "code",
   "execution_count": null,
   "metadata": {
    "collapsed": true
   },
   "outputs": [],
   "source": [
    "import phd\n",
    "\n",
    "import os\n",
    "%matplotlib inline\n",
    "import matplotlib.pyplot as plt\n",
    "import seaborn as sns\n",
    "import nengo\n",
    "import numpy as np\n",
    "from IPython.display import SVG\n",
    "from scipy import stats\n",
    "from nengo.utils.matplotlib import rasterplot\n",
    "from nengo.utils.stdlib import Timer\n",
    "\n",
    "# Some plotting niceties\n",
    "phd.plots.setup()\n",
    "\n",
    "# Ensure TIMIT is extracted\n",
    "timit_path = \"~/phd_data/timit\"\n",
    "timit = phd.timit.TIMIT(timit_path)\n",
    "try:\n",
    "    timit.untar(os.path.expanduser(\"~/Dropbox/LDC93S1.tgz\"))\n",
    "except Exception as e:\n",
    "    pass\n",
    "\n",
    "# Some general params\n",
    "utt = 'deadline'\n",
    "spkr = 'RRE0'\n",
    "\n",
    "# Plotting functions\n",
    "def prod(key, x_label):\n",
    "    df = phd.analysis.load_results(phd.experiments.ProductionResult, [key])\n",
    "    cmp_args = {'group_by': key, 'x_label': x_label}\n",
    "\n",
    "    fig = plt.figure(figsize=(6, 5))\n",
    "    ax = plt.subplot(2, 1, 1)\n",
    "    phd.plots.timeseries(df, columns=['accuracy'], x_keys=['Accuracy'], y_label='Accuracy',\n",
    "                         ax=ax, **cmp_args)\n",
    "    ax.axhline(phd.analysis.gs_accuracy_baseline, c='k', ls=':')\n",
    "    ax.set_xlabel(\"\")\n",
    "    ax.set_xticks(())\n",
    "    l = ax.legend()\n",
    "    l.remove()\n",
    "\n",
    "    ax = plt.subplot(2, 1, 2)\n",
    "    phd.plots.timeseries(df, columns=['cooccur'], x_keys=['Co-occurrence'], y_label='Co-occurrence',\n",
    "                         ax=ax, **cmp_args)\n",
    "    ax.axhline(df[\"co_chance\"].mean(), c='k', ls=\":\")\n",
    "    l = ax.legend()\n",
    "    l.remove()\n",
    "    ax.set_xlabel(x_label)\n",
    "\n",
    "    fig.tight_layout()\n",
    "    fig.savefig(os.path.join(phd.plots.root, \"figures\", \"presentation\", \"prod-%s.svg\" % key))\n",
    "\n",
    "def recog(key, x_label, n_syllables=[3., 3.]):\n",
    "    df = phd.analysis.load_results(phd.experiments.RecognitionResult, [key])\n",
    "    cmp_args = {'group_by': key, 'x_label': x_label}\n",
    "\n",
    "    fig = plt.figure(figsize=(6, 5))\n",
    "    ax = plt.subplot(2, 1, 1)\n",
    "    phd.plots.timeseries(df, columns=['acc'], x_keys=['Accuracy'], y_label='Accuracy',\n",
    "                         ax=ax, **cmp_args)\n",
    "    ax.set_xlabel(\"\")\n",
    "    ax.set_xticks(())\n",
    "    ax.set_ylim(0, 1)\n",
    "    l = ax.legend()\n",
    "    l.remove()\n",
    "\n",
    "    ax = plt.subplot(2, 1, 2)\n",
    "    phd.plots.timeseries(df, columns=['memory_acc'], x_keys=['Memory accuracy'],\n",
    "                         y_label='Memory accuracy', ax=ax, **cmp_args)\n",
    "    l, r = ax.get_xlim()\n",
    "    s = np.asarray(n_syllables)\n",
    "    x = np.linspace(l, r, s.size)\n",
    "    ax.plot(x, 1./s, c='k', ls=':')\n",
    "    l = ax.legend()\n",
    "    l.remove()\n",
    "    ax.set_xlabel(x_label)\n",
    "\n",
    "    fig.tight_layout()\n",
    "    fig.savefig(os.path.join(phd.plots.root, \"figures\", \"presentation\", \"recog-%s.svg\" % key))"
   ]
  },
  {
   "cell_type": "markdown",
   "metadata": {},
   "source": [
    "# NCC"
   ]
  },
  {
   "cell_type": "code",
   "execution_count": null,
   "metadata": {
    "collapsed": false
   },
   "outputs": [],
   "source": [
    "timit = phd.timit.TIMIT(timit_path)\n",
    "timit.filefilt.spkr_id = spkr\n",
    "samples = timit.word_samples([utt])\n",
    "model = phd.sermo.AuditoryFeatures()\n",
    "model.audio = samples[utt][0]"
   ]
  },
  {
   "cell_type": "code",
   "execution_count": null,
   "metadata": {
    "collapsed": false
   },
   "outputs": [],
   "source": [
    "# Get MFCCs\n",
    "model.mfcc.dt = 0.01\n",
    "x = model.mfcc()\n",
    "n_frames = x.shape[0]\n",
    "print x.shape\n",
    "\n",
    "# Plot\n",
    "f, ax = phd.plots.plot_traj(x, zscore=True)\n",
    "f.set_size_inches(6, 2.5)\n",
    "ax.set_ylabel(\"MFCC\")\n",
    "ax.set_xlabel(\"Frame\")\n",
    "f.tight_layout()\n",
    "phd.plots.savefig(f, 'presentation', 'ncc-mfcc')"
   ]
  },
  {
   "cell_type": "code",
   "execution_count": null,
   "metadata": {
    "collapsed": false
   },
   "outputs": [],
   "source": [
    "# NCCs shortened to 31 frames\n",
    "net = model.build(nengo.Network(seed=0))\n",
    "with net:\n",
    "    ihc_p = nengo.Probe(net.periphery.ihc, synapse=None)\n",
    "    an_in_p = nengo.Probe(net.periphery.an.input, synapse=None)\n",
    "    an_p = nengo.Probe(net.periphery.an.add_neuron_output(), synapse=None)\n",
    "    c_p = nengo.Probe(net.output, synapse=0.01)\n",
    "sim = nengo.Simulator(net, dt=0.001)\n",
    "sim.run(model.t_audio)\n",
    "ncc = phd.experiments.shorten(sim.data[c_p], n_frames=n_frames)\n",
    "\n",
    "# Plot\n",
    "t, t_ix = sim.trange(model.t_audio / n_frames), np.arange(0, n_frames, 10)\n",
    "t_ix[1:] -= 1\n",
    "f, ax = phd.plots.plot_traj(ncc, zscore=False)\n",
    "f.set_size_inches(6, 2.5)\n",
    "ax.set_ylabel(\"NCC\")\n",
    "ax.set_xticks(t_ix)\n",
    "ax.set_xticklabels(np.round(t[t_ix], 3))\n",
    "ax.set_xlabel(\"Time (s)\")\n",
    "f.tight_layout()\n",
    "phd.plots.savefig(f, 'presentation', 'ncc-ncc')"
   ]
  },
  {
   "cell_type": "code",
   "execution_count": null,
   "metadata": {
    "collapsed": false
   },
   "outputs": [],
   "source": [
    "w = 6 * phd.figures.in2px\n",
    "h = 2.42 * phd.figures.in2px\n",
    "\n",
    "fig = phd.figures.svgfig(w, h * 2)\n",
    "fig.append(phd.figures.el(None, phd.figures.svgpath('ncc-mfcc', subdir='presentation'), 0, 0))\n",
    "fig.append(phd.figures.el(None, phd.figures.svgpath('ncc-ncc', subdir='presentation'), 0, h))\n",
    "phd.figures.savefig(fig, 'mfcc-ncc', subdir='presentation')\n",
    "SVG(os.path.join(phd.figures.root, 'figures', 'presentation', 'mfcc-ncc.svg'))"
   ]
  },
  {
   "cell_type": "code",
   "execution_count": null,
   "metadata": {
    "collapsed": false
   },
   "outputs": [],
   "source": [
    "phd.plots.setup(figsize=(5, 3.5))\n",
    "pargs = {'columns': [], 'vary': 'phones', 'filter_by': [], 'hue_order': [\"vowels\", \"consonants\", \"all\"]}\n",
    "\n",
    "def fix_label(l):\n",
    "    for t, label in zip(l.get_texts(), [\"Vowels\", \"Consonants\", \"All phones\"]):\n",
    "        t.set_text(label)\n",
    "\n",
    "_, b = phd.plots.ncc_accuracy(relative=False, **pargs)\n",
    "ax = b.get_axes()[0]\n",
    "ax.set_ylabel(\"Classification correctness\")\n",
    "l = ax.legend(title=\"\", bbox_to_anchor=(0.55, 0.9), bbox_transform=b.transFigure)\n",
    "fix_label(l)\n",
    "b.savefig(os.path.join(phd.plots.root, \"figures\", \"presentation\", \"ncc-phones-acc-b.svg\"))\n",
    "\n",
    "_, b = phd.plots.ncc_accuracy(relative=True, **pargs)\n",
    "ax = b.get_axes()[0]\n",
    "ax.set_ylabel(\"Relative classification correctness\")\n",
    "l = ax.legend(title=\"\")\n",
    "fix_label(l)\n",
    "b.savefig(os.path.join(phd.plots.root, \"figures\", \"presentation\", \"ncc-phones-racc-b.svg\"))\n",
    "\n",
    "t = phd.plots.ncc_time(**pargs)\n",
    "ax = t.get_axes()[0]\n",
    "l = ax.legend(loc='upper left', title=\"\")\n",
    "fix_label(l)\n",
    "ax.set_xlim(right=1.5)\n",
    "t.savefig(os.path.join(phd.plots.root, \"figures\", \"presentation\", \"ncc-phones-time.svg\"))"
   ]
  },
  {
   "cell_type": "markdown",
   "metadata": {},
   "source": [
    "# Syllable production"
   ]
  },
  {
   "cell_type": "code",
   "execution_count": null,
   "metadata": {
    "collapsed": false
   },
   "outputs": [],
   "source": [
    "with nengo.Network() as model:\n",
    "    ramp = nengo.Node(lambda t: np.clip(t - 0.1, 0, 1))\n",
    "    ens_1d = nengo.Ensemble(200, dimensions=1)\n",
    "    nengo.Connection(ramp, ens_1d)\n",
    "    p = nengo.Probe(ens_1d, synapse=0.01)\n",
    "sim = nengo.Simulator(model)\n",
    "sim.run(1.2)\n",
    "\n",
    "plt.figure(figsize=(6, 3))\n",
    "plt.plot(sim.trange(), sim.data[p])\n",
    "plt.xlabel(\"Time (s)\")\n",
    "sns.despine()\n",
    "plt.tight_layout()\n",
    "plt.savefig(os.path.join(phd.plots.root, 'figures', 'presentation', 'ramp.svg'))"
   ]
  },
  {
   "cell_type": "code",
   "execution_count": null,
   "metadata": {
    "collapsed": false
   },
   "outputs": [],
   "source": [
    "path = phd.ges_path('ges-de-cvc', 'ban.ges')\n",
    "score = phd.vtl.parse_ges(path) \n",
    "traj = score.trajectory(dt=0.001)\n",
    "\n",
    "plt.figure(figsize=(6, 3))\n",
    "plt.pcolormesh(traj.T, linewidth=0, rasterized=True)\n",
    "plt.xticks(np.linspace(0, 1200, 6), np.linspace(0, 1, 6))\n",
    "plt.ylabel(\"Gesture index\")\n",
    "plt.xlabel(\"Relative time\")\n",
    "sns.despine()\n",
    "plt.tight_layout()\n",
    "plt.savefig(os.path.join(phd.plots.root, 'figures', 'presentation', 'gs-traj.svg'))"
   ]
  },
  {
   "cell_type": "code",
   "execution_count": null,
   "metadata": {
    "collapsed": false
   },
   "outputs": [],
   "source": [
    "prod('freq', 'Frequency')"
   ]
  },
  {
   "cell_type": "code",
   "execution_count": null,
   "metadata": {
    "collapsed": false
   },
   "outputs": [],
   "source": [
    "prod('sequence_len', 'Sequence length')"
   ]
  },
  {
   "cell_type": "code",
   "execution_count": null,
   "metadata": {
    "collapsed": false
   },
   "outputs": [],
   "source": [
    "prod('n_syllables', 'Syllabary size')"
   ]
  },
  {
   "cell_type": "markdown",
   "metadata": {},
   "source": [
    "# Syllable classification"
   ]
  },
  {
   "cell_type": "code",
   "execution_count": null,
   "metadata": {
    "collapsed": false
   },
   "outputs": [],
   "source": [
    "recog('sequence_len', 'Sequence length')"
   ]
  },
  {
   "cell_type": "code",
   "execution_count": null,
   "metadata": {
    "collapsed": false
   },
   "outputs": [],
   "source": [
    "recog('freq', 'Syllable frequency')"
   ]
  }
 ],
 "metadata": {
  "kernelspec": {
   "display_name": "Python 2",
   "language": "python",
   "name": "python2"
  },
  "language_info": {
   "codemirror_mode": {
    "name": "ipython",
    "version": 2
   },
   "file_extension": ".py",
   "mimetype": "text/x-python",
   "name": "python",
   "nbconvert_exporter": "python",
   "pygments_lexer": "ipython2",
   "version": "2.7.11"
  }
 },
 "nbformat": 4,
 "nbformat_minor": 0
}
