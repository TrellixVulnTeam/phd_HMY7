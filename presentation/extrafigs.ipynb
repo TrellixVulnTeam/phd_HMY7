{
 "cells": [
  {
   "cell_type": "code",
   "execution_count": null,
   "metadata": {
    "collapsed": true
   },
   "outputs": [],
   "source": [
    "import phd\n",
    "\n",
    "import os\n",
    "%matplotlib inline\n",
    "import matplotlib.pyplot as plt\n",
    "import seaborn as sns\n",
    "import nengo\n",
    "import numpy as np\n",
    "from scipy import stats\n",
    "from nengo.utils.matplotlib import rasterplot\n",
    "from nengo.utils.stdlib import Timer\n",
    "\n",
    "# Some plotting niceties\n",
    "phd.plots.setup()\n",
    "\n",
    "# Ensure TIMIT is extracted\n",
    "timit_path = \"~/phd_data/timit\"\n",
    "timit = phd.timit.TIMIT(timit_path)\n",
    "try:\n",
    "    timit.untar(os.path.expanduser(\"~/Dropbox/LDC93S1.tgz\"))\n",
    "except Exception as e:\n",
    "    pass\n",
    "\n",
    "# Some general params\n",
    "utt = 'deadline'\n",
    "spkr = 'RRE0'"
   ]
  },
  {
   "cell_type": "markdown",
   "metadata": {},
   "source": [
    "# NCC"
   ]
  },
  {
   "cell_type": "code",
   "execution_count": null,
   "metadata": {
    "collapsed": false
   },
   "outputs": [],
   "source": [
    "timit = phd.timit.TIMIT(timit_path)\n",
    "timit.filefilt.spkr_id = spkr\n",
    "samples = timit.word_samples([utt])\n",
    "model = phd.sermo.AuditoryFeatures()\n",
    "model.audio = samples[utt][0]"
   ]
  },
  {
   "cell_type": "code",
   "execution_count": null,
   "metadata": {
    "collapsed": false
   },
   "outputs": [],
   "source": [
    "# Get MFCCs\n",
    "model.mfcc.dt = 0.01\n",
    "x = model.mfcc()\n",
    "n_frames = x.shape[0]\n",
    "print x.shape\n",
    "\n",
    "# Plot\n",
    "f, ax1, ax2 = phd.plots.plot_trajs(x, x, zscore=(False, True))\n",
    "f.set_size_inches(10, 3.4)\n",
    "f.suptitle(\"Features for utterance of '%s'\" % utt, x=0.44, fontsize='large')\n",
    "ax1.set_ylabel(\"MFCC\")\n",
    "ax2.set_ylabel(\"MFCC (z-scored)\")\n",
    "ax2.set_xlabel(\"Frame\")\n",
    "f.tight_layout(rect=[0, 0, 1, 0.97])\n",
    "phd.plots.savefig(f, 'presentation', 'ncc-mfcc')"
   ]
  },
  {
   "cell_type": "code",
   "execution_count": null,
   "metadata": {
    "collapsed": false
   },
   "outputs": [],
   "source": [
    "# NCCs shortened to 31 frames\n",
    "net = model.build(nengo.Network(seed=0))\n",
    "with net:\n",
    "    ihc_p = nengo.Probe(net.periphery.ihc, synapse=None)\n",
    "    an_in_p = nengo.Probe(net.periphery.an.input, synapse=None)\n",
    "    an_p = nengo.Probe(net.periphery.an.add_neuron_output(), synapse=None)\n",
    "    c_p = nengo.Probe(net.output, synapse=0.01)\n",
    "sim = nengo.Simulator(net, dt=0.001)\n",
    "sim.run(model.t_audio)\n",
    "ncc = phd.experiments.shorten(sim.data[c_p], n_frames=n_frames)\n",
    "\n",
    "# Plot\n",
    "t, t_ix = sim.trange(model.t_audio / n_frames), np.arange(0, n_frames, 10)\n",
    "t_ix[1:] -= 1\n",
    "f, ax1, ax2 = phd.plots.plot_trajs(ncc, ncc, zscore=(False, True))\n",
    "f.set_size_inches(10, 3.4)\n",
    "f.suptitle(\"Features for utterance of '%s'\" % utt, x=0.44, fontsize='large')\n",
    "ax1.set_ylabel(\"NCC\")\n",
    "ax2.set_ylabel(\"NCC (z-scored)\")\n",
    "ax2.set_xticks(t_ix)\n",
    "ax2.set_xticklabels(np.round(t[t_ix], 3))\n",
    "ax2.set_xlabel(\"Time (s)\")\n",
    "f.tight_layout(rect=[0, 0, 1, 0.97])\n",
    "phd.plots.savefig(f, 'presentation', 'ncc-ncc')"
   ]
  },
  {
   "cell_type": "code",
   "execution_count": null,
   "metadata": {
    "collapsed": false
   },
   "outputs": [],
   "source": [
    "w = 9.2 * phd.figures.in2px\n",
    "h = 3.35 * phd.figures.in2px\n",
    "\n",
    "fig = phd.figures.svgfig(w, h * 2)\n",
    "fig.append(phd.figures.el(None, phd.figures.svgpath('ncc-mfcc', subdir='presentation'), 0, 0))\n",
    "fig.append(phd.figures.el(None, phd.figures.svgpath('ncc-ncc', subdir='presentation'), 0, h))\n",
    "phd.figures.savefig(fig, 'mfcc-ncc', subdir='presentation')"
   ]
  },
  {
   "cell_type": "markdown",
   "metadata": {},
   "source": [
    "# Syllable production"
   ]
  },
  {
   "cell_type": "code",
   "execution_count": null,
   "metadata": {
    "collapsed": false
   },
   "outputs": [],
   "source": [
    "path = phd.ges_path('ges-de-cvc', 'ban.ges')\n",
    "score = phd.vtl.parse_ges(path) \n",
    "traj = score.trajectory(dt=0.001)\n",
    "\n",
    "plt.figure(figsize=(6, 3))\n",
    "plt.pcolormesh(traj.T, linewidth=0, rasterized=True)\n",
    "plt.xticks(np.linspace(0, 1200, 6), np.linspace(0, 1, 6))\n",
    "plt.ylabel(\"Gesture index\")\n",
    "plt.xlabel(\"Relative time\")\n",
    "sns.despine()\n",
    "plt.tight_layout()\n",
    "plt.savefig(os.path.join(phd.plots.root, 'figures', 'presentation', 'gs-traj.svg'))"
   ]
  },
  {
   "cell_type": "markdown",
   "metadata": {},
   "source": [
    "# Syllable classification"
   ]
  },
  {
   "cell_type": "code",
   "execution_count": null,
   "metadata": {
    "collapsed": false
   },
   "outputs": [],
   "source": [
    "with nengo.Network() as model:\n",
    "    ens_1d = nengo.Ensemble(10, dimensions=1)\n",
    "sim = nengo.Simulator(model)\n",
    "\n",
    "plt.figure(figsize=(6, 3))\n",
    "eval_points, activities = nengo.utils.ensemble.tuning_curves(ens_1d, sim)\n",
    "plt.plot(eval_points, activities)\n",
    "plt.ylabel(\"Firing rate (Hz)\")\n",
    "plt.xlabel(\"Input scalar, x\")\n",
    "sns.despine()\n",
    "plt.tight_layout()\n",
    "plt.savefig(os.path.join(phd.plots.root, 'figures', 'presentation', 'tuning.svg'))"
   ]
  },
  {
   "cell_type": "code",
   "execution_count": null,
   "metadata": {
    "collapsed": false
   },
   "outputs": [],
   "source": [
    "with nengo.Network() as model:\n",
    "    ramp = nengo.Node(lambda t: np.clip(t - 0.1, 0, 1))\n",
    "    ens_1d = nengo.Ensemble(200, dimensions=1)\n",
    "    nengo.Connection(ramp, ens_1d)\n",
    "    p = nengo.Probe(ens_1d, synapse=0.01)\n",
    "sim = nengo.Simulator(model)\n",
    "sim.run(1.2)\n",
    "\n",
    "plt.figure(figsize=(6, 3))\n",
    "plt.plot(sim.trange(), sim.data[p])\n",
    "plt.xlabel(\"Time (s)\")\n",
    "sns.despine()\n",
    "plt.tight_layout()\n",
    "plt.savefig(os.path.join(phd.plots.root, 'figures', 'presentation', 'ramp.svg'))"
   ]
  }
 ],
 "metadata": {
  "kernelspec": {
   "display_name": "Python 2",
   "language": "python",
   "name": "python2"
  },
  "language_info": {
   "codemirror_mode": {
    "name": "ipython",
    "version": 2
   },
   "file_extension": ".py",
   "mimetype": "text/x-python",
   "name": "python",
   "nbconvert_exporter": "python",
   "pygments_lexer": "ipython2",
   "version": "2.7.10"
  }
 },
 "nbformat": 4,
 "nbformat_minor": 0
}
