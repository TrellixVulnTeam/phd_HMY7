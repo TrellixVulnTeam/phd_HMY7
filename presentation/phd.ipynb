{
 "cells": [
  {
   "cell_type": "code",
   "execution_count": null,
   "metadata": {
    "collapsed": true,
    "slideshow": {
     "slide_type": "skip"
    }
   },
   "outputs": [],
   "source": [
    "from IPython.display import Audio\n",
    "def video(fname, mimetype, width=\"100%\"):\n",
    "    from IPython.display import HTML\n",
    "    video_encoded = open(fname, \"rb\").read().encode(\"base64\")\n",
    "    video_tag = '<video controls alt=\"test\" src=\"data:video/{0};base64,{1}\" width=\"{2}\">'.format(\n",
    "        mimetype, video_encoded, width)\n",
    "    return HTML(data=video_tag)"
   ]
  },
  {
   "cell_type": "markdown",
   "metadata": {
    "slideshow": {
     "slide_type": "slide"
    }
   },
   "source": [
    "##  \n",
    "\n",
    "## Biologically inspired methods in speech recognition and synthesis: closing the loop\n",
    "\n",
    "<h3>\n",
    "  PhD defense presentation <br>\n",
    "  February 4, 2016 <br>\n",
    "  Trevor Bekolay\n",
    "</h3>"
   ]
  },
  {
   "cell_type": "markdown",
   "metadata": {
    "slideshow": {
     "slide_type": "slide"
    }
   },
   "source": [
    "# Motivation"
   ]
  },
  {
   "cell_type": "code",
   "execution_count": null,
   "metadata": {
    "collapsed": false
   },
   "outputs": [],
   "source": [
    "video('spaun.mp4', 'mp4', \"80%\")"
   ]
  },
  {
   "cell_type": "markdown",
   "metadata": {
    "slideshow": {
     "slide_type": "slide"
    }
   },
   "source": [
    "<img class=\"center\" width=\"600\" src=\"fig/presentation/spectrotemporal.svg\">"
   ]
  },
  {
   "cell_type": "markdown",
   "metadata": {
    "slideshow": {
     "slide_type": "slide"
    }
   },
   "source": [
    "# Closed-loop modeling\n",
    "\n",
    "<img class=\"center\" width=\"500\" src=\"fig/presentation/perception-action.svg\">\n",
    "\n",
    "<img class=\"fragment center\" style=\"margin-left:212px\" width=\"670\" src=\"fig/presentation/perception-action-discrete.svg\">"
   ]
  },
  {
   "cell_type": "markdown",
   "metadata": {
    "slideshow": {
     "slide_type": "slide"
    }
   },
   "source": [
    "# Conceptual model: Sermo\n",
    "\n",
    "1. Subsystems must operate\n",
    "   in a continuous, online fashion.\n",
    "2. Subsystems must be implementable\n",
    "   in biologically plausible spiking neurons."
   ]
  },
  {
   "cell_type": "markdown",
   "metadata": {
    "collapsed": true,
    "slideshow": {
     "slide_type": "slide"
    }
   },
   "source": [
    "# Conceptual model: Sermo\n",
    "\n",
    "<img class=\"center\" width=\"460\" src=\"fig/presentation/sermo.svg\">"
   ]
  },
  {
   "cell_type": "markdown",
   "metadata": {
    "collapsed": true,
    "slideshow": {
     "slide_type": "slide"
    }
   },
   "source": [
    "# Conceptual model: Sermo\n",
    "\n",
    "<img class=\"center\" width=\"500\" src=\"fig/presentation/sermo-implemented.svg\">"
   ]
  },
  {
   "cell_type": "markdown",
   "metadata": {
    "slideshow": {
     "slide_type": "slide"
    }
   },
   "source": [
    "## Automatic speech recognition\n",
    "\n",
    "<img class=\"center\" width=\"700\" src=\"fig/background/asr.svg\">"
   ]
  },
  {
   "cell_type": "markdown",
   "metadata": {
    "collapsed": true,
    "slideshow": {
     "slide_type": "slide"
    }
   },
   "source": [
    "# Cepstral coefficients\n",
    "\n",
    "<img class=\"center\" width=\"350\" src=\"fig/implementation/ncc.svg\">"
   ]
  },
  {
   "cell_type": "markdown",
   "metadata": {
    "slideshow": {
     "slide_type": "slide"
    }
   },
   "source": [
    "## Neural cepstral coefficients\n",
    "\n",
    "<img class=\"center\" width=\"960\" src=\"fig/implementation/ncc-network.svg\">"
   ]
  },
  {
   "cell_type": "markdown",
   "metadata": {
    "slideshow": {
     "slide_type": "slide"
    }
   },
   "source": [
    "# Example features\n",
    "\n",
    "<img class=\"center\" width=\"620\" src=\"fig/presentation/mfcc-ncc.svg\">"
   ]
  },
  {
   "cell_type": "markdown",
   "metadata": {
    "collapsed": true,
    "slideshow": {
     "slide_type": "slide"
    }
   },
   "source": [
    "# Evaluation\n",
    "\n",
    "##  \n",
    "\n",
    "<img class=\"center\" width=\"960\" src=\"fig/presentation/ncc-eval.svg\">"
   ]
  },
  {
   "cell_type": "markdown",
   "metadata": {
    "collapsed": true,
    "slideshow": {
     "slide_type": "slide"
    }
   },
   "source": [
    "# NCCs outperform MFCCs\n",
    "\n",
    "<img class=\"inline\" width=\"462\" src=\"fig/presentation/ncc-phones-acc-b.svg\">\n",
    "<img class=\"fragment inline\" width=\"462\" src=\"fig/presentation/ncc-phones-racc-b.svg\">"
   ]
  },
  {
   "cell_type": "markdown",
   "metadata": {
    "collapsed": true,
    "slideshow": {
     "slide_type": "slide"
    }
   },
   "source": [
    "### Enables comparing periphery models\n",
    "\n",
    "<img class=\"center\" width=\"600\" src=\"fig/results/ncc-periphmodel-racc-b.svg\">"
   ]
  },
  {
   "cell_type": "markdown",
   "metadata": {
    "collapsed": true,
    "slideshow": {
     "slide_type": "slide"
    }
   },
   "source": [
    "# Syllable production\n",
    "\n",
    "<img class=\"center\" width=\"500\" src=\"fig/presentation/sermo-implemented.svg\">"
   ]
  },
  {
   "cell_type": "markdown",
   "metadata": {
    "collapsed": true,
    "slideshow": {
     "slide_type": "slide"
    }
   },
   "source": [
    "# VocalTractLab\n",
    "\n",
    "<img class=\"center\" width=\"740\" src=\"fig/presentation/vtl.png\">"
   ]
  },
  {
   "cell_type": "markdown",
   "metadata": {
    "collapsed": true,
    "slideshow": {
     "slide_type": "slide"
    }
   },
   "source": [
    "# Gesture scores\n",
    "\n",
    "<img class=\"center\" width=\"480\" src=\"fig/background/gs.svg\">\n",
    "\n",
    "<img class=\"fragment center\" width=\"480\" src=\"fig/presentation/gs-traj.svg\">"
   ]
  },
  {
   "cell_type": "markdown",
   "metadata": {
    "slideshow": {
     "slide_type": "slide"
    }
   },
   "source": [
    "### Dynamic Movement Primitives (DMPs)\n",
    "\n",
    "<img class=\"center\" width=\"960\" src=\"fig/presentation/dmp.svg\">"
   ]
  },
  {
   "cell_type": "markdown",
   "metadata": {
    "collapsed": true,
    "slideshow": {
     "slide_type": "slide"
    }
   },
   "source": [
    "# Example syllable sequence\n",
    "\n",
    "<img class=\"center\" width=\"960\" src=\"fig/results/prod-good.svg\">"
   ]
  },
  {
   "cell_type": "markdown",
   "metadata": {
    "slideshow": {
     "slide_type": "slide"
    }
   },
   "source": [
    "# Audio sample"
   ]
  },
  {
   "cell_type": "code",
   "execution_count": null,
   "metadata": {
    "collapsed": false,
    "slideshow": {
     "slide_type": "-"
    }
   },
   "outputs": [],
   "source": [
    "Audio(\"original.wav\")"
   ]
  },
  {
   "cell_type": "code",
   "execution_count": null,
   "metadata": {
    "collapsed": false,
    "slideshow": {
     "slide_type": "-"
    }
   },
   "outputs": [],
   "source": [
    "Audio(\"synthesized.wav\")"
   ]
  },
  {
   "cell_type": "markdown",
   "metadata": {
    "collapsed": true,
    "slideshow": {
     "slide_type": "slide"
    }
   },
   "source": [
    "## Enables speech of varying speeds\n",
    "\n",
    "<img class=\"center\" width=\"600\" src=\"fig/presentation/prod-freq.svg\">"
   ]
  },
  {
   "cell_type": "markdown",
   "metadata": {
    "collapsed": true,
    "slideshow": {
     "slide_type": "slide"
    }
   },
   "source": [
    "# Syllable classification\n",
    "\n",
    "<img class=\"center\" width=\"500\" src=\"fig/presentation/sermo-implemented.svg\">"
   ]
  },
  {
   "cell_type": "markdown",
   "metadata": {
    "collapsed": true,
    "slideshow": {
     "slide_type": "slide"
    }
   },
   "source": [
    "# Inverse DMPs\n",
    "\n",
    "<img class=\"center\" width=\"960\" src=\"fig/presentation/idmp.svg\">"
   ]
  },
  {
   "cell_type": "markdown",
   "metadata": {
    "collapsed": true,
    "slideshow": {
     "slide_type": "slide"
    }
   },
   "source": [
    "## Example syllable classification\n",
    "\n",
    "<img class=\"center\" width=\"760\" src=\"fig/results/recog-good.svg\">"
   ]
  },
  {
   "cell_type": "markdown",
   "metadata": {
    "slideshow": {
     "slide_type": "slide"
    }
   },
   "source": [
    "## Operates online with no resets\n",
    "\n",
    "<img class=\"center\" width=\"600\" src=\"fig/presentation/recog-sequence_len.svg\">"
   ]
  },
  {
   "cell_type": "markdown",
   "metadata": {
    "collapsed": true,
    "slideshow": {
     "slide_type": "slide"
    }
   },
   "source": [
    "# Limitations & future work\n",
    "\n",
    "<img class=\"center\" width=\"500\" src=\"fig/presentation/sermo-implemented.svg\">"
   ]
  },
  {
   "cell_type": "markdown",
   "metadata": {
    "slideshow": {
     "slide_type": "slide"
    }
   },
   "source": [
    "# NCCs\n",
    "\n",
    "<img class=\"center\" width=\"600\" src=\"fig/presentation/ncc-phones-time.svg\">"
   ]
  },
  {
   "cell_type": "markdown",
   "metadata": {
    "slideshow": {
     "slide_type": "slide"
    }
   },
   "source": [
    "# Syllable production\n",
    "\n",
    "<img class=\"center\" width=\"600\" src=\"fig/presentation/prod-sequence_len.svg\">"
   ]
  },
  {
   "cell_type": "markdown",
   "metadata": {
    "slideshow": {
     "slide_type": "slide"
    }
   },
   "source": [
    "# Syllable production\n",
    "\n",
    "<img class=\"center\" width=\"600\" src=\"fig/presentation/prod-n_syllables.svg\">"
   ]
  },
  {
   "cell_type": "markdown",
   "metadata": {
    "slideshow": {
     "slide_type": "slide"
    }
   },
   "source": [
    "# Syllable classification\n",
    "\n",
    "<img class=\"center\" width=\"600\" src=\"fig/presentation/recog-freq.svg\">"
   ]
  },
  {
   "cell_type": "markdown",
   "metadata": {
    "collapsed": true,
    "slideshow": {
     "slide_type": "slide"
    }
   },
   "source": [
    "# Takeaways\n",
    "\n",
    "<ol>\n",
    "  <li>Speech: spiking neuron models</li>\n",
    "  <li class=\"fragment\">Machine learning: NCCs, discrete production information data set</li>\n",
    "  <li class=\"fragment\">Neural modeling: iDMPs, linking temporal inputs/outputs to Spaun, ears and vocal tract</li>\n",
    "</ol>"
   ]
  },
  {
   "cell_type": "markdown",
   "metadata": {
    "collapsed": true,
    "slideshow": {
     "slide_type": "slide"
    }
   },
   "source": [
    "# Thank you\n",
    "\n",
    "<img class=\"center\" width=\"500\" src=\"fig/presentation/thanks.png\">"
   ]
  },
  {
   "cell_type": "markdown",
   "metadata": {
    "collapsed": true,
    "slideshow": {
     "slide_type": "slide"
    }
   },
   "source": [
    "# Periphery models\n",
    "\n",
    "<img class=\"center\" width=\"720\" src=\"fig/methods/gammatone.svg\">"
   ]
  },
  {
   "cell_type": "markdown",
   "metadata": {
    "collapsed": true,
    "slideshow": {
     "slide_type": "slide"
    }
   },
   "source": [
    "# Discrete Cosine Transform\n",
    "\n",
    "\\begin{align}\n",
    "  &~ \\\\\n",
    "  y_k =& {x_0 \\over \\sqrt{N}} + \\sqrt{2 \\over N} \\sum_{n=1}^{N-1}\n",
    "  x_n \\cos \\left( {\\pi \\over N} n \\left( k + {1 \\over 2} \\right) \\right)\n",
    "  \\hspace{-3em} \\\\\n",
    "  &\\text{for } 0 \\le k < N\n",
    "\\end{align}"
   ]
  },
  {
   "cell_type": "markdown",
   "metadata": {
    "slideshow": {
     "slide_type": "fragment"
    }
   },
   "source": [
    "\\begin{align}\n",
    "  \\mathbf{k} &= \\left[ 0, 1, \\ldots, N-1 \\right] & 1 \\times N \\text{ vector}\n",
    "    \\hspace{-4em} \\\\\n",
    "  \\mathbf{s} &= \\left[ \\sqrt{2}, 1, 1, \\ldots, 1 \\right] & 1 \\times N \\text{ vector}\n",
    "    \\hspace{-4em} \\\\\n",
    "  \\mathbf{T} &= \\sqrt{2}{N} \\, \\mathbf{s} \\circ \\cos \\left( \\frac{\\pi}{N} \\left(\n",
    "    \\mathbf{k} + \\frac{1}{2} \\right) \\otimes \\mathbf{k} \\right)\n",
    "    & N \\times N \\text{ matrix}\n",
    "    \\hspace{-4em} \\\\\n",
    "  \\mathbf{y} &= \\mathbf{T}\\mathbf{x} & N \\times 1 \\text{ vector}\n",
    "    \\hspace{-4em}\n",
    "\\end{align}"
   ]
  },
  {
   "cell_type": "markdown",
   "metadata": {
    "collapsed": true,
    "slideshow": {
     "slide_type": "slide"
    }
   },
   "source": [
    "## Syllable production network\n",
    "\n",
    "<img class=\"center\" width=\"470\" src=\"fig/implementation/prod-network.svg\">"
   ]
  },
  {
   "cell_type": "markdown",
   "metadata": {
    "slideshow": {
     "slide_type": "slide"
    }
   },
   "source": [
    "## Syllable classification network\n",
    "\n",
    "<img class=\"center\" width=\"500\" src=\"fig/implementation/recog-network.svg\">"
   ]
  }
 ],
 "metadata": {
  "celltoolbar": "Slideshow",
  "kernelspec": {
   "display_name": "Python 2",
   "language": "python",
   "name": "python2"
  },
  "language_info": {
   "codemirror_mode": {
    "name": "ipython",
    "version": 2
   },
   "file_extension": ".py",
   "mimetype": "text/x-python",
   "name": "python",
   "nbconvert_exporter": "python",
   "pygments_lexer": "ipython2",
   "version": "2.7.11"
  }
 },
 "nbformat": 4,
 "nbformat_minor": 0
}
