{
 "cells": [
  {
   "cell_type": "code",
   "execution_count": null,
   "metadata": {
    "collapsed": false
   },
   "outputs": [],
   "source": [
    "%matplotlib inline\n",
    "import matplotlib.pyplot as plt\n",
    "import seaborn as sns\n",
    "import numpy as np\n",
    "import nengo\n",
    "from nengo.utils.matplotlib import rasterplot\n",
    "import skspeech\n",
    "\n",
    "import phd"
   ]
  },
  {
   "cell_type": "code",
   "execution_count": null,
   "metadata": {
    "collapsed": false
   },
   "outputs": [],
   "source": [
    "%%javascript\n",
    "if($(IPython.toolbar.selector.concat(' > #kill-run-first')).length == 0){\n",
    "  IPython.toolbar.add_buttons_group([\n",
    "    {\n",
    "      'label'   : 'kill and run-first',\n",
    "      'icon'    : 'fa fa-angle-double-down',\n",
    "      'callback': function(){\n",
    "        IPython.notebook.kernel.restart();\n",
    "        $(IPython.events).one('kernel_ready.Kernel', function(){\n",
    "          var idx = IPython.notebook.get_selected_index();\n",
    "          IPython.notebook.select(0);\n",
    "          IPython.notebook.execute_cell();\n",
    "          IPython.notebook.select(idx);\n",
    "        });\n",
    "      }\n",
    "    }\n",
    "  ], 'kill-run-first');\n",
    "}"
   ]
  },
  {
   "cell_type": "code",
   "execution_count": null,
   "metadata": {
    "collapsed": false
   },
   "outputs": [],
   "source": [
    "# Compression via log\n",
    "t = np.linspace(0.5, 20)\n",
    "plt.plot(t, np.log(t))"
   ]
  },
  {
   "cell_type": "code",
   "execution_count": null,
   "metadata": {
    "collapsed": false
   },
   "outputs": [],
   "source": [
    "# Compression via 1/3 power law\n",
    "t = np.linspace(0.5, 20)\n",
    "plt.plot(t, t ** (1. / 3.))"
   ]
  },
  {
   "cell_type": "code",
   "execution_count": null,
   "metadata": {
    "collapsed": false
   },
   "outputs": [],
   "source": [
    "from scipy.fftpack import dct, idct\n",
    "from phd.networks.cepstra import idct as idct_matrix\n",
    "\n",
    "def my_idct(x):\n",
    "    \"\"\"Adapted from https://unix4lyfe.org/dct-1d/\"\"\"\n",
    "    n = x.size\n",
    "    k = np.arange(n)\n",
    "    s = np.ones_like(x)\n",
    "    s[0] = np.sqrt(0.5)\n",
    "    out = np.sqrt(2. / n) * np.sum(\n",
    "        s * x * np.cos(np.pi * (k[:, np.newaxis] + 0.5) * k / n), axis=1)\n",
    "    return out\n",
    "\n",
    "x = np.random.rand(64)\n",
    "size_out = 13\n",
    "print(idct(x, norm='ortho')[:size_out])\n",
    "print(my_idct(x)[:size_out])\n",
    "print(np.dot(idct_matrix(x.size, size_out), x))"
   ]
  },
  {
   "cell_type": "code",
   "execution_count": null,
   "metadata": {
    "collapsed": false
   },
   "outputs": [],
   "source": [
    "# Synthesize a gesture and run it through the auditory model\n",
    "skspeech.audio = reload(skspeech.audio)\n",
    "dt = 0.02\n",
    "freqs = phd.filters.erbspace(20, 2000, 64)\n",
    "audio_f = skspeech.audio.Gammatone(freqs)\n",
    "audio_fargs = {'n_cepstrum': 13,\n",
    "               'remove_0': True,\n",
    "               'window_dt': 0.01}\n",
    "x, y, fs = skspeech.vtl.get_traindata(\n",
    "    'sprachsynthese.ges', audio_f, dt, audio_fargs, 'sprachsynthese.wav')\n",
    "print x.shape\n",
    "print y.shape"
   ]
  },
  {
   "cell_type": "code",
   "execution_count": null,
   "metadata": {
    "collapsed": false
   },
   "outputs": [],
   "source": [
    "plt.pcolormesh(np.clip(x.T, -1, 1))\n",
    "plt.colorbar()"
   ]
  },
  {
   "cell_type": "code",
   "execution_count": null,
   "metadata": {
    "collapsed": false
   },
   "outputs": [],
   "source": [
    "plt.pcolormesh(y.T)\n",
    "plt.colorbar()"
   ]
  },
  {
   "cell_type": "code",
   "execution_count": null,
   "metadata": {
    "collapsed": false
   },
   "outputs": [],
   "source": [
    "model = phd.Sermo(execution=False)\n",
    "periphery = model.recognition.periphery\n",
    "periphery.fs = fs\n",
    "periphery.freqs = freqs\n",
    "periphery.sound_process = phd.processes.WavFile('sprachsynthese.wav')\n",
    "periphery.auditory_filter = phd.filters.gammatone(periphery.freqs)\n",
    "cepstra = model.recognition.cepstra\n",
    "cepstra.size_out = 13\n",
    "net = model.build()\n",
    "\n",
    "with net:\n",
    "    ihc_p = nengo.Probe(net.periphery.ihc, synapse=None)\n",
    "    an_in_p = nengo.Probe(net.periphery.an.input, synapse=None)\n",
    "    an_p = nengo.Probe(net.periphery.an.add_neuron_output(), synapse=None)\n",
    "    c_p = nengo.Probe(net.cepstra.output, synapse=0.01)"
   ]
  },
  {
   "cell_type": "code",
   "execution_count": null,
   "metadata": {
    "collapsed": false
   },
   "outputs": [],
   "source": [
    "print sim.data[c_p]"
   ]
  },
  {
   "cell_type": "code",
   "execution_count": null,
   "metadata": {
    "collapsed": false
   },
   "outputs": [],
   "source": [
    "#dt = 1. / periphery.freqs.max()\n",
    "#print(\"dt=%.5f\" % dt)\n",
    "sim = nengo.Simulator(net, dt=0.0005)\n",
    "sim.run(1.4)\n",
    "\n",
    "plt.figure()\n",
    "phd.plots.cochleogram(sim.data[ihc_p], sim.trange(), periphery.freqs)\n",
    "plt.figure()\n",
    "phd.plots.cochleogram(sim.data[an_in_p], sim.trange(), periphery.freqs)\n",
    "plt.figure()\n",
    "rasterplot(sim.trange(), sim.data[an_p])\n",
    "plt.ylim(0, net.periphery.an.n_neurons * net.periphery.an.n_ensembles)\n",
    "plt.figure()\n",
    "plt.pcolormesh(np.clip(sim.data[c_p].T, 0, 1))\n",
    "plt.colorbar()"
   ]
  }
 ],
 "metadata": {
  "kernelspec": {
   "display_name": "Python 2",
   "language": "python",
   "name": "python2"
  },
  "language_info": {
   "codemirror_mode": {
    "name": "ipython",
    "version": 2
   },
   "file_extension": ".py",
   "mimetype": "text/x-python",
   "name": "python",
   "nbconvert_exporter": "python",
   "pygments_lexer": "ipython2",
   "version": "2.7.10"
  }
 },
 "nbformat": 4,
 "nbformat_minor": 0
}
