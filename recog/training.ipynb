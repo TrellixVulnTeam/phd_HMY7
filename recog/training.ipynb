{
 "cells": [
  {
   "cell_type": "markdown",
   "metadata": {},
   "source": [
    "# Speech corpuses\n",
    "\n",
    "[NLTK](http://www.nltk.org/) includes a small subset of the\n",
    "[TIMIT](https://catalog.ldc.upenn.edu/LDC93S1) corpus.\n",
    "Ideally, you want access to the full corpus, as we do.\n",
    "\n",
    "### Notes\n",
    "\n",
    "* [`nltk` corpus reader](https://github.com/nltk/nltk/blob/develop/nltk/corpus/reader/timit.py)\n",
    "* [`nltk` corpus reader example](https://github.com/nltk/nltk/blob/develop/nltk/test/corpus.doctest#L863)\n",
    "* Using TIMIT in PyLearn2\n",
    "  * https://ift6266h14.wordpress.com/experimenting/\n",
    "  * https://github.com/jfsantos/ift6266h14/blob/master/old/timit_full.py\n",
    "  * http://vdumoulin.github.io/articles/timit-part-2/\n",
    "  * https://jpraymond.wordpress.com/2014/02/21/using-the-new-an-improved-pylearn2-timit-dataset/\n",
    "  * https://github.com/vdumoulin/research/blob/master/code/pylearn2/datasets/timit.py\n",
    "  * https://github.com/jfsantos/ift6266h14/tree/master/old/pylearn2_timit\n",
    "\n",
    "### Possibly useful Python packages\n",
    "\n",
    "* [`PySoundFile`](https://github.com/bastibe/PySoundFile) (reads NIST Sphere, hopefully)\n",
    "* [`PySoundCard`](https://github.com/bastibe/PySoundCard)\n",
    "* [`audio` and related tools](https://github.com/boisgera?tab=repositories) (psychoacoustics?)"
   ]
  },
  {
   "cell_type": "code",
   "execution_count": null,
   "metadata": {
    "collapsed": false
   },
   "outputs": [],
   "source": [
    "import nltk\n",
    "\n",
    "try:\n",
    "    print(nltk.data.find('corpora/timit'))\n",
    "except:\n",
    "    nltk.download('timit')\n",
    "    print(nltk.data.find('corpora/timit'))"
   ]
  },
  {
   "cell_type": "code",
   "execution_count": null,
   "metadata": {
    "collapsed": false
   },
   "outputs": [],
   "source": [
    "from IPython.display import Audio\n",
    "from nltk.corpus import timit"
   ]
  },
  {
   "cell_type": "code",
   "execution_count": null,
   "metadata": {
    "collapsed": false
   },
   "outputs": [],
   "source": [
    "utt = timit.utteranceids()[0]\n",
    "Audio(data=timit.wav(utt, start=1000))"
   ]
  }
 ],
 "metadata": {
  "kernelspec": {
   "display_name": "Python 2",
   "language": "python",
   "name": "python2"
  },
  "language_info": {
   "codemirror_mode": {
    "name": "ipython",
    "version": 2
   },
   "file_extension": ".py",
   "mimetype": "text/x-python",
   "name": "python",
   "nbconvert_exporter": "python",
   "pygments_lexer": "ipython2",
   "version": "2.7.10"
  }
 },
 "nbformat": 4,
 "nbformat_minor": 0
}
