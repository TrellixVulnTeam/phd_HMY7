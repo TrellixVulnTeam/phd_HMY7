{
 "cells": [
  {
   "cell_type": "code",
   "execution_count": null,
   "metadata": {
    "collapsed": true
   },
   "outputs": [],
   "source": [
    "import numpy as np\n",
    "import matplotlib.pyplot as plt\n",
    "%matplotlib inline\n",
    "import seaborn as sns\n",
    "\n",
    "import nengo\n",
    "import nengo.utils.numpy as npext\n",
    "import nengo_gui.ipython"
   ]
  },
  {
   "cell_type": "markdown",
   "metadata": {},
   "source": [
    "## Flexible motor oscillators\n",
    "\n",
    "Goal: Put in two different phonemes,\n",
    "decode out two different functions."
   ]
  },
  {
   "cell_type": "code",
   "execution_count": null,
   "metadata": {
    "collapsed": true
   },
   "outputs": [],
   "source": [
    "# Common to both implementations\n",
    "from nengo.dists import Uniform\n",
    "\n",
    "def zone(x):\n",
    "    theta = np.arctan2(x[1], x[0])\n",
    "    if theta > (7.0 / 8) * np.pi:\n",
    "        return 0\n",
    "    else:\n",
    "        return x\n",
    "\n",
    "\n",
    "def radial_f(fn):\n",
    "    def _fn(x):\n",
    "        #theta = math.arctan2(x[1], x[0])\n",
    "        #t = theta / (2 * np.pi) + 0.5\n",
    "        return fn(np.arctan2(x[1], x[0]) / (2 * np.pi) + 0.5)\n",
    "    return _fn"
   ]
  },
  {
   "cell_type": "code",
   "execution_count": null,
   "metadata": {
    "collapsed": false
   },
   "outputs": [],
   "source": [
    "# Functions to decode from the oscillator\n",
    "def f1(x):\n",
    "     return 0.1 * np.sin(x * 2 * np.pi * 3) + (0.2 + x * 0.5)\n",
    "def f2(x):\n",
    "     return -0.2 * np.cos(x * 2 * np.pi * 5) - (0.2 + x * 0.5)\n",
    "x = np.linspace(0, 1, 100)\n",
    "\n",
    "plt.plot(x, f1(x))\n",
    "plt.plot(x, f2(x))"
   ]
  },
  {
   "cell_type": "markdown",
   "metadata": {},
   "source": [
    "First, let's show it working with separate oscillators."
   ]
  },
  {
   "cell_type": "code",
   "execution_count": null,
   "metadata": {
    "collapsed": false
   },
   "outputs": [],
   "source": [
    "def temporal_f(fn, n_neurons=500, tau=0.025, freq=1.0, net=None):\n",
    "    if net is None:\n",
    "        net = nengo.Network(label='fn=%s' % fn.__name__)\n",
    "\n",
    "    def _ensure_dict(dname):\n",
    "        if not hasattr(net, dname):\n",
    "            setattr(net, dname, {})\n",
    "\n",
    "    _ensure_dict('osc_inputs')\n",
    "    _ensure_dict('osc_outputs')\n",
    "    _ensure_dict('oscillators')\n",
    "\n",
    "    omega = tau * 2 * np.pi * freq\n",
    "    encoders = [[np.cos(theta), np.sin(theta)]\n",
    "                for theta in np.random.uniform(-np.pi, (7.0 / 8) * np.pi, n_neurons)]\n",
    "    with net:\n",
    "        net.osc_inputs[fn] = nengo.Node(output=None, size_in=1, label=\"%s in\" % fn.__name__)\n",
    "        net.osc_outputs[fn] = nengo.Node(output=None, size_in=1, label=\"%s out\" % fn.__name__)\n",
    "        net.oscillators[fn] = nengo.Ensemble(\n",
    "            n_neurons, dimensions=2, intercepts=Uniform(0.3, 1), encoders=encoders, label=fn.__name__)\n",
    "        nengo.Connection(net.osc_inputs[fn], net.oscillators[fn], transform=[[-1], [0]])\n",
    "        nengo.Connection(net.oscillators[fn], net.oscillators[fn],\n",
    "                         transform=[[1, -omega], [omega, 1]], function=zone, synapse=tau)\n",
    "        nengo.Connection(net.oscillators[fn], net.osc_outputs[fn], function=radial_f(fn))\n",
    "    return net\n",
    "\n",
    "tau = 0.025\n",
    "freq = 0.5\n",
    "with nengo.Network(seed=1) as net:\n",
    "    temporal_f(f1, net=net, tau=tau, freq=freq)\n",
    "    temporal_f(f2, net=net, tau=tau, freq=freq)\n",
    "    \n",
    "    # We'll give each a little kick\n",
    "    kick = nengo.Node(lambda t: .8 if 0.1 < t < 0.2 else 0.0)\n",
    "    nengo.Connection(kick, net.osc_inputs[f1], synapse=None)\n",
    "    nengo.Connection(kick, net.osc_inputs[f2], synapse=None)"
   ]
  },
  {
   "cell_type": "code",
   "execution_count": null,
   "metadata": {
    "collapsed": false
   },
   "outputs": [],
   "source": [
    "# nengo_gui.ipython.IPythonViz(net, cfg='cell1.cfg')"
   ]
  },
  {
   "cell_type": "code",
   "execution_count": null,
   "metadata": {
    "collapsed": true
   },
   "outputs": [],
   "source": [
    "with net:\n",
    "    f1_p = nengo.Probe(net.osc_outputs[f1], synapse=0.01)\n",
    "    f2_p = nengo.Probe(net.osc_outputs[f2], synapse=0.01)"
   ]
  },
  {
   "cell_type": "code",
   "execution_count": null,
   "metadata": {
    "collapsed": false
   },
   "outputs": [],
   "source": [
    "sim = nengo.Simulator(net)\n",
    "sim.run(1./freq + 0.2)"
   ]
  },
  {
   "cell_type": "code",
   "execution_count": null,
   "metadata": {
    "collapsed": false
   },
   "outputs": [],
   "source": [
    "x = np.arange(0, 1./freq, 0.001)\n",
    "t = sim.trange()\n",
    "plt.plot(t, sim.data[f1_p])\n",
    "plt.plot(t, sim.data[f2_p])\n",
    "plt.plot(x+0.1, f1(x*freq), c='k', lw=1)\n",
    "plt.plot(x+0.1, f2(x*freq), c='k', lw=1)\n",
    "\n",
    "comp_time = (t > 0.1) & (t < 0.1 + 1. / freq)\n",
    "print(\"f1 rmse: %f\" % npext.rmse(f1(x*freq), sim.data[f1_p][comp_time]))\n",
    "print(\"f2 rmse: %f\" % npext.rmse(f2(x*freq), sim.data[f2_p][comp_time]))"
   ]
  },
  {
   "cell_type": "markdown",
   "metadata": {},
   "source": [
    "Now, let's do the same thing,\n",
    "but with the same population based on context."
   ]
  },
  {
   "cell_type": "code",
   "execution_count": null,
   "metadata": {
    "collapsed": false
   },
   "outputs": [],
   "source": [
    "# We could get this info in a different way, but meh!\n",
    "def ctx_f(dims, comps, fns):\n",
    "    fns = [radial_f(fn) for fn in fns]\n",
    "    def _fn(x):\n",
    "        for dim, comp, fn in zip(dims, comps, fns):\n",
    "            if comp(x[dim]):\n",
    "                return fn(x)\n",
    "        else:\n",
    "            return 0.0\n",
    "    return _fn\n",
    "\n",
    "\n",
    "tau = 0.025\n",
    "freq = 0.5\n",
    "omega = tau * 2 * np.pi * freq\n",
    "with nengo.Network() as net:\n",
    "    ctx_in = nengo.Node(output=None, size_in=1, label=\"context in\")\n",
    "    kick_in = nengo.Node(output=None, size_in=1, label=\"kick in\")\n",
    "    output = nengo.Node(output=None, size_in=1, label=\"out\")\n",
    "    \n",
    "    ctx_dims = 1\n",
    "    n_neurons = 3500 + 100 * ctx_dims\n",
    "    encoders = [[np.random.uniform(-.1, .1), np.cos(theta), np.sin(theta)]\n",
    "                for theta in np.random.uniform(-np.pi, (7.0 / 8) * np.pi, n_neurons)]\n",
    "    oscillator = nengo.Ensemble(\n",
    "            n_neurons, dimensions=2+ctx_dims, intercepts=Uniform(0.3, 1), encoders=encoders)\n",
    "    nengo.Connection(ctx_in, oscillator[0])\n",
    "    nengo.Connection(kick_in, oscillator, transform=[[0], [-1], [0]])\n",
    "    nengo.Connection(oscillator, oscillator,\n",
    "                     transform=[[0, 0, 0], [0, 1, -omega], [0, omega, 1]],\n",
    "                     function=zone, synapse=tau)\n",
    "    nengo.Connection(oscillator, output, function=ctx_f(\n",
    "            dims=[0, 0], comps=[lambda x: x > 0.5, lambda x: x < 0.5],fns=[f1, f2]))\n",
    "    \n",
    "    kick = nengo.Node(lambda t: .8 if 0.1 < t < 0.2 else 0.0)\n",
    "    nengo.Connection(kick, kick_in, synapse=None)\n",
    "    ctx = nengo.Node(1)\n",
    "    nengo.Connection(ctx, ctx_in, synapse=None)"
   ]
  },
  {
   "cell_type": "code",
   "execution_count": null,
   "metadata": {
    "collapsed": false
   },
   "outputs": [],
   "source": [
    "# nengo_gui.ipython.IPythonViz(net, cfg='cell2.cfg')"
   ]
  },
  {
   "cell_type": "code",
   "execution_count": null,
   "metadata": {
    "collapsed": true
   },
   "outputs": [],
   "source": [
    "with net:\n",
    "    osc_p = nengo.Probe(oscillator, synapse=0.01)\n",
    "    out_p = nengo.Probe(output, synapse=0.01)"
   ]
  },
  {
   "cell_type": "code",
   "execution_count": null,
   "metadata": {
    "collapsed": false
   },
   "outputs": [],
   "source": [
    "sim = nengo.Simulator(net)\n",
    "sim.run(2.2)"
   ]
  },
  {
   "cell_type": "code",
   "execution_count": null,
   "metadata": {
    "collapsed": false
   },
   "outputs": [],
   "source": [
    "x = np.arange(0, 1./freq, 0.001)\n",
    "t = sim.trange()\n",
    "plt.subplot(2, 1, 1)\n",
    "plt.plot(sim.data[osc_p].T[1], sim.data[osc_p].T[2])\n",
    "plt.subplot(2, 1, 2)\n",
    "plt.plot(t, sim.data[out_p])\n",
    "plt.plot(t, sim.data[osc_p].T[0])\n",
    "plt.plot(x+0.1, f1(x*freq), c='k', lw=1)\n",
    "#plt.plot(x+0.1, f2(x*freq), c='k', lw=1)\n",
    "\n",
    "comp_time = (t > 0.1) & (t < 0.1 + 1. / freq)\n",
    "print(\"f1 rmse: %f\" % npext.rmse(f1(x*freq), sim.data[out_p][comp_time]))\n",
    "#print(\"f2 rmse: %f\" % npext.rmse(f2(x*freq), sim.data[f2_p][comp_time]))"
   ]
  },
  {
   "cell_type": "markdown",
   "metadata": {},
   "source": [
    "Putting context dimensions on oscillators simply doesn't work!"
   ]
  }
 ],
 "metadata": {
  "kernelspec": {
   "display_name": "Python 2",
   "language": "python",
   "name": "python2"
  },
  "language_info": {
   "codemirror_mode": {
    "name": "ipython",
    "version": 2
   },
   "file_extension": ".py",
   "mimetype": "text/x-python",
   "name": "python",
   "nbconvert_exporter": "python",
   "pygments_lexer": "ipython2",
   "version": "2.7.10"
  }
 },
 "nbformat": 4,
 "nbformat_minor": 0
}
